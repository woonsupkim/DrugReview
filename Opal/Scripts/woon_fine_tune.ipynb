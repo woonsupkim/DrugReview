{
 "cells": [
  {
   "cell_type": "code",
   "execution_count": 42,
   "metadata": {},
   "outputs": [],
   "source": [
    "import numpy as np\n",
    "import pandas as pd\n",
    "from transformers import pipeline"
   ]
  },
  {
   "cell_type": "code",
   "execution_count": 43,
   "metadata": {},
   "outputs": [],
   "source": [
    "df = pd.read_csv(\"../Data/preprocessed_osteoporosis_11labels.csv\")#load labeled data\n",
    "df = df[:99]#only labeled 99 records"
   ]
  },
  {
   "cell_type": "code",
   "execution_count": 44,
   "metadata": {},
   "outputs": [],
   "source": [
    "#replace NaN in label columns with 0\n",
    "columns = ['limb pain','gastrointestinal', 'dental', 'cardiac', 'dermatological',\n",
    "       'respiratory', 'weight gain and loss', 'headache', 'menstrual',\n",
    "       'fatigue', 'body temperature']\n",
    "\n",
    "for column in columns:\n",
    "    df[column] = df[column].replace(np.nan, int(0))\n",
    "\n",
    "#extract column \"Reviews\" and label columns for tuning\n",
    "df = df[['Reviews','limb pain','gastrointestinal', 'dental', 'cardiac', 'dermatological',\n",
    "       'respiratory', 'weight gain and loss', 'headache', 'menstrual',\n",
    "       'fatigue', 'body temperature' ]]"
   ]
  },
  {
   "cell_type": "code",
   "execution_count": 45,
   "metadata": {},
   "outputs": [],
   "source": [
    "#train/val/test split\n",
    "df_train = df.iloc[:60]\n",
    "df_val = df.iloc[60:80]\n",
    "df_test = df.iloc[80:]\n",
    "\n",
    "df_train.to_csv(\"../Data/train_11labels.csv\", index=False)\n",
    "df_val.to_csv(\"../Data/val_11labels.csv\", index=False)\n",
    "df_test.to_csv(\"../Data/test_11labels.csv\", index=False)"
   ]
  },
  {
   "cell_type": "code",
   "execution_count": 46,
   "metadata": {},
   "outputs": [
    {
     "name": "stderr",
     "output_type": "stream",
     "text": [
      "Using custom data configuration default-25d500c4b8ee1ef6\n"
     ]
    },
    {
     "name": "stdout",
     "output_type": "stream",
     "text": [
      "Downloading and preparing dataset csv/default to C:\\Users\\Woon.Kim\\.cache\\huggingface\\datasets\\csv\\default-25d500c4b8ee1ef6\\0.0.0\\652c3096f041ee27b04d2232d41f10547a8fecda3e284a79a0ec4053c916ef7a...\n"
     ]
    },
    {
     "data": {
      "application/vnd.jupyter.widget-view+json": {
       "model_id": "75867b41a78e4fa59fe2dd844471418b",
       "version_major": 2,
       "version_minor": 0
      },
      "text/plain": [
       "Downloading data files:   0%|          | 0/3 [00:00<?, ?it/s]"
      ]
     },
     "metadata": {},
     "output_type": "display_data"
    },
    {
     "data": {
      "application/vnd.jupyter.widget-view+json": {
       "model_id": "1895d1c3d0e14df9871db5a82ea94ac8",
       "version_major": 2,
       "version_minor": 0
      },
      "text/plain": [
       "Extracting data files:   0%|          | 0/3 [00:00<?, ?it/s]"
      ]
     },
     "metadata": {},
     "output_type": "display_data"
    },
    {
     "data": {
      "application/vnd.jupyter.widget-view+json": {
       "model_id": "4d612b943c4345919f9333396f9a7481",
       "version_major": 2,
       "version_minor": 0
      },
      "text/plain": [
       "0 tables [00:00, ? tables/s]"
      ]
     },
     "metadata": {},
     "output_type": "display_data"
    },
    {
     "data": {
      "application/vnd.jupyter.widget-view+json": {
       "model_id": "4d7ff37d94224cdabe93f39ba4acc04f",
       "version_major": 2,
       "version_minor": 0
      },
      "text/plain": [
       "0 tables [00:00, ? tables/s]"
      ]
     },
     "metadata": {},
     "output_type": "display_data"
    },
    {
     "data": {
      "application/vnd.jupyter.widget-view+json": {
       "model_id": "22311a07a659445886b4f8f57dd62de0",
       "version_major": 2,
       "version_minor": 0
      },
      "text/plain": [
       "0 tables [00:00, ? tables/s]"
      ]
     },
     "metadata": {},
     "output_type": "display_data"
    },
    {
     "name": "stdout",
     "output_type": "stream",
     "text": [
      "Dataset csv downloaded and prepared to C:\\Users\\Woon.Kim\\.cache\\huggingface\\datasets\\csv\\default-25d500c4b8ee1ef6\\0.0.0\\652c3096f041ee27b04d2232d41f10547a8fecda3e284a79a0ec4053c916ef7a. Subsequent calls will reuse this data.\n"
     ]
    },
    {
     "data": {
      "application/vnd.jupyter.widget-view+json": {
       "model_id": "50c18abb98ad41398d5377abe69fbf74",
       "version_major": 2,
       "version_minor": 0
      },
      "text/plain": [
       "  0%|          | 0/3 [00:00<?, ?it/s]"
      ]
     },
     "metadata": {},
     "output_type": "display_data"
    }
   ],
   "source": [
    "from datasets import load_dataset\n",
    "\n",
    "dataset = load_dataset(\"csv\", data_files={\"train\": \"../Data/train_11labels.csv\", \"val\": \"../Data/val_11labels.csv\", \"test\": \"../Data/test_11labels.csv\"})"
   ]
  },
  {
   "cell_type": "code",
   "execution_count": 47,
   "metadata": {},
   "outputs": [
    {
     "name": "stderr",
     "output_type": "stream",
     "text": [
      "loading file https://huggingface.co/facebook/bart-large-mnli/resolve/main/vocab.json from cache at C:\\Users\\Woon.Kim/.cache\\huggingface\\transformers\\b4f8395edd321fd7cd8a87bca767b1135680a41d8931516dd1a447294633b9db.647b4548b6d9ea817e82e7a9231a320231a1c9ea24053cc9e758f3fe68216f05\n",
      "loading file https://huggingface.co/facebook/bart-large-mnli/resolve/main/merges.txt from cache at C:\\Users\\Woon.Kim/.cache\\huggingface\\transformers\\19c09c9654551e163f858f3c99c226a8d0026acc4935528df3b09179204efe4c.5d12962c5ee615a4c803841266e9c3be9a691a924f72d395d3a6c6c81157788b\n",
      "loading file https://huggingface.co/facebook/bart-large-mnli/resolve/main/added_tokens.json from cache at None\n",
      "loading file https://huggingface.co/facebook/bart-large-mnli/resolve/main/special_tokens_map.json from cache at None\n",
      "loading file https://huggingface.co/facebook/bart-large-mnli/resolve/main/tokenizer_config.json from cache at C:\\Users\\Woon.Kim/.cache\\huggingface\\transformers\\569800088d6f014777e6d5d8cb61b2b8bb3d18a508a1d8af041aae6bbc6f3dfe.67d01b18f2079bd75eac0b2f2e7235768c7f26bd728e7a855a1c5acae01a91a8\n",
      "loading configuration file https://huggingface.co/facebook/bart-large-mnli/resolve/main/config.json from cache at C:\\Users\\Woon.Kim/.cache\\huggingface\\transformers\\980f2be6bd282c5079e99199d7554cfd13000433ed0fdc527e7def799e5738fe.4fdc7ce6768977d347b32986aff152e26fcebbda34ef89ac9b114971d0342e09\n",
      "Model config BartConfig {\n",
      "  \"_name_or_path\": \"facebook/bart-large-mnli\",\n",
      "  \"_num_labels\": 3,\n",
      "  \"activation_dropout\": 0.0,\n",
      "  \"activation_function\": \"gelu\",\n",
      "  \"add_final_layer_norm\": false,\n",
      "  \"architectures\": [\n",
      "    \"BartForSequenceClassification\"\n",
      "  ],\n",
      "  \"attention_dropout\": 0.0,\n",
      "  \"bos_token_id\": 0,\n",
      "  \"classif_dropout\": 0.0,\n",
      "  \"classifier_dropout\": 0.0,\n",
      "  \"d_model\": 1024,\n",
      "  \"decoder_attention_heads\": 16,\n",
      "  \"decoder_ffn_dim\": 4096,\n",
      "  \"decoder_layerdrop\": 0.0,\n",
      "  \"decoder_layers\": 12,\n",
      "  \"decoder_start_token_id\": 2,\n",
      "  \"dropout\": 0.1,\n",
      "  \"encoder_attention_heads\": 16,\n",
      "  \"encoder_ffn_dim\": 4096,\n",
      "  \"encoder_layerdrop\": 0.0,\n",
      "  \"encoder_layers\": 12,\n",
      "  \"eos_token_id\": 2,\n",
      "  \"forced_eos_token_id\": 2,\n",
      "  \"gradient_checkpointing\": false,\n",
      "  \"id2label\": {\n",
      "    \"0\": \"contradiction\",\n",
      "    \"1\": \"neutral\",\n",
      "    \"2\": \"entailment\"\n",
      "  },\n",
      "  \"init_std\": 0.02,\n",
      "  \"is_encoder_decoder\": true,\n",
      "  \"label2id\": {\n",
      "    \"contradiction\": 0,\n",
      "    \"entailment\": 2,\n",
      "    \"neutral\": 1\n",
      "  },\n",
      "  \"max_position_embeddings\": 1024,\n",
      "  \"model_type\": \"bart\",\n",
      "  \"normalize_before\": false,\n",
      "  \"num_hidden_layers\": 12,\n",
      "  \"output_past\": false,\n",
      "  \"pad_token_id\": 1,\n",
      "  \"scale_embedding\": false,\n",
      "  \"transformers_version\": \"4.20.1\",\n",
      "  \"use_cache\": true,\n",
      "  \"vocab_size\": 50265\n",
      "}\n",
      "\n"
     ]
    }
   ],
   "source": [
    "from transformers import BartTokenizer\n",
    "\n",
    "labels = ['limb pain', 'gastrointestinal', 'dental', 'cardiac', 'dermatological',\n",
    "       'respiratory', 'weight gain and loss', 'headache', 'menstrual',\n",
    "       'fatigue', 'body temperature']\n",
    "       \n",
    "tokenizer = BartTokenizer.from_pretrained(\"facebook/bart-large-mnli\")\n",
    "\n",
    "def preprocess_data(examples):\n",
    "  # take a batch of texts\n",
    "  text = examples[\"Reviews\"]\n",
    "  # encode them\n",
    "  encoding = tokenizer(text, padding=\"max_length\", truncation=True, max_length=128)\n",
    "  # add labels\n",
    "  labels_batch = {k: examples[k] for k in examples.keys() if k in labels}\n",
    "  # create numpy array of shape (batch_size, num_labels)\n",
    "  labels_matrix = np.zeros((len(text), len(labels)))\n",
    "  # fill numpy array\n",
    "  for idx, label in enumerate(labels):\n",
    "    labels_matrix[:, idx] = labels_batch[label]\n",
    "\n",
    "  encoding[\"labels\"] = labels_matrix.tolist()\n",
    "  \n",
    "  return encoding"
   ]
  },
  {
   "cell_type": "code",
   "execution_count": 48,
   "metadata": {},
   "outputs": [
    {
     "name": "stderr",
     "output_type": "stream",
     "text": [
      "loading configuration file https://huggingface.co/facebook/bart-large-mnli/resolve/main/config.json from cache at C:\\Users\\Woon.Kim/.cache\\huggingface\\transformers\\980f2be6bd282c5079e99199d7554cfd13000433ed0fdc527e7def799e5738fe.4fdc7ce6768977d347b32986aff152e26fcebbda34ef89ac9b114971d0342e09\n",
      "Model config BartConfig {\n",
      "  \"_num_labels\": 3,\n",
      "  \"activation_dropout\": 0.0,\n",
      "  \"activation_function\": \"gelu\",\n",
      "  \"add_final_layer_norm\": false,\n",
      "  \"architectures\": [\n",
      "    \"BartForSequenceClassification\"\n",
      "  ],\n",
      "  \"attention_dropout\": 0.0,\n",
      "  \"bos_token_id\": 0,\n",
      "  \"classif_dropout\": 0.0,\n",
      "  \"classifier_dropout\": 0.0,\n",
      "  \"d_model\": 1024,\n",
      "  \"decoder_attention_heads\": 16,\n",
      "  \"decoder_ffn_dim\": 4096,\n",
      "  \"decoder_layerdrop\": 0.0,\n",
      "  \"decoder_layers\": 12,\n",
      "  \"decoder_start_token_id\": 2,\n",
      "  \"dropout\": 0.1,\n",
      "  \"encoder_attention_heads\": 16,\n",
      "  \"encoder_ffn_dim\": 4096,\n",
      "  \"encoder_layerdrop\": 0.0,\n",
      "  \"encoder_layers\": 12,\n",
      "  \"eos_token_id\": 2,\n",
      "  \"forced_eos_token_id\": 2,\n",
      "  \"gradient_checkpointing\": false,\n",
      "  \"id2label\": {\n",
      "    \"0\": \"LABEL_0\",\n",
      "    \"1\": \"LABEL_1\",\n",
      "    \"2\": \"LABEL_2\",\n",
      "    \"3\": \"LABEL_3\",\n",
      "    \"4\": \"LABEL_4\",\n",
      "    \"5\": \"LABEL_5\",\n",
      "    \"6\": \"LABEL_6\",\n",
      "    \"7\": \"LABEL_7\",\n",
      "    \"8\": \"LABEL_8\",\n",
      "    \"9\": \"LABEL_9\",\n",
      "    \"10\": \"LABEL_10\"\n",
      "  },\n",
      "  \"init_std\": 0.02,\n",
      "  \"is_encoder_decoder\": true,\n",
      "  \"label2id\": {\n",
      "    \"LABEL_0\": 0,\n",
      "    \"LABEL_1\": 1,\n",
      "    \"LABEL_10\": 10,\n",
      "    \"LABEL_2\": 2,\n",
      "    \"LABEL_3\": 3,\n",
      "    \"LABEL_4\": 4,\n",
      "    \"LABEL_5\": 5,\n",
      "    \"LABEL_6\": 6,\n",
      "    \"LABEL_7\": 7,\n",
      "    \"LABEL_8\": 8,\n",
      "    \"LABEL_9\": 9\n",
      "  },\n",
      "  \"max_position_embeddings\": 1024,\n",
      "  \"model_type\": \"bart\",\n",
      "  \"normalize_before\": false,\n",
      "  \"num_hidden_layers\": 12,\n",
      "  \"output_past\": false,\n",
      "  \"pad_token_id\": 1,\n",
      "  \"problem_type\": \"multi_label_classification\",\n",
      "  \"scale_embedding\": false,\n",
      "  \"transformers_version\": \"4.20.1\",\n",
      "  \"use_cache\": true,\n",
      "  \"vocab_size\": 50265\n",
      "}\n",
      "\n",
      "loading weights file https://huggingface.co/facebook/bart-large-mnli/resolve/main/pytorch_model.bin from cache at C:\\Users\\Woon.Kim/.cache\\huggingface\\transformers\\35014754ae1fcb956d44903df02e4f69d0917cab0901ace5ac7f4a4a998346fe.a30bb5d685bb3c6e9376ab4480f1b252d9796d438d1c84a9b2deb0275c5b2151\n",
      "All model checkpoint weights were used when initializing BartForSequenceClassification.\n",
      "\n",
      "Some weights of BartForSequenceClassification were not initialized from the model checkpoint at facebook/bart-large-mnli and are newly initialized because the shapes did not match:\n",
      "- classification_head.out_proj.weight: found shape torch.Size([3, 1024]) in the checkpoint and torch.Size([11, 1024]) in the model instantiated\n",
      "- classification_head.out_proj.bias: found shape torch.Size([3]) in the checkpoint and torch.Size([11]) in the model instantiated\n",
      "You should probably TRAIN this model on a down-stream task to be able to use it for predictions and inference.\n"
     ]
    }
   ],
   "source": [
    "from transformers import BartForSequenceClassification\n",
    "\n",
    "#define the model\n",
    "model = BartForSequenceClassification.from_pretrained(\"facebook/bart-large-mnli\",problem_type=\"multi_label_classification\", num_labels=11, ignore_mismatched_sizes=True)"
   ]
  },
  {
   "cell_type": "code",
   "execution_count": 49,
   "metadata": {},
   "outputs": [
    {
     "name": "stderr",
     "output_type": "stream",
     "text": [
      "PyTorch: setting up devices\n",
      "The default value for the training argument `--report_to` will change in v5 (from all installed integrations to none). In v5, you will need to use `--report_to all` to get the same behavior as now. You should start updating your code and make this info disappear :-).\n"
     ]
    }
   ],
   "source": [
    "#declare training hyperparameters\n",
    "from transformers import TrainingArguments\n",
    "\n",
    "training_args = TrainingArguments(output_dir=\"../Output/Model\",\n",
    "                                learning_rate=1e-4,\n",
    "                                evaluation_strategy=\"epoch\",\n",
    "                                per_device_train_batch_size=8,\n",
    "                                per_device_eval_batch_size=8,\n",
    "                                num_train_epochs=30,\n",
    "                                weight_decay=0.01,\n",
    "                                metric_for_best_model=\"accuracy\",\n",
    "                                # save_strategy=\"epoch\",\n",
    "                                # load_best_model_at_end=True\n",
    "\n",
    ")"
   ]
  },
  {
   "cell_type": "code",
   "execution_count": 50,
   "metadata": {},
   "outputs": [],
   "source": [
    "#define a compute_metrics function that returns a dictionary with the desired metric values\n",
    "from sklearn.metrics import f1_score, roc_auc_score, accuracy_score\n",
    "from transformers import EvalPrediction\n",
    "import torch\n",
    "\n",
    "def multi_label_metrics(predictions, labels, threshold=0.5):\n",
    "  sigmoid = torch.nn.Sigmoid()\n",
    "  probs = sigmoid(torch.Tensor(predictions))\n",
    "  y_pred = np.zeros(probs.shape)\n",
    "  y_pred[np.where(probs >= threshold)] = 1\n",
    "  y_true = labels\n",
    "  f1_micro_average = f1_score(y_true, y_pred, average=\"weighted\") \n",
    "  roc_auc = roc_auc_score(y_true, y_pred, average=\"micro\") \n",
    "  accuracy = accuracy_score(y_true, y_pred)\n",
    "\n",
    "  metrics = {\"f1\": f1_micro_average,\n",
    "             \"roc_auc\": roc_auc,\n",
    "             \"accuracy\": accuracy}\n",
    "  return metrics\n",
    "\n",
    "def compute_metrics(p: EvalPrediction):\n",
    "  preds = p.predictions[0] if isinstance(p.predictions, tuple) else p.predictions\n",
    "  result = multi_label_metrics(predictions=preds, labels=p.label_ids)\n",
    "  return result"
   ]
  },
  {
   "cell_type": "code",
   "execution_count": 51,
   "metadata": {},
   "outputs": [],
   "source": [
    "#trainer\n",
    "from transformers import Trainer\n",
    "\n",
    "trainer = Trainer(\n",
    "    model = model,\n",
    "    args = training_args,\n",
    "    train_dataset = encoded_dataset[\"train\"],\n",
    "    eval_dataset = encoded_dataset[\"val\"],\n",
    "    tokenizer = tokenizer,\n",
    "    compute_metrics = compute_metrics\n",
    ")"
   ]
  },
  {
   "cell_type": "code",
   "execution_count": 52,
   "metadata": {},
   "outputs": [
    {
     "name": "stderr",
     "output_type": "stream",
     "text": [
      "c:\\Users\\Woon.Kim\\Anaconda33\\lib\\site-packages\\transformers\\optimization.py:306: FutureWarning: This implementation of AdamW is deprecated and will be removed in a future version. Use the PyTorch implementation torch.optim.AdamW instead, or set `no_deprecation_warning=True` to disable this warning\n",
      "  warnings.warn(\n",
      "***** Running training *****\n",
      "  Num examples = 60\n",
      "  Num Epochs = 30\n",
      "  Instantaneous batch size per device = 8\n",
      "  Total train batch size (w. parallel, distributed & accumulation) = 8\n",
      "  Gradient Accumulation steps = 1\n",
      "  Total optimization steps = 240\n"
     ]
    },
    {
     "data": {
      "application/vnd.jupyter.widget-view+json": {
       "model_id": "fa2f833d5a364bbd8d41d88497e48176",
       "version_major": 2,
       "version_minor": 0
      },
      "text/plain": [
       "  0%|          | 0/240 [00:00<?, ?it/s]"
      ]
     },
     "metadata": {},
     "output_type": "display_data"
    },
    {
     "name": "stderr",
     "output_type": "stream",
     "text": [
      "***** Running Evaluation *****\n",
      "  Num examples = 20\n",
      "  Batch size = 8\n"
     ]
    },
    {
     "data": {
      "application/vnd.jupyter.widget-view+json": {
       "model_id": "fd9b5cb31c604b96ad63e77f67b49873",
       "version_major": 2,
       "version_minor": 0
      },
      "text/plain": [
       "  0%|          | 0/3 [00:00<?, ?it/s]"
      ]
     },
     "metadata": {},
     "output_type": "display_data"
    },
    {
     "name": "stderr",
     "output_type": "stream",
     "text": [
      "c:\\Users\\Woon.Kim\\Anaconda33\\lib\\site-packages\\sklearn\\metrics\\_classification.py:1580: UndefinedMetricWarning: F-score is ill-defined and being set to 0.0 in labels with no true nor predicted samples. Use `zero_division` parameter to control this behavior.\n",
      "  _warn_prf(average, \"true nor predicted\", \"F-score is\", len(true_sum))\n"
     ]
    },
    {
     "name": "stdout",
     "output_type": "stream",
     "text": [
      "{'eval_loss': 0.39419442415237427, 'eval_f1': 0.0, 'eval_roc_auc': 0.5, 'eval_accuracy': 0.25, 'eval_runtime': 16.1584, 'eval_samples_per_second': 1.238, 'eval_steps_per_second': 0.186, 'epoch': 1.0}\n"
     ]
    },
    {
     "name": "stderr",
     "output_type": "stream",
     "text": [
      "***** Running Evaluation *****\n",
      "  Num examples = 20\n",
      "  Batch size = 8\n"
     ]
    },
    {
     "data": {
      "application/vnd.jupyter.widget-view+json": {
       "model_id": "6c13508c18384b6f87757a4bdf313e17",
       "version_major": 2,
       "version_minor": 0
      },
      "text/plain": [
       "  0%|          | 0/3 [00:00<?, ?it/s]"
      ]
     },
     "metadata": {},
     "output_type": "display_data"
    },
    {
     "name": "stderr",
     "output_type": "stream",
     "text": [
      "c:\\Users\\Woon.Kim\\Anaconda33\\lib\\site-packages\\sklearn\\metrics\\_classification.py:1580: UndefinedMetricWarning: F-score is ill-defined and being set to 0.0 in labels with no true nor predicted samples. Use `zero_division` parameter to control this behavior.\n",
      "  _warn_prf(average, \"true nor predicted\", \"F-score is\", len(true_sum))\n"
     ]
    },
    {
     "name": "stdout",
     "output_type": "stream",
     "text": [
      "{'eval_loss': 0.38435232639312744, 'eval_f1': 0.0, 'eval_roc_auc': 0.5, 'eval_accuracy': 0.25, 'eval_runtime': 16.1118, 'eval_samples_per_second': 1.241, 'eval_steps_per_second': 0.186, 'epoch': 2.0}\n"
     ]
    },
    {
     "name": "stderr",
     "output_type": "stream",
     "text": [
      "***** Running Evaluation *****\n",
      "  Num examples = 20\n",
      "  Batch size = 8\n"
     ]
    },
    {
     "data": {
      "application/vnd.jupyter.widget-view+json": {
       "model_id": "755658c0cdc442f0a42697a2b3f772be",
       "version_major": 2,
       "version_minor": 0
      },
      "text/plain": [
       "  0%|          | 0/3 [00:00<?, ?it/s]"
      ]
     },
     "metadata": {},
     "output_type": "display_data"
    },
    {
     "name": "stderr",
     "output_type": "stream",
     "text": [
      "c:\\Users\\Woon.Kim\\Anaconda33\\lib\\site-packages\\sklearn\\metrics\\_classification.py:1580: UndefinedMetricWarning: F-score is ill-defined and being set to 0.0 in labels with no true nor predicted samples. Use `zero_division` parameter to control this behavior.\n",
      "  _warn_prf(average, \"true nor predicted\", \"F-score is\", len(true_sum))\n"
     ]
    },
    {
     "name": "stdout",
     "output_type": "stream",
     "text": [
      "{'eval_loss': 0.32947179675102234, 'eval_f1': 0.3506493506493507, 'eval_roc_auc': 0.6684491978609627, 'eval_accuracy': 0.35, 'eval_runtime': 16.0988, 'eval_samples_per_second': 1.242, 'eval_steps_per_second': 0.186, 'epoch': 3.0}\n"
     ]
    },
    {
     "name": "stderr",
     "output_type": "stream",
     "text": [
      "***** Running Evaluation *****\n",
      "  Num examples = 20\n",
      "  Batch size = 8\n"
     ]
    },
    {
     "data": {
      "application/vnd.jupyter.widget-view+json": {
       "model_id": "7b1c623f6b1f4b87a0fcd425f980aa4d",
       "version_major": 2,
       "version_minor": 0
      },
      "text/plain": [
       "  0%|          | 0/3 [00:00<?, ?it/s]"
      ]
     },
     "metadata": {},
     "output_type": "display_data"
    },
    {
     "name": "stderr",
     "output_type": "stream",
     "text": [
      "c:\\Users\\Woon.Kim\\Anaconda33\\lib\\site-packages\\sklearn\\metrics\\_classification.py:1580: UndefinedMetricWarning: F-score is ill-defined and being set to 0.0 in labels with no true nor predicted samples. Use `zero_division` parameter to control this behavior.\n",
      "  _warn_prf(average, \"true nor predicted\", \"F-score is\", len(true_sum))\n"
     ]
    },
    {
     "name": "stdout",
     "output_type": "stream",
     "text": [
      "{'eval_loss': 0.3595520853996277, 'eval_f1': 0.0404040404040404, 'eval_roc_auc': 0.5098039215686274, 'eval_accuracy': 0.25, 'eval_runtime': 16.1288, 'eval_samples_per_second': 1.24, 'eval_steps_per_second': 0.186, 'epoch': 4.0}\n"
     ]
    },
    {
     "name": "stderr",
     "output_type": "stream",
     "text": [
      "***** Running Evaluation *****\n",
      "  Num examples = 20\n",
      "  Batch size = 8\n"
     ]
    },
    {
     "data": {
      "application/vnd.jupyter.widget-view+json": {
       "model_id": "ea0f68b425bf4ef59437a96ed43db403",
       "version_major": 2,
       "version_minor": 0
      },
      "text/plain": [
       "  0%|          | 0/3 [00:00<?, ?it/s]"
      ]
     },
     "metadata": {},
     "output_type": "display_data"
    },
    {
     "name": "stderr",
     "output_type": "stream",
     "text": [
      "c:\\Users\\Woon.Kim\\Anaconda33\\lib\\site-packages\\sklearn\\metrics\\_classification.py:1580: UndefinedMetricWarning: F-score is ill-defined and being set to 0.0 in labels with no true nor predicted samples. Use `zero_division` parameter to control this behavior.\n",
      "  _warn_prf(average, \"true nor predicted\", \"F-score is\", len(true_sum))\n"
     ]
    },
    {
     "name": "stdout",
     "output_type": "stream",
     "text": [
      "{'eval_loss': 0.32130202651023865, 'eval_f1': 0.43512043512043513, 'eval_roc_auc': 0.6934046345811052, 'eval_accuracy': 0.45, 'eval_runtime': 16.1002, 'eval_samples_per_second': 1.242, 'eval_steps_per_second': 0.186, 'epoch': 5.0}\n"
     ]
    },
    {
     "name": "stderr",
     "output_type": "stream",
     "text": [
      "***** Running Evaluation *****\n",
      "  Num examples = 20\n",
      "  Batch size = 8\n"
     ]
    },
    {
     "data": {
      "application/vnd.jupyter.widget-view+json": {
       "model_id": "51b77048b9d54a958164fa1da81f756c",
       "version_major": 2,
       "version_minor": 0
      },
      "text/plain": [
       "  0%|          | 0/3 [00:00<?, ?it/s]"
      ]
     },
     "metadata": {},
     "output_type": "display_data"
    },
    {
     "name": "stderr",
     "output_type": "stream",
     "text": [
      "c:\\Users\\Woon.Kim\\Anaconda33\\lib\\site-packages\\sklearn\\metrics\\_classification.py:1580: UndefinedMetricWarning: F-score is ill-defined and being set to 0.0 in labels with no true nor predicted samples. Use `zero_division` parameter to control this behavior.\n",
      "  _warn_prf(average, \"true nor predicted\", \"F-score is\", len(true_sum))\n"
     ]
    },
    {
     "name": "stdout",
     "output_type": "stream",
     "text": [
      "{'eval_loss': 0.30139851570129395, 'eval_f1': 0.4049586776859504, 'eval_roc_auc': 0.6916221033868093, 'eval_accuracy': 0.45, 'eval_runtime': 16.085, 'eval_samples_per_second': 1.243, 'eval_steps_per_second': 0.187, 'epoch': 6.0}\n"
     ]
    },
    {
     "name": "stderr",
     "output_type": "stream",
     "text": [
      "***** Running Evaluation *****\n",
      "  Num examples = 20\n",
      "  Batch size = 8\n"
     ]
    },
    {
     "data": {
      "application/vnd.jupyter.widget-view+json": {
       "model_id": "995592443c44449dbfb5b16af2ccbb9c",
       "version_major": 2,
       "version_minor": 0
      },
      "text/plain": [
       "  0%|          | 0/3 [00:00<?, ?it/s]"
      ]
     },
     "metadata": {},
     "output_type": "display_data"
    },
    {
     "name": "stderr",
     "output_type": "stream",
     "text": [
      "c:\\Users\\Woon.Kim\\Anaconda33\\lib\\site-packages\\sklearn\\metrics\\_classification.py:1580: UndefinedMetricWarning: F-score is ill-defined and being set to 0.0 in labels with no true nor predicted samples. Use `zero_division` parameter to control this behavior.\n",
      "  _warn_prf(average, \"true nor predicted\", \"F-score is\", len(true_sum))\n"
     ]
    },
    {
     "name": "stdout",
     "output_type": "stream",
     "text": [
      "{'eval_loss': 0.32799631357192993, 'eval_f1': 0.49263689526847426, 'eval_roc_auc': 0.7299465240641712, 'eval_accuracy': 0.35, 'eval_runtime': 16.057, 'eval_samples_per_second': 1.246, 'eval_steps_per_second': 0.187, 'epoch': 7.0}\n"
     ]
    },
    {
     "name": "stderr",
     "output_type": "stream",
     "text": [
      "***** Running Evaluation *****\n",
      "  Num examples = 20\n",
      "  Batch size = 8\n"
     ]
    },
    {
     "data": {
      "application/vnd.jupyter.widget-view+json": {
       "model_id": "b222dcc1313e4617b1bccfdd76de00d1",
       "version_major": 2,
       "version_minor": 0
      },
      "text/plain": [
       "  0%|          | 0/3 [00:00<?, ?it/s]"
      ]
     },
     "metadata": {},
     "output_type": "display_data"
    },
    {
     "name": "stderr",
     "output_type": "stream",
     "text": [
      "c:\\Users\\Woon.Kim\\Anaconda33\\lib\\site-packages\\sklearn\\metrics\\_classification.py:1580: UndefinedMetricWarning: F-score is ill-defined and being set to 0.0 in labels with no true nor predicted samples. Use `zero_division` parameter to control this behavior.\n",
      "  _warn_prf(average, \"true nor predicted\", \"F-score is\", len(true_sum))\n"
     ]
    },
    {
     "name": "stdout",
     "output_type": "stream",
     "text": [
      "{'eval_loss': 0.2727731764316559, 'eval_f1': 0.5049657413293777, 'eval_roc_auc': 0.7388591800356507, 'eval_accuracy': 0.4, 'eval_runtime': 16.1888, 'eval_samples_per_second': 1.235, 'eval_steps_per_second': 0.185, 'epoch': 8.0}\n"
     ]
    },
    {
     "name": "stderr",
     "output_type": "stream",
     "text": [
      "***** Running Evaluation *****\n",
      "  Num examples = 20\n",
      "  Batch size = 8\n"
     ]
    },
    {
     "data": {
      "application/vnd.jupyter.widget-view+json": {
       "model_id": "3b1757b5f5fb4f268e4c6e5ba3da7500",
       "version_major": 2,
       "version_minor": 0
      },
      "text/plain": [
       "  0%|          | 0/3 [00:00<?, ?it/s]"
      ]
     },
     "metadata": {},
     "output_type": "display_data"
    },
    {
     "name": "stderr",
     "output_type": "stream",
     "text": [
      "c:\\Users\\Woon.Kim\\Anaconda33\\lib\\site-packages\\sklearn\\metrics\\_classification.py:1580: UndefinedMetricWarning: F-score is ill-defined and being set to 0.0 in labels with no true nor predicted samples. Use `zero_division` parameter to control this behavior.\n",
      "  _warn_prf(average, \"true nor predicted\", \"F-score is\", len(true_sum))\n"
     ]
    },
    {
     "name": "stdout",
     "output_type": "stream",
     "text": [
      "{'eval_loss': 0.3015553057193756, 'eval_f1': 0.5838383838383838, 'eval_roc_auc': 0.7887700534759358, 'eval_accuracy': 0.5, 'eval_runtime': 16.2115, 'eval_samples_per_second': 1.234, 'eval_steps_per_second': 0.185, 'epoch': 9.0}\n"
     ]
    },
    {
     "name": "stderr",
     "output_type": "stream",
     "text": [
      "***** Running Evaluation *****\n",
      "  Num examples = 20\n",
      "  Batch size = 8\n"
     ]
    },
    {
     "data": {
      "application/vnd.jupyter.widget-view+json": {
       "model_id": "19ac14c8a7b44552b9872f2593506f79",
       "version_major": 2,
       "version_minor": 0
      },
      "text/plain": [
       "  0%|          | 0/3 [00:00<?, ?it/s]"
      ]
     },
     "metadata": {},
     "output_type": "display_data"
    },
    {
     "name": "stderr",
     "output_type": "stream",
     "text": [
      "c:\\Users\\Woon.Kim\\Anaconda33\\lib\\site-packages\\sklearn\\metrics\\_classification.py:1580: UndefinedMetricWarning: F-score is ill-defined and being set to 0.0 in labels with no true nor predicted samples. Use `zero_division` parameter to control this behavior.\n",
      "  _warn_prf(average, \"true nor predicted\", \"F-score is\", len(true_sum))\n"
     ]
    },
    {
     "name": "stdout",
     "output_type": "stream",
     "text": [
      "{'eval_loss': 0.2945452630519867, 'eval_f1': 0.5359351086623814, 'eval_roc_auc': 0.7219251336898396, 'eval_accuracy': 0.55, 'eval_runtime': 16.2333, 'eval_samples_per_second': 1.232, 'eval_steps_per_second': 0.185, 'epoch': 10.0}\n"
     ]
    },
    {
     "name": "stderr",
     "output_type": "stream",
     "text": [
      "***** Running Evaluation *****\n",
      "  Num examples = 20\n",
      "  Batch size = 8\n"
     ]
    },
    {
     "data": {
      "application/vnd.jupyter.widget-view+json": {
       "model_id": "f87f0b7072ce4e7e931cc4761fd046a0",
       "version_major": 2,
       "version_minor": 0
      },
      "text/plain": [
       "  0%|          | 0/3 [00:00<?, ?it/s]"
      ]
     },
     "metadata": {},
     "output_type": "display_data"
    },
    {
     "name": "stderr",
     "output_type": "stream",
     "text": [
      "c:\\Users\\Woon.Kim\\Anaconda33\\lib\\site-packages\\sklearn\\metrics\\_classification.py:1580: UndefinedMetricWarning: F-score is ill-defined and being set to 0.0 in labels with no true nor predicted samples. Use `zero_division` parameter to control this behavior.\n",
      "  _warn_prf(average, \"true nor predicted\", \"F-score is\", len(true_sum))\n"
     ]
    },
    {
     "name": "stdout",
     "output_type": "stream",
     "text": [
      "{'eval_loss': 0.28405648469924927, 'eval_f1': 0.5749601275917066, 'eval_roc_auc': 0.7593582887700534, 'eval_accuracy': 0.45, 'eval_runtime': 17.089, 'eval_samples_per_second': 1.17, 'eval_steps_per_second': 0.176, 'epoch': 11.0}\n"
     ]
    },
    {
     "name": "stderr",
     "output_type": "stream",
     "text": [
      "***** Running Evaluation *****\n",
      "  Num examples = 20\n",
      "  Batch size = 8\n"
     ]
    },
    {
     "data": {
      "application/vnd.jupyter.widget-view+json": {
       "model_id": "f30e422390064bc7acd91acf23862e4c",
       "version_major": 2,
       "version_minor": 0
      },
      "text/plain": [
       "  0%|          | 0/3 [00:00<?, ?it/s]"
      ]
     },
     "metadata": {},
     "output_type": "display_data"
    },
    {
     "name": "stderr",
     "output_type": "stream",
     "text": [
      "c:\\Users\\Woon.Kim\\Anaconda33\\lib\\site-packages\\sklearn\\metrics\\_classification.py:1580: UndefinedMetricWarning: F-score is ill-defined and being set to 0.0 in labels with no true nor predicted samples. Use `zero_division` parameter to control this behavior.\n",
      "  _warn_prf(average, \"true nor predicted\", \"F-score is\", len(true_sum))\n"
     ]
    },
    {
     "name": "stdout",
     "output_type": "stream",
     "text": [
      "{'eval_loss': 0.2747989594936371, 'eval_f1': 0.6091592617908408, 'eval_roc_auc': 0.7664884135472372, 'eval_accuracy': 0.5, 'eval_runtime': 16.1976, 'eval_samples_per_second': 1.235, 'eval_steps_per_second': 0.185, 'epoch': 12.0}\n"
     ]
    },
    {
     "name": "stderr",
     "output_type": "stream",
     "text": [
      "***** Running Evaluation *****\n",
      "  Num examples = 20\n",
      "  Batch size = 8\n"
     ]
    },
    {
     "data": {
      "application/vnd.jupyter.widget-view+json": {
       "model_id": "d9e888a82e19402f998e7a77502b11c4",
       "version_major": 2,
       "version_minor": 0
      },
      "text/plain": [
       "  0%|          | 0/3 [00:00<?, ?it/s]"
      ]
     },
     "metadata": {},
     "output_type": "display_data"
    },
    {
     "name": "stderr",
     "output_type": "stream",
     "text": [
      "c:\\Users\\Woon.Kim\\Anaconda33\\lib\\site-packages\\sklearn\\metrics\\_classification.py:1580: UndefinedMetricWarning: F-score is ill-defined and being set to 0.0 in labels with no true nor predicted samples. Use `zero_division` parameter to control this behavior.\n",
      "  _warn_prf(average, \"true nor predicted\", \"F-score is\", len(true_sum))\n"
     ]
    },
    {
     "name": "stdout",
     "output_type": "stream",
     "text": [
      "{'eval_loss': 0.2832958400249481, 'eval_f1': 0.6401837928153717, 'eval_roc_auc': 0.7896613190730838, 'eval_accuracy': 0.5, 'eval_runtime': 16.2413, 'eval_samples_per_second': 1.231, 'eval_steps_per_second': 0.185, 'epoch': 13.0}\n"
     ]
    },
    {
     "name": "stderr",
     "output_type": "stream",
     "text": [
      "***** Running Evaluation *****\n",
      "  Num examples = 20\n",
      "  Batch size = 8\n"
     ]
    },
    {
     "data": {
      "application/vnd.jupyter.widget-view+json": {
       "model_id": "214e5434ba804240835b3044fe643f98",
       "version_major": 2,
       "version_minor": 0
      },
      "text/plain": [
       "  0%|          | 0/3 [00:00<?, ?it/s]"
      ]
     },
     "metadata": {},
     "output_type": "display_data"
    },
    {
     "name": "stderr",
     "output_type": "stream",
     "text": [
      "c:\\Users\\Woon.Kim\\Anaconda33\\lib\\site-packages\\sklearn\\metrics\\_classification.py:1580: UndefinedMetricWarning: F-score is ill-defined and being set to 0.0 in labels with no true nor predicted samples. Use `zero_division` parameter to control this behavior.\n",
      "  _warn_prf(average, \"true nor predicted\", \"F-score is\", len(true_sum))\n"
     ]
    },
    {
     "name": "stdout",
     "output_type": "stream",
     "text": [
      "{'eval_loss': 0.2747882008552551, 'eval_f1': 0.617171717171717, 'eval_roc_auc': 0.7745098039215685, 'eval_accuracy': 0.55, 'eval_runtime': 8.818, 'eval_samples_per_second': 2.268, 'eval_steps_per_second': 0.34, 'epoch': 14.0}\n"
     ]
    },
    {
     "name": "stderr",
     "output_type": "stream",
     "text": [
      "***** Running Evaluation *****\n",
      "  Num examples = 20\n",
      "  Batch size = 8\n"
     ]
    },
    {
     "data": {
      "application/vnd.jupyter.widget-view+json": {
       "model_id": "ffd1354cfb9d44b59ecde4c83a372790",
       "version_major": 2,
       "version_minor": 0
      },
      "text/plain": [
       "  0%|          | 0/3 [00:00<?, ?it/s]"
      ]
     },
     "metadata": {},
     "output_type": "display_data"
    },
    {
     "name": "stderr",
     "output_type": "stream",
     "text": [
      "c:\\Users\\Woon.Kim\\Anaconda33\\lib\\site-packages\\sklearn\\metrics\\_classification.py:1580: UndefinedMetricWarning: F-score is ill-defined and being set to 0.0 in labels with no true nor predicted samples. Use `zero_division` parameter to control this behavior.\n",
      "  _warn_prf(average, \"true nor predicted\", \"F-score is\", len(true_sum))\n"
     ]
    },
    {
     "name": "stdout",
     "output_type": "stream",
     "text": [
      "{'eval_loss': 0.277802050113678, 'eval_f1': 0.6843045843045842, 'eval_roc_auc': 0.8048128342245989, 'eval_accuracy': 0.6, 'eval_runtime': 8.9419, 'eval_samples_per_second': 2.237, 'eval_steps_per_second': 0.336, 'epoch': 15.0}\n"
     ]
    },
    {
     "name": "stderr",
     "output_type": "stream",
     "text": [
      "***** Running Evaluation *****\n",
      "  Num examples = 20\n",
      "  Batch size = 8\n"
     ]
    },
    {
     "data": {
      "application/vnd.jupyter.widget-view+json": {
       "model_id": "53affea424c5451aaffe2dd38d2ab478",
       "version_major": 2,
       "version_minor": 0
      },
      "text/plain": [
       "  0%|          | 0/3 [00:00<?, ?it/s]"
      ]
     },
     "metadata": {},
     "output_type": "display_data"
    },
    {
     "name": "stderr",
     "output_type": "stream",
     "text": [
      "c:\\Users\\Woon.Kim\\Anaconda33\\lib\\site-packages\\sklearn\\metrics\\_classification.py:1580: UndefinedMetricWarning: F-score is ill-defined and being set to 0.0 in labels with no true nor predicted samples. Use `zero_division` parameter to control this behavior.\n",
      "  _warn_prf(average, \"true nor predicted\", \"F-score is\", len(true_sum))\n"
     ]
    },
    {
     "name": "stdout",
     "output_type": "stream",
     "text": [
      "{'eval_loss': 0.287852942943573, 'eval_f1': 0.6501738028053818, 'eval_roc_auc': 0.7923351158645277, 'eval_accuracy': 0.55, 'eval_runtime': 9.8076, 'eval_samples_per_second': 2.039, 'eval_steps_per_second': 0.306, 'epoch': 16.0}\n"
     ]
    },
    {
     "name": "stderr",
     "output_type": "stream",
     "text": [
      "***** Running Evaluation *****\n",
      "  Num examples = 20\n",
      "  Batch size = 8\n"
     ]
    },
    {
     "data": {
      "application/vnd.jupyter.widget-view+json": {
       "model_id": "bf03c3acd82f46cd8126741d069ac5b3",
       "version_major": 2,
       "version_minor": 0
      },
      "text/plain": [
       "  0%|          | 0/3 [00:00<?, ?it/s]"
      ]
     },
     "metadata": {},
     "output_type": "display_data"
    },
    {
     "name": "stderr",
     "output_type": "stream",
     "text": [
      "c:\\Users\\Woon.Kim\\Anaconda33\\lib\\site-packages\\sklearn\\metrics\\_classification.py:1580: UndefinedMetricWarning: F-score is ill-defined and being set to 0.0 in labels with no true nor predicted samples. Use `zero_division` parameter to control this behavior.\n",
      "  _warn_prf(average, \"true nor predicted\", \"F-score is\", len(true_sum))\n"
     ]
    },
    {
     "name": "stdout",
     "output_type": "stream",
     "text": [
      "{'eval_loss': 0.28009846806526184, 'eval_f1': 0.6501738028053818, 'eval_roc_auc': 0.7923351158645277, 'eval_accuracy': 0.55, 'eval_runtime': 8.6458, 'eval_samples_per_second': 2.313, 'eval_steps_per_second': 0.347, 'epoch': 17.0}\n"
     ]
    },
    {
     "name": "stderr",
     "output_type": "stream",
     "text": [
      "***** Running Evaluation *****\n",
      "  Num examples = 20\n",
      "  Batch size = 8\n"
     ]
    },
    {
     "data": {
      "application/vnd.jupyter.widget-view+json": {
       "model_id": "17c662606c84478f9d9b5db5523a97ab",
       "version_major": 2,
       "version_minor": 0
      },
      "text/plain": [
       "  0%|          | 0/3 [00:00<?, ?it/s]"
      ]
     },
     "metadata": {},
     "output_type": "display_data"
    },
    {
     "name": "stderr",
     "output_type": "stream",
     "text": [
      "c:\\Users\\Woon.Kim\\Anaconda33\\lib\\site-packages\\sklearn\\metrics\\_classification.py:1580: UndefinedMetricWarning: F-score is ill-defined and being set to 0.0 in labels with no true nor predicted samples. Use `zero_division` parameter to control this behavior.\n",
      "  _warn_prf(average, \"true nor predicted\", \"F-score is\", len(true_sum))\n"
     ]
    },
    {
     "name": "stdout",
     "output_type": "stream",
     "text": [
      "{'eval_loss': 0.277113139629364, 'eval_f1': 0.6501738028053818, 'eval_roc_auc': 0.7923351158645277, 'eval_accuracy': 0.55, 'eval_runtime': 10.2468, 'eval_samples_per_second': 1.952, 'eval_steps_per_second': 0.293, 'epoch': 18.0}\n"
     ]
    },
    {
     "name": "stderr",
     "output_type": "stream",
     "text": [
      "***** Running Evaluation *****\n",
      "  Num examples = 20\n",
      "  Batch size = 8\n"
     ]
    },
    {
     "data": {
      "application/vnd.jupyter.widget-view+json": {
       "model_id": "253002390430495c9ecfd8b582a5ad28",
       "version_major": 2,
       "version_minor": 0
      },
      "text/plain": [
       "  0%|          | 0/3 [00:00<?, ?it/s]"
      ]
     },
     "metadata": {},
     "output_type": "display_data"
    },
    {
     "name": "stderr",
     "output_type": "stream",
     "text": [
      "c:\\Users\\Woon.Kim\\Anaconda33\\lib\\site-packages\\sklearn\\metrics\\_classification.py:1580: UndefinedMetricWarning: F-score is ill-defined and being set to 0.0 in labels with no true nor predicted samples. Use `zero_division` parameter to control this behavior.\n",
      "  _warn_prf(average, \"true nor predicted\", \"F-score is\", len(true_sum))\n"
     ]
    },
    {
     "name": "stdout",
     "output_type": "stream",
     "text": [
      "{'eval_loss': 0.2837141156196594, 'eval_f1': 0.6501738028053818, 'eval_roc_auc': 0.7923351158645277, 'eval_accuracy': 0.55, 'eval_runtime': 7.7415, 'eval_samples_per_second': 2.583, 'eval_steps_per_second': 0.388, 'epoch': 19.0}\n"
     ]
    },
    {
     "name": "stderr",
     "output_type": "stream",
     "text": [
      "***** Running Evaluation *****\n",
      "  Num examples = 20\n",
      "  Batch size = 8\n"
     ]
    },
    {
     "data": {
      "application/vnd.jupyter.widget-view+json": {
       "model_id": "08de595640c44a7a8bbcce1e80914f75",
       "version_major": 2,
       "version_minor": 0
      },
      "text/plain": [
       "  0%|          | 0/3 [00:00<?, ?it/s]"
      ]
     },
     "metadata": {},
     "output_type": "display_data"
    },
    {
     "name": "stderr",
     "output_type": "stream",
     "text": [
      "c:\\Users\\Woon.Kim\\Anaconda33\\lib\\site-packages\\sklearn\\metrics\\_classification.py:1580: UndefinedMetricWarning: F-score is ill-defined and being set to 0.0 in labels with no true nor predicted samples. Use `zero_division` parameter to control this behavior.\n",
      "  _warn_prf(average, \"true nor predicted\", \"F-score is\", len(true_sum))\n"
     ]
    },
    {
     "name": "stdout",
     "output_type": "stream",
     "text": [
      "{'eval_loss': 0.2859908640384674, 'eval_f1': 0.6501738028053818, 'eval_roc_auc': 0.7923351158645277, 'eval_accuracy': 0.55, 'eval_runtime': 8.5342, 'eval_samples_per_second': 2.344, 'eval_steps_per_second': 0.352, 'epoch': 20.0}\n"
     ]
    },
    {
     "name": "stderr",
     "output_type": "stream",
     "text": [
      "***** Running Evaluation *****\n",
      "  Num examples = 20\n",
      "  Batch size = 8\n"
     ]
    },
    {
     "data": {
      "application/vnd.jupyter.widget-view+json": {
       "model_id": "f8fadbb8b03e41b1a79fd638b47ff7a2",
       "version_major": 2,
       "version_minor": 0
      },
      "text/plain": [
       "  0%|          | 0/3 [00:00<?, ?it/s]"
      ]
     },
     "metadata": {},
     "output_type": "display_data"
    },
    {
     "name": "stderr",
     "output_type": "stream",
     "text": [
      "c:\\Users\\Woon.Kim\\Anaconda33\\lib\\site-packages\\sklearn\\metrics\\_classification.py:1580: UndefinedMetricWarning: F-score is ill-defined and being set to 0.0 in labels with no true nor predicted samples. Use `zero_division` parameter to control this behavior.\n",
      "  _warn_prf(average, \"true nor predicted\", \"F-score is\", len(true_sum))\n"
     ]
    },
    {
     "name": "stdout",
     "output_type": "stream",
     "text": [
      "{'eval_loss': 0.2848251461982727, 'eval_f1': 0.6501738028053818, 'eval_roc_auc': 0.7923351158645277, 'eval_accuracy': 0.55, 'eval_runtime': 7.2232, 'eval_samples_per_second': 2.769, 'eval_steps_per_second': 0.415, 'epoch': 21.0}\n"
     ]
    },
    {
     "name": "stderr",
     "output_type": "stream",
     "text": [
      "***** Running Evaluation *****\n",
      "  Num examples = 20\n",
      "  Batch size = 8\n"
     ]
    },
    {
     "data": {
      "application/vnd.jupyter.widget-view+json": {
       "model_id": "0e447e26d3824508ac2e0a1db84e0400",
       "version_major": 2,
       "version_minor": 0
      },
      "text/plain": [
       "  0%|          | 0/3 [00:00<?, ?it/s]"
      ]
     },
     "metadata": {},
     "output_type": "display_data"
    },
    {
     "name": "stderr",
     "output_type": "stream",
     "text": [
      "c:\\Users\\Woon.Kim\\Anaconda33\\lib\\site-packages\\sklearn\\metrics\\_classification.py:1580: UndefinedMetricWarning: F-score is ill-defined and being set to 0.0 in labels with no true nor predicted samples. Use `zero_division` parameter to control this behavior.\n",
      "  _warn_prf(average, \"true nor predicted\", \"F-score is\", len(true_sum))\n"
     ]
    },
    {
     "name": "stdout",
     "output_type": "stream",
     "text": [
      "{'eval_loss': 0.2843303978443146, 'eval_f1': 0.6501738028053818, 'eval_roc_auc': 0.7923351158645277, 'eval_accuracy': 0.55, 'eval_runtime': 8.5204, 'eval_samples_per_second': 2.347, 'eval_steps_per_second': 0.352, 'epoch': 22.0}\n"
     ]
    },
    {
     "name": "stderr",
     "output_type": "stream",
     "text": [
      "***** Running Evaluation *****\n",
      "  Num examples = 20\n",
      "  Batch size = 8\n"
     ]
    },
    {
     "data": {
      "application/vnd.jupyter.widget-view+json": {
       "model_id": "fdc2871bfaf44fdb919bae10f19239f8",
       "version_major": 2,
       "version_minor": 0
      },
      "text/plain": [
       "  0%|          | 0/3 [00:00<?, ?it/s]"
      ]
     },
     "metadata": {},
     "output_type": "display_data"
    },
    {
     "name": "stderr",
     "output_type": "stream",
     "text": [
      "c:\\Users\\Woon.Kim\\Anaconda33\\lib\\site-packages\\sklearn\\metrics\\_classification.py:1580: UndefinedMetricWarning: F-score is ill-defined and being set to 0.0 in labels with no true nor predicted samples. Use `zero_division` parameter to control this behavior.\n",
      "  _warn_prf(average, \"true nor predicted\", \"F-score is\", len(true_sum))\n"
     ]
    },
    {
     "name": "stdout",
     "output_type": "stream",
     "text": [
      "{'eval_loss': 0.28086644411087036, 'eval_f1': 0.6501738028053818, 'eval_roc_auc': 0.7923351158645277, 'eval_accuracy': 0.55, 'eval_runtime': 9.7685, 'eval_samples_per_second': 2.047, 'eval_steps_per_second': 0.307, 'epoch': 23.0}\n"
     ]
    },
    {
     "name": "stderr",
     "output_type": "stream",
     "text": [
      "***** Running Evaluation *****\n",
      "  Num examples = 20\n",
      "  Batch size = 8\n"
     ]
    },
    {
     "data": {
      "application/vnd.jupyter.widget-view+json": {
       "model_id": "37950e990652472f8499f6f0a1288ac7",
       "version_major": 2,
       "version_minor": 0
      },
      "text/plain": [
       "  0%|          | 0/3 [00:00<?, ?it/s]"
      ]
     },
     "metadata": {},
     "output_type": "display_data"
    },
    {
     "name": "stderr",
     "output_type": "stream",
     "text": [
      "c:\\Users\\Woon.Kim\\Anaconda33\\lib\\site-packages\\sklearn\\metrics\\_classification.py:1580: UndefinedMetricWarning: F-score is ill-defined and being set to 0.0 in labels with no true nor predicted samples. Use `zero_division` parameter to control this behavior.\n",
      "  _warn_prf(average, \"true nor predicted\", \"F-score is\", len(true_sum))\n"
     ]
    },
    {
     "name": "stdout",
     "output_type": "stream",
     "text": [
      "{'eval_loss': 0.27961602807044983, 'eval_f1': 0.6501738028053818, 'eval_roc_auc': 0.7923351158645277, 'eval_accuracy': 0.55, 'eval_runtime': 9.7211, 'eval_samples_per_second': 2.057, 'eval_steps_per_second': 0.309, 'epoch': 24.0}\n"
     ]
    },
    {
     "name": "stderr",
     "output_type": "stream",
     "text": [
      "***** Running Evaluation *****\n",
      "  Num examples = 20\n",
      "  Batch size = 8\n"
     ]
    },
    {
     "data": {
      "application/vnd.jupyter.widget-view+json": {
       "model_id": "06a96d75ccb5489b9851e6f00f726d2b",
       "version_major": 2,
       "version_minor": 0
      },
      "text/plain": [
       "  0%|          | 0/3 [00:00<?, ?it/s]"
      ]
     },
     "metadata": {},
     "output_type": "display_data"
    },
    {
     "name": "stderr",
     "output_type": "stream",
     "text": [
      "c:\\Users\\Woon.Kim\\Anaconda33\\lib\\site-packages\\sklearn\\metrics\\_classification.py:1580: UndefinedMetricWarning: F-score is ill-defined and being set to 0.0 in labels with no true nor predicted samples. Use `zero_division` parameter to control this behavior.\n",
      "  _warn_prf(average, \"true nor predicted\", \"F-score is\", len(true_sum))\n"
     ]
    },
    {
     "name": "stdout",
     "output_type": "stream",
     "text": [
      "{'eval_loss': 0.28108349442481995, 'eval_f1': 0.6501738028053818, 'eval_roc_auc': 0.7923351158645277, 'eval_accuracy': 0.55, 'eval_runtime': 9.3614, 'eval_samples_per_second': 2.136, 'eval_steps_per_second': 0.32, 'epoch': 25.0}\n"
     ]
    },
    {
     "name": "stderr",
     "output_type": "stream",
     "text": [
      "***** Running Evaluation *****\n",
      "  Num examples = 20\n",
      "  Batch size = 8\n"
     ]
    },
    {
     "data": {
      "application/vnd.jupyter.widget-view+json": {
       "model_id": "bbc7262c3f6f4f368e109e93b77991e4",
       "version_major": 2,
       "version_minor": 0
      },
      "text/plain": [
       "  0%|          | 0/3 [00:00<?, ?it/s]"
      ]
     },
     "metadata": {},
     "output_type": "display_data"
    },
    {
     "name": "stderr",
     "output_type": "stream",
     "text": [
      "c:\\Users\\Woon.Kim\\Anaconda33\\lib\\site-packages\\sklearn\\metrics\\_classification.py:1580: UndefinedMetricWarning: F-score is ill-defined and being set to 0.0 in labels with no true nor predicted samples. Use `zero_division` parameter to control this behavior.\n",
      "  _warn_prf(average, \"true nor predicted\", \"F-score is\", len(true_sum))\n"
     ]
    },
    {
     "name": "stdout",
     "output_type": "stream",
     "text": [
      "{'eval_loss': 0.2824384570121765, 'eval_f1': 0.6501738028053818, 'eval_roc_auc': 0.7923351158645277, 'eval_accuracy': 0.55, 'eval_runtime': 9.354, 'eval_samples_per_second': 2.138, 'eval_steps_per_second': 0.321, 'epoch': 26.0}\n"
     ]
    },
    {
     "name": "stderr",
     "output_type": "stream",
     "text": [
      "***** Running Evaluation *****\n",
      "  Num examples = 20\n",
      "  Batch size = 8\n"
     ]
    },
    {
     "data": {
      "application/vnd.jupyter.widget-view+json": {
       "model_id": "053e969253b34ad28024ee4464cdea02",
       "version_major": 2,
       "version_minor": 0
      },
      "text/plain": [
       "  0%|          | 0/3 [00:00<?, ?it/s]"
      ]
     },
     "metadata": {},
     "output_type": "display_data"
    },
    {
     "name": "stderr",
     "output_type": "stream",
     "text": [
      "c:\\Users\\Woon.Kim\\Anaconda33\\lib\\site-packages\\sklearn\\metrics\\_classification.py:1580: UndefinedMetricWarning: F-score is ill-defined and being set to 0.0 in labels with no true nor predicted samples. Use `zero_division` parameter to control this behavior.\n",
      "  _warn_prf(average, \"true nor predicted\", \"F-score is\", len(true_sum))\n"
     ]
    },
    {
     "name": "stdout",
     "output_type": "stream",
     "text": [
      "{'eval_loss': 0.28284332156181335, 'eval_f1': 0.6501738028053818, 'eval_roc_auc': 0.7923351158645277, 'eval_accuracy': 0.55, 'eval_runtime': 9.4467, 'eval_samples_per_second': 2.117, 'eval_steps_per_second': 0.318, 'epoch': 27.0}\n"
     ]
    },
    {
     "name": "stderr",
     "output_type": "stream",
     "text": [
      "***** Running Evaluation *****\n",
      "  Num examples = 20\n",
      "  Batch size = 8\n"
     ]
    },
    {
     "data": {
      "application/vnd.jupyter.widget-view+json": {
       "model_id": "a6efd96ea29547c084f7d4b8561e16cb",
       "version_major": 2,
       "version_minor": 0
      },
      "text/plain": [
       "  0%|          | 0/3 [00:00<?, ?it/s]"
      ]
     },
     "metadata": {},
     "output_type": "display_data"
    },
    {
     "name": "stderr",
     "output_type": "stream",
     "text": [
      "c:\\Users\\Woon.Kim\\Anaconda33\\lib\\site-packages\\sklearn\\metrics\\_classification.py:1580: UndefinedMetricWarning: F-score is ill-defined and being set to 0.0 in labels with no true nor predicted samples. Use `zero_division` parameter to control this behavior.\n",
      "  _warn_prf(average, \"true nor predicted\", \"F-score is\", len(true_sum))\n"
     ]
    },
    {
     "name": "stdout",
     "output_type": "stream",
     "text": [
      "{'eval_loss': 0.28330808877944946, 'eval_f1': 0.6501738028053818, 'eval_roc_auc': 0.7923351158645277, 'eval_accuracy': 0.55, 'eval_runtime': 10.1745, 'eval_samples_per_second': 1.966, 'eval_steps_per_second': 0.295, 'epoch': 28.0}\n"
     ]
    },
    {
     "name": "stderr",
     "output_type": "stream",
     "text": [
      "***** Running Evaluation *****\n",
      "  Num examples = 20\n",
      "  Batch size = 8\n"
     ]
    },
    {
     "data": {
      "application/vnd.jupyter.widget-view+json": {
       "model_id": "59817c8765fa475ca61fca6c8e46eb5a",
       "version_major": 2,
       "version_minor": 0
      },
      "text/plain": [
       "  0%|          | 0/3 [00:00<?, ?it/s]"
      ]
     },
     "metadata": {},
     "output_type": "display_data"
    },
    {
     "name": "stderr",
     "output_type": "stream",
     "text": [
      "c:\\Users\\Woon.Kim\\Anaconda33\\lib\\site-packages\\sklearn\\metrics\\_classification.py:1580: UndefinedMetricWarning: F-score is ill-defined and being set to 0.0 in labels with no true nor predicted samples. Use `zero_division` parameter to control this behavior.\n",
      "  _warn_prf(average, \"true nor predicted\", \"F-score is\", len(true_sum))\n"
     ]
    },
    {
     "name": "stdout",
     "output_type": "stream",
     "text": [
      "{'eval_loss': 0.28342610597610474, 'eval_f1': 0.6501738028053818, 'eval_roc_auc': 0.7923351158645277, 'eval_accuracy': 0.55, 'eval_runtime': 9.7094, 'eval_samples_per_second': 2.06, 'eval_steps_per_second': 0.309, 'epoch': 29.0}\n"
     ]
    },
    {
     "name": "stderr",
     "output_type": "stream",
     "text": [
      "***** Running Evaluation *****\n",
      "  Num examples = 20\n",
      "  Batch size = 8\n"
     ]
    },
    {
     "data": {
      "application/vnd.jupyter.widget-view+json": {
       "model_id": "9f5f9ab9d24747379ea3adbf37444492",
       "version_major": 2,
       "version_minor": 0
      },
      "text/plain": [
       "  0%|          | 0/3 [00:00<?, ?it/s]"
      ]
     },
     "metadata": {},
     "output_type": "display_data"
    },
    {
     "name": "stderr",
     "output_type": "stream",
     "text": [
      "c:\\Users\\Woon.Kim\\Anaconda33\\lib\\site-packages\\sklearn\\metrics\\_classification.py:1580: UndefinedMetricWarning: F-score is ill-defined and being set to 0.0 in labels with no true nor predicted samples. Use `zero_division` parameter to control this behavior.\n",
      "  _warn_prf(average, \"true nor predicted\", \"F-score is\", len(true_sum))\n",
      "\n",
      "\n",
      "Training completed. Do not forget to share your model on huggingface.co/models =)\n",
      "\n",
      "\n"
     ]
    },
    {
     "name": "stdout",
     "output_type": "stream",
     "text": [
      "{'eval_loss': 0.2833797037601471, 'eval_f1': 0.6501738028053818, 'eval_roc_auc': 0.7923351158645277, 'eval_accuracy': 0.55, 'eval_runtime': 9.8365, 'eval_samples_per_second': 2.033, 'eval_steps_per_second': 0.305, 'epoch': 30.0}\n",
      "{'train_runtime': 6065.6569, 'train_samples_per_second': 0.297, 'train_steps_per_second': 0.04, 'train_loss': 0.1069630781809489, 'epoch': 30.0}\n"
     ]
    },
    {
     "data": {
      "text/plain": [
       "TrainOutput(global_step=240, training_loss=0.1069630781809489, metrics={'train_runtime': 6065.6569, 'train_samples_per_second': 0.297, 'train_steps_per_second': 0.04, 'train_loss': 0.1069630781809489, 'epoch': 30.0})"
      ]
     },
     "execution_count": 52,
     "metadata": {},
     "output_type": "execute_result"
    }
   ],
   "source": [
    "#fine-tune BART model by calling train()\n",
    "trainer.train()"
   ]
  },
  {
   "cell_type": "code",
   "execution_count": 53,
   "metadata": {},
   "outputs": [
    {
     "name": "stderr",
     "output_type": "stream",
     "text": [
      "***** Running Evaluation *****\n",
      "  Num examples = 20\n",
      "  Batch size = 8\n"
     ]
    },
    {
     "data": {
      "application/vnd.jupyter.widget-view+json": {
       "model_id": "9d01059532fe4541ad3aec6b3e9a1b44",
       "version_major": 2,
       "version_minor": 0
      },
      "text/plain": [
       "  0%|          | 0/3 [00:00<?, ?it/s]"
      ]
     },
     "metadata": {},
     "output_type": "display_data"
    },
    {
     "name": "stderr",
     "output_type": "stream",
     "text": [
      "c:\\Users\\Woon.Kim\\Anaconda33\\lib\\site-packages\\sklearn\\metrics\\_classification.py:1580: UndefinedMetricWarning: F-score is ill-defined and being set to 0.0 in labels with no true nor predicted samples. Use `zero_division` parameter to control this behavior.\n",
      "  _warn_prf(average, \"true nor predicted\", \"F-score is\", len(true_sum))\n"
     ]
    },
    {
     "data": {
      "text/plain": [
       "{'eval_loss': 0.2833797037601471,\n",
       " 'eval_f1': 0.6501738028053818,\n",
       " 'eval_roc_auc': 0.7923351158645277,\n",
       " 'eval_accuracy': 0.55,\n",
       " 'eval_runtime': 9.7723,\n",
       " 'eval_samples_per_second': 2.047,\n",
       " 'eval_steps_per_second': 0.307,\n",
       " 'epoch': 30.0}"
      ]
     },
     "execution_count": 53,
     "metadata": {},
     "output_type": "execute_result"
    }
   ],
   "source": [
    "#evaluate on val set\n",
    "trainer.evaluate() "
   ]
  },
  {
   "cell_type": "code",
   "execution_count": 64,
   "metadata": {},
   "outputs": [
    {
     "name": "stderr",
     "output_type": "stream",
     "text": [
      "Saving model checkpoint to ../Output/Model/Best_Model2\n",
      "Configuration saved in ../Output/Model/Best_Model2\\config.json\n",
      "Model weights saved in ../Output/Model/Best_Model2\\pytorch_model.bin\n",
      "tokenizer config file saved in ../Output/Model/Best_Model2\\tokenizer_config.json\n",
      "Special tokens file saved in ../Output/Model/Best_Model2\\special_tokens_map.json\n"
     ]
    }
   ],
   "source": [
    "trainer.save_model(\"../Output/Model/Best_Model2\")#save the model"
   ]
  },
  {
   "cell_type": "code",
   "execution_count": 65,
   "metadata": {},
   "outputs": [],
   "source": [
    "df_test = pd.read_csv(\"../Data/preprocessed_osteoporosis_11labels.csv\")\n",
    "df_test = df_test[[\"Reviews\"]]"
   ]
  },
  {
   "cell_type": "code",
   "execution_count": 66,
   "metadata": {},
   "outputs": [
    {
     "name": "stderr",
     "output_type": "stream",
     "text": [
      "loading configuration file ../Output/Model/Best_Model2\\config.json\n",
      "You passed along `num_labels=3` with an incompatible id to label map: {'0': 'LABEL_0', '1': 'LABEL_1', '2': 'LABEL_2', '3': 'LABEL_3', '4': 'LABEL_4', '5': 'LABEL_5', '6': 'LABEL_6', '7': 'LABEL_7', '8': 'LABEL_8', '9': 'LABEL_9', '10': 'LABEL_10'}. The number of labels wil be overwritten to 11.\n",
      "Model config BartConfig {\n",
      "  \"_name_or_path\": \"facebook/bart-large-mnli\",\n",
      "  \"_num_labels\": 3,\n",
      "  \"activation_dropout\": 0.0,\n",
      "  \"activation_function\": \"gelu\",\n",
      "  \"add_final_layer_norm\": false,\n",
      "  \"architectures\": [\n",
      "    \"BartForSequenceClassification\"\n",
      "  ],\n",
      "  \"attention_dropout\": 0.0,\n",
      "  \"bos_token_id\": 0,\n",
      "  \"classif_dropout\": 0.0,\n",
      "  \"classifier_dropout\": 0.0,\n",
      "  \"d_model\": 1024,\n",
      "  \"decoder_attention_heads\": 16,\n",
      "  \"decoder_ffn_dim\": 4096,\n",
      "  \"decoder_layerdrop\": 0.0,\n",
      "  \"decoder_layers\": 12,\n",
      "  \"decoder_start_token_id\": 2,\n",
      "  \"dropout\": 0.1,\n",
      "  \"encoder_attention_heads\": 16,\n",
      "  \"encoder_ffn_dim\": 4096,\n",
      "  \"encoder_layerdrop\": 0.0,\n",
      "  \"encoder_layers\": 12,\n",
      "  \"eos_token_id\": 2,\n",
      "  \"forced_eos_token_id\": 2,\n",
      "  \"gradient_checkpointing\": false,\n",
      "  \"id2label\": {\n",
      "    \"0\": \"LABEL_0\",\n",
      "    \"1\": \"LABEL_1\",\n",
      "    \"2\": \"LABEL_2\",\n",
      "    \"3\": \"LABEL_3\",\n",
      "    \"4\": \"LABEL_4\",\n",
      "    \"5\": \"LABEL_5\",\n",
      "    \"6\": \"LABEL_6\",\n",
      "    \"7\": \"LABEL_7\",\n",
      "    \"8\": \"LABEL_8\",\n",
      "    \"9\": \"LABEL_9\",\n",
      "    \"10\": \"LABEL_10\"\n",
      "  },\n",
      "  \"init_std\": 0.02,\n",
      "  \"is_encoder_decoder\": true,\n",
      "  \"label2id\": {\n",
      "    \"LABEL_0\": 0,\n",
      "    \"LABEL_1\": 1,\n",
      "    \"LABEL_10\": 10,\n",
      "    \"LABEL_2\": 2,\n",
      "    \"LABEL_3\": 3,\n",
      "    \"LABEL_4\": 4,\n",
      "    \"LABEL_5\": 5,\n",
      "    \"LABEL_6\": 6,\n",
      "    \"LABEL_7\": 7,\n",
      "    \"LABEL_8\": 8,\n",
      "    \"LABEL_9\": 9\n",
      "  },\n",
      "  \"max_position_embeddings\": 1024,\n",
      "  \"model_type\": \"bart\",\n",
      "  \"normalize_before\": false,\n",
      "  \"num_hidden_layers\": 12,\n",
      "  \"output_past\": false,\n",
      "  \"pad_token_id\": 1,\n",
      "  \"problem_type\": \"multi_label_classification\",\n",
      "  \"scale_embedding\": false,\n",
      "  \"torch_dtype\": \"float32\",\n",
      "  \"transformers_version\": \"4.20.1\",\n",
      "  \"use_cache\": true,\n",
      "  \"vocab_size\": 50265\n",
      "}\n",
      "\n",
      "loading weights file ../Output/Model/Best_Model2\\pytorch_model.bin\n",
      "All model checkpoint weights were used when initializing BartForSequenceClassification.\n",
      "\n",
      "All the weights of BartForSequenceClassification were initialized from the model checkpoint at ../Output/Model/Best_Model2.\n",
      "If your task is similar to the task the model of the checkpoint was trained on, you can already use BartForSequenceClassification for predictions without further training.\n"
     ]
    }
   ],
   "source": [
    "#Load the fine-tuned BART model\n",
    "from transformers import BartForSequenceClassification\n",
    "\n",
    "model = BartForSequenceClassification.from_pretrained(\"../Output/Model/Best_Model2\", problem_type=\"multi_label_classification\", num_labels=11)"
   ]
  },
  {
   "cell_type": "code",
   "execution_count": 67,
   "metadata": {},
   "outputs": [
    {
     "name": "stderr",
     "output_type": "stream",
     "text": [
      "Didn't find file ../Output/Model/Best_Model2\\added_tokens.json. We won't load it.\n",
      "loading file ../Output/Model/Best_Model2\\vocab.json\n",
      "loading file ../Output/Model/Best_Model2\\merges.txt\n",
      "loading file None\n",
      "loading file ../Output/Model/Best_Model2\\special_tokens_map.json\n",
      "loading file ../Output/Model/Best_Model2\\tokenizer_config.json\n"
     ]
    }
   ],
   "source": [
    "#Load the tokenizer\n",
    "from transformers import BartTokenizer\n",
    "\n",
    "tokenizer = BartTokenizer.from_pretrained(\"../Output/Model/Best_Model2\")"
   ]
  },
  {
   "cell_type": "code",
   "execution_count": 57,
   "metadata": {},
   "outputs": [],
   "source": [
    "import torch\n",
    "\n",
    "limb_pain = []\n",
    "gastrointestinal = []\n",
    "dental = []\n",
    "cardiac = []\n",
    "dermatological = []\n",
    "respiratory = []\n",
    "weight_gain_and_loss = []\n",
    "headache = []\n",
    "menstrual = []\n",
    "fatigue = []\n",
    "body_temperature = []\n",
    "\n",
    "for i in range(len(df_test[\"Reviews\"])):\n",
    "  text = df_test[\"Reviews\"][i]\n",
    "  encoding = tokenizer(text, return_tensors=\"pt\")\n",
    "  encoding = {k: v.to(model.device) for k,v in encoding.items()}\n",
    "  outputs = model(**encoding)\n",
    "\n",
    "  #apply sigmoid and threshold\n",
    "  sigmoid = torch.nn.Sigmoid()\n",
    "  logits = outputs.logits\n",
    "  probs = sigmoid(logits.squeeze().cpu())\n",
    "\n",
    "  limb_pain.append(probs[0].detach().numpy())\n",
    "  gastrointestinal.append(probs[1].detach().numpy())\n",
    "  dental.append(probs[2].detach().numpy())\n",
    "  cardiac.append(probs[3].detach().numpy())\n",
    "  dermatological.append(probs[4].detach().numpy())\n",
    "  respiratory.append(probs[5].detach().numpy())\n",
    "  weight_gain_and_loss.append(probs[6].detach().numpy())\n",
    "  headache.append(probs[7].detach().numpy())\n",
    "  menstrual.append(probs[8].detach().numpy())\n",
    "  fatigue.append(probs[9].detach().numpy())\n",
    "  body_temperature.append(probs[10].detach().numpy())"
   ]
  },
  {
   "cell_type": "code",
   "execution_count": 58,
   "metadata": {},
   "outputs": [],
   "source": [
    "df_test[\"limb_pain\"] = limb_pain\n",
    "df_test[\"gastrointestinal\"] = gastrointestinal\n",
    "df_test[\"dental\"] = dental\n",
    "df_test[\"cardiac\"] = cardiac\n",
    "df_test[\"dermatological\"] = dermatological\n",
    "df_test[\"respiratory\"] = respiratory\n",
    "df_test[\"weight_gain_and_loss\"] = weight_gain_and_loss\n",
    "df_test[\"headache\"] = headache\n",
    "df_test[\"menstrual\"] = menstrual\n",
    "df_test[\"fatigue\"] = fatigue\n",
    "df_test[\"body_temperature\"] = body_temperature"
   ]
  },
  {
   "cell_type": "code",
   "execution_count": 59,
   "metadata": {},
   "outputs": [
    {
     "data": {
      "text/html": [
       "<div>\n",
       "<style scoped>\n",
       "    .dataframe tbody tr th:only-of-type {\n",
       "        vertical-align: middle;\n",
       "    }\n",
       "\n",
       "    .dataframe tbody tr th {\n",
       "        vertical-align: top;\n",
       "    }\n",
       "\n",
       "    .dataframe thead th {\n",
       "        text-align: right;\n",
       "    }\n",
       "</style>\n",
       "<table border=\"1\" class=\"dataframe\">\n",
       "  <thead>\n",
       "    <tr style=\"text-align: right;\">\n",
       "      <th></th>\n",
       "      <th>Reviews</th>\n",
       "      <th>limb_pain</th>\n",
       "      <th>gastrointestinal</th>\n",
       "      <th>dental</th>\n",
       "      <th>cardiac</th>\n",
       "      <th>dermatological</th>\n",
       "      <th>respiratory</th>\n",
       "      <th>weight_gain_and_loss</th>\n",
       "      <th>headache</th>\n",
       "      <th>menstrual</th>\n",
       "      <th>fatigue</th>\n",
       "      <th>body_temperature</th>\n",
       "    </tr>\n",
       "  </thead>\n",
       "  <tbody>\n",
       "    <tr>\n",
       "      <th>0</th>\n",
       "      <td>I am a fit 63 year old male who was surprised ...</td>\n",
       "      <td>0.8734611</td>\n",
       "      <td>0.014791292</td>\n",
       "      <td>0.0050417986</td>\n",
       "      <td>0.007280574</td>\n",
       "      <td>0.0031952278</td>\n",
       "      <td>0.0050198133</td>\n",
       "      <td>0.0051570074</td>\n",
       "      <td>0.0049175685</td>\n",
       "      <td>0.011499956</td>\n",
       "      <td>0.0020841346</td>\n",
       "      <td>0.0034286182</td>\n",
       "    </tr>\n",
       "    <tr>\n",
       "      <th>1</th>\n",
       "      <td>I had my first injection in January.  No side ...</td>\n",
       "      <td>0.7882128</td>\n",
       "      <td>0.017522046</td>\n",
       "      <td>0.047899343</td>\n",
       "      <td>0.0101389075</td>\n",
       "      <td>0.0057625296</td>\n",
       "      <td>0.0029755419</td>\n",
       "      <td>0.0027077044</td>\n",
       "      <td>0.0072094025</td>\n",
       "      <td>0.00665413</td>\n",
       "      <td>0.004033976</td>\n",
       "      <td>0.0021250097</td>\n",
       "    </tr>\n",
       "    <tr>\n",
       "      <th>2</th>\n",
       "      <td>At the age of 62, I discovered I had severe os...</td>\n",
       "      <td>0.0052116</td>\n",
       "      <td>0.040672928</td>\n",
       "      <td>0.0060933675</td>\n",
       "      <td>0.0035097832</td>\n",
       "      <td>0.0033169547</td>\n",
       "      <td>0.0052644117</td>\n",
       "      <td>0.0038471806</td>\n",
       "      <td>0.0048531853</td>\n",
       "      <td>0.032130033</td>\n",
       "      <td>0.2014089</td>\n",
       "      <td>0.0028962877</td>\n",
       "    </tr>\n",
       "    <tr>\n",
       "      <th>3</th>\n",
       "      <td>About a week after first injection, developed ...</td>\n",
       "      <td>0.44608274</td>\n",
       "      <td>0.15374859</td>\n",
       "      <td>0.012810585</td>\n",
       "      <td>0.00474811</td>\n",
       "      <td>0.011469262</td>\n",
       "      <td>0.0028344954</td>\n",
       "      <td>0.004418439</td>\n",
       "      <td>0.022913614</td>\n",
       "      <td>0.039060522</td>\n",
       "      <td>0.8753578</td>\n",
       "      <td>0.009981864</td>\n",
       "    </tr>\n",
       "    <tr>\n",
       "      <th>4</th>\n",
       "      <td>I want to thank everyone here that rated this ...</td>\n",
       "      <td>0.0152315395</td>\n",
       "      <td>0.008141299</td>\n",
       "      <td>0.0028759541</td>\n",
       "      <td>0.003921434</td>\n",
       "      <td>0.003452273</td>\n",
       "      <td>0.0034405636</td>\n",
       "      <td>0.0028801046</td>\n",
       "      <td>0.0027956045</td>\n",
       "      <td>0.008328729</td>\n",
       "      <td>0.0035875633</td>\n",
       "      <td>0.0042090714</td>\n",
       "    </tr>\n",
       "    <tr>\n",
       "      <th>5</th>\n",
       "      <td>5th injection, no side effects,now normal bone...</td>\n",
       "      <td>0.006084696</td>\n",
       "      <td>0.005623176</td>\n",
       "      <td>0.0052013826</td>\n",
       "      <td>0.004691545</td>\n",
       "      <td>0.0050250418</td>\n",
       "      <td>0.0056666937</td>\n",
       "      <td>0.005384205</td>\n",
       "      <td>0.009908321</td>\n",
       "      <td>0.0050761728</td>\n",
       "      <td>0.012117989</td>\n",
       "      <td>0.011281637</td>\n",
       "    </tr>\n",
       "    <tr>\n",
       "      <th>6</th>\n",
       "      <td>This is the worse medication my husband has ev...</td>\n",
       "      <td>0.9872578</td>\n",
       "      <td>0.01142529</td>\n",
       "      <td>0.015266555</td>\n",
       "      <td>0.014431485</td>\n",
       "      <td>0.01166296</td>\n",
       "      <td>0.018008774</td>\n",
       "      <td>0.005758682</td>\n",
       "      <td>0.007977214</td>\n",
       "      <td>0.0025931837</td>\n",
       "      <td>0.9864871</td>\n",
       "      <td>0.0085747605</td>\n",
       "    </tr>\n",
       "    <tr>\n",
       "      <th>7</th>\n",
       "      <td>Call FDA to report negative side effects 1 888...</td>\n",
       "      <td>0.010074596</td>\n",
       "      <td>0.016176965</td>\n",
       "      <td>0.005448161</td>\n",
       "      <td>0.0035813982</td>\n",
       "      <td>0.0066903727</td>\n",
       "      <td>0.035818256</td>\n",
       "      <td>0.0014192273</td>\n",
       "      <td>0.007707742</td>\n",
       "      <td>0.013713629</td>\n",
       "      <td>0.33797878</td>\n",
       "      <td>0.057396457</td>\n",
       "    </tr>\n",
       "    <tr>\n",
       "      <th>8</th>\n",
       "      <td>This month I have received my 4th injection of...</td>\n",
       "      <td>0.008940029</td>\n",
       "      <td>0.0029049953</td>\n",
       "      <td>0.0031237348</td>\n",
       "      <td>0.010312329</td>\n",
       "      <td>0.0031979491</td>\n",
       "      <td>0.009327203</td>\n",
       "      <td>0.0033492516</td>\n",
       "      <td>0.0038484568</td>\n",
       "      <td>0.0065683303</td>\n",
       "      <td>0.8916133</td>\n",
       "      <td>0.021210762</td>\n",
       "    </tr>\n",
       "    <tr>\n",
       "      <th>9</th>\n",
       "      <td>This drug has ruined my mother's daily life. P...</td>\n",
       "      <td>0.13072598</td>\n",
       "      <td>0.0068879738</td>\n",
       "      <td>0.002961101</td>\n",
       "      <td>0.011723439</td>\n",
       "      <td>0.5269704</td>\n",
       "      <td>0.0059988657</td>\n",
       "      <td>0.0017055852</td>\n",
       "      <td>0.0044649746</td>\n",
       "      <td>0.0020288252</td>\n",
       "      <td>0.7531722</td>\n",
       "      <td>0.0052424213</td>\n",
       "    </tr>\n",
       "    <tr>\n",
       "      <th>10</th>\n",
       "      <td>Don't take this medication if you live alone. ...</td>\n",
       "      <td>0.83136076</td>\n",
       "      <td>0.13217624</td>\n",
       "      <td>0.032974064</td>\n",
       "      <td>0.014713923</td>\n",
       "      <td>0.021883471</td>\n",
       "      <td>0.014553</td>\n",
       "      <td>0.0010367789</td>\n",
       "      <td>0.005830194</td>\n",
       "      <td>0.0045726206</td>\n",
       "      <td>0.53971016</td>\n",
       "      <td>0.005392976</td>\n",
       "    </tr>\n",
       "    <tr>\n",
       "      <th>11</th>\n",
       "      <td>I had a Prolia injection in Feb 2016. About 8 ...</td>\n",
       "      <td>0.025606286</td>\n",
       "      <td>0.82974505</td>\n",
       "      <td>0.008578783</td>\n",
       "      <td>0.0074961255</td>\n",
       "      <td>0.0016071629</td>\n",
       "      <td>0.007982582</td>\n",
       "      <td>0.0034700755</td>\n",
       "      <td>0.002385038</td>\n",
       "      <td>0.19786409</td>\n",
       "      <td>0.34345034</td>\n",
       "      <td>0.01672145</td>\n",
       "    </tr>\n",
       "    <tr>\n",
       "      <th>12</th>\n",
       "      <td>Further update. It is now a year since my firs...</td>\n",
       "      <td>0.41266617</td>\n",
       "      <td>0.06961464</td>\n",
       "      <td>0.004390996</td>\n",
       "      <td>0.0061677615</td>\n",
       "      <td>0.0041392385</td>\n",
       "      <td>0.0063901553</td>\n",
       "      <td>0.0019368791</td>\n",
       "      <td>0.004066598</td>\n",
       "      <td>0.0102880625</td>\n",
       "      <td>0.011661054</td>\n",
       "      <td>0.0066215564</td>\n",
       "    </tr>\n",
       "    <tr>\n",
       "      <th>13</th>\n",
       "      <td>This medication has ruined my life. Pain every...</td>\n",
       "      <td>0.9751184</td>\n",
       "      <td>0.023331137</td>\n",
       "      <td>0.008634503</td>\n",
       "      <td>0.0091261985</td>\n",
       "      <td>0.004790193</td>\n",
       "      <td>0.017495396</td>\n",
       "      <td>0.005143111</td>\n",
       "      <td>0.006803799</td>\n",
       "      <td>0.0036963231</td>\n",
       "      <td>0.9771755</td>\n",
       "      <td>0.004257984</td>\n",
       "    </tr>\n",
       "    <tr>\n",
       "      <th>14</th>\n",
       "      <td>Two days after receiving shot of prolia, I beg...</td>\n",
       "      <td>0.96861815</td>\n",
       "      <td>0.19761352</td>\n",
       "      <td>0.020402867</td>\n",
       "      <td>0.009737608</td>\n",
       "      <td>0.0043830606</td>\n",
       "      <td>0.018319245</td>\n",
       "      <td>0.010636396</td>\n",
       "      <td>0.0046180952</td>\n",
       "      <td>0.022452442</td>\n",
       "      <td>0.46024346</td>\n",
       "      <td>0.0011776878</td>\n",
       "    </tr>\n",
       "    <tr>\n",
       "      <th>15</th>\n",
       "      <td>I thought I was going crazy...but reading thes...</td>\n",
       "      <td>0.058822736</td>\n",
       "      <td>0.067155</td>\n",
       "      <td>0.0041285143</td>\n",
       "      <td>0.0035773828</td>\n",
       "      <td>0.0023186533</td>\n",
       "      <td>0.0041307476</td>\n",
       "      <td>0.0030439096</td>\n",
       "      <td>0.0016775284</td>\n",
       "      <td>0.0203404</td>\n",
       "      <td>0.01604845</td>\n",
       "      <td>0.0029570635</td>\n",
       "    </tr>\n",
       "    <tr>\n",
       "      <th>16</th>\n",
       "      <td>First shot I got diarrhea about ten days later...</td>\n",
       "      <td>0.09107726</td>\n",
       "      <td>0.90148616</td>\n",
       "      <td>0.026853327</td>\n",
       "      <td>0.0059453286</td>\n",
       "      <td>0.01017673</td>\n",
       "      <td>0.44588265</td>\n",
       "      <td>0.0023700239</td>\n",
       "      <td>0.003591462</td>\n",
       "      <td>0.005604974</td>\n",
       "      <td>0.8477744</td>\n",
       "      <td>0.006731825</td>\n",
       "    </tr>\n",
       "    <tr>\n",
       "      <th>17</th>\n",
       "      <td>I haven taken Prolia every 6 months for 4 year...</td>\n",
       "      <td>0.94907457</td>\n",
       "      <td>0.01952741</td>\n",
       "      <td>0.014924334</td>\n",
       "      <td>0.0034109936</td>\n",
       "      <td>0.00891766</td>\n",
       "      <td>0.0045283306</td>\n",
       "      <td>0.003217076</td>\n",
       "      <td>0.0047910386</td>\n",
       "      <td>0.0040722336</td>\n",
       "      <td>0.0059704115</td>\n",
       "      <td>0.0022645614</td>\n",
       "    </tr>\n",
       "    <tr>\n",
       "      <th>18</th>\n",
       "      <td>My family is trying to weigh the positive and ...</td>\n",
       "      <td>0.003024647</td>\n",
       "      <td>0.008783608</td>\n",
       "      <td>0.004025324</td>\n",
       "      <td>0.0032939592</td>\n",
       "      <td>0.08365783</td>\n",
       "      <td>0.005299831</td>\n",
       "      <td>0.002515161</td>\n",
       "      <td>0.0034539846</td>\n",
       "      <td>0.0037849254</td>\n",
       "      <td>0.021680355</td>\n",
       "      <td>0.0036846097</td>\n",
       "    </tr>\n",
       "  </tbody>\n",
       "</table>\n",
       "</div>"
      ],
      "text/plain": [
       "                                              Reviews     limb_pain  \\\n",
       "0   I am a fit 63 year old male who was surprised ...     0.8734611   \n",
       "1   I had my first injection in January.  No side ...     0.7882128   \n",
       "2   At the age of 62, I discovered I had severe os...     0.0052116   \n",
       "3   About a week after first injection, developed ...    0.44608274   \n",
       "4   I want to thank everyone here that rated this ...  0.0152315395   \n",
       "5   5th injection, no side effects,now normal bone...   0.006084696   \n",
       "6   This is the worse medication my husband has ev...     0.9872578   \n",
       "7   Call FDA to report negative side effects 1 888...   0.010074596   \n",
       "8   This month I have received my 4th injection of...   0.008940029   \n",
       "9   This drug has ruined my mother's daily life. P...    0.13072598   \n",
       "10  Don't take this medication if you live alone. ...    0.83136076   \n",
       "11  I had a Prolia injection in Feb 2016. About 8 ...   0.025606286   \n",
       "12  Further update. It is now a year since my firs...    0.41266617   \n",
       "13  This medication has ruined my life. Pain every...     0.9751184   \n",
       "14  Two days after receiving shot of prolia, I beg...    0.96861815   \n",
       "15  I thought I was going crazy...but reading thes...   0.058822736   \n",
       "16  First shot I got diarrhea about ten days later...    0.09107726   \n",
       "17  I haven taken Prolia every 6 months for 4 year...    0.94907457   \n",
       "18  My family is trying to weigh the positive and ...   0.003024647   \n",
       "\n",
       "   gastrointestinal        dental       cardiac dermatological   respiratory  \\\n",
       "0       0.014791292  0.0050417986   0.007280574   0.0031952278  0.0050198133   \n",
       "1       0.017522046   0.047899343  0.0101389075   0.0057625296  0.0029755419   \n",
       "2       0.040672928  0.0060933675  0.0035097832   0.0033169547  0.0052644117   \n",
       "3        0.15374859   0.012810585    0.00474811    0.011469262  0.0028344954   \n",
       "4       0.008141299  0.0028759541   0.003921434    0.003452273  0.0034405636   \n",
       "5       0.005623176  0.0052013826   0.004691545   0.0050250418  0.0056666937   \n",
       "6        0.01142529   0.015266555   0.014431485     0.01166296   0.018008774   \n",
       "7       0.016176965   0.005448161  0.0035813982   0.0066903727   0.035818256   \n",
       "8      0.0029049953  0.0031237348   0.010312329   0.0031979491   0.009327203   \n",
       "9      0.0068879738   0.002961101   0.011723439      0.5269704  0.0059988657   \n",
       "10       0.13217624   0.032974064   0.014713923    0.021883471      0.014553   \n",
       "11       0.82974505   0.008578783  0.0074961255   0.0016071629   0.007982582   \n",
       "12       0.06961464   0.004390996  0.0061677615   0.0041392385  0.0063901553   \n",
       "13      0.023331137   0.008634503  0.0091261985    0.004790193   0.017495396   \n",
       "14       0.19761352   0.020402867   0.009737608   0.0043830606   0.018319245   \n",
       "15         0.067155  0.0041285143  0.0035773828   0.0023186533  0.0041307476   \n",
       "16       0.90148616   0.026853327  0.0059453286     0.01017673    0.44588265   \n",
       "17       0.01952741   0.014924334  0.0034109936     0.00891766  0.0045283306   \n",
       "18      0.008783608   0.004025324  0.0032939592     0.08365783   0.005299831   \n",
       "\n",
       "   weight_gain_and_loss      headache     menstrual       fatigue  \\\n",
       "0          0.0051570074  0.0049175685   0.011499956  0.0020841346   \n",
       "1          0.0027077044  0.0072094025    0.00665413   0.004033976   \n",
       "2          0.0038471806  0.0048531853   0.032130033     0.2014089   \n",
       "3           0.004418439   0.022913614   0.039060522     0.8753578   \n",
       "4          0.0028801046  0.0027956045   0.008328729  0.0035875633   \n",
       "5           0.005384205   0.009908321  0.0050761728   0.012117989   \n",
       "6           0.005758682   0.007977214  0.0025931837     0.9864871   \n",
       "7          0.0014192273   0.007707742   0.013713629    0.33797878   \n",
       "8          0.0033492516  0.0038484568  0.0065683303     0.8916133   \n",
       "9          0.0017055852  0.0044649746  0.0020288252     0.7531722   \n",
       "10         0.0010367789   0.005830194  0.0045726206    0.53971016   \n",
       "11         0.0034700755   0.002385038    0.19786409    0.34345034   \n",
       "12         0.0019368791   0.004066598  0.0102880625   0.011661054   \n",
       "13          0.005143111   0.006803799  0.0036963231     0.9771755   \n",
       "14          0.010636396  0.0046180952   0.022452442    0.46024346   \n",
       "15         0.0030439096  0.0016775284     0.0203404    0.01604845   \n",
       "16         0.0023700239   0.003591462   0.005604974     0.8477744   \n",
       "17          0.003217076  0.0047910386  0.0040722336  0.0059704115   \n",
       "18          0.002515161  0.0034539846  0.0037849254   0.021680355   \n",
       "\n",
       "   body_temperature  \n",
       "0      0.0034286182  \n",
       "1      0.0021250097  \n",
       "2      0.0028962877  \n",
       "3       0.009981864  \n",
       "4      0.0042090714  \n",
       "5       0.011281637  \n",
       "6      0.0085747605  \n",
       "7       0.057396457  \n",
       "8       0.021210762  \n",
       "9      0.0052424213  \n",
       "10      0.005392976  \n",
       "11       0.01672145  \n",
       "12     0.0066215564  \n",
       "13      0.004257984  \n",
       "14     0.0011776878  \n",
       "15     0.0029570635  \n",
       "16      0.006731825  \n",
       "17     0.0022645614  \n",
       "18     0.0036846097  "
      ]
     },
     "execution_count": 59,
     "metadata": {},
     "output_type": "execute_result"
    }
   ],
   "source": [
    "df_test"
   ]
  },
  {
   "cell_type": "code",
   "execution_count": null,
   "metadata": {},
   "outputs": [],
   "source": []
  },
  {
   "cell_type": "code",
   "execution_count": 61,
   "metadata": {},
   "outputs": [],
   "source": [
    "import seaborn as sns\n",
    "import matplotlib.pyplot as plt"
   ]
  },
  {
   "cell_type": "code",
   "execution_count": 62,
   "metadata": {},
   "outputs": [
    {
     "data": {
      "image/png": "[encoded data removed]",
      "text/plain": [
       "<Figure size 432x288 with 1 Axes>"
      ]
     },
     "metadata": {},
     "output_type": "display_data"
    }
   ],
   "source": [
    "sns.set_style('ticks')\n",
    "fig, ax = plt.subplots()\n",
    "ax = sns.histplot(x = 'max', data = df_test)\n",
    "plt.axvline(0.7, 0,700, c = 'r', ls = '--')\n",
    "for container in ax.containers:\n",
    "    ax.bar_label(container)"
   ]
  },
  {
   "cell_type": "code",
   "execution_count": null,
   "metadata": {},
   "outputs": [],
   "source": [
    "#Load the fine-tuned BART model\n",
    "from transformers import BartForSequenceClassification\n",
    "\n",
    "model = BartForSequenceClassification.from_pretrained(\"../BART_model\", problem_type=\"multi_label_classification\", num_labels=2)"
   ]
  }
 ],
 "metadata": {
  "kernelspec": {
   "display_name": "Python 3.9.12 ('base')",
   "language": "python",
   "name": "python3"
  },
  "language_info": {
   "codemirror_mode": {
    "name": "ipython",
    "version": 3
   },
   "file_extension": ".py",
   "mimetype": "text/x-python",
   "name": "python",
   "nbconvert_exporter": "python",
   "pygments_lexer": "ipython3",
   "version": "3.9.12"
  },
  "orig_nbformat": 4,
  "vscode": {
   "interpreter": {
    "hash": "723860b9bcb0b1e72b55ae11883eb093fb3432a85486e4dad0490b6a92cc27fa"
   }
  }
 },
 "nbformat": 4,
 "nbformat_minor": 2
}
