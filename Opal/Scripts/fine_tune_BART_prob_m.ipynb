{
 "cells": [
  {
   "cell_type": "code",
   "execution_count": 1,
   "metadata": {},
   "outputs": [],
   "source": [
    "import numpy as np\n",
    "import pandas as pd"
   ]
  },
  {
   "cell_type": "markdown",
   "metadata": {},
   "source": [
    "## Multi-label Fine-tuning with BART on Drug Reviews\n",
    "\n",
    "### Data Overview"
   ]
  },
  {
   "cell_type": "code",
   "execution_count": 2,
   "metadata": {},
   "outputs": [],
   "source": [
    "df = pd.read_csv(\"../Data/preprocessed_osteoporosis_11labels.csv\")#load labeled data\n",
    "df = df[:99]#only labeled 99 records"
   ]
  },
  {
   "cell_type": "code",
   "execution_count": 3,
   "metadata": {},
   "outputs": [
    {
     "data": {
      "text/html": [
       "<div>\n",
       "<style scoped>\n",
       "    .dataframe tbody tr th:only-of-type {\n",
       "        vertical-align: middle;\n",
       "    }\n",
       "\n",
       "    .dataframe tbody tr th {\n",
       "        vertical-align: top;\n",
       "    }\n",
       "\n",
       "    .dataframe thead th {\n",
       "        text-align: right;\n",
       "    }\n",
       "</style>\n",
       "<table border=\"1\" class=\"dataframe\">\n",
       "  <thead>\n",
       "    <tr style=\"text-align: right;\">\n",
       "      <th></th>\n",
       "      <th>Age</th>\n",
       "      <th>Condition</th>\n",
       "      <th>Date</th>\n",
       "      <th>Drug</th>\n",
       "      <th>DrugId</th>\n",
       "      <th>EaseofUse</th>\n",
       "      <th>Effectiveness</th>\n",
       "      <th>Reviews</th>\n",
       "      <th>Satisfaction</th>\n",
       "      <th>Sex</th>\n",
       "      <th>...</th>\n",
       "      <th>gastrointestinal</th>\n",
       "      <th>dental</th>\n",
       "      <th>cardiac</th>\n",
       "      <th>dermatological</th>\n",
       "      <th>respiratory</th>\n",
       "      <th>weight gain and loss</th>\n",
       "      <th>headache</th>\n",
       "      <th>menstrual</th>\n",
       "      <th>fatigue</th>\n",
       "      <th>body temperature</th>\n",
       "    </tr>\n",
       "  </thead>\n",
       "  <tbody>\n",
       "    <tr>\n",
       "      <th>0</th>\n",
       "      <td>45-54</td>\n",
       "      <td>Post-Menopausal Osteoporosis Prevention</td>\n",
       "      <td>7/31/2017</td>\n",
       "      <td>lopreeza</td>\n",
       "      <td>167327</td>\n",
       "      <td>5</td>\n",
       "      <td>2</td>\n",
       "      <td>After taking this drug for approx. 21 days I s...</td>\n",
       "      <td>3</td>\n",
       "      <td>Male</td>\n",
       "      <td>...</td>\n",
       "      <td>1.0</td>\n",
       "      <td>0.0</td>\n",
       "      <td>0.0</td>\n",
       "      <td>0.0</td>\n",
       "      <td>0.0</td>\n",
       "      <td>0.0</td>\n",
       "      <td>0.0</td>\n",
       "      <td>1.0</td>\n",
       "      <td>1.0</td>\n",
       "      <td>0.0</td>\n",
       "    </tr>\n",
       "    <tr>\n",
       "      <th>1</th>\n",
       "      <td>45-54</td>\n",
       "      <td>Post-Menopausal Osteoporosis Prevention</td>\n",
       "      <td>12/29/2016</td>\n",
       "      <td>lopreeza</td>\n",
       "      <td>167327</td>\n",
       "      <td>5</td>\n",
       "      <td>5</td>\n",
       "      <td>I have taken this drug for almost 7 years with...</td>\n",
       "      <td>5</td>\n",
       "      <td>Female</td>\n",
       "      <td>...</td>\n",
       "      <td>0.0</td>\n",
       "      <td>0.0</td>\n",
       "      <td>0.0</td>\n",
       "      <td>0.0</td>\n",
       "      <td>0.0</td>\n",
       "      <td>0.0</td>\n",
       "      <td>0.0</td>\n",
       "      <td>0.0</td>\n",
       "      <td>0.0</td>\n",
       "      <td>0.0</td>\n",
       "    </tr>\n",
       "    <tr>\n",
       "      <th>2</th>\n",
       "      <td>45-54</td>\n",
       "      <td>Osteoporosis</td>\n",
       "      <td>1/19/2012</td>\n",
       "      <td>oyster shell + d</td>\n",
       "      <td>94390</td>\n",
       "      <td>1</td>\n",
       "      <td>1</td>\n",
       "      <td>I have severe pain in my hand and muscle joint...</td>\n",
       "      <td>1</td>\n",
       "      <td>Female</td>\n",
       "      <td>...</td>\n",
       "      <td>0.0</td>\n",
       "      <td>0.0</td>\n",
       "      <td>0.0</td>\n",
       "      <td>0.0</td>\n",
       "      <td>0.0</td>\n",
       "      <td>0.0</td>\n",
       "      <td>0.0</td>\n",
       "      <td>0.0</td>\n",
       "      <td>0.0</td>\n",
       "      <td>0.0</td>\n",
       "    </tr>\n",
       "    <tr>\n",
       "      <th>3</th>\n",
       "      <td>75+</td>\n",
       "      <td>Osteoporosis</td>\n",
       "      <td>2/23/2015</td>\n",
       "      <td>os-cal 500-vit d3</td>\n",
       "      <td>16527</td>\n",
       "      <td>1</td>\n",
       "      <td>3</td>\n",
       "      <td>Food dyes and talc...large pill for a newly re...</td>\n",
       "      <td>1</td>\n",
       "      <td>Female</td>\n",
       "      <td>...</td>\n",
       "      <td>0.0</td>\n",
       "      <td>0.0</td>\n",
       "      <td>0.0</td>\n",
       "      <td>0.0</td>\n",
       "      <td>1.0</td>\n",
       "      <td>0.0</td>\n",
       "      <td>0.0</td>\n",
       "      <td>0.0</td>\n",
       "      <td>0.0</td>\n",
       "      <td>0.0</td>\n",
       "    </tr>\n",
       "    <tr>\n",
       "      <th>4</th>\n",
       "      <td>45-54</td>\n",
       "      <td>Osteoporosis</td>\n",
       "      <td>8/27/2012</td>\n",
       "      <td>os-cal 500-vit d3</td>\n",
       "      <td>16527</td>\n",
       "      <td>5</td>\n",
       "      <td>3</td>\n",
       "      <td>I have taken it for 6 months and it did not in...</td>\n",
       "      <td>1</td>\n",
       "      <td>Male</td>\n",
       "      <td>...</td>\n",
       "      <td>0.0</td>\n",
       "      <td>0.0</td>\n",
       "      <td>0.0</td>\n",
       "      <td>0.0</td>\n",
       "      <td>1.0</td>\n",
       "      <td>0.0</td>\n",
       "      <td>0.0</td>\n",
       "      <td>0.0</td>\n",
       "      <td>0.0</td>\n",
       "      <td>0.0</td>\n",
       "    </tr>\n",
       "    <tr>\n",
       "      <th>...</th>\n",
       "      <td>...</td>\n",
       "      <td>...</td>\n",
       "      <td>...</td>\n",
       "      <td>...</td>\n",
       "      <td>...</td>\n",
       "      <td>...</td>\n",
       "      <td>...</td>\n",
       "      <td>...</td>\n",
       "      <td>...</td>\n",
       "      <td>...</td>\n",
       "      <td>...</td>\n",
       "      <td>...</td>\n",
       "      <td>...</td>\n",
       "      <td>...</td>\n",
       "      <td>...</td>\n",
       "      <td>...</td>\n",
       "      <td>...</td>\n",
       "      <td>...</td>\n",
       "      <td>...</td>\n",
       "      <td>...</td>\n",
       "      <td>...</td>\n",
       "    </tr>\n",
       "    <tr>\n",
       "      <th>94</th>\n",
       "      <td>75+</td>\n",
       "      <td>Osteoporosis</td>\n",
       "      <td>10/24/2016</td>\n",
       "      <td>prolia syringe</td>\n",
       "      <td>154218</td>\n",
       "      <td>1</td>\n",
       "      <td>1</td>\n",
       "      <td>Two days after receiving shot of prolia, I beg...</td>\n",
       "      <td>1</td>\n",
       "      <td>Female</td>\n",
       "      <td>...</td>\n",
       "      <td>0.0</td>\n",
       "      <td>0.0</td>\n",
       "      <td>0.0</td>\n",
       "      <td>0.0</td>\n",
       "      <td>0.0</td>\n",
       "      <td>0.0</td>\n",
       "      <td>0.0</td>\n",
       "      <td>0.0</td>\n",
       "      <td>0.0</td>\n",
       "      <td>0.0</td>\n",
       "    </tr>\n",
       "    <tr>\n",
       "      <th>95</th>\n",
       "      <td>45-54</td>\n",
       "      <td>Osteoporosis</td>\n",
       "      <td>10/7/2016</td>\n",
       "      <td>prolia syringe</td>\n",
       "      <td>154218</td>\n",
       "      <td>1</td>\n",
       "      <td>1</td>\n",
       "      <td>I thought I was going crazy...but reading thes...</td>\n",
       "      <td>1</td>\n",
       "      <td></td>\n",
       "      <td>...</td>\n",
       "      <td>0.0</td>\n",
       "      <td>0.0</td>\n",
       "      <td>0.0</td>\n",
       "      <td>0.0</td>\n",
       "      <td>0.0</td>\n",
       "      <td>0.0</td>\n",
       "      <td>0.0</td>\n",
       "      <td>0.0</td>\n",
       "      <td>0.0</td>\n",
       "      <td>0.0</td>\n",
       "    </tr>\n",
       "    <tr>\n",
       "      <th>96</th>\n",
       "      <td>55-64</td>\n",
       "      <td>Osteoporosis</td>\n",
       "      <td>10/6/2016</td>\n",
       "      <td>prolia syringe</td>\n",
       "      <td>154218</td>\n",
       "      <td>1</td>\n",
       "      <td>1</td>\n",
       "      <td>First shot I got diarrhea about ten days later...</td>\n",
       "      <td>1</td>\n",
       "      <td>Female</td>\n",
       "      <td>...</td>\n",
       "      <td>1.0</td>\n",
       "      <td>0.0</td>\n",
       "      <td>0.0</td>\n",
       "      <td>0.0</td>\n",
       "      <td>0.0</td>\n",
       "      <td>0.0</td>\n",
       "      <td>0.0</td>\n",
       "      <td>0.0</td>\n",
       "      <td>1.0</td>\n",
       "      <td>0.0</td>\n",
       "    </tr>\n",
       "    <tr>\n",
       "      <th>97</th>\n",
       "      <td>65-74</td>\n",
       "      <td>Aromatase Inhibitor Drug-Induced Osteoporosis</td>\n",
       "      <td>9/27/2016</td>\n",
       "      <td>prolia syringe</td>\n",
       "      <td>154218</td>\n",
       "      <td>5</td>\n",
       "      <td>4</td>\n",
       "      <td>I haven taken Prolia every 6 months for 4 year...</td>\n",
       "      <td>4</td>\n",
       "      <td>Female</td>\n",
       "      <td>...</td>\n",
       "      <td>0.0</td>\n",
       "      <td>0.0</td>\n",
       "      <td>0.0</td>\n",
       "      <td>0.0</td>\n",
       "      <td>0.0</td>\n",
       "      <td>0.0</td>\n",
       "      <td>0.0</td>\n",
       "      <td>0.0</td>\n",
       "      <td>0.0</td>\n",
       "      <td>0.0</td>\n",
       "    </tr>\n",
       "    <tr>\n",
       "      <th>98</th>\n",
       "      <td>NaN</td>\n",
       "      <td>Osteoporosis</td>\n",
       "      <td>1/28/2016</td>\n",
       "      <td>prolia syringe</td>\n",
       "      <td>154218</td>\n",
       "      <td>1</td>\n",
       "      <td>1</td>\n",
       "      <td>My family is trying to weigh the positive and ...</td>\n",
       "      <td>1</td>\n",
       "      <td></td>\n",
       "      <td>...</td>\n",
       "      <td>0.0</td>\n",
       "      <td>0.0</td>\n",
       "      <td>0.0</td>\n",
       "      <td>0.0</td>\n",
       "      <td>0.0</td>\n",
       "      <td>0.0</td>\n",
       "      <td>0.0</td>\n",
       "      <td>0.0</td>\n",
       "      <td>0.0</td>\n",
       "      <td>0.0</td>\n",
       "    </tr>\n",
       "  </tbody>\n",
       "</table>\n",
       "<p>99 rows × 26 columns</p>\n",
       "</div>"
      ],
      "text/plain": [
       "      Age                                      Condition        Date  \\\n",
       "0   45-54        Post-Menopausal Osteoporosis Prevention   7/31/2017   \n",
       "1   45-54        Post-Menopausal Osteoporosis Prevention  12/29/2016   \n",
       "2   45-54                                   Osteoporosis   1/19/2012   \n",
       "3     75+                                   Osteoporosis   2/23/2015   \n",
       "4   45-54                                   Osteoporosis   8/27/2012   \n",
       "..    ...                                            ...         ...   \n",
       "94    75+                                   Osteoporosis  10/24/2016   \n",
       "95  45-54                                   Osteoporosis   10/7/2016   \n",
       "96  55-64                                   Osteoporosis   10/6/2016   \n",
       "97  65-74  Aromatase Inhibitor Drug-Induced Osteoporosis   9/27/2016   \n",
       "98    NaN                                   Osteoporosis   1/28/2016   \n",
       "\n",
       "                 Drug  DrugId  EaseofUse  Effectiveness  \\\n",
       "0            lopreeza  167327          5              2   \n",
       "1            lopreeza  167327          5              5   \n",
       "2    oyster shell + d   94390          1              1   \n",
       "3   os-cal 500-vit d3   16527          1              3   \n",
       "4   os-cal 500-vit d3   16527          5              3   \n",
       "..                ...     ...        ...            ...   \n",
       "94     prolia syringe  154218          1              1   \n",
       "95     prolia syringe  154218          1              1   \n",
       "96     prolia syringe  154218          1              1   \n",
       "97     prolia syringe  154218          5              4   \n",
       "98     prolia syringe  154218          1              1   \n",
       "\n",
       "                                              Reviews  Satisfaction     Sex  \\\n",
       "0   After taking this drug for approx. 21 days I s...             3    Male   \n",
       "1   I have taken this drug for almost 7 years with...             5  Female   \n",
       "2   I have severe pain in my hand and muscle joint...             1  Female   \n",
       "3   Food dyes and talc...large pill for a newly re...             1  Female   \n",
       "4   I have taken it for 6 months and it did not in...             1    Male   \n",
       "..                                                ...           ...     ...   \n",
       "94  Two days after receiving shot of prolia, I beg...             1  Female   \n",
       "95  I thought I was going crazy...but reading thes...             1           \n",
       "96  First shot I got diarrhea about ten days later...             1  Female   \n",
       "97  I haven taken Prolia every 6 months for 4 year...             4  Female   \n",
       "98  My family is trying to weigh the positive and ...             1           \n",
       "\n",
       "    ... gastrointestinal  dental  cardiac  dermatological respiratory  \\\n",
       "0   ...              1.0     0.0      0.0             0.0         0.0   \n",
       "1   ...              0.0     0.0      0.0             0.0         0.0   \n",
       "2   ...              0.0     0.0      0.0             0.0         0.0   \n",
       "3   ...              0.0     0.0      0.0             0.0         1.0   \n",
       "4   ...              0.0     0.0      0.0             0.0         1.0   \n",
       "..  ...              ...     ...      ...             ...         ...   \n",
       "94  ...              0.0     0.0      0.0             0.0         0.0   \n",
       "95  ...              0.0     0.0      0.0             0.0         0.0   \n",
       "96  ...              1.0     0.0      0.0             0.0         0.0   \n",
       "97  ...              0.0     0.0      0.0             0.0         0.0   \n",
       "98  ...              0.0     0.0      0.0             0.0         0.0   \n",
       "\n",
       "    weight gain and loss  headache  menstrual  fatigue  body temperature  \n",
       "0                    0.0       0.0        1.0      1.0               0.0  \n",
       "1                    0.0       0.0        0.0      0.0               0.0  \n",
       "2                    0.0       0.0        0.0      0.0               0.0  \n",
       "3                    0.0       0.0        0.0      0.0               0.0  \n",
       "4                    0.0       0.0        0.0      0.0               0.0  \n",
       "..                   ...       ...        ...      ...               ...  \n",
       "94                   0.0       0.0        0.0      0.0               0.0  \n",
       "95                   0.0       0.0        0.0      0.0               0.0  \n",
       "96                   0.0       0.0        0.0      1.0               0.0  \n",
       "97                   0.0       0.0        0.0      0.0               0.0  \n",
       "98                   0.0       0.0        0.0      0.0               0.0  \n",
       "\n",
       "[99 rows x 26 columns]"
      ]
     },
     "execution_count": 3,
     "metadata": {},
     "output_type": "execute_result"
    }
   ],
   "source": [
    "#replace NaN in label columns with 0\n",
    "columns = ['limb pain','gastrointestinal', 'dental', 'cardiac', 'dermatological',\n",
    "       'respiratory', 'weight gain and loss', 'headache', 'menstrual',\n",
    "       'fatigue', 'body temperature']\n",
    "\n",
    "for column in columns:\n",
    "    df[column] = df[column].replace(np.nan, int(0))\n",
    "\n",
    "df"
   ]
  },
  {
   "cell_type": "code",
   "execution_count": 4,
   "metadata": {},
   "outputs": [],
   "source": [
    "#extract column \"Reviews\" and label columns for tuning\n",
    "df = df[['Reviews','limb pain','gastrointestinal', 'dental', 'cardiac', 'dermatological',\n",
    "       'respiratory', 'weight gain and loss', 'headache', 'menstrual',\n",
    "       'fatigue', 'body temperature' ]]"
   ]
  },
  {
   "cell_type": "code",
   "execution_count": 5,
   "metadata": {},
   "outputs": [
    {
     "data": {
      "text/html": [
       "<div>\n",
       "<style scoped>\n",
       "    .dataframe tbody tr th:only-of-type {\n",
       "        vertical-align: middle;\n",
       "    }\n",
       "\n",
       "    .dataframe tbody tr th {\n",
       "        vertical-align: top;\n",
       "    }\n",
       "\n",
       "    .dataframe thead th {\n",
       "        text-align: right;\n",
       "    }\n",
       "</style>\n",
       "<table border=\"1\" class=\"dataframe\">\n",
       "  <thead>\n",
       "    <tr style=\"text-align: right;\">\n",
       "      <th></th>\n",
       "      <th>Reviews</th>\n",
       "      <th>limb pain</th>\n",
       "      <th>gastrointestinal</th>\n",
       "      <th>dental</th>\n",
       "      <th>cardiac</th>\n",
       "      <th>dermatological</th>\n",
       "      <th>respiratory</th>\n",
       "      <th>weight gain and loss</th>\n",
       "      <th>headache</th>\n",
       "      <th>menstrual</th>\n",
       "      <th>fatigue</th>\n",
       "      <th>body temperature</th>\n",
       "    </tr>\n",
       "  </thead>\n",
       "  <tbody>\n",
       "    <tr>\n",
       "      <th>0</th>\n",
       "      <td>After taking this drug for approx. 21 days I s...</td>\n",
       "      <td>0.0</td>\n",
       "      <td>1.0</td>\n",
       "      <td>0.0</td>\n",
       "      <td>0.0</td>\n",
       "      <td>0.0</td>\n",
       "      <td>0.0</td>\n",
       "      <td>0.0</td>\n",
       "      <td>0.0</td>\n",
       "      <td>1.0</td>\n",
       "      <td>1.0</td>\n",
       "      <td>0.0</td>\n",
       "    </tr>\n",
       "    <tr>\n",
       "      <th>1</th>\n",
       "      <td>I have taken this drug for almost 7 years with...</td>\n",
       "      <td>0.0</td>\n",
       "      <td>0.0</td>\n",
       "      <td>0.0</td>\n",
       "      <td>0.0</td>\n",
       "      <td>0.0</td>\n",
       "      <td>0.0</td>\n",
       "      <td>0.0</td>\n",
       "      <td>0.0</td>\n",
       "      <td>0.0</td>\n",
       "      <td>0.0</td>\n",
       "      <td>0.0</td>\n",
       "    </tr>\n",
       "    <tr>\n",
       "      <th>2</th>\n",
       "      <td>I have severe pain in my hand and muscle joint...</td>\n",
       "      <td>1.0</td>\n",
       "      <td>0.0</td>\n",
       "      <td>0.0</td>\n",
       "      <td>0.0</td>\n",
       "      <td>0.0</td>\n",
       "      <td>0.0</td>\n",
       "      <td>0.0</td>\n",
       "      <td>0.0</td>\n",
       "      <td>0.0</td>\n",
       "      <td>0.0</td>\n",
       "      <td>0.0</td>\n",
       "    </tr>\n",
       "    <tr>\n",
       "      <th>3</th>\n",
       "      <td>Food dyes and talc...large pill for a newly re...</td>\n",
       "      <td>0.0</td>\n",
       "      <td>0.0</td>\n",
       "      <td>0.0</td>\n",
       "      <td>0.0</td>\n",
       "      <td>0.0</td>\n",
       "      <td>1.0</td>\n",
       "      <td>0.0</td>\n",
       "      <td>0.0</td>\n",
       "      <td>0.0</td>\n",
       "      <td>0.0</td>\n",
       "      <td>0.0</td>\n",
       "    </tr>\n",
       "    <tr>\n",
       "      <th>4</th>\n",
       "      <td>I have taken it for 6 months and it did not in...</td>\n",
       "      <td>0.0</td>\n",
       "      <td>0.0</td>\n",
       "      <td>0.0</td>\n",
       "      <td>0.0</td>\n",
       "      <td>0.0</td>\n",
       "      <td>1.0</td>\n",
       "      <td>0.0</td>\n",
       "      <td>0.0</td>\n",
       "      <td>0.0</td>\n",
       "      <td>0.0</td>\n",
       "      <td>0.0</td>\n",
       "    </tr>\n",
       "    <tr>\n",
       "      <th>...</th>\n",
       "      <td>...</td>\n",
       "      <td>...</td>\n",
       "      <td>...</td>\n",
       "      <td>...</td>\n",
       "      <td>...</td>\n",
       "      <td>...</td>\n",
       "      <td>...</td>\n",
       "      <td>...</td>\n",
       "      <td>...</td>\n",
       "      <td>...</td>\n",
       "      <td>...</td>\n",
       "      <td>...</td>\n",
       "    </tr>\n",
       "    <tr>\n",
       "      <th>94</th>\n",
       "      <td>Two days after receiving shot of prolia, I beg...</td>\n",
       "      <td>1.0</td>\n",
       "      <td>0.0</td>\n",
       "      <td>0.0</td>\n",
       "      <td>0.0</td>\n",
       "      <td>0.0</td>\n",
       "      <td>0.0</td>\n",
       "      <td>0.0</td>\n",
       "      <td>0.0</td>\n",
       "      <td>0.0</td>\n",
       "      <td>0.0</td>\n",
       "      <td>0.0</td>\n",
       "    </tr>\n",
       "    <tr>\n",
       "      <th>95</th>\n",
       "      <td>I thought I was going crazy...but reading thes...</td>\n",
       "      <td>1.0</td>\n",
       "      <td>0.0</td>\n",
       "      <td>0.0</td>\n",
       "      <td>0.0</td>\n",
       "      <td>0.0</td>\n",
       "      <td>0.0</td>\n",
       "      <td>0.0</td>\n",
       "      <td>0.0</td>\n",
       "      <td>0.0</td>\n",
       "      <td>0.0</td>\n",
       "      <td>0.0</td>\n",
       "    </tr>\n",
       "    <tr>\n",
       "      <th>96</th>\n",
       "      <td>First shot I got diarrhea about ten days later...</td>\n",
       "      <td>1.0</td>\n",
       "      <td>1.0</td>\n",
       "      <td>0.0</td>\n",
       "      <td>0.0</td>\n",
       "      <td>0.0</td>\n",
       "      <td>0.0</td>\n",
       "      <td>0.0</td>\n",
       "      <td>0.0</td>\n",
       "      <td>0.0</td>\n",
       "      <td>1.0</td>\n",
       "      <td>0.0</td>\n",
       "    </tr>\n",
       "    <tr>\n",
       "      <th>97</th>\n",
       "      <td>I haven taken Prolia every 6 months for 4 year...</td>\n",
       "      <td>1.0</td>\n",
       "      <td>0.0</td>\n",
       "      <td>0.0</td>\n",
       "      <td>0.0</td>\n",
       "      <td>0.0</td>\n",
       "      <td>0.0</td>\n",
       "      <td>0.0</td>\n",
       "      <td>0.0</td>\n",
       "      <td>0.0</td>\n",
       "      <td>0.0</td>\n",
       "      <td>0.0</td>\n",
       "    </tr>\n",
       "    <tr>\n",
       "      <th>98</th>\n",
       "      <td>My family is trying to weigh the positive and ...</td>\n",
       "      <td>0.0</td>\n",
       "      <td>0.0</td>\n",
       "      <td>0.0</td>\n",
       "      <td>0.0</td>\n",
       "      <td>0.0</td>\n",
       "      <td>0.0</td>\n",
       "      <td>0.0</td>\n",
       "      <td>0.0</td>\n",
       "      <td>0.0</td>\n",
       "      <td>0.0</td>\n",
       "      <td>0.0</td>\n",
       "    </tr>\n",
       "  </tbody>\n",
       "</table>\n",
       "<p>99 rows × 12 columns</p>\n",
       "</div>"
      ],
      "text/plain": [
       "                                              Reviews  limb pain  \\\n",
       "0   After taking this drug for approx. 21 days I s...        0.0   \n",
       "1   I have taken this drug for almost 7 years with...        0.0   \n",
       "2   I have severe pain in my hand and muscle joint...        1.0   \n",
       "3   Food dyes and talc...large pill for a newly re...        0.0   \n",
       "4   I have taken it for 6 months and it did not in...        0.0   \n",
       "..                                                ...        ...   \n",
       "94  Two days after receiving shot of prolia, I beg...        1.0   \n",
       "95  I thought I was going crazy...but reading thes...        1.0   \n",
       "96  First shot I got diarrhea about ten days later...        1.0   \n",
       "97  I haven taken Prolia every 6 months for 4 year...        1.0   \n",
       "98  My family is trying to weigh the positive and ...        0.0   \n",
       "\n",
       "    gastrointestinal  dental  cardiac  dermatological  respiratory  \\\n",
       "0                1.0     0.0      0.0             0.0          0.0   \n",
       "1                0.0     0.0      0.0             0.0          0.0   \n",
       "2                0.0     0.0      0.0             0.0          0.0   \n",
       "3                0.0     0.0      0.0             0.0          1.0   \n",
       "4                0.0     0.0      0.0             0.0          1.0   \n",
       "..               ...     ...      ...             ...          ...   \n",
       "94               0.0     0.0      0.0             0.0          0.0   \n",
       "95               0.0     0.0      0.0             0.0          0.0   \n",
       "96               1.0     0.0      0.0             0.0          0.0   \n",
       "97               0.0     0.0      0.0             0.0          0.0   \n",
       "98               0.0     0.0      0.0             0.0          0.0   \n",
       "\n",
       "    weight gain and loss  headache  menstrual  fatigue  body temperature  \n",
       "0                    0.0       0.0        1.0      1.0               0.0  \n",
       "1                    0.0       0.0        0.0      0.0               0.0  \n",
       "2                    0.0       0.0        0.0      0.0               0.0  \n",
       "3                    0.0       0.0        0.0      0.0               0.0  \n",
       "4                    0.0       0.0        0.0      0.0               0.0  \n",
       "..                   ...       ...        ...      ...               ...  \n",
       "94                   0.0       0.0        0.0      0.0               0.0  \n",
       "95                   0.0       0.0        0.0      0.0               0.0  \n",
       "96                   0.0       0.0        0.0      1.0               0.0  \n",
       "97                   0.0       0.0        0.0      0.0               0.0  \n",
       "98                   0.0       0.0        0.0      0.0               0.0  \n",
       "\n",
       "[99 rows x 12 columns]"
      ]
     },
     "execution_count": 5,
     "metadata": {},
     "output_type": "execute_result"
    }
   ],
   "source": [
    "df"
   ]
  },
  {
   "cell_type": "code",
   "execution_count": 6,
   "metadata": {},
   "outputs": [],
   "source": [
    "#train/val/test split\n",
    "df_train = df.iloc[:60]\n",
    "df_val = df.iloc[60:80]\n",
    "df_test = df.iloc[80:]\n",
    "\n",
    "df_train.to_csv(\"../Data/train_11labels.csv\", index=False)\n",
    "df_val.to_csv(\"../Data/val_11labels.csv\", index=False)\n",
    "df_test.to_csv(\"../Data/test_11labels.csv\", index=False)"
   ]
  },
  {
   "cell_type": "markdown",
   "metadata": {},
   "source": [
    "### Create Data Loader"
   ]
  },
  {
   "cell_type": "code",
   "execution_count": 7,
   "metadata": {},
   "outputs": [
    {
     "name": "stderr",
     "output_type": "stream",
     "text": [
      "Using custom data configuration default-7155160b68322eb6\n"
     ]
    },
    {
     "name": "stdout",
     "output_type": "stream",
     "text": [
      "Downloading and preparing dataset csv/default to C:\\Users\\Opal.Yang\\.cache\\huggingface\\datasets\\csv\\default-7155160b68322eb6\\0.0.0\\652c3096f041ee27b04d2232d41f10547a8fecda3e284a79a0ec4053c916ef7a...\n"
     ]
    },
    {
     "data": {
      "application/vnd.jupyter.widget-view+json": {
       "model_id": "36391c6e70e94d8c90b7d06dc9e17287",
       "version_major": 2,
       "version_minor": 0
      },
      "text/plain": [
       "Downloading data files:   0%|          | 0/3 [00:00<?, ?it/s]"
      ]
     },
     "metadata": {},
     "output_type": "display_data"
    },
    {
     "data": {
      "application/vnd.jupyter.widget-view+json": {
       "model_id": "d44884a5f1804be9ba9b0fa4136fc402",
       "version_major": 2,
       "version_minor": 0
      },
      "text/plain": [
       "Extracting data files:   0%|          | 0/3 [00:00<?, ?it/s]"
      ]
     },
     "metadata": {},
     "output_type": "display_data"
    },
    {
     "data": {
      "application/vnd.jupyter.widget-view+json": {
       "model_id": "2b77af6fbcf64a3b9ef83ec6818a61da",
       "version_major": 2,
       "version_minor": 0
      },
      "text/plain": [
       "0 tables [00:00, ? tables/s]"
      ]
     },
     "metadata": {},
     "output_type": "display_data"
    },
    {
     "data": {
      "application/vnd.jupyter.widget-view+json": {
       "model_id": "e9163fe4a5da45ca92955b8440f4d809",
       "version_major": 2,
       "version_minor": 0
      },
      "text/plain": [
       "0 tables [00:00, ? tables/s]"
      ]
     },
     "metadata": {},
     "output_type": "display_data"
    },
    {
     "data": {
      "application/vnd.jupyter.widget-view+json": {
       "model_id": "27e97ad49cf54891aa876870a251d6a6",
       "version_major": 2,
       "version_minor": 0
      },
      "text/plain": [
       "0 tables [00:00, ? tables/s]"
      ]
     },
     "metadata": {},
     "output_type": "display_data"
    },
    {
     "name": "stdout",
     "output_type": "stream",
     "text": [
      "Dataset csv downloaded and prepared to C:\\Users\\Opal.Yang\\.cache\\huggingface\\datasets\\csv\\default-7155160b68322eb6\\0.0.0\\652c3096f041ee27b04d2232d41f10547a8fecda3e284a79a0ec4053c916ef7a. Subsequent calls will reuse this data.\n"
     ]
    },
    {
     "data": {
      "application/vnd.jupyter.widget-view+json": {
       "model_id": "7be28df814764fc9ad2d7b98c032bd9e",
       "version_major": 2,
       "version_minor": 0
      },
      "text/plain": [
       "  0%|          | 0/3 [00:00<?, ?it/s]"
      ]
     },
     "metadata": {},
     "output_type": "display_data"
    }
   ],
   "source": [
    "from datasets import load_dataset\n",
    "\n",
    "dataset = load_dataset(\"csv\", data_files={\"train\": \"../Data/train_11labels.csv\", \"val\": \"../Data/val_11labels.csv\", \"test\": \"../Data/test_11labels.csv\"})"
   ]
  },
  {
   "cell_type": "code",
   "execution_count": 8,
   "metadata": {},
   "outputs": [
    {
     "data": {
      "text/plain": [
       "Dataset({\n",
       "    features: ['Reviews', 'limb pain', 'gastrointestinal', 'dental', 'cardiac', 'dermatological', 'respiratory', 'weight gain and loss', 'headache', 'menstrual', 'fatigue', 'body temperature'],\n",
       "    num_rows: 60\n",
       "})"
      ]
     },
     "execution_count": 8,
     "metadata": {},
     "output_type": "execute_result"
    }
   ],
   "source": [
    "#an example of reviews\n",
    "dataset[\"train\"]"
   ]
  },
  {
   "cell_type": "markdown",
   "metadata": {},
   "source": [
    "### Load Tokenizer \n",
    "\n",
    "Process the reviews and include a padding and truncation strategy to handle any variable sequence length."
   ]
  },
  {
   "cell_type": "code",
   "execution_count": 9,
   "metadata": {},
   "outputs": [],
   "source": [
    "from transformers import BartTokenizer\n",
    "\n",
    "labels = ['limb pain', 'gastrointestinal', 'dental', 'cardiac', 'dermatological',\n",
    "       'respiratory', 'weight gain and loss', 'headache', 'menstrual',\n",
    "       'fatigue', 'body temperature']\n",
    "       \n",
    "tokenizer = BartTokenizer.from_pretrained(\"facebook/bart-large-mnli\")\n",
    "\n",
    "def preprocess_data(examples):\n",
    "  # take a batch of texts\n",
    "  text = examples[\"Reviews\"]\n",
    "  # encode them\n",
    "  encoding = tokenizer(text, padding=\"max_length\", truncation=True, max_length=128)\n",
    "  # add labels\n",
    "  labels_batch = {k: examples[k] for k in examples.keys() if k in labels}\n",
    "  # create numpy array of shape (batch_size, num_labels)\n",
    "  labels_matrix = np.zeros((len(text), len(labels)))\n",
    "  # fill numpy array\n",
    "  for idx, label in enumerate(labels):\n",
    "    labels_matrix[:, idx] = labels_batch[label]\n",
    "\n",
    "  encoding[\"labels\"] = labels_matrix.tolist()\n",
    "  \n",
    "  return encoding"
   ]
  },
  {
   "cell_type": "code",
   "execution_count": 10,
   "metadata": {},
   "outputs": [
    {
     "data": {
      "application/vnd.jupyter.widget-view+json": {
       "model_id": "4150b4db72d7436fa461c289044167d6",
       "version_major": 2,
       "version_minor": 0
      },
      "text/plain": [
       "  0%|          | 0/1 [00:00<?, ?ba/s]"
      ]
     },
     "metadata": {},
     "output_type": "display_data"
    },
    {
     "data": {
      "application/vnd.jupyter.widget-view+json": {
       "model_id": "dca36461f6c440ebb79e62726a59fd50",
       "version_major": 2,
       "version_minor": 0
      },
      "text/plain": [
       "  0%|          | 0/1 [00:00<?, ?ba/s]"
      ]
     },
     "metadata": {},
     "output_type": "display_data"
    },
    {
     "data": {
      "application/vnd.jupyter.widget-view+json": {
       "model_id": "a8902ba82ea94f53a0832a186494e442",
       "version_major": 2,
       "version_minor": 0
      },
      "text/plain": [
       "  0%|          | 0/1 [00:00<?, ?ba/s]"
      ]
     },
     "metadata": {},
     "output_type": "display_data"
    }
   ],
   "source": [
    "#encode dataset\n",
    "encoded_dataset = dataset.map(preprocess_data, batched=True, remove_columns=dataset['train'].column_names)"
   ]
  },
  {
   "cell_type": "code",
   "execution_count": 11,
   "metadata": {},
   "outputs": [
    {
     "name": "stdout",
     "output_type": "stream",
     "text": [
      "dict_keys(['input_ids', 'attention_mask', 'labels'])\n"
     ]
    }
   ],
   "source": [
    "example = encoded_dataset['train'][3]\n",
    "print(example.keys())"
   ]
  },
  {
   "cell_type": "code",
   "execution_count": 12,
   "metadata": {},
   "outputs": [
    {
     "data": {
      "text/plain": [
       "'<s>Food dyes and talc...large pill for a newly removed thyroid throat! So I have been dissolving them in a bit of hot water, add a little fruit juice and drink it! HAVE A BAD COUGH SINCE STARTING THIS CALCIUM. COULD IT BE AN ALLERGIC REACTION?</s><pad><pad><pad><pad><pad><pad><pad><pad><pad><pad><pad><pad><pad><pad><pad><pad><pad><pad><pad><pad><pad><pad><pad><pad><pad><pad><pad><pad><pad><pad><pad><pad><pad><pad><pad><pad><pad><pad><pad><pad><pad><pad><pad><pad><pad><pad><pad><pad><pad><pad><pad><pad><pad><pad><pad><pad><pad><pad><pad><pad><pad>'"
      ]
     },
     "execution_count": 12,
     "metadata": {},
     "output_type": "execute_result"
    }
   ],
   "source": [
    "tokenizer.decode(example['input_ids'])"
   ]
  },
  {
   "cell_type": "code",
   "execution_count": 13,
   "metadata": {},
   "outputs": [
    {
     "data": {
      "text/plain": [
       "[0.0, 0.0, 0.0, 0.0, 0.0, 1.0, 0.0, 0.0, 0.0, 0.0, 0.0]"
      ]
     },
     "execution_count": 13,
     "metadata": {},
     "output_type": "execute_result"
    }
   ],
   "source": [
    "example[\"labels\"]"
   ]
  },
  {
   "cell_type": "code",
   "execution_count": 14,
   "metadata": {},
   "outputs": [],
   "source": [
    "encoded_dataset.set_format(\"torch\")#set the format of our data as Pytorch tensor"
   ]
  },
  {
   "cell_type": "markdown",
   "metadata": {},
   "source": [
    "### Load and Train the Model\n",
    "\n",
    "Discard the head of the BART model and replace with a randomly initialized classification head. Fine-tune this new model head on my sequence classification task, transferring the knowledge of the pre-trained model to it."
   ]
  },
  {
   "cell_type": "code",
   "execution_count": 15,
   "metadata": {},
   "outputs": [
    {
     "name": "stderr",
     "output_type": "stream",
     "text": [
      "Some weights of BartForSequenceClassification were not initialized from the model checkpoint at facebook/bart-large-mnli and are newly initialized because the shapes did not match:\n",
      "- classification_head.out_proj.weight: found shape torch.Size([3, 1024]) in the checkpoint and torch.Size([11, 1024]) in the model instantiated\n",
      "- classification_head.out_proj.bias: found shape torch.Size([3]) in the checkpoint and torch.Size([11]) in the model instantiated\n",
      "You should probably TRAIN this model on a down-stream task to be able to use it for predictions and inference.\n"
     ]
    }
   ],
   "source": [
    "from transformers import BartForSequenceClassification\n",
    "\n",
    "#define the model\n",
    "model = BartForSequenceClassification.from_pretrained(\"facebook/bart-large-mnli\",problem_type=\"multi_label_classification\", num_labels=11, ignore_mismatched_sizes=True)"
   ]
  },
  {
   "cell_type": "code",
   "execution_count": 16,
   "metadata": {},
   "outputs": [],
   "source": [
    "#declare training hyperparameters\n",
    "from transformers import TrainingArguments\n",
    "\n",
    "training_args = TrainingArguments(output_dir=\"../Output/Model\",\n",
    "                                learning_rate=1e-4,\n",
    "                                evaluation_strategy=\"epoch\",\n",
    "                                per_device_train_batch_size=8,\n",
    "                                per_device_eval_batch_size=8,\n",
    "                                num_train_epochs=30,\n",
    "                                weight_decay=0.01,\n",
    "                                metric_for_best_model=\"accuracy\",\n",
    "                                # save_strategy=\"epoch\",\n",
    "                                # load_best_model_at_end=True\n",
    "\n",
    ")"
   ]
  },
  {
   "cell_type": "code",
   "execution_count": 17,
   "metadata": {},
   "outputs": [],
   "source": [
    "#define a compute_metrics function that returns a dictionary with the desired metric values\n",
    "from sklearn.metrics import f1_score, roc_auc_score, accuracy_score\n",
    "from transformers import EvalPrediction\n",
    "import torch\n",
    "\n",
    "def multi_label_metrics(predictions, labels, threshold=0.5):\n",
    "  sigmoid = torch.nn.Sigmoid()\n",
    "  probs = sigmoid(torch.Tensor(predictions))\n",
    "  y_pred = np.zeros(probs.shape)\n",
    "  y_pred[np.where(probs >= threshold)] = 1\n",
    "  y_true = labels\n",
    "  f1_micro_average = f1_score(y_true, y_pred, average=\"weighted\") \n",
    "  roc_auc = roc_auc_score(y_true, y_pred, average=\"micro\") \n",
    "  accuracy = accuracy_score(y_true, y_pred)\n",
    "\n",
    "  metrics = {\"f1\": f1_micro_average,\n",
    "             \"roc_auc\": roc_auc,\n",
    "             \"accuracy\": accuracy}\n",
    "  return metrics\n",
    "\n",
    "def compute_metrics(p: EvalPrediction):\n",
    "  preds = p.predictions[0] if isinstance(p.predictions, tuple) else p.predictions\n",
    "  result = multi_label_metrics(predictions=preds, labels=p.label_ids)\n",
    "  return result"
   ]
  },
  {
   "cell_type": "code",
   "execution_count": 18,
   "metadata": {},
   "outputs": [],
   "source": [
    "#trainer\n",
    "from transformers import Trainer\n",
    "\n",
    "trainer = Trainer(\n",
    "    model = model,\n",
    "    args = training_args,\n",
    "    train_dataset = encoded_dataset[\"train\"],\n",
    "    eval_dataset = encoded_dataset[\"val\"],\n",
    "    tokenizer = tokenizer,\n",
    "    compute_metrics = compute_metrics\n",
    ")"
   ]
  },
  {
   "cell_type": "code",
   "execution_count": 19,
   "metadata": {},
   "outputs": [
    {
     "name": "stderr",
     "output_type": "stream",
     "text": [
      "C:\\Users\\Opal.Yang\\AppData\\Roaming\\Python\\Python39\\site-packages\\transformers\\optimization.py:306: FutureWarning: This implementation of AdamW is deprecated and will be removed in a future version. Use the PyTorch implementation torch.optim.AdamW instead, or set `no_deprecation_warning=True` to disable this warning\n",
      "  warnings.warn(\n",
      "***** Running training *****\n",
      "  Num examples = 60\n",
      "  Num Epochs = 30\n",
      "  Instantaneous batch size per device = 8\n",
      "  Total train batch size (w. parallel, distributed & accumulation) = 8\n",
      "  Gradient Accumulation steps = 1\n",
      "  Total optimization steps = 240\n"
     ]
    },
    {
     "data": {
      "application/vnd.jupyter.widget-view+json": {
       "model_id": "a5723dd39c4b4dcd92f88053b98b2877",
       "version_major": 2,
       "version_minor": 0
      },
      "text/plain": [
       "  0%|          | 0/240 [00:00<?, ?it/s]"
      ]
     },
     "metadata": {},
     "output_type": "display_data"
    },
    {
     "name": "stderr",
     "output_type": "stream",
     "text": [
      "***** Running Evaluation *****\n",
      "  Num examples = 20\n",
      "  Batch size = 8\n"
     ]
    },
    {
     "data": {
      "application/vnd.jupyter.widget-view+json": {
       "model_id": "7e7092ab1bc44ac38eab78a7f434349d",
       "version_major": 2,
       "version_minor": 0
      },
      "text/plain": [
       "  0%|          | 0/3 [00:00<?, ?it/s]"
      ]
     },
     "metadata": {},
     "output_type": "display_data"
    },
    {
     "name": "stderr",
     "output_type": "stream",
     "text": [
      "c:\\ProgramData\\Anaconda3\\lib\\site-packages\\sklearn\\metrics\\_classification.py:1580: UndefinedMetricWarning: F-score is ill-defined and being set to 0.0 in labels with no true nor predicted samples. Use `zero_division` parameter to control this behavior.\n",
      "  _warn_prf(average, \"true nor predicted\", \"F-score is\", len(true_sum))\n"
     ]
    },
    {
     "name": "stdout",
     "output_type": "stream",
     "text": [
      "{'eval_loss': 0.37884193658828735, 'eval_f1': 0.1243604879968516, 'eval_roc_auc': 0.5463458110516934, 'eval_accuracy': 0.15, 'eval_runtime': 7.3817, 'eval_samples_per_second': 2.709, 'eval_steps_per_second': 0.406, 'epoch': 1.0}\n"
     ]
    },
    {
     "name": "stderr",
     "output_type": "stream",
     "text": [
      "***** Running Evaluation *****\n",
      "  Num examples = 20\n",
      "  Batch size = 8\n"
     ]
    },
    {
     "data": {
      "application/vnd.jupyter.widget-view+json": {
       "model_id": "1fd945d4a2f84d54825543c0ba4c8d6d",
       "version_major": 2,
       "version_minor": 0
      },
      "text/plain": [
       "  0%|          | 0/3 [00:00<?, ?it/s]"
      ]
     },
     "metadata": {},
     "output_type": "display_data"
    },
    {
     "name": "stderr",
     "output_type": "stream",
     "text": [
      "c:\\ProgramData\\Anaconda3\\lib\\site-packages\\sklearn\\metrics\\_classification.py:1580: UndefinedMetricWarning: F-score is ill-defined and being set to 0.0 in labels with no true nor predicted samples. Use `zero_division` parameter to control this behavior.\n",
      "  _warn_prf(average, \"true nor predicted\", \"F-score is\", len(true_sum))\n"
     ]
    },
    {
     "name": "stdout",
     "output_type": "stream",
     "text": [
      "{'eval_loss': 0.4006187915802002, 'eval_f1': 0.0, 'eval_roc_auc': 0.5, 'eval_accuracy': 0.25, 'eval_runtime': 7.5007, 'eval_samples_per_second': 2.666, 'eval_steps_per_second': 0.4, 'epoch': 2.0}\n"
     ]
    },
    {
     "name": "stderr",
     "output_type": "stream",
     "text": [
      "***** Running Evaluation *****\n",
      "  Num examples = 20\n",
      "  Batch size = 8\n"
     ]
    },
    {
     "data": {
      "application/vnd.jupyter.widget-view+json": {
       "model_id": "9ffe02f9f0bc47849a3d7a05ccd82973",
       "version_major": 2,
       "version_minor": 0
      },
      "text/plain": [
       "  0%|          | 0/3 [00:00<?, ?it/s]"
      ]
     },
     "metadata": {},
     "output_type": "display_data"
    },
    {
     "name": "stderr",
     "output_type": "stream",
     "text": [
      "c:\\ProgramData\\Anaconda3\\lib\\site-packages\\sklearn\\metrics\\_classification.py:1580: UndefinedMetricWarning: F-score is ill-defined and being set to 0.0 in labels with no true nor predicted samples. Use `zero_division` parameter to control this behavior.\n",
      "  _warn_prf(average, \"true nor predicted\", \"F-score is\", len(true_sum))\n"
     ]
    },
    {
     "name": "stdout",
     "output_type": "stream",
     "text": [
      "{'eval_loss': 0.3849164843559265, 'eval_f1': 0.3063241106719367, 'eval_roc_auc': 0.6319073083778965, 'eval_accuracy': 0.15, 'eval_runtime': 7.1282, 'eval_samples_per_second': 2.806, 'eval_steps_per_second': 0.421, 'epoch': 3.0}\n"
     ]
    },
    {
     "name": "stderr",
     "output_type": "stream",
     "text": [
      "***** Running Evaluation *****\n",
      "  Num examples = 20\n",
      "  Batch size = 8\n"
     ]
    },
    {
     "data": {
      "application/vnd.jupyter.widget-view+json": {
       "model_id": "b543a7aa26544d1c8cafd00a2ab35b41",
       "version_major": 2,
       "version_minor": 0
      },
      "text/plain": [
       "  0%|          | 0/3 [00:00<?, ?it/s]"
      ]
     },
     "metadata": {},
     "output_type": "display_data"
    },
    {
     "name": "stderr",
     "output_type": "stream",
     "text": [
      "c:\\ProgramData\\Anaconda3\\lib\\site-packages\\sklearn\\metrics\\_classification.py:1580: UndefinedMetricWarning: F-score is ill-defined and being set to 0.0 in labels with no true nor predicted samples. Use `zero_division` parameter to control this behavior.\n",
      "  _warn_prf(average, \"true nor predicted\", \"F-score is\", len(true_sum))\n"
     ]
    },
    {
     "name": "stdout",
     "output_type": "stream",
     "text": [
      "{'eval_loss': 0.39471691846847534, 'eval_f1': 0.3306693306693307, 'eval_roc_auc': 0.6319073083778965, 'eval_accuracy': 0.25, 'eval_runtime': 7.3421, 'eval_samples_per_second': 2.724, 'eval_steps_per_second': 0.409, 'epoch': 4.0}\n"
     ]
    },
    {
     "name": "stderr",
     "output_type": "stream",
     "text": [
      "***** Running Evaluation *****\n",
      "  Num examples = 20\n",
      "  Batch size = 8\n"
     ]
    },
    {
     "data": {
      "application/vnd.jupyter.widget-view+json": {
       "model_id": "c1b2ab77cc1c45bd8283cf1e9d8459c9",
       "version_major": 2,
       "version_minor": 0
      },
      "text/plain": [
       "  0%|          | 0/3 [00:00<?, ?it/s]"
      ]
     },
     "metadata": {},
     "output_type": "display_data"
    },
    {
     "name": "stderr",
     "output_type": "stream",
     "text": [
      "c:\\ProgramData\\Anaconda3\\lib\\site-packages\\sklearn\\metrics\\_classification.py:1580: UndefinedMetricWarning: F-score is ill-defined and being set to 0.0 in labels with no true nor predicted samples. Use `zero_division` parameter to control this behavior.\n",
      "  _warn_prf(average, \"true nor predicted\", \"F-score is\", len(true_sum))\n"
     ]
    },
    {
     "name": "stdout",
     "output_type": "stream",
     "text": [
      "{'eval_loss': 0.42028871178627014, 'eval_f1': 0.3482929491935965, 'eval_roc_auc': 0.6149732620320857, 'eval_accuracy': 0.15, 'eval_runtime': 7.3511, 'eval_samples_per_second': 2.721, 'eval_steps_per_second': 0.408, 'epoch': 5.0}\n"
     ]
    },
    {
     "name": "stderr",
     "output_type": "stream",
     "text": [
      "***** Running Evaluation *****\n",
      "  Num examples = 20\n",
      "  Batch size = 8\n"
     ]
    },
    {
     "data": {
      "application/vnd.jupyter.widget-view+json": {
       "model_id": "668060fcf91b46b0994197e9729b32b8",
       "version_major": 2,
       "version_minor": 0
      },
      "text/plain": [
       "  0%|          | 0/3 [00:00<?, ?it/s]"
      ]
     },
     "metadata": {},
     "output_type": "display_data"
    },
    {
     "name": "stderr",
     "output_type": "stream",
     "text": [
      "c:\\ProgramData\\Anaconda3\\lib\\site-packages\\sklearn\\metrics\\_classification.py:1580: UndefinedMetricWarning: F-score is ill-defined and being set to 0.0 in labels with no true nor predicted samples. Use `zero_division` parameter to control this behavior.\n",
      "  _warn_prf(average, \"true nor predicted\", \"F-score is\", len(true_sum))\n"
     ]
    },
    {
     "name": "stdout",
     "output_type": "stream",
     "text": [
      "{'eval_loss': 0.38244184851646423, 'eval_f1': 0.31773618538324416, 'eval_roc_auc': 0.624777183600713, 'eval_accuracy': 0.2, 'eval_runtime': 7.4899, 'eval_samples_per_second': 2.67, 'eval_steps_per_second': 0.401, 'epoch': 6.0}\n"
     ]
    },
    {
     "name": "stderr",
     "output_type": "stream",
     "text": [
      "***** Running Evaluation *****\n",
      "  Num examples = 20\n",
      "  Batch size = 8\n"
     ]
    },
    {
     "data": {
      "application/vnd.jupyter.widget-view+json": {
       "model_id": "e5192c68977248fba5622906d4d991c2",
       "version_major": 2,
       "version_minor": 0
      },
      "text/plain": [
       "  0%|          | 0/3 [00:00<?, ?it/s]"
      ]
     },
     "metadata": {},
     "output_type": "display_data"
    },
    {
     "name": "stderr",
     "output_type": "stream",
     "text": [
      "c:\\ProgramData\\Anaconda3\\lib\\site-packages\\sklearn\\metrics\\_classification.py:1580: UndefinedMetricWarning: F-score is ill-defined and being set to 0.0 in labels with no true nor predicted samples. Use `zero_division` parameter to control this behavior.\n",
      "  _warn_prf(average, \"true nor predicted\", \"F-score is\", len(true_sum))\n"
     ]
    },
    {
     "name": "stdout",
     "output_type": "stream",
     "text": [
      "{'eval_loss': 0.4563431143760681, 'eval_f1': 0.3134380239643398, 'eval_roc_auc': 0.5864527629233511, 'eval_accuracy': 0.1, 'eval_runtime': 7.2864, 'eval_samples_per_second': 2.745, 'eval_steps_per_second': 0.412, 'epoch': 7.0}\n"
     ]
    },
    {
     "name": "stderr",
     "output_type": "stream",
     "text": [
      "***** Running Evaluation *****\n",
      "  Num examples = 20\n",
      "  Batch size = 8\n"
     ]
    },
    {
     "data": {
      "application/vnd.jupyter.widget-view+json": {
       "model_id": "a31e18524cf24bb2a6f854b9ed43fb21",
       "version_major": 2,
       "version_minor": 0
      },
      "text/plain": [
       "  0%|          | 0/3 [00:00<?, ?it/s]"
      ]
     },
     "metadata": {},
     "output_type": "display_data"
    },
    {
     "name": "stderr",
     "output_type": "stream",
     "text": [
      "c:\\ProgramData\\Anaconda3\\lib\\site-packages\\sklearn\\metrics\\_classification.py:1580: UndefinedMetricWarning: F-score is ill-defined and being set to 0.0 in labels with no true nor predicted samples. Use `zero_division` parameter to control this behavior.\n",
      "  _warn_prf(average, \"true nor predicted\", \"F-score is\", len(true_sum))\n"
     ]
    },
    {
     "name": "stdout",
     "output_type": "stream",
     "text": [
      "{'eval_loss': 0.39093250036239624, 'eval_f1': 0.2798573975044563, 'eval_roc_auc': 0.6024955436720142, 'eval_accuracy': 0.2, 'eval_runtime': 7.4538, 'eval_samples_per_second': 2.683, 'eval_steps_per_second': 0.402, 'epoch': 8.0}\n"
     ]
    },
    {
     "name": "stderr",
     "output_type": "stream",
     "text": [
      "***** Running Evaluation *****\n",
      "  Num examples = 20\n",
      "  Batch size = 8\n"
     ]
    },
    {
     "data": {
      "application/vnd.jupyter.widget-view+json": {
       "model_id": "76cc68666cc348178e98a706d87ccab7",
       "version_major": 2,
       "version_minor": 0
      },
      "text/plain": [
       "  0%|          | 0/3 [00:00<?, ?it/s]"
      ]
     },
     "metadata": {},
     "output_type": "display_data"
    },
    {
     "name": "stderr",
     "output_type": "stream",
     "text": [
      "c:\\ProgramData\\Anaconda3\\lib\\site-packages\\sklearn\\metrics\\_classification.py:1580: UndefinedMetricWarning: F-score is ill-defined and being set to 0.0 in labels with no true nor predicted samples. Use `zero_division` parameter to control this behavior.\n",
      "  _warn_prf(average, \"true nor predicted\", \"F-score is\", len(true_sum))\n"
     ]
    },
    {
     "name": "stdout",
     "output_type": "stream",
     "text": [
      "{'eval_loss': 0.4455749988555908, 'eval_f1': 0.2943722943722944, 'eval_roc_auc': 0.5962566844919786, 'eval_accuracy': 0.2, 'eval_runtime': 7.6379, 'eval_samples_per_second': 2.619, 'eval_steps_per_second': 0.393, 'epoch': 9.0}\n"
     ]
    },
    {
     "name": "stderr",
     "output_type": "stream",
     "text": [
      "***** Running Evaluation *****\n",
      "  Num examples = 20\n",
      "  Batch size = 8\n"
     ]
    },
    {
     "data": {
      "application/vnd.jupyter.widget-view+json": {
       "model_id": "fbf6d0cf66144d3abc8ac65574fc40c5",
       "version_major": 2,
       "version_minor": 0
      },
      "text/plain": [
       "  0%|          | 0/3 [00:00<?, ?it/s]"
      ]
     },
     "metadata": {},
     "output_type": "display_data"
    },
    {
     "name": "stderr",
     "output_type": "stream",
     "text": [
      "c:\\ProgramData\\Anaconda3\\lib\\site-packages\\sklearn\\metrics\\_classification.py:1580: UndefinedMetricWarning: F-score is ill-defined and being set to 0.0 in labels with no true nor predicted samples. Use `zero_division` parameter to control this behavior.\n",
      "  _warn_prf(average, \"true nor predicted\", \"F-score is\", len(true_sum))\n"
     ]
    },
    {
     "name": "stdout",
     "output_type": "stream",
     "text": [
      "{'eval_loss': 0.3841358423233032, 'eval_f1': 0.39457735247208936, 'eval_roc_auc': 0.6524064171122995, 'eval_accuracy': 0.35, 'eval_runtime': 7.4722, 'eval_samples_per_second': 2.677, 'eval_steps_per_second': 0.401, 'epoch': 10.0}\n"
     ]
    },
    {
     "name": "stderr",
     "output_type": "stream",
     "text": [
      "***** Running Evaluation *****\n",
      "  Num examples = 20\n",
      "  Batch size = 8\n"
     ]
    },
    {
     "data": {
      "application/vnd.jupyter.widget-view+json": {
       "model_id": "561c1b2fd0d34d5d887b0250dc168467",
       "version_major": 2,
       "version_minor": 0
      },
      "text/plain": [
       "  0%|          | 0/3 [00:00<?, ?it/s]"
      ]
     },
     "metadata": {},
     "output_type": "display_data"
    },
    {
     "name": "stdout",
     "output_type": "stream",
     "text": [
      "{'eval_loss': 0.42975449562072754, 'eval_f1': 0.3232323232323232, 'eval_roc_auc': 0.6122994652406417, 'eval_accuracy': 0.3, 'eval_runtime': 7.3538, 'eval_samples_per_second': 2.72, 'eval_steps_per_second': 0.408, 'epoch': 11.0}\n"
     ]
    },
    {
     "name": "stderr",
     "output_type": "stream",
     "text": [
      "***** Running Evaluation *****\n",
      "  Num examples = 20\n",
      "  Batch size = 8\n"
     ]
    },
    {
     "data": {
      "application/vnd.jupyter.widget-view+json": {
       "model_id": "82d0f5883010460989f23c39023aa5b0",
       "version_major": 2,
       "version_minor": 0
      },
      "text/plain": [
       "  0%|          | 0/3 [00:00<?, ?it/s]"
      ]
     },
     "metadata": {},
     "output_type": "display_data"
    },
    {
     "name": "stderr",
     "output_type": "stream",
     "text": [
      "c:\\ProgramData\\Anaconda3\\lib\\site-packages\\sklearn\\metrics\\_classification.py:1580: UndefinedMetricWarning: F-score is ill-defined and being set to 0.0 in labels with no true nor predicted samples. Use `zero_division` parameter to control this behavior.\n",
      "  _warn_prf(average, \"true nor predicted\", \"F-score is\", len(true_sum))\n"
     ]
    },
    {
     "name": "stdout",
     "output_type": "stream",
     "text": [
      "{'eval_loss': 0.3916727900505066, 'eval_f1': 0.3913570090040678, 'eval_roc_auc': 0.642602495543672, 'eval_accuracy': 0.35, 'eval_runtime': 7.3133, 'eval_samples_per_second': 2.735, 'eval_steps_per_second': 0.41, 'epoch': 12.0}\n"
     ]
    },
    {
     "name": "stderr",
     "output_type": "stream",
     "text": [
      "***** Running Evaluation *****\n",
      "  Num examples = 20\n",
      "  Batch size = 8\n"
     ]
    },
    {
     "data": {
      "application/vnd.jupyter.widget-view+json": {
       "model_id": "4e743c42fcc8450c9dc329b106346abd",
       "version_major": 2,
       "version_minor": 0
      },
      "text/plain": [
       "  0%|          | 0/3 [00:00<?, ?it/s]"
      ]
     },
     "metadata": {},
     "output_type": "display_data"
    },
    {
     "name": "stderr",
     "output_type": "stream",
     "text": [
      "c:\\ProgramData\\Anaconda3\\lib\\site-packages\\sklearn\\metrics\\_classification.py:1580: UndefinedMetricWarning: F-score is ill-defined and being set to 0.0 in labels with no true nor predicted samples. Use `zero_division` parameter to control this behavior.\n",
      "  _warn_prf(average, \"true nor predicted\", \"F-score is\", len(true_sum))\n"
     ]
    },
    {
     "name": "stdout",
     "output_type": "stream",
     "text": [
      "{'eval_loss': 0.3898325562477112, 'eval_f1': 0.38396082032445666, 'eval_roc_auc': 0.6506238859180036, 'eval_accuracy': 0.4, 'eval_runtime': 8.1559, 'eval_samples_per_second': 2.452, 'eval_steps_per_second': 0.368, 'epoch': 13.0}\n"
     ]
    },
    {
     "name": "stderr",
     "output_type": "stream",
     "text": [
      "***** Running Evaluation *****\n",
      "  Num examples = 20\n",
      "  Batch size = 8\n"
     ]
    },
    {
     "data": {
      "application/vnd.jupyter.widget-view+json": {
       "model_id": "1473376ce46d44f8964c99a00d26701c",
       "version_major": 2,
       "version_minor": 0
      },
      "text/plain": [
       "  0%|          | 0/3 [00:00<?, ?it/s]"
      ]
     },
     "metadata": {},
     "output_type": "display_data"
    },
    {
     "name": "stderr",
     "output_type": "stream",
     "text": [
      "c:\\ProgramData\\Anaconda3\\lib\\site-packages\\sklearn\\metrics\\_classification.py:1580: UndefinedMetricWarning: F-score is ill-defined and being set to 0.0 in labels with no true nor predicted samples. Use `zero_division` parameter to control this behavior.\n",
      "  _warn_prf(average, \"true nor predicted\", \"F-score is\", len(true_sum))\n"
     ]
    },
    {
     "name": "stdout",
     "output_type": "stream",
     "text": [
      "{'eval_loss': 0.42833980917930603, 'eval_f1': 0.3759612936083524, 'eval_roc_auc': 0.6452762923351159, 'eval_accuracy': 0.3, 'eval_runtime': 8.1285, 'eval_samples_per_second': 2.46, 'eval_steps_per_second': 0.369, 'epoch': 14.0}\n"
     ]
    },
    {
     "name": "stderr",
     "output_type": "stream",
     "text": [
      "***** Running Evaluation *****\n",
      "  Num examples = 20\n",
      "  Batch size = 8\n"
     ]
    },
    {
     "data": {
      "application/vnd.jupyter.widget-view+json": {
       "model_id": "9b59dc3719aa4fdca6171831060d8fef",
       "version_major": 2,
       "version_minor": 0
      },
      "text/plain": [
       "  0%|          | 0/3 [00:00<?, ?it/s]"
      ]
     },
     "metadata": {},
     "output_type": "display_data"
    },
    {
     "name": "stderr",
     "output_type": "stream",
     "text": [
      "c:\\ProgramData\\Anaconda3\\lib\\site-packages\\sklearn\\metrics\\_classification.py:1580: UndefinedMetricWarning: F-score is ill-defined and being set to 0.0 in labels with no true nor predicted samples. Use `zero_division` parameter to control this behavior.\n",
      "  _warn_prf(average, \"true nor predicted\", \"F-score is\", len(true_sum))\n"
     ]
    },
    {
     "name": "stdout",
     "output_type": "stream",
     "text": [
      "{'eval_loss': 0.4109654426574707, 'eval_f1': 0.3539832716303304, 'eval_roc_auc': 0.6327985739750445, 'eval_accuracy': 0.3, 'eval_runtime': 8.1947, 'eval_samples_per_second': 2.441, 'eval_steps_per_second': 0.366, 'epoch': 15.0}\n"
     ]
    },
    {
     "name": "stderr",
     "output_type": "stream",
     "text": [
      "***** Running Evaluation *****\n",
      "  Num examples = 20\n",
      "  Batch size = 8\n"
     ]
    },
    {
     "data": {
      "application/vnd.jupyter.widget-view+json": {
       "model_id": "8b32bb3f1f9d4a34b49dc53d56913e17",
       "version_major": 2,
       "version_minor": 0
      },
      "text/plain": [
       "  0%|          | 0/3 [00:00<?, ?it/s]"
      ]
     },
     "metadata": {},
     "output_type": "display_data"
    },
    {
     "name": "stderr",
     "output_type": "stream",
     "text": [
      "c:\\ProgramData\\Anaconda3\\lib\\site-packages\\sklearn\\metrics\\_classification.py:1580: UndefinedMetricWarning: F-score is ill-defined and being set to 0.0 in labels with no true nor predicted samples. Use `zero_division` parameter to control this behavior.\n",
      "  _warn_prf(average, \"true nor predicted\", \"F-score is\", len(true_sum))\n"
     ]
    },
    {
     "name": "stdout",
     "output_type": "stream",
     "text": [
      "{'eval_loss': 0.41140222549438477, 'eval_f1': 0.3641549181656133, 'eval_roc_auc': 0.6381461675579322, 'eval_accuracy': 0.35, 'eval_runtime': 8.2186, 'eval_samples_per_second': 2.433, 'eval_steps_per_second': 0.365, 'epoch': 16.0}\n"
     ]
    },
    {
     "name": "stderr",
     "output_type": "stream",
     "text": [
      "***** Running Evaluation *****\n",
      "  Num examples = 20\n",
      "  Batch size = 8\n"
     ]
    },
    {
     "data": {
      "application/vnd.jupyter.widget-view+json": {
       "model_id": "2a7acaa6f5f8418ebe1912b85b22b5cb",
       "version_major": 2,
       "version_minor": 0
      },
      "text/plain": [
       "  0%|          | 0/3 [00:00<?, ?it/s]"
      ]
     },
     "metadata": {},
     "output_type": "display_data"
    },
    {
     "name": "stderr",
     "output_type": "stream",
     "text": [
      "c:\\ProgramData\\Anaconda3\\lib\\site-packages\\sklearn\\metrics\\_classification.py:1580: UndefinedMetricWarning: F-score is ill-defined and being set to 0.0 in labels with no true nor predicted samples. Use `zero_division` parameter to control this behavior.\n",
      "  _warn_prf(average, \"true nor predicted\", \"F-score is\", len(true_sum))\n"
     ]
    },
    {
     "name": "stdout",
     "output_type": "stream",
     "text": [
      "{'eval_loss': 0.418842613697052, 'eval_f1': 0.3641549181656133, 'eval_roc_auc': 0.6354723707664884, 'eval_accuracy': 0.35, 'eval_runtime': 7.9307, 'eval_samples_per_second': 2.522, 'eval_steps_per_second': 0.378, 'epoch': 17.0}\n"
     ]
    },
    {
     "name": "stderr",
     "output_type": "stream",
     "text": [
      "***** Running Evaluation *****\n",
      "  Num examples = 20\n",
      "  Batch size = 8\n"
     ]
    },
    {
     "data": {
      "application/vnd.jupyter.widget-view+json": {
       "model_id": "d742d17a1a3641338f2bc23c3b4bd4c3",
       "version_major": 2,
       "version_minor": 0
      },
      "text/plain": [
       "  0%|          | 0/3 [00:00<?, ?it/s]"
      ]
     },
     "metadata": {},
     "output_type": "display_data"
    },
    {
     "name": "stderr",
     "output_type": "stream",
     "text": [
      "c:\\ProgramData\\Anaconda3\\lib\\site-packages\\sklearn\\metrics\\_classification.py:1580: UndefinedMetricWarning: F-score is ill-defined and being set to 0.0 in labels with no true nor predicted samples. Use `zero_division` parameter to control this behavior.\n",
      "  _warn_prf(average, \"true nor predicted\", \"F-score is\", len(true_sum))\n"
     ]
    },
    {
     "name": "stdout",
     "output_type": "stream",
     "text": [
      "{'eval_loss': 0.4206825792789459, 'eval_f1': 0.3784511784511784, 'eval_roc_auc': 0.6479500891265596, 'eval_accuracy': 0.35, 'eval_runtime': 7.6111, 'eval_samples_per_second': 2.628, 'eval_steps_per_second': 0.394, 'epoch': 18.0}\n"
     ]
    },
    {
     "name": "stderr",
     "output_type": "stream",
     "text": [
      "***** Running Evaluation *****\n",
      "  Num examples = 20\n",
      "  Batch size = 8\n"
     ]
    },
    {
     "data": {
      "application/vnd.jupyter.widget-view+json": {
       "model_id": "6424c503f0fe4b988e4e632025cbb7a1",
       "version_major": 2,
       "version_minor": 0
      },
      "text/plain": [
       "  0%|          | 0/3 [00:00<?, ?it/s]"
      ]
     },
     "metadata": {},
     "output_type": "display_data"
    },
    {
     "name": "stderr",
     "output_type": "stream",
     "text": [
      "c:\\ProgramData\\Anaconda3\\lib\\site-packages\\sklearn\\metrics\\_classification.py:1580: UndefinedMetricWarning: F-score is ill-defined and being set to 0.0 in labels with no true nor predicted samples. Use `zero_division` parameter to control this behavior.\n",
      "  _warn_prf(average, \"true nor predicted\", \"F-score is\", len(true_sum))\n"
     ]
    },
    {
     "name": "stdout",
     "output_type": "stream",
     "text": [
      "{'eval_loss': 0.42395925521850586, 'eval_f1': 0.38396082032445666, 'eval_roc_auc': 0.6506238859180036, 'eval_accuracy': 0.4, 'eval_runtime': 7.5438, 'eval_samples_per_second': 2.651, 'eval_steps_per_second': 0.398, 'epoch': 19.0}\n"
     ]
    },
    {
     "name": "stderr",
     "output_type": "stream",
     "text": [
      "***** Running Evaluation *****\n",
      "  Num examples = 20\n",
      "  Batch size = 8\n"
     ]
    },
    {
     "data": {
      "application/vnd.jupyter.widget-view+json": {
       "model_id": "3e8f716aa79144d8a66c493f783c193f",
       "version_major": 2,
       "version_minor": 0
      },
      "text/plain": [
       "  0%|          | 0/3 [00:00<?, ?it/s]"
      ]
     },
     "metadata": {},
     "output_type": "display_data"
    },
    {
     "name": "stderr",
     "output_type": "stream",
     "text": [
      "c:\\ProgramData\\Anaconda3\\lib\\site-packages\\sklearn\\metrics\\_classification.py:1580: UndefinedMetricWarning: F-score is ill-defined and being set to 0.0 in labels with no true nor predicted samples. Use `zero_division` parameter to control this behavior.\n",
      "  _warn_prf(average, \"true nor predicted\", \"F-score is\", len(true_sum))\n"
     ]
    },
    {
     "name": "stdout",
     "output_type": "stream",
     "text": [
      "{'eval_loss': 0.4247366487979889, 'eval_f1': 0.3784511784511784, 'eval_roc_auc': 0.6479500891265596, 'eval_accuracy': 0.35, 'eval_runtime': 7.4982, 'eval_samples_per_second': 2.667, 'eval_steps_per_second': 0.4, 'epoch': 20.0}\n"
     ]
    },
    {
     "name": "stderr",
     "output_type": "stream",
     "text": [
      "***** Running Evaluation *****\n",
      "  Num examples = 20\n",
      "  Batch size = 8\n"
     ]
    },
    {
     "data": {
      "application/vnd.jupyter.widget-view+json": {
       "model_id": "f3e769e768934285855d367ecfefab54",
       "version_major": 2,
       "version_minor": 0
      },
      "text/plain": [
       "  0%|          | 0/3 [00:00<?, ?it/s]"
      ]
     },
     "metadata": {},
     "output_type": "display_data"
    },
    {
     "name": "stderr",
     "output_type": "stream",
     "text": [
      "c:\\ProgramData\\Anaconda3\\lib\\site-packages\\sklearn\\metrics\\_classification.py:1580: UndefinedMetricWarning: F-score is ill-defined and being set to 0.0 in labels with no true nor predicted samples. Use `zero_division` parameter to control this behavior.\n",
      "  _warn_prf(average, \"true nor predicted\", \"F-score is\", len(true_sum))\n"
     ]
    },
    {
     "name": "stdout",
     "output_type": "stream",
     "text": [
      "{'eval_loss': 0.4244500994682312, 'eval_f1': 0.3784511784511784, 'eval_roc_auc': 0.6479500891265596, 'eval_accuracy': 0.35, 'eval_runtime': 7.532, 'eval_samples_per_second': 2.655, 'eval_steps_per_second': 0.398, 'epoch': 21.0}\n"
     ]
    },
    {
     "name": "stderr",
     "output_type": "stream",
     "text": [
      "***** Running Evaluation *****\n",
      "  Num examples = 20\n",
      "  Batch size = 8\n"
     ]
    },
    {
     "data": {
      "application/vnd.jupyter.widget-view+json": {
       "model_id": "da58bcff66df4280ab260405a581b597",
       "version_major": 2,
       "version_minor": 0
      },
      "text/plain": [
       "  0%|          | 0/3 [00:00<?, ?it/s]"
      ]
     },
     "metadata": {},
     "output_type": "display_data"
    },
    {
     "name": "stderr",
     "output_type": "stream",
     "text": [
      "c:\\ProgramData\\Anaconda3\\lib\\site-packages\\sklearn\\metrics\\_classification.py:1580: UndefinedMetricWarning: F-score is ill-defined and being set to 0.0 in labels with no true nor predicted samples. Use `zero_division` parameter to control this behavior.\n",
      "  _warn_prf(average, \"true nor predicted\", \"F-score is\", len(true_sum))\n"
     ]
    },
    {
     "name": "stdout",
     "output_type": "stream",
     "text": [
      "{'eval_loss': 0.42786312103271484, 'eval_f1': 0.3784511784511784, 'eval_roc_auc': 0.6479500891265596, 'eval_accuracy': 0.35, 'eval_runtime': 8.0792, 'eval_samples_per_second': 2.475, 'eval_steps_per_second': 0.371, 'epoch': 22.0}\n"
     ]
    },
    {
     "name": "stderr",
     "output_type": "stream",
     "text": [
      "***** Running Evaluation *****\n",
      "  Num examples = 20\n",
      "  Batch size = 8\n"
     ]
    },
    {
     "data": {
      "application/vnd.jupyter.widget-view+json": {
       "model_id": "45bfed07ab7b4fe097bf5fae98862aa0",
       "version_major": 2,
       "version_minor": 0
      },
      "text/plain": [
       "  0%|          | 0/3 [00:00<?, ?it/s]"
      ]
     },
     "metadata": {},
     "output_type": "display_data"
    },
    {
     "name": "stderr",
     "output_type": "stream",
     "text": [
      "c:\\ProgramData\\Anaconda3\\lib\\site-packages\\sklearn\\metrics\\_classification.py:1580: UndefinedMetricWarning: F-score is ill-defined and being set to 0.0 in labels with no true nor predicted samples. Use `zero_division` parameter to control this behavior.\n",
      "  _warn_prf(average, \"true nor predicted\", \"F-score is\", len(true_sum))\n"
     ]
    },
    {
     "name": "stdout",
     "output_type": "stream",
     "text": [
      "{'eval_loss': 0.43019142746925354, 'eval_f1': 0.3784511784511784, 'eval_roc_auc': 0.6479500891265596, 'eval_accuracy': 0.35, 'eval_runtime': 8.1294, 'eval_samples_per_second': 2.46, 'eval_steps_per_second': 0.369, 'epoch': 23.0}\n"
     ]
    },
    {
     "name": "stderr",
     "output_type": "stream",
     "text": [
      "***** Running Evaluation *****\n",
      "  Num examples = 20\n",
      "  Batch size = 8\n"
     ]
    },
    {
     "data": {
      "application/vnd.jupyter.widget-view+json": {
       "model_id": "8317d6a7d95b4bab833fe42ac0dffe60",
       "version_major": 2,
       "version_minor": 0
      },
      "text/plain": [
       "  0%|          | 0/3 [00:00<?, ?it/s]"
      ]
     },
     "metadata": {},
     "output_type": "display_data"
    },
    {
     "name": "stderr",
     "output_type": "stream",
     "text": [
      "c:\\ProgramData\\Anaconda3\\lib\\site-packages\\sklearn\\metrics\\_classification.py:1580: UndefinedMetricWarning: F-score is ill-defined and being set to 0.0 in labels with no true nor predicted samples. Use `zero_division` parameter to control this behavior.\n",
      "  _warn_prf(average, \"true nor predicted\", \"F-score is\", len(true_sum))\n"
     ]
    },
    {
     "name": "stdout",
     "output_type": "stream",
     "text": [
      "{'eval_loss': 0.4331286549568176, 'eval_f1': 0.3784511784511784, 'eval_roc_auc': 0.6479500891265596, 'eval_accuracy': 0.35, 'eval_runtime': 8.0094, 'eval_samples_per_second': 2.497, 'eval_steps_per_second': 0.375, 'epoch': 24.0}\n"
     ]
    },
    {
     "name": "stderr",
     "output_type": "stream",
     "text": [
      "***** Running Evaluation *****\n",
      "  Num examples = 20\n",
      "  Batch size = 8\n"
     ]
    },
    {
     "data": {
      "application/vnd.jupyter.widget-view+json": {
       "model_id": "506c8fdaa55144d584acc2226b6fc7f9",
       "version_major": 2,
       "version_minor": 0
      },
      "text/plain": [
       "  0%|          | 0/3 [00:00<?, ?it/s]"
      ]
     },
     "metadata": {},
     "output_type": "display_data"
    },
    {
     "name": "stderr",
     "output_type": "stream",
     "text": [
      "c:\\ProgramData\\Anaconda3\\lib\\site-packages\\sklearn\\metrics\\_classification.py:1580: UndefinedMetricWarning: F-score is ill-defined and being set to 0.0 in labels with no true nor predicted samples. Use `zero_division` parameter to control this behavior.\n",
      "  _warn_prf(average, \"true nor predicted\", \"F-score is\", len(true_sum))\n"
     ]
    },
    {
     "name": "stdout",
     "output_type": "stream",
     "text": [
      "{'eval_loss': 0.43553757667541504, 'eval_f1': 0.3784511784511784, 'eval_roc_auc': 0.6506238859180036, 'eval_accuracy': 0.35, 'eval_runtime': 7.5382, 'eval_samples_per_second': 2.653, 'eval_steps_per_second': 0.398, 'epoch': 25.0}\n"
     ]
    },
    {
     "name": "stderr",
     "output_type": "stream",
     "text": [
      "***** Running Evaluation *****\n",
      "  Num examples = 20\n",
      "  Batch size = 8\n"
     ]
    },
    {
     "data": {
      "application/vnd.jupyter.widget-view+json": {
       "model_id": "6c4e0987c12f45e3a70b24377f419b88",
       "version_major": 2,
       "version_minor": 0
      },
      "text/plain": [
       "  0%|          | 0/3 [00:00<?, ?it/s]"
      ]
     },
     "metadata": {},
     "output_type": "display_data"
    },
    {
     "name": "stderr",
     "output_type": "stream",
     "text": [
      "c:\\ProgramData\\Anaconda3\\lib\\site-packages\\sklearn\\metrics\\_classification.py:1580: UndefinedMetricWarning: F-score is ill-defined and being set to 0.0 in labels with no true nor predicted samples. Use `zero_division` parameter to control this behavior.\n",
      "  _warn_prf(average, \"true nor predicted\", \"F-score is\", len(true_sum))\n"
     ]
    },
    {
     "name": "stdout",
     "output_type": "stream",
     "text": [
      "{'eval_loss': 0.4354124069213867, 'eval_f1': 0.3784511784511784, 'eval_roc_auc': 0.6506238859180036, 'eval_accuracy': 0.35, 'eval_runtime': 8.0856, 'eval_samples_per_second': 2.474, 'eval_steps_per_second': 0.371, 'epoch': 26.0}\n"
     ]
    },
    {
     "name": "stderr",
     "output_type": "stream",
     "text": [
      "***** Running Evaluation *****\n",
      "  Num examples = 20\n",
      "  Batch size = 8\n"
     ]
    },
    {
     "data": {
      "application/vnd.jupyter.widget-view+json": {
       "model_id": "965e010318784d7392a185e577aa3571",
       "version_major": 2,
       "version_minor": 0
      },
      "text/plain": [
       "  0%|          | 0/3 [00:00<?, ?it/s]"
      ]
     },
     "metadata": {},
     "output_type": "display_data"
    },
    {
     "name": "stderr",
     "output_type": "stream",
     "text": [
      "c:\\ProgramData\\Anaconda3\\lib\\site-packages\\sklearn\\metrics\\_classification.py:1580: UndefinedMetricWarning: F-score is ill-defined and being set to 0.0 in labels with no true nor predicted samples. Use `zero_division` parameter to control this behavior.\n",
      "  _warn_prf(average, \"true nor predicted\", \"F-score is\", len(true_sum))\n"
     ]
    },
    {
     "name": "stdout",
     "output_type": "stream",
     "text": [
      "{'eval_loss': 0.43470054864883423, 'eval_f1': 0.3784511784511784, 'eval_roc_auc': 0.6506238859180036, 'eval_accuracy': 0.35, 'eval_runtime': 7.4859, 'eval_samples_per_second': 2.672, 'eval_steps_per_second': 0.401, 'epoch': 27.0}\n"
     ]
    },
    {
     "name": "stderr",
     "output_type": "stream",
     "text": [
      "***** Running Evaluation *****\n",
      "  Num examples = 20\n",
      "  Batch size = 8\n"
     ]
    },
    {
     "data": {
      "application/vnd.jupyter.widget-view+json": {
       "model_id": "f486f7f6598b4bf1a2a0eb29759b55f2",
       "version_major": 2,
       "version_minor": 0
      },
      "text/plain": [
       "  0%|          | 0/3 [00:00<?, ?it/s]"
      ]
     },
     "metadata": {},
     "output_type": "display_data"
    },
    {
     "name": "stderr",
     "output_type": "stream",
     "text": [
      "c:\\ProgramData\\Anaconda3\\lib\\site-packages\\sklearn\\metrics\\_classification.py:1580: UndefinedMetricWarning: F-score is ill-defined and being set to 0.0 in labels with no true nor predicted samples. Use `zero_division` parameter to control this behavior.\n",
      "  _warn_prf(average, \"true nor predicted\", \"F-score is\", len(true_sum))\n"
     ]
    },
    {
     "name": "stdout",
     "output_type": "stream",
     "text": [
      "{'eval_loss': 0.43469470739364624, 'eval_f1': 0.3784511784511784, 'eval_roc_auc': 0.6506238859180036, 'eval_accuracy': 0.35, 'eval_runtime': 7.4634, 'eval_samples_per_second': 2.68, 'eval_steps_per_second': 0.402, 'epoch': 28.0}\n"
     ]
    },
    {
     "name": "stderr",
     "output_type": "stream",
     "text": [
      "***** Running Evaluation *****\n",
      "  Num examples = 20\n",
      "  Batch size = 8\n"
     ]
    },
    {
     "data": {
      "application/vnd.jupyter.widget-view+json": {
       "model_id": "9775c8df46c54e4eb8bf10acad0efa1e",
       "version_major": 2,
       "version_minor": 0
      },
      "text/plain": [
       "  0%|          | 0/3 [00:00<?, ?it/s]"
      ]
     },
     "metadata": {},
     "output_type": "display_data"
    },
    {
     "name": "stderr",
     "output_type": "stream",
     "text": [
      "c:\\ProgramData\\Anaconda3\\lib\\site-packages\\sklearn\\metrics\\_classification.py:1580: UndefinedMetricWarning: F-score is ill-defined and being set to 0.0 in labels with no true nor predicted samples. Use `zero_division` parameter to control this behavior.\n",
      "  _warn_prf(average, \"true nor predicted\", \"F-score is\", len(true_sum))\n"
     ]
    },
    {
     "name": "stdout",
     "output_type": "stream",
     "text": [
      "{'eval_loss': 0.43491458892822266, 'eval_f1': 0.3784511784511784, 'eval_roc_auc': 0.6506238859180036, 'eval_accuracy': 0.35, 'eval_runtime': 7.4189, 'eval_samples_per_second': 2.696, 'eval_steps_per_second': 0.404, 'epoch': 29.0}\n"
     ]
    },
    {
     "name": "stderr",
     "output_type": "stream",
     "text": [
      "***** Running Evaluation *****\n",
      "  Num examples = 20\n",
      "  Batch size = 8\n"
     ]
    },
    {
     "data": {
      "application/vnd.jupyter.widget-view+json": {
       "model_id": "ad17d894afa64ab38b99aa226f0aaf28",
       "version_major": 2,
       "version_minor": 0
      },
      "text/plain": [
       "  0%|          | 0/3 [00:00<?, ?it/s]"
      ]
     },
     "metadata": {},
     "output_type": "display_data"
    },
    {
     "name": "stderr",
     "output_type": "stream",
     "text": [
      "c:\\ProgramData\\Anaconda3\\lib\\site-packages\\sklearn\\metrics\\_classification.py:1580: UndefinedMetricWarning: F-score is ill-defined and being set to 0.0 in labels with no true nor predicted samples. Use `zero_division` parameter to control this behavior.\n",
      "  _warn_prf(average, \"true nor predicted\", \"F-score is\", len(true_sum))\n",
      "\n",
      "\n",
      "Training completed. Do not forget to share your model on huggingface.co/models =)\n",
      "\n",
      "\n"
     ]
    },
    {
     "name": "stdout",
     "output_type": "stream",
     "text": [
      "{'eval_loss': 0.4349861145019531, 'eval_f1': 0.3784511784511784, 'eval_roc_auc': 0.6506238859180036, 'eval_accuracy': 0.35, 'eval_runtime': 7.4696, 'eval_samples_per_second': 2.678, 'eval_steps_per_second': 0.402, 'epoch': 30.0}\n",
      "{'train_runtime': 2500.1789, 'train_samples_per_second': 0.72, 'train_steps_per_second': 0.096, 'train_loss': 0.09198493162790934, 'epoch': 30.0}\n"
     ]
    },
    {
     "data": {
      "text/plain": [
       "TrainOutput(global_step=240, training_loss=0.09198493162790934, metrics={'train_runtime': 2500.1789, 'train_samples_per_second': 0.72, 'train_steps_per_second': 0.096, 'train_loss': 0.09198493162790934, 'epoch': 30.0})"
      ]
     },
     "execution_count": 19,
     "metadata": {},
     "output_type": "execute_result"
    }
   ],
   "source": [
    "#fine-tune BART model by calling train()\n",
    "trainer.train()"
   ]
  },
  {
   "cell_type": "markdown",
   "metadata": {},
   "source": [
    "### Evaluation"
   ]
  },
  {
   "cell_type": "code",
   "execution_count": 29,
   "metadata": {},
   "outputs": [
    {
     "name": "stderr",
     "output_type": "stream",
     "text": [
      "***** Running Evaluation *****\n",
      "  Num examples = 20\n",
      "  Batch size = 8\n"
     ]
    },
    {
     "data": {
      "application/vnd.jupyter.widget-view+json": {
       "model_id": "6a27c0fe188140e09ed8fb4cd3a86265",
       "version_major": 2,
       "version_minor": 0
      },
      "text/plain": [
       "  0%|          | 0/3 [00:00<?, ?it/s]"
      ]
     },
     "metadata": {},
     "output_type": "display_data"
    },
    {
     "name": "stderr",
     "output_type": "stream",
     "text": [
      "c:\\ProgramData\\Anaconda3\\lib\\site-packages\\sklearn\\metrics\\_classification.py:1580: UndefinedMetricWarning: F-score is ill-defined and being set to 0.0 in labels with no true nor predicted samples. Use `zero_division` parameter to control this behavior.\n",
      "  _warn_prf(average, \"true nor predicted\", \"F-score is\", len(true_sum))\n"
     ]
    },
    {
     "data": {
      "text/plain": [
       "{'eval_loss': 0.4349861145019531,\n",
       " 'eval_f1': 0.3784511784511784,\n",
       " 'eval_roc_auc': 0.6506238859180036,\n",
       " 'eval_accuracy': 0.35,\n",
       " 'eval_runtime': 6.5573,\n",
       " 'eval_samples_per_second': 3.05,\n",
       " 'eval_steps_per_second': 0.458,\n",
       " 'epoch': 30.0}"
      ]
     },
     "execution_count": 29,
     "metadata": {},
     "output_type": "execute_result"
    }
   ],
   "source": [
    "#evaluate on val set\n",
    "trainer.evaluate()"
   ]
  },
  {
   "cell_type": "markdown",
   "metadata": {},
   "source": [
    "### Save the model"
   ]
  },
  {
   "cell_type": "code",
   "execution_count": 30,
   "metadata": {},
   "outputs": [
    {
     "name": "stderr",
     "output_type": "stream",
     "text": [
      "Saving model checkpoint to ../Output/Model/Best_Model\n",
      "Configuration saved in ../Output/Model/Best_Model\\config.json\n",
      "Model weights saved in ../Output/Model/Best_Model\\pytorch_model.bin\n",
      "tokenizer config file saved in ../Output/Model/Best_Model\\tokenizer_config.json\n",
      "Special tokens file saved in ../Output/Model/Best_Model\\special_tokens_map.json\n"
     ]
    }
   ],
   "source": [
    "trainer.save_model(\"../Output/Model/Best_Model\")#save the model"
   ]
  },
  {
   "cell_type": "markdown",
   "metadata": {},
   "source": [
    "### Review Classification on Original Data"
   ]
  },
  {
   "cell_type": "code",
   "execution_count": 2,
   "metadata": {},
   "outputs": [],
   "source": [
    "df_test = pd.read_csv(\"../Data/test_11labels.csv\")\n",
    "df_test = df_test[[\"Reviews\"]]"
   ]
  },
  {
   "cell_type": "code",
   "execution_count": 3,
   "metadata": {},
   "outputs": [
    {
     "data": {
      "text/html": [
       "<div>\n",
       "<style scoped>\n",
       "    .dataframe tbody tr th:only-of-type {\n",
       "        vertical-align: middle;\n",
       "    }\n",
       "\n",
       "    .dataframe tbody tr th {\n",
       "        vertical-align: top;\n",
       "    }\n",
       "\n",
       "    .dataframe thead th {\n",
       "        text-align: right;\n",
       "    }\n",
       "</style>\n",
       "<table border=\"1\" class=\"dataframe\">\n",
       "  <thead>\n",
       "    <tr style=\"text-align: right;\">\n",
       "      <th></th>\n",
       "      <th>Reviews</th>\n",
       "    </tr>\n",
       "  </thead>\n",
       "  <tbody>\n",
       "    <tr>\n",
       "      <th>0</th>\n",
       "      <td>I am a fit 63 year old male who was surprised ...</td>\n",
       "    </tr>\n",
       "    <tr>\n",
       "      <th>1</th>\n",
       "      <td>I had my first injection in January.  No side ...</td>\n",
       "    </tr>\n",
       "    <tr>\n",
       "      <th>2</th>\n",
       "      <td>At the age of 62, I discovered I had severe os...</td>\n",
       "    </tr>\n",
       "    <tr>\n",
       "      <th>3</th>\n",
       "      <td>About a week after first injection, developed ...</td>\n",
       "    </tr>\n",
       "    <tr>\n",
       "      <th>4</th>\n",
       "      <td>I want to thank everyone here that rated this ...</td>\n",
       "    </tr>\n",
       "    <tr>\n",
       "      <th>5</th>\n",
       "      <td>5th injection, no side effects,now normal bone...</td>\n",
       "    </tr>\n",
       "    <tr>\n",
       "      <th>6</th>\n",
       "      <td>This is the worse medication my husband has ev...</td>\n",
       "    </tr>\n",
       "    <tr>\n",
       "      <th>7</th>\n",
       "      <td>Call FDA to report negative side effects 1 888...</td>\n",
       "    </tr>\n",
       "    <tr>\n",
       "      <th>8</th>\n",
       "      <td>This month I have received my 4th injection of...</td>\n",
       "    </tr>\n",
       "    <tr>\n",
       "      <th>9</th>\n",
       "      <td>This drug has ruined my mother's daily life. P...</td>\n",
       "    </tr>\n",
       "    <tr>\n",
       "      <th>10</th>\n",
       "      <td>Don't take this medication if you live alone. ...</td>\n",
       "    </tr>\n",
       "    <tr>\n",
       "      <th>11</th>\n",
       "      <td>I had a Prolia injection in Feb 2016. About 8 ...</td>\n",
       "    </tr>\n",
       "    <tr>\n",
       "      <th>12</th>\n",
       "      <td>Further update. It is now a year since my firs...</td>\n",
       "    </tr>\n",
       "    <tr>\n",
       "      <th>13</th>\n",
       "      <td>This medication has ruined my life. Pain every...</td>\n",
       "    </tr>\n",
       "    <tr>\n",
       "      <th>14</th>\n",
       "      <td>Two days after receiving shot of prolia, I beg...</td>\n",
       "    </tr>\n",
       "    <tr>\n",
       "      <th>15</th>\n",
       "      <td>I thought I was going crazy...but reading thes...</td>\n",
       "    </tr>\n",
       "    <tr>\n",
       "      <th>16</th>\n",
       "      <td>First shot I got diarrhea about ten days later...</td>\n",
       "    </tr>\n",
       "    <tr>\n",
       "      <th>17</th>\n",
       "      <td>I haven taken Prolia every 6 months for 4 year...</td>\n",
       "    </tr>\n",
       "    <tr>\n",
       "      <th>18</th>\n",
       "      <td>My family is trying to weigh the positive and ...</td>\n",
       "    </tr>\n",
       "  </tbody>\n",
       "</table>\n",
       "</div>"
      ],
      "text/plain": [
       "                                              Reviews\n",
       "0   I am a fit 63 year old male who was surprised ...\n",
       "1   I had my first injection in January.  No side ...\n",
       "2   At the age of 62, I discovered I had severe os...\n",
       "3   About a week after first injection, developed ...\n",
       "4   I want to thank everyone here that rated this ...\n",
       "5   5th injection, no side effects,now normal bone...\n",
       "6   This is the worse medication my husband has ev...\n",
       "7   Call FDA to report negative side effects 1 888...\n",
       "8   This month I have received my 4th injection of...\n",
       "9   This drug has ruined my mother's daily life. P...\n",
       "10  Don't take this medication if you live alone. ...\n",
       "11  I had a Prolia injection in Feb 2016. About 8 ...\n",
       "12  Further update. It is now a year since my firs...\n",
       "13  This medication has ruined my life. Pain every...\n",
       "14  Two days after receiving shot of prolia, I beg...\n",
       "15  I thought I was going crazy...but reading thes...\n",
       "16  First shot I got diarrhea about ten days later...\n",
       "17  I haven taken Prolia every 6 months for 4 year...\n",
       "18  My family is trying to weigh the positive and ..."
      ]
     },
     "execution_count": 3,
     "metadata": {},
     "output_type": "execute_result"
    }
   ],
   "source": [
    "df_test"
   ]
  },
  {
   "cell_type": "code",
   "execution_count": 4,
   "metadata": {},
   "outputs": [
    {
     "name": "stderr",
     "output_type": "stream",
     "text": [
      "You passed along `num_labels=3` with an incompatible id to label map: {'0': 'LABEL_0', '1': 'LABEL_1', '2': 'LABEL_2', '3': 'LABEL_3', '4': 'LABEL_4', '5': 'LABEL_5', '6': 'LABEL_6', '7': 'LABEL_7', '8': 'LABEL_8', '9': 'LABEL_9', '10': 'LABEL_10'}. The number of labels wil be overwritten to 11.\n"
     ]
    }
   ],
   "source": [
    "#Load the fine-tuned BART model\n",
    "from transformers import BartForSequenceClassification\n",
    "\n",
    "model = BartForSequenceClassification.from_pretrained(\"../Output/Model/Best_Model\", problem_type=\"multi_label_classification\", num_labels=11)"
   ]
  },
  {
   "cell_type": "code",
   "execution_count": 5,
   "metadata": {},
   "outputs": [],
   "source": [
    "#Load the tokenizer\n",
    "from transformers import BartTokenizer\n",
    "\n",
    "tokenizer = BartTokenizer.from_pretrained(\"../Output/Model/Best_Model\")"
   ]
  },
  {
   "cell_type": "code",
   "execution_count": 6,
   "metadata": {},
   "outputs": [],
   "source": [
    "import torch\n",
    "\n",
    "limb_pain = []\n",
    "gastrointestinal = []\n",
    "dental = []\n",
    "cardiac = []\n",
    "dermatological = []\n",
    "respiratory = []\n",
    "weight_gain_and_loss = []\n",
    "headache = []\n",
    "menstrual = []\n",
    "fatigue = []\n",
    "body_temperature = []\n",
    "\n",
    "for i in range(len(df_test[\"Reviews\"])):\n",
    "  text = df_test[\"Reviews\"][i]\n",
    "  encoding = tokenizer(text, return_tensors=\"pt\")\n",
    "  encoding = {k: v.to(model.device) for k,v in encoding.items()}\n",
    "  outputs = model(**encoding)\n",
    "\n",
    "  #apply sigmoid and threshold\n",
    "  sigmoid = torch.nn.Sigmoid()\n",
    "  logits = outputs.logits\n",
    "  probs = sigmoid(logits.squeeze().cpu())\n",
    "\n",
    "  limb_pain.append(probs[0].detach().numpy())\n",
    "  gastrointestinal.append(probs[1].detach().numpy())\n",
    "  dental.append(probs[2].detach().numpy())\n",
    "  cardiac.append(probs[3].detach().numpy())\n",
    "  dermatological.append(probs[4].detach().numpy())\n",
    "  respiratory.append(probs[5].detach().numpy())\n",
    "  weight_gain_and_loss.append(probs[6].detach().numpy())\n",
    "  headache.append(probs[7].detach().numpy())\n",
    "  menstrual.append(probs[8].detach().numpy())\n",
    "  fatigue.append(probs[9].detach().numpy())\n",
    "  body_temperature.append(probs[10].detach().numpy())"
   ]
  },
  {
   "cell_type": "code",
   "execution_count": 7,
   "metadata": {},
   "outputs": [],
   "source": [
    "df_test[\"limb_pain\"] = limb_pain\n",
    "df_test[\"gastrointestinal\"] = gastrointestinal\n",
    "df_test[\"dental\"] = dental\n",
    "df_test[\"cardiac\"] = cardiac\n",
    "df_test[\"dermatological\"] = dermatological\n",
    "df_test[\"respiratory\"] = respiratory\n",
    "df_test[\"weight_gain_and_loss\"] = weight_gain_and_loss\n",
    "df_test[\"headache\"] = headache\n",
    "df_test[\"menstrual\"] = menstrual\n",
    "df_test[\"fatigue\"] = fatigue\n",
    "df_test[\"body_temperature\"] = body_temperature"
   ]
  },
  {
   "cell_type": "code",
   "execution_count": 8,
   "metadata": {},
   "outputs": [
    {
     "data": {
      "text/html": [
       "<div>\n",
       "<style scoped>\n",
       "    .dataframe tbody tr th:only-of-type {\n",
       "        vertical-align: middle;\n",
       "    }\n",
       "\n",
       "    .dataframe tbody tr th {\n",
       "        vertical-align: top;\n",
       "    }\n",
       "\n",
       "    .dataframe thead th {\n",
       "        text-align: right;\n",
       "    }\n",
       "</style>\n",
       "<table border=\"1\" class=\"dataframe\">\n",
       "  <thead>\n",
       "    <tr style=\"text-align: right;\">\n",
       "      <th></th>\n",
       "      <th>Reviews</th>\n",
       "      <th>limb_pain</th>\n",
       "      <th>gastrointestinal</th>\n",
       "      <th>dental</th>\n",
       "      <th>cardiac</th>\n",
       "      <th>dermatological</th>\n",
       "      <th>respiratory</th>\n",
       "      <th>weight_gain_and_loss</th>\n",
       "      <th>headache</th>\n",
       "      <th>menstrual</th>\n",
       "      <th>fatigue</th>\n",
       "      <th>body_temperature</th>\n",
       "    </tr>\n",
       "  </thead>\n",
       "  <tbody>\n",
       "    <tr>\n",
       "      <th>0</th>\n",
       "      <td>I am a fit 63 year old male who was surprised ...</td>\n",
       "      <td>0.87346125</td>\n",
       "      <td>0.014791279</td>\n",
       "      <td>0.005041794</td>\n",
       "      <td>0.0072805667</td>\n",
       "      <td>0.0031952278</td>\n",
       "      <td>0.005019809</td>\n",
       "      <td>0.005157012</td>\n",
       "      <td>0.004917573</td>\n",
       "      <td>0.0114999665</td>\n",
       "      <td>0.002084134</td>\n",
       "      <td>0.0034286182</td>\n",
       "    </tr>\n",
       "    <tr>\n",
       "      <th>1</th>\n",
       "      <td>I had my first injection in January.  No side ...</td>\n",
       "      <td>0.78821015</td>\n",
       "      <td>0.017522097</td>\n",
       "      <td>0.047899466</td>\n",
       "      <td>0.010138917</td>\n",
       "      <td>0.005762535</td>\n",
       "      <td>0.0029755388</td>\n",
       "      <td>0.002707698</td>\n",
       "      <td>0.0072094025</td>\n",
       "      <td>0.0066541205</td>\n",
       "      <td>0.0040339604</td>\n",
       "      <td>0.0021250097</td>\n",
       "    </tr>\n",
       "    <tr>\n",
       "      <th>2</th>\n",
       "      <td>At the age of 62, I discovered I had severe os...</td>\n",
       "      <td>0.0052116048</td>\n",
       "      <td>0.040672902</td>\n",
       "      <td>0.0060933647</td>\n",
       "      <td>0.003509785</td>\n",
       "      <td>0.0033169547</td>\n",
       "      <td>0.005264402</td>\n",
       "      <td>0.0038471883</td>\n",
       "      <td>0.004853187</td>\n",
       "      <td>0.032130107</td>\n",
       "      <td>0.20140901</td>\n",
       "      <td>0.0028962877</td>\n",
       "    </tr>\n",
       "    <tr>\n",
       "      <th>3</th>\n",
       "      <td>About a week after first injection, developed ...</td>\n",
       "      <td>0.44608274</td>\n",
       "      <td>0.15374866</td>\n",
       "      <td>0.012810566</td>\n",
       "      <td>0.0047481125</td>\n",
       "      <td>0.011469235</td>\n",
       "      <td>0.0028344982</td>\n",
       "      <td>0.0044184434</td>\n",
       "      <td>0.022913624</td>\n",
       "      <td>0.039060514</td>\n",
       "      <td>0.87535805</td>\n",
       "      <td>0.009981869</td>\n",
       "    </tr>\n",
       "    <tr>\n",
       "      <th>4</th>\n",
       "      <td>I want to thank everyone here that rated this ...</td>\n",
       "      <td>0.015231547</td>\n",
       "      <td>0.008141291</td>\n",
       "      <td>0.0028759514</td>\n",
       "      <td>0.003921434</td>\n",
       "      <td>0.0034522698</td>\n",
       "      <td>0.0034405636</td>\n",
       "      <td>0.0028801074</td>\n",
       "      <td>0.0027956045</td>\n",
       "      <td>0.008328738</td>\n",
       "      <td>0.0035875633</td>\n",
       "      <td>0.0042090714</td>\n",
       "    </tr>\n",
       "    <tr>\n",
       "      <th>5</th>\n",
       "      <td>5th injection, no side effects,now normal bone...</td>\n",
       "      <td>0.0060847104</td>\n",
       "      <td>0.005623187</td>\n",
       "      <td>0.0052013774</td>\n",
       "      <td>0.004691545</td>\n",
       "      <td>0.0050250464</td>\n",
       "      <td>0.0056666937</td>\n",
       "      <td>0.005384205</td>\n",
       "      <td>0.009908317</td>\n",
       "      <td>0.0050761653</td>\n",
       "      <td>0.012118012</td>\n",
       "      <td>0.011281631</td>\n",
       "    </tr>\n",
       "    <tr>\n",
       "      <th>6</th>\n",
       "      <td>This is the worse medication my husband has ev...</td>\n",
       "      <td>0.9872578</td>\n",
       "      <td>0.01142529</td>\n",
       "      <td>0.015266546</td>\n",
       "      <td>0.014431485</td>\n",
       "      <td>0.01166296</td>\n",
       "      <td>0.01800879</td>\n",
       "      <td>0.005758682</td>\n",
       "      <td>0.007977222</td>\n",
       "      <td>0.0025931848</td>\n",
       "      <td>0.9864871</td>\n",
       "      <td>0.008574757</td>\n",
       "    </tr>\n",
       "    <tr>\n",
       "      <th>7</th>\n",
       "      <td>Call FDA to report negative side effects 1 888...</td>\n",
       "      <td>0.01007461</td>\n",
       "      <td>0.016177002</td>\n",
       "      <td>0.005448156</td>\n",
       "      <td>0.0035813998</td>\n",
       "      <td>0.0066903564</td>\n",
       "      <td>0.035818312</td>\n",
       "      <td>0.001419228</td>\n",
       "      <td>0.0077077644</td>\n",
       "      <td>0.0137136495</td>\n",
       "      <td>0.33798015</td>\n",
       "      <td>0.057396676</td>\n",
       "    </tr>\n",
       "    <tr>\n",
       "      <th>8</th>\n",
       "      <td>This month I have received my 4th injection of...</td>\n",
       "      <td>0.008940042</td>\n",
       "      <td>0.0029049953</td>\n",
       "      <td>0.0031237362</td>\n",
       "      <td>0.010312338</td>\n",
       "      <td>0.0031979503</td>\n",
       "      <td>0.009327203</td>\n",
       "      <td>0.0033492548</td>\n",
       "      <td>0.0038484603</td>\n",
       "      <td>0.0065683336</td>\n",
       "      <td>0.89161366</td>\n",
       "      <td>0.021210818</td>\n",
       "    </tr>\n",
       "    <tr>\n",
       "      <th>9</th>\n",
       "      <td>This drug has ruined my mother's daily life. P...</td>\n",
       "      <td>0.13072574</td>\n",
       "      <td>0.0068879803</td>\n",
       "      <td>0.002961098</td>\n",
       "      <td>0.011723445</td>\n",
       "      <td>0.52697027</td>\n",
       "      <td>0.0059988596</td>\n",
       "      <td>0.0017055868</td>\n",
       "      <td>0.0044649704</td>\n",
       "      <td>0.0020288283</td>\n",
       "      <td>0.7531725</td>\n",
       "      <td>0.0052424264</td>\n",
       "    </tr>\n",
       "    <tr>\n",
       "      <th>10</th>\n",
       "      <td>Don't take this medication if you live alone. ...</td>\n",
       "      <td>0.83136165</td>\n",
       "      <td>0.13217624</td>\n",
       "      <td>0.0329741</td>\n",
       "      <td>0.014713951</td>\n",
       "      <td>0.021883385</td>\n",
       "      <td>0.014552972</td>\n",
       "      <td>0.0010367818</td>\n",
       "      <td>0.00583021</td>\n",
       "      <td>0.0045726486</td>\n",
       "      <td>0.53971124</td>\n",
       "      <td>0.005392991</td>\n",
       "    </tr>\n",
       "    <tr>\n",
       "      <th>11</th>\n",
       "      <td>I had a Prolia injection in Feb 2016. About 8 ...</td>\n",
       "      <td>0.025606325</td>\n",
       "      <td>0.8297449</td>\n",
       "      <td>0.008578775</td>\n",
       "      <td>0.007496139</td>\n",
       "      <td>0.001607159</td>\n",
       "      <td>0.007982582</td>\n",
       "      <td>0.0034700837</td>\n",
       "      <td>0.00238504</td>\n",
       "      <td>0.19786474</td>\n",
       "      <td>0.34345084</td>\n",
       "      <td>0.016721457</td>\n",
       "    </tr>\n",
       "    <tr>\n",
       "      <th>12</th>\n",
       "      <td>Further update. It is now a year since my firs...</td>\n",
       "      <td>0.4126659</td>\n",
       "      <td>0.06961463</td>\n",
       "      <td>0.0043909918</td>\n",
       "      <td>0.0061677587</td>\n",
       "      <td>0.0041392385</td>\n",
       "      <td>0.0063901613</td>\n",
       "      <td>0.0019368809</td>\n",
       "      <td>0.0040665944</td>\n",
       "      <td>0.010288068</td>\n",
       "      <td>0.0116610695</td>\n",
       "      <td>0.0066215624</td>\n",
       "    </tr>\n",
       "    <tr>\n",
       "      <th>13</th>\n",
       "      <td>This medication has ruined my life. Pain every...</td>\n",
       "      <td>0.9751184</td>\n",
       "      <td>0.023331111</td>\n",
       "      <td>0.008634495</td>\n",
       "      <td>0.009126202</td>\n",
       "      <td>0.0047901818</td>\n",
       "      <td>0.017495347</td>\n",
       "      <td>0.005143121</td>\n",
       "      <td>0.006803799</td>\n",
       "      <td>0.0036963334</td>\n",
       "      <td>0.9771755</td>\n",
       "      <td>0.004257986</td>\n",
       "    </tr>\n",
       "    <tr>\n",
       "      <th>14</th>\n",
       "      <td>Two days after receiving shot of prolia, I beg...</td>\n",
       "      <td>0.96861804</td>\n",
       "      <td>0.19761315</td>\n",
       "      <td>0.020402849</td>\n",
       "      <td>0.009737608</td>\n",
       "      <td>0.0043830625</td>\n",
       "      <td>0.018319203</td>\n",
       "      <td>0.010636406</td>\n",
       "      <td>0.004618093</td>\n",
       "      <td>0.022452442</td>\n",
       "      <td>0.46024412</td>\n",
       "      <td>0.0011776878</td>\n",
       "    </tr>\n",
       "    <tr>\n",
       "      <th>15</th>\n",
       "      <td>I thought I was going crazy...but reading thes...</td>\n",
       "      <td>0.058822818</td>\n",
       "      <td>0.06715433</td>\n",
       "      <td>0.0041285106</td>\n",
       "      <td>0.0035773725</td>\n",
       "      <td>0.0023186512</td>\n",
       "      <td>0.0041307285</td>\n",
       "      <td>0.0030439082</td>\n",
       "      <td>0.0016775299</td>\n",
       "      <td>0.020340286</td>\n",
       "      <td>0.016048344</td>\n",
       "      <td>0.0029570605</td>\n",
       "    </tr>\n",
       "    <tr>\n",
       "      <th>16</th>\n",
       "      <td>First shot I got diarrhea about ten days later...</td>\n",
       "      <td>0.09107655</td>\n",
       "      <td>0.90148616</td>\n",
       "      <td>0.026853228</td>\n",
       "      <td>0.0059453007</td>\n",
       "      <td>0.010176745</td>\n",
       "      <td>0.4458827</td>\n",
       "      <td>0.002370025</td>\n",
       "      <td>0.003591464</td>\n",
       "      <td>0.005604982</td>\n",
       "      <td>0.847774</td>\n",
       "      <td>0.0067318277</td>\n",
       "    </tr>\n",
       "    <tr>\n",
       "      <th>17</th>\n",
       "      <td>I haven taken Prolia every 6 months for 4 year...</td>\n",
       "      <td>0.94907457</td>\n",
       "      <td>0.019527394</td>\n",
       "      <td>0.014924342</td>\n",
       "      <td>0.0034109922</td>\n",
       "      <td>0.008917653</td>\n",
       "      <td>0.0045283264</td>\n",
       "      <td>0.0032170715</td>\n",
       "      <td>0.0047910386</td>\n",
       "      <td>0.0040722317</td>\n",
       "      <td>0.005970417</td>\n",
       "      <td>0.0022645602</td>\n",
       "    </tr>\n",
       "    <tr>\n",
       "      <th>18</th>\n",
       "      <td>My family is trying to weigh the positive and ...</td>\n",
       "      <td>0.003024647</td>\n",
       "      <td>0.008783612</td>\n",
       "      <td>0.0040253275</td>\n",
       "      <td>0.0032939576</td>\n",
       "      <td>0.08365776</td>\n",
       "      <td>0.005299831</td>\n",
       "      <td>0.0025151633</td>\n",
       "      <td>0.0034539846</td>\n",
       "      <td>0.003784929</td>\n",
       "      <td>0.021680346</td>\n",
       "      <td>0.0036846097</td>\n",
       "    </tr>\n",
       "  </tbody>\n",
       "</table>\n",
       "</div>"
      ],
      "text/plain": [
       "                                              Reviews     limb_pain  \\\n",
       "0   I am a fit 63 year old male who was surprised ...    0.87346125   \n",
       "1   I had my first injection in January.  No side ...    0.78821015   \n",
       "2   At the age of 62, I discovered I had severe os...  0.0052116048   \n",
       "3   About a week after first injection, developed ...    0.44608274   \n",
       "4   I want to thank everyone here that rated this ...   0.015231547   \n",
       "5   5th injection, no side effects,now normal bone...  0.0060847104   \n",
       "6   This is the worse medication my husband has ev...     0.9872578   \n",
       "7   Call FDA to report negative side effects 1 888...    0.01007461   \n",
       "8   This month I have received my 4th injection of...   0.008940042   \n",
       "9   This drug has ruined my mother's daily life. P...    0.13072574   \n",
       "10  Don't take this medication if you live alone. ...    0.83136165   \n",
       "11  I had a Prolia injection in Feb 2016. About 8 ...   0.025606325   \n",
       "12  Further update. It is now a year since my firs...     0.4126659   \n",
       "13  This medication has ruined my life. Pain every...     0.9751184   \n",
       "14  Two days after receiving shot of prolia, I beg...    0.96861804   \n",
       "15  I thought I was going crazy...but reading thes...   0.058822818   \n",
       "16  First shot I got diarrhea about ten days later...    0.09107655   \n",
       "17  I haven taken Prolia every 6 months for 4 year...    0.94907457   \n",
       "18  My family is trying to weigh the positive and ...   0.003024647   \n",
       "\n",
       "   gastrointestinal        dental       cardiac dermatological   respiratory  \\\n",
       "0       0.014791279   0.005041794  0.0072805667   0.0031952278   0.005019809   \n",
       "1       0.017522097   0.047899466   0.010138917    0.005762535  0.0029755388   \n",
       "2       0.040672902  0.0060933647   0.003509785   0.0033169547   0.005264402   \n",
       "3        0.15374866   0.012810566  0.0047481125    0.011469235  0.0028344982   \n",
       "4       0.008141291  0.0028759514   0.003921434   0.0034522698  0.0034405636   \n",
       "5       0.005623187  0.0052013774   0.004691545   0.0050250464  0.0056666937   \n",
       "6        0.01142529   0.015266546   0.014431485     0.01166296    0.01800879   \n",
       "7       0.016177002   0.005448156  0.0035813998   0.0066903564   0.035818312   \n",
       "8      0.0029049953  0.0031237362   0.010312338   0.0031979503   0.009327203   \n",
       "9      0.0068879803   0.002961098   0.011723445     0.52697027  0.0059988596   \n",
       "10       0.13217624     0.0329741   0.014713951    0.021883385   0.014552972   \n",
       "11        0.8297449   0.008578775   0.007496139    0.001607159   0.007982582   \n",
       "12       0.06961463  0.0043909918  0.0061677587   0.0041392385  0.0063901613   \n",
       "13      0.023331111   0.008634495   0.009126202   0.0047901818   0.017495347   \n",
       "14       0.19761315   0.020402849   0.009737608   0.0043830625   0.018319203   \n",
       "15       0.06715433  0.0041285106  0.0035773725   0.0023186512  0.0041307285   \n",
       "16       0.90148616   0.026853228  0.0059453007    0.010176745     0.4458827   \n",
       "17      0.019527394   0.014924342  0.0034109922    0.008917653  0.0045283264   \n",
       "18      0.008783612  0.0040253275  0.0032939576     0.08365776   0.005299831   \n",
       "\n",
       "   weight_gain_and_loss      headache     menstrual       fatigue  \\\n",
       "0           0.005157012   0.004917573  0.0114999665   0.002084134   \n",
       "1           0.002707698  0.0072094025  0.0066541205  0.0040339604   \n",
       "2          0.0038471883   0.004853187   0.032130107    0.20140901   \n",
       "3          0.0044184434   0.022913624   0.039060514    0.87535805   \n",
       "4          0.0028801074  0.0027956045   0.008328738  0.0035875633   \n",
       "5           0.005384205   0.009908317  0.0050761653   0.012118012   \n",
       "6           0.005758682   0.007977222  0.0025931848     0.9864871   \n",
       "7           0.001419228  0.0077077644  0.0137136495    0.33798015   \n",
       "8          0.0033492548  0.0038484603  0.0065683336    0.89161366   \n",
       "9          0.0017055868  0.0044649704  0.0020288283     0.7531725   \n",
       "10         0.0010367818    0.00583021  0.0045726486    0.53971124   \n",
       "11         0.0034700837    0.00238504    0.19786474    0.34345084   \n",
       "12         0.0019368809  0.0040665944   0.010288068  0.0116610695   \n",
       "13          0.005143121   0.006803799  0.0036963334     0.9771755   \n",
       "14          0.010636406   0.004618093   0.022452442    0.46024412   \n",
       "15         0.0030439082  0.0016775299   0.020340286   0.016048344   \n",
       "16          0.002370025   0.003591464   0.005604982      0.847774   \n",
       "17         0.0032170715  0.0047910386  0.0040722317   0.005970417   \n",
       "18         0.0025151633  0.0034539846   0.003784929   0.021680346   \n",
       "\n",
       "   body_temperature  \n",
       "0      0.0034286182  \n",
       "1      0.0021250097  \n",
       "2      0.0028962877  \n",
       "3       0.009981869  \n",
       "4      0.0042090714  \n",
       "5       0.011281631  \n",
       "6       0.008574757  \n",
       "7       0.057396676  \n",
       "8       0.021210818  \n",
       "9      0.0052424264  \n",
       "10      0.005392991  \n",
       "11      0.016721457  \n",
       "12     0.0066215624  \n",
       "13      0.004257986  \n",
       "14     0.0011776878  \n",
       "15     0.0029570605  \n",
       "16     0.0067318277  \n",
       "17     0.0022645602  \n",
       "18     0.0036846097  "
      ]
     },
     "execution_count": 8,
     "metadata": {},
     "output_type": "execute_result"
    }
   ],
   "source": [
    "df_test"
   ]
  },
  {
   "cell_type": "code",
   "execution_count": null,
   "metadata": {},
   "outputs": [],
   "source": [
    "df_test.to_csv(\"temp.csv\")"
   ]
  }
 ],
 "metadata": {
  "kernelspec": {
   "display_name": "Python 3.9.12 ('base')",
   "language": "python",
   "name": "python3"
  },
  "language_info": {
   "codemirror_mode": {
    "name": "ipython",
    "version": 3
   },
   "file_extension": ".py",
   "mimetype": "text/x-python",
   "name": "python",
   "nbconvert_exporter": "python",
   "pygments_lexer": "ipython3",
   "version": "3.9.12"
  },
  "orig_nbformat": 4,
  "vscode": {
   "interpreter": {
    "hash": "ad2bdc8ecc057115af97d19610ffacc2b4e99fae6737bb82f5d7fb13d2f2c186"
   }
  }
 },
 "nbformat": 4,
 "nbformat_minor": 2
}
