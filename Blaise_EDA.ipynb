{
 "cells": [
  {
   "cell_type": "code",
   "execution_count": 59,
   "metadata": {},
   "outputs": [],
   "source": [
    "import pandas as pd\n",
    "import numpy as np\n",
    "import matplotlib.pyplot as plt\n",
    "import seaborn as sns\n",
    "import datetime"
   ]
  },
  {
   "cell_type": "markdown",
   "metadata": {},
   "source": [
    "### Just Looking"
   ]
  },
  {
   "cell_type": "code",
   "execution_count": 60,
   "metadata": {},
   "outputs": [
    {
     "data": {
      "text/html": [
       "<div>\n",
       "<style scoped>\n",
       "    .dataframe tbody tr th:only-of-type {\n",
       "        vertical-align: middle;\n",
       "    }\n",
       "\n",
       "    .dataframe tbody tr th {\n",
       "        vertical-align: top;\n",
       "    }\n",
       "\n",
       "    .dataframe thead th {\n",
       "        text-align: right;\n",
       "    }\n",
       "</style>\n",
       "<table border=\"1\" class=\"dataframe\">\n",
       "  <thead>\n",
       "    <tr style=\"text-align: right;\">\n",
       "      <th></th>\n",
       "      <th>Age</th>\n",
       "      <th>Condition</th>\n",
       "      <th>Date</th>\n",
       "      <th>Drug</th>\n",
       "      <th>DrugId</th>\n",
       "      <th>EaseofUse</th>\n",
       "      <th>Effectiveness</th>\n",
       "      <th>Reviews</th>\n",
       "      <th>Satisfaction</th>\n",
       "      <th>Sex</th>\n",
       "      <th>Sides</th>\n",
       "      <th>UsefulCount</th>\n",
       "    </tr>\n",
       "  </thead>\n",
       "  <tbody>\n",
       "    <tr>\n",
       "      <th>0</th>\n",
       "      <td>75 or over</td>\n",
       "      <td>Stuffy Nose</td>\n",
       "      <td>9/21/2014</td>\n",
       "      <td>25dph-7.5peh</td>\n",
       "      <td>146724</td>\n",
       "      <td>5</td>\n",
       "      <td>5</td>\n",
       "      <td>I'm a retired physician and of all the meds I ...</td>\n",
       "      <td>5</td>\n",
       "      <td>Male</td>\n",
       "      <td>Drowsiness,  dizziness ,  dry mouth /nose/thro...</td>\n",
       "      <td>0</td>\n",
       "    </tr>\n",
       "    <tr>\n",
       "      <th>1</th>\n",
       "      <td>25-34</td>\n",
       "      <td>Cold Symptoms</td>\n",
       "      <td>1/13/2011</td>\n",
       "      <td>25dph-7.5peh</td>\n",
       "      <td>146724</td>\n",
       "      <td>5</td>\n",
       "      <td>5</td>\n",
       "      <td>cleared me right up even with my throat hurtin...</td>\n",
       "      <td>5</td>\n",
       "      <td>Female</td>\n",
       "      <td>Drowsiness,  dizziness ,  dry mouth /nose/thro...</td>\n",
       "      <td>1</td>\n",
       "    </tr>\n",
       "    <tr>\n",
       "      <th>2</th>\n",
       "      <td>65-74</td>\n",
       "      <td>Other</td>\n",
       "      <td>7/16/2012</td>\n",
       "      <td>warfarin (bulk) 100 % powder</td>\n",
       "      <td>144731</td>\n",
       "      <td>2</td>\n",
       "      <td>3</td>\n",
       "      <td>why did my PTINR go from a normal of 2.5 to ov...</td>\n",
       "      <td>3</td>\n",
       "      <td>Female</td>\n",
       "      <td></td>\n",
       "      <td>0</td>\n",
       "    </tr>\n",
       "    <tr>\n",
       "      <th>3</th>\n",
       "      <td>75 or over</td>\n",
       "      <td>Other</td>\n",
       "      <td>9/23/2010</td>\n",
       "      <td>warfarin (bulk) 100 % powder</td>\n",
       "      <td>144731</td>\n",
       "      <td>2</td>\n",
       "      <td>2</td>\n",
       "      <td>FALLING AND DON'T REALISE IT</td>\n",
       "      <td>1</td>\n",
       "      <td>Female</td>\n",
       "      <td></td>\n",
       "      <td>0</td>\n",
       "    </tr>\n",
       "    <tr>\n",
       "      <th>4</th>\n",
       "      <td>35-44</td>\n",
       "      <td>Other</td>\n",
       "      <td>1/6/2009</td>\n",
       "      <td>warfarin (bulk) 100 % powder</td>\n",
       "      <td>144731</td>\n",
       "      <td>1</td>\n",
       "      <td>1</td>\n",
       "      <td>My grandfather was prescribed this medication ...</td>\n",
       "      <td>1</td>\n",
       "      <td>Male</td>\n",
       "      <td></td>\n",
       "      <td>1</td>\n",
       "    </tr>\n",
       "    <tr>\n",
       "      <th>...</th>\n",
       "      <td>...</td>\n",
       "      <td>...</td>\n",
       "      <td>...</td>\n",
       "      <td>...</td>\n",
       "      <td>...</td>\n",
       "      <td>...</td>\n",
       "      <td>...</td>\n",
       "      <td>...</td>\n",
       "      <td>...</td>\n",
       "      <td>...</td>\n",
       "      <td>...</td>\n",
       "      <td>...</td>\n",
       "    </tr>\n",
       "    <tr>\n",
       "      <th>362801</th>\n",
       "      <td>55-64</td>\n",
       "      <td>Stop Smoking</td>\n",
       "      <td>11/14/2008</td>\n",
       "      <td>chantix</td>\n",
       "      <td>144470</td>\n",
       "      <td>5</td>\n",
       "      <td>5</td>\n",
       "      <td>I took the whole 12 weeks.I could have stopped...</td>\n",
       "      <td>5</td>\n",
       "      <td>Female</td>\n",
       "      <td>Nausea ,  headache ,  vomiting , drowsiness, g...</td>\n",
       "      <td>2</td>\n",
       "    </tr>\n",
       "    <tr>\n",
       "      <th>362802</th>\n",
       "      <td></td>\n",
       "      <td>Other</td>\n",
       "      <td>11/14/2008</td>\n",
       "      <td>chantix</td>\n",
       "      <td>144470</td>\n",
       "      <td>2</td>\n",
       "      <td>3</td>\n",
       "      <td>My dad strated taking Chantix about 1 month ag...</td>\n",
       "      <td>1</td>\n",
       "      <td></td>\n",
       "      <td>Nausea ,  headache ,  vomiting , drowsiness, g...</td>\n",
       "      <td>16</td>\n",
       "    </tr>\n",
       "    <tr>\n",
       "      <th>362803</th>\n",
       "      <td>25-34</td>\n",
       "      <td>Stop Smoking</td>\n",
       "      <td>11/13/2008</td>\n",
       "      <td>chantix</td>\n",
       "      <td>144470</td>\n",
       "      <td>2</td>\n",
       "      <td>4</td>\n",
       "      <td>As long as I was on chantix, I didn't smoke.  ...</td>\n",
       "      <td>2</td>\n",
       "      <td>Female</td>\n",
       "      <td>Nausea ,  headache ,  vomiting , drowsiness, g...</td>\n",
       "      <td>3</td>\n",
       "    </tr>\n",
       "    <tr>\n",
       "      <th>362804</th>\n",
       "      <td>55-64</td>\n",
       "      <td>Stop Smoking</td>\n",
       "      <td>11/13/2008</td>\n",
       "      <td>chantix</td>\n",
       "      <td>144470</td>\n",
       "      <td>5</td>\n",
       "      <td>5</td>\n",
       "      <td>Started this medication Oct 5th 2008. Haven't ...</td>\n",
       "      <td>5</td>\n",
       "      <td>Male</td>\n",
       "      <td>Nausea ,  headache ,  vomiting , drowsiness, g...</td>\n",
       "      <td>1</td>\n",
       "    </tr>\n",
       "    <tr>\n",
       "      <th>362805</th>\n",
       "      <td>45-54</td>\n",
       "      <td>Stop Smoking</td>\n",
       "      <td>11/12/2008</td>\n",
       "      <td>chantix</td>\n",
       "      <td>144470</td>\n",
       "      <td>4</td>\n",
       "      <td>5</td>\n",
       "      <td>One year ago, I tried Chantix and had to stop ...</td>\n",
       "      <td>5</td>\n",
       "      <td>Female</td>\n",
       "      <td>Nausea ,  headache ,  vomiting , drowsiness, g...</td>\n",
       "      <td>3</td>\n",
       "    </tr>\n",
       "  </tbody>\n",
       "</table>\n",
       "<p>362806 rows × 12 columns</p>\n",
       "</div>"
      ],
      "text/plain": [
       "               Age      Condition        Date                          Drug  \\\n",
       "0       75 or over    Stuffy Nose   9/21/2014                  25dph-7.5peh   \n",
       "1            25-34  Cold Symptoms   1/13/2011                  25dph-7.5peh   \n",
       "2            65-74          Other   7/16/2012  warfarin (bulk) 100 % powder   \n",
       "3       75 or over          Other   9/23/2010  warfarin (bulk) 100 % powder   \n",
       "4            35-44          Other    1/6/2009  warfarin (bulk) 100 % powder   \n",
       "...            ...            ...         ...                           ...   \n",
       "362801       55-64   Stop Smoking  11/14/2008                       chantix   \n",
       "362802                      Other  11/14/2008                       chantix   \n",
       "362803       25-34   Stop Smoking  11/13/2008                       chantix   \n",
       "362804       55-64   Stop Smoking  11/13/2008                       chantix   \n",
       "362805       45-54   Stop Smoking  11/12/2008                       chantix   \n",
       "\n",
       "        DrugId  EaseofUse  Effectiveness  \\\n",
       "0       146724          5              5   \n",
       "1       146724          5              5   \n",
       "2       144731          2              3   \n",
       "3       144731          2              2   \n",
       "4       144731          1              1   \n",
       "...        ...        ...            ...   \n",
       "362801  144470          5              5   \n",
       "362802  144470          2              3   \n",
       "362803  144470          2              4   \n",
       "362804  144470          5              5   \n",
       "362805  144470          4              5   \n",
       "\n",
       "                                                  Reviews  Satisfaction  \\\n",
       "0       I'm a retired physician and of all the meds I ...             5   \n",
       "1       cleared me right up even with my throat hurtin...             5   \n",
       "2       why did my PTINR go from a normal of 2.5 to ov...             3   \n",
       "3                            FALLING AND DON'T REALISE IT             1   \n",
       "4       My grandfather was prescribed this medication ...             1   \n",
       "...                                                   ...           ...   \n",
       "362801  I took the whole 12 weeks.I could have stopped...             5   \n",
       "362802  My dad strated taking Chantix about 1 month ag...             1   \n",
       "362803  As long as I was on chantix, I didn't smoke.  ...             2   \n",
       "362804  Started this medication Oct 5th 2008. Haven't ...             5   \n",
       "362805  One year ago, I tried Chantix and had to stop ...             5   \n",
       "\n",
       "           Sex                                              Sides  UsefulCount  \n",
       "0         Male  Drowsiness,  dizziness ,  dry mouth /nose/thro...            0  \n",
       "1       Female  Drowsiness,  dizziness ,  dry mouth /nose/thro...            1  \n",
       "2       Female                                                               0  \n",
       "3       Female                                                               0  \n",
       "4         Male                                                               1  \n",
       "...        ...                                                ...          ...  \n",
       "362801  Female  Nausea ,  headache ,  vomiting , drowsiness, g...            2  \n",
       "362802          Nausea ,  headache ,  vomiting , drowsiness, g...           16  \n",
       "362803  Female  Nausea ,  headache ,  vomiting , drowsiness, g...            3  \n",
       "362804    Male  Nausea ,  headache ,  vomiting , drowsiness, g...            1  \n",
       "362805  Female  Nausea ,  headache ,  vomiting , drowsiness, g...            3  \n",
       "\n",
       "[362806 rows x 12 columns]"
      ]
     },
     "execution_count": 60,
     "metadata": {},
     "output_type": "execute_result"
    }
   ],
   "source": [
    "df = pd.read_csv('data/webmd.csv')\n",
    "df"
   ]
  },
  {
   "cell_type": "markdown",
   "metadata": {},
   "source": [
    "### From Other Notebook"
   ]
  },
  {
   "cell_type": "code",
   "execution_count": 61,
   "metadata": {},
   "outputs": [
    {
     "name": "stdout",
     "output_type": "stream",
     "text": [
      "<class 'pandas.core.frame.DataFrame'>\n",
      "Int64Index: 250168 entries, 0 to 362805\n",
      "Data columns (total 12 columns):\n",
      " #   Column         Non-Null Count   Dtype         \n",
      "---  ------         --------------   -----         \n",
      " 0   Age            250167 non-null  object        \n",
      " 1   Condition      250168 non-null  object        \n",
      " 2   Date           250168 non-null  datetime64[ns]\n",
      " 3   Drug           250168 non-null  object        \n",
      " 4   DrugId         250168 non-null  int64         \n",
      " 5   EaseofUse      250168 non-null  int64         \n",
      " 6   Effectiveness  250168 non-null  int64         \n",
      " 7   Reviews        250167 non-null  object        \n",
      " 8   Satisfaction   250168 non-null  int64         \n",
      " 9   Sex            250168 non-null  object        \n",
      " 10  Sides          250168 non-null  object        \n",
      " 11  UsefulCount    250168 non-null  int64         \n",
      "dtypes: datetime64[ns](1), int64(5), object(6)\n",
      "memory usage: 24.8+ MB\n"
     ]
    }
   ],
   "source": [
    "df['Date'] = df['Date'].astype('datetime64[ns]')\n",
    "df = df.drop_duplicates('Reviews')\n",
    "df.info()"
   ]
  },
  {
   "cell_type": "code",
   "execution_count": 62,
   "metadata": {},
   "outputs": [
    {
     "data": {
      "text/plain": [
       "\"\\n#Only Drugs with more than 10 reviews\\nDrug = []\\nfor i in df['Drug'].unique():\\n    if np.sum(df.Drug == i) >= 10:\\n        Drug.append(i)\\n\\ntmp = []\\n\\nfor drugs in df['Drug']:\\n    if drugs in Drug:\\n        tmp.append(1)\\n    else:\\n        tmp.append(0)\\n\\ndf['temp'] = tmp\\ndf = df[df['temp'] == 1]\\n\""
      ]
     },
     "execution_count": 62,
     "metadata": {},
     "output_type": "execute_result"
    }
   ],
   "source": [
    "\"\"\"\n",
    "#Only Drugs with more than 10 reviews\n",
    "Drug = []\n",
    "for i in df['Drug'].unique():\n",
    "    if np.sum(df.Drug == i) >= 10:\n",
    "        Drug.append(i)\n",
    "\n",
    "tmp = []\n",
    "\n",
    "for drugs in df['Drug']:\n",
    "    if drugs in Drug:\n",
    "        tmp.append(1)\n",
    "    else:\n",
    "        tmp.append(0)\n",
    "\n",
    "df['temp'] = tmp\n",
    "df = df[df['temp'] == 1]\n",
    "\"\"\""
   ]
  },
  {
   "cell_type": "code",
   "execution_count": 63,
   "metadata": {},
   "outputs": [
    {
     "name": "stdout",
     "output_type": "stream",
     "text": [
      "Osteoporosis\n",
      "Post-Menopausal Osteoporosis Prevention\n",
      "Osteoporosis in Male Patient\n",
      "Aromatase Inhibitor Drug-Induced Osteoporosis\n",
      "Osteoporosis in Men due to Deficient Function of Testis\n",
      "Glucocorticoid-Induced Osteoporosis Prevention\n",
      "Osteoporosis caused by Glucocorticoid Drugs\n",
      "Osteoporosis caused by Anti-Androgen Drugs\n"
     ]
    }
   ],
   "source": [
    "for c in list(df['Condition'].unique()):\n",
    "    if(\"Osteoporosis\" in c):\n",
    "        print(c)"
   ]
  },
  {
   "cell_type": "markdown",
   "metadata": {},
   "source": [
    "# All Osteoporosis Illnesses in Female Patients"
   ]
  },
  {
   "cell_type": "code",
   "execution_count": 64,
   "metadata": {},
   "outputs": [],
   "source": [
    "\n",
    "df = df[df['Condition'].str.contains(\"osteoporosis\", case = False)]\n"
   ]
  },
  {
   "cell_type": "code",
   "execution_count": 65,
   "metadata": {},
   "outputs": [
    {
     "name": "stdout",
     "output_type": "stream",
     "text": [
      "number of reviews:  (1357, 12)\n",
      "number of males:  71\n",
      "number of females:  1110\n",
      "list of conditions: \n",
      " ['Osteoporosis' 'Post-Menopausal Osteoporosis Prevention'\n",
      " 'Osteoporosis in Male Patient'\n",
      " 'Aromatase Inhibitor Drug-Induced Osteoporosis'\n",
      " 'Osteoporosis in Men due to Deficient Function of Testis'\n",
      " 'Glucocorticoid-Induced Osteoporosis Prevention'\n",
      " 'Osteoporosis caused by Glucocorticoid Drugs'\n",
      " 'osteoporosis in postmenopausal woman at high risk for fracture'\n",
      " 'Osteoporosis caused by Anti-Androgen Drugs']\n",
      "number of conditions:  (9,)\n",
      "number of drugs:  (70,)\n",
      "2007-09-18 00:00:00\n",
      "2020-02-27 00:00:00\n"
     ]
    }
   ],
   "source": [
    "print('number of reviews: ', df.shape)\n",
    "print(\"number of males: \", sum(df['Sex'] == 'Male'))\n",
    "print(\"number of females: \", sum(df['Sex'] == 'Female'))\n",
    "print('list of conditions: \\n', df['Condition'].unique())\n",
    "print('number of conditions: ', df['Condition'].unique().shape)\n",
    "print('number of drugs: ', df['Drug'].unique().shape)\n",
    "print(min(df['Date']))\n",
    "print(max(df['Date']))"
   ]
  },
  {
   "cell_type": "code",
   "execution_count": 66,
   "metadata": {},
   "outputs": [],
   "source": [
    "df = df[df['Sex'] == 'Female']"
   ]
  },
  {
   "cell_type": "markdown",
   "metadata": {},
   "source": [
    "# ONLY Osteoporosis"
   ]
  },
  {
   "cell_type": "code",
   "execution_count": 67,
   "metadata": {},
   "outputs": [
    {
     "name": "stderr",
     "output_type": "stream",
     "text": [
      "C:\\Users\\Blaise.Derenze\\AppData\\Local\\Temp\\ipykernel_15552\\1355743546.py:2: SettingWithCopyWarning: \n",
      "A value is trying to be set on a copy of a slice from a DataFrame.\n",
      "Try using .loc[row_indexer,col_indexer] = value instead\n",
      "\n",
      "See the caveats in the documentation: https://pandas.pydata.org/pandas-docs/stable/user_guide/indexing.html#returning-a-view-versus-a-copy\n",
      "  df_ost['Year'] = df_ost['Date'].dt.year\n"
     ]
    }
   ],
   "source": [
    "df_ost = df[df['Condition'] == \"Osteoporosis\"]\n",
    "df_ost['Year'] = df_ost['Date'].dt.year"
   ]
  },
  {
   "cell_type": "code",
   "execution_count": 68,
   "metadata": {},
   "outputs": [
    {
     "name": "stdout",
     "output_type": "stream",
     "text": [
      "number of reviews:  (706, 13)\n",
      "number of males:  0\n",
      "number of females:  706\n",
      "list of conditions: \n",
      " ['Osteoporosis']\n",
      "number of conditions:  (1,)\n",
      "number of drugs:  (29,)\n",
      "2007-09-18 00:00:00\n",
      "2019-12-29 00:00:00\n"
     ]
    }
   ],
   "source": [
    "print('number of reviews: ', df_ost.shape)\n",
    "print(\"number of males: \", sum(df_ost['Sex'] == 'Male'))\n",
    "print(\"number of females: \", sum(df_ost['Sex'] == 'Female'))\n",
    "print('list of conditions: \\n', df_ost['Condition'].unique())\n",
    "print('number of conditions: ', df_ost['Condition'].unique().shape)\n",
    "print('number of drugs: ', df_ost['Drug'].unique().shape)\n",
    "print(min(df_ost['Date']))\n",
    "print(max(df_ost['Date']))"
   ]
  },
  {
   "cell_type": "code",
   "execution_count": 69,
   "metadata": {},
   "outputs": [
    {
     "data": {
      "text/plain": [
       "'df_ost[\"Age\"] = df_ost[\"Age\"].replace(\\n    [\"25-34\",\"45-54\",\"65-74\",\"75 or over\",\"55-64\",\"35-44\",\"19-24\",\"13-18\",\"7-12\", \"\"], \\n    [\"Under 45\",\"45-54\", \"65-74\", \"75+\", \"55-64\", \"Under 45\", \"Under 45\", \"Under 45\", \"Under 45\", \"Blank\"])'"
      ]
     },
     "execution_count": 69,
     "metadata": {},
     "output_type": "execute_result"
    }
   ],
   "source": [
    "#Recoding Age\n",
    "'''df_ost[\"Age\"] = df_ost[\"Age\"].replace(\n",
    "    [\"25-34\",\"45-54\",\"65-74\",\"75 or over\",\"55-64\",\"35-44\",\"19-24\",\"13-18\",\"7-12\", \"\"], \n",
    "    [\"Under 45\",\"45-54\", \"65-74\", \"75+\", \"55-64\", \"Under 45\", \"Under 45\", \"Under 45\", \"Under 45\", \"Blank\"])'''"
   ]
  },
  {
   "cell_type": "code",
   "execution_count": 70,
   "metadata": {},
   "outputs": [
    {
     "data": {
      "image/png": "[encoded data removed]",
      "text/plain": [
       "<Figure size 432x288 with 2 Axes>"
      ]
     },
     "metadata": {
      "needs_background": "light"
     },
     "output_type": "display_data"
    }
   ],
   "source": [
    "fig, axs = plt.subplots(ncols=2)\n",
    "sns.countplot(x=\"Satisfaction\", color = 'skyblue', data = df_ost, ax = axs[0])\n",
    "sns.countplot(x=\"Satisfaction\", color = 'skyblue', data = df_ost[df_ost['Sex'] == 'Female'], ax = axs[1])\n",
    "#axs[1].set_xlabel('Satisfaction')\n",
    "#axs[0].set_ylabel('Count')\n",
    "#axs[0].set_title('Distribution of average drug satisfaction  \\n General Female')\n",
    "plt.subplots_adjust(left=0.1,\n",
    "                    bottom=0.1, \n",
    "                    right=1.2, \n",
    "                    top=0.9, \n",
    "                    wspace=0.4, \n",
    "                    hspace=0.4)"
   ]
  },
  {
   "cell_type": "code",
   "execution_count": 71,
   "metadata": {},
   "outputs": [
    {
     "data": {
      "text/html": [
       "<div>\n",
       "<style scoped>\n",
       "    .dataframe tbody tr th:only-of-type {\n",
       "        vertical-align: middle;\n",
       "    }\n",
       "\n",
       "    .dataframe tbody tr th {\n",
       "        vertical-align: top;\n",
       "    }\n",
       "\n",
       "    .dataframe thead th {\n",
       "        text-align: right;\n",
       "    }\n",
       "</style>\n",
       "<table border=\"1\" class=\"dataframe\">\n",
       "  <thead>\n",
       "    <tr style=\"text-align: right;\">\n",
       "      <th></th>\n",
       "      <th>Drug</th>\n",
       "      <th>Satisfaction</th>\n",
       "    </tr>\n",
       "  </thead>\n",
       "  <tbody>\n",
       "    <tr>\n",
       "      <th>0</th>\n",
       "      <td>actical</td>\n",
       "      <td>5.000000</td>\n",
       "    </tr>\n",
       "    <tr>\n",
       "      <th>1</th>\n",
       "      <td>calcium-magnesium-zinc 333 mg-133 mg-5 mg tablet</td>\n",
       "      <td>5.000000</td>\n",
       "    </tr>\n",
       "    <tr>\n",
       "      <th>2</th>\n",
       "      <td>replesta</td>\n",
       "      <td>5.000000</td>\n",
       "    </tr>\n",
       "    <tr>\n",
       "      <th>3</th>\n",
       "      <td>liquid calcium + vitamin d</td>\n",
       "      <td>5.000000</td>\n",
       "    </tr>\n",
       "    <tr>\n",
       "      <th>4</th>\n",
       "      <td>drisdol</td>\n",
       "      <td>5.000000</td>\n",
       "    </tr>\n",
       "    <tr>\n",
       "      <th>5</th>\n",
       "      <td>citracal-vitamin d tablet</td>\n",
       "      <td>5.000000</td>\n",
       "    </tr>\n",
       "    <tr>\n",
       "      <th>6</th>\n",
       "      <td>c calcium</td>\n",
       "      <td>5.000000</td>\n",
       "    </tr>\n",
       "    <tr>\n",
       "      <th>7</th>\n",
       "      <td>bio-d-mulsion forte drops</td>\n",
       "      <td>5.000000</td>\n",
       "    </tr>\n",
       "    <tr>\n",
       "      <th>8</th>\n",
       "      <td>calcium 600 + vitamin d</td>\n",
       "      <td>4.000000</td>\n",
       "    </tr>\n",
       "    <tr>\n",
       "      <th>9</th>\n",
       "      <td>citracal + d maximum</td>\n",
       "      <td>3.333333</td>\n",
       "    </tr>\n",
       "    <tr>\n",
       "      <th>10</th>\n",
       "      <td>calcium 600 mg (1,500 mg) tablet</td>\n",
       "      <td>3.000000</td>\n",
       "    </tr>\n",
       "    <tr>\n",
       "      <th>11</th>\n",
       "      <td>vitamin d3</td>\n",
       "      <td>3.000000</td>\n",
       "    </tr>\n",
       "    <tr>\n",
       "      <th>12</th>\n",
       "      <td>citracal + d</td>\n",
       "      <td>3.000000</td>\n",
       "    </tr>\n",
       "    <tr>\n",
       "      <th>13</th>\n",
       "      <td>duavee</td>\n",
       "      <td>3.000000</td>\n",
       "    </tr>\n",
       "    <tr>\n",
       "      <th>14</th>\n",
       "      <td>reclast bottle, infusion</td>\n",
       "      <td>2.779710</td>\n",
       "    </tr>\n",
       "    <tr>\n",
       "      <th>15</th>\n",
       "      <td>actonel 35 mg tablet</td>\n",
       "      <td>2.272727</td>\n",
       "    </tr>\n",
       "    <tr>\n",
       "      <th>16</th>\n",
       "      <td>viactiv</td>\n",
       "      <td>2.250000</td>\n",
       "    </tr>\n",
       "    <tr>\n",
       "      <th>17</th>\n",
       "      <td>zometa vial</td>\n",
       "      <td>2.000000</td>\n",
       "    </tr>\n",
       "    <tr>\n",
       "      <th>18</th>\n",
       "      <td>prolia syringe</td>\n",
       "      <td>1.977401</td>\n",
       "    </tr>\n",
       "    <tr>\n",
       "      <th>19</th>\n",
       "      <td>actonel tablet osteoporosis agents</td>\n",
       "      <td>1.963855</td>\n",
       "    </tr>\n",
       "    <tr>\n",
       "      <th>20</th>\n",
       "      <td>atelvia</td>\n",
       "      <td>1.883721</td>\n",
       "    </tr>\n",
       "    <tr>\n",
       "      <th>21</th>\n",
       "      <td>oyster shell + d</td>\n",
       "      <td>1.000000</td>\n",
       "    </tr>\n",
       "    <tr>\n",
       "      <th>22</th>\n",
       "      <td>os-cal 500-vit d3</td>\n",
       "      <td>1.000000</td>\n",
       "    </tr>\n",
       "    <tr>\n",
       "      <th>23</th>\n",
       "      <td>risedronate sodium</td>\n",
       "      <td>1.000000</td>\n",
       "    </tr>\n",
       "    <tr>\n",
       "      <th>24</th>\n",
       "      <td>calcitrate + vit d</td>\n",
       "      <td>1.000000</td>\n",
       "    </tr>\n",
       "    <tr>\n",
       "      <th>25</th>\n",
       "      <td>calcium citrate 200 mg (950 mg) tablet</td>\n",
       "      <td>1.000000</td>\n",
       "    </tr>\n",
       "    <tr>\n",
       "      <th>26</th>\n",
       "      <td>vitamin d3 tablet</td>\n",
       "      <td>1.000000</td>\n",
       "    </tr>\n",
       "    <tr>\n",
       "      <th>27</th>\n",
       "      <td>zoledronic acid vial</td>\n",
       "      <td>1.000000</td>\n",
       "    </tr>\n",
       "    <tr>\n",
       "      <th>28</th>\n",
       "      <td>calcitrate</td>\n",
       "      <td>1.000000</td>\n",
       "    </tr>\n",
       "  </tbody>\n",
       "</table>\n",
       "</div>"
      ],
      "text/plain": [
       "                                                Drug  Satisfaction\n",
       "0                                            actical      5.000000\n",
       "1   calcium-magnesium-zinc 333 mg-133 mg-5 mg tablet      5.000000\n",
       "2                                           replesta      5.000000\n",
       "3                         liquid calcium + vitamin d      5.000000\n",
       "4                                            drisdol      5.000000\n",
       "5                          citracal-vitamin d tablet      5.000000\n",
       "6                                          c calcium      5.000000\n",
       "7                          bio-d-mulsion forte drops      5.000000\n",
       "8                            calcium 600 + vitamin d      4.000000\n",
       "9                               citracal + d maximum      3.333333\n",
       "10                  calcium 600 mg (1,500 mg) tablet      3.000000\n",
       "11                                        vitamin d3      3.000000\n",
       "12                                      citracal + d      3.000000\n",
       "13                                            duavee      3.000000\n",
       "14                          reclast bottle, infusion      2.779710\n",
       "15                              actonel 35 mg tablet      2.272727\n",
       "16                                           viactiv      2.250000\n",
       "17                                       zometa vial      2.000000\n",
       "18                                    prolia syringe      1.977401\n",
       "19                actonel tablet osteoporosis agents      1.963855\n",
       "20                                           atelvia      1.883721\n",
       "21                                  oyster shell + d      1.000000\n",
       "22                                 os-cal 500-vit d3      1.000000\n",
       "23                                risedronate sodium      1.000000\n",
       "24                                calcitrate + vit d      1.000000\n",
       "25            calcium citrate 200 mg (950 mg) tablet      1.000000\n",
       "26                                 vitamin d3 tablet      1.000000\n",
       "27                              zoledronic acid vial      1.000000\n",
       "28                                        calcitrate      1.000000"
      ]
     },
     "execution_count": 71,
     "metadata": {},
     "output_type": "execute_result"
    }
   ],
   "source": [
    "df_ost.groupby(\"Drug\")[\"Satisfaction\"].mean().sort_values(ascending = False).reset_index()"
   ]
  },
  {
   "cell_type": "code",
   "execution_count": 72,
   "metadata": {},
   "outputs": [
    {
     "data": {
      "text/plain": [
       "<AxesSubplot:xlabel='Year', ylabel='Satisfaction'>"
      ]
     },
     "execution_count": 72,
     "metadata": {},
     "output_type": "execute_result"
    },
    {
     "data": {
      "image/png": "[encoded data removed]",
      "text/plain": [
       "<Figure size 432x288 with 1 Axes>"
      ]
     },
     "metadata": {
      "needs_background": "light"
     },
     "output_type": "display_data"
    }
   ],
   "source": [
    "df_drug_reclast = df_ost.loc[df_ost['Drug'].str.contains(\"reclast bottle, infusion\", case=False)]\n",
    "df_drug_zometa = df_ost.loc[df_ost['Drug'].str.contains(\"actonel 35 mg tablet\", case=False)]\n",
    "df_drug_prolia = df_ost.loc[df_ost['Drug'].str.contains(\"zometa vial\", case=False)]\n",
    "#df_drug4 = df_ost.loc[df_ost['Drug'].str.contains(\"actonel 35 mg tablet\", case=False)]\n",
    "\n",
    "df_drugs = pd.concat([df_drug_reclast,df_drug_zometa,df_drug_prolia])\n",
    "\n",
    "sns.lineplot(x = 'Year', y = 'Satisfaction', hue = 'Drug', data=df_drugs.groupby([\"Year\", \"Drug\"])[\"Satisfaction\"].mean().reset_index())"
   ]
  },
  {
   "cell_type": "markdown",
   "metadata": {},
   "source": [
    "# Bin 0-54, 55-64, 65-74, 75+"
   ]
  },
  {
   "cell_type": "code",
   "execution_count": 73,
   "metadata": {},
   "outputs": [
    {
     "name": "stderr",
     "output_type": "stream",
     "text": [
      "C:\\Users\\Blaise.Derenze\\AppData\\Local\\Temp\\ipykernel_15552\\490762108.py:25: SettingWithCopyWarning: \n",
      "A value is trying to be set on a copy of a slice from a DataFrame.\n",
      "Try using .loc[row_indexer,col_indexer] = value instead\n",
      "\n",
      "See the caveats in the documentation: https://pandas.pydata.org/pandas-docs/stable/user_guide/indexing.html#returning-a-view-versus-a-copy\n",
      "  df_ost['Age'] = bin_age\n"
     ]
    }
   ],
   "source": [
    "bin_age = []\n",
    "\n",
    "for age in df_ost['Age']:\n",
    "    if age == '7-12':\n",
    "        bin_age.append('0-44')\n",
    "    elif age == '13-18':\n",
    "        bin_age.append('0-44')\n",
    "    elif age == '19-24':\n",
    "        bin_age.append('0-44')\n",
    "    elif age == '25-34':\n",
    "        bin_age.append('0-44')\n",
    "    elif age == '35-44':\n",
    "        bin_age.append('0-44')\n",
    "    elif age == '45-54':\n",
    "        bin_age.append('45-54')\n",
    "    elif age == '55-64':\n",
    "        bin_age.append('55-64')\n",
    "    elif age == '65-74':\n",
    "        bin_age.append('65-74')\n",
    "    elif age == '75 or over':\n",
    "        bin_age.append('75+')\n",
    "    else:\n",
    "        bin_age.append('Blank')\n",
    "\n",
    "df_ost['Age'] = bin_age"
   ]
  },
  {
   "cell_type": "code",
   "execution_count": 74,
   "metadata": {},
   "outputs": [
    {
     "data": {
      "text/plain": [
       "array(['65-74', '45-54', '75+', '55-64', 'Blank', '0-44'], dtype=object)"
      ]
     },
     "execution_count": 74,
     "metadata": {},
     "output_type": "execute_result"
    }
   ],
   "source": [
    "df_ost['Age'].unique()"
   ]
  },
  {
   "cell_type": "code",
   "execution_count": 75,
   "metadata": {},
   "outputs": [
    {
     "data": {
      "text/plain": [
       "<AxesSubplot:title={'center':'Count Across Age Group'}, xlabel='Age', ylabel='count'>"
      ]
     },
     "execution_count": 75,
     "metadata": {},
     "output_type": "execute_result"
    },
    {
     "data": {
      "image/png": "[encoded data removed]",
      "text/plain": [
       "<Figure size 432x288 with 1 Axes>"
      ]
     },
     "metadata": {
      "needs_background": "light"
     },
     "output_type": "display_data"
    }
   ],
   "source": [
    "plt.title('Count Across Age Group')\n",
    "sns.countplot(x = 'Age', data = df_ost, color = 'skyblue', order=[\"0-54\", \"55-64\", \"65-74\", \"75+\", \"Blank\"])"
   ]
  },
  {
   "cell_type": "code",
   "execution_count": 76,
   "metadata": {},
   "outputs": [
    {
     "data": {
      "text/plain": [
       "<AxesSubplot:title={'center':'Ratings for Women Across Age Group'}, xlabel='Age', ylabel='Satisfaction'>"
      ]
     },
     "execution_count": 76,
     "metadata": {},
     "output_type": "execute_result"
    },
    {
     "data": {
      "image/png": "[encoded data removed]",
      "text/plain": [
       "<Figure size 432x288 with 1 Axes>"
      ]
     },
     "metadata": {
      "needs_background": "light"
     },
     "output_type": "display_data"
    }
   ],
   "source": [
    "plt.title('Ratings for Women Across Age Group')\n",
    "sns.barplot(x='Age', y = 'Satisfaction', data = df_ost[df_ost['Sex'] == 'Female'].groupby(\"Age\")[\"Satisfaction\"].mean().reset_index(), color = 'skyblue')"
   ]
  },
  {
   "cell_type": "code",
   "execution_count": 77,
   "metadata": {},
   "outputs": [
    {
     "data": {
      "image/png": "[encoded data removed]",
      "text/plain": [
       "<Figure size 2160x432 with 1 Axes>"
      ]
     },
     "metadata": {
      "needs_background": "light"
     },
     "output_type": "display_data"
    }
   ],
   "source": [
    "fig, ax = plt.subplots()\n",
    "fig.set_size_inches(30,6)\n",
    "sns_count = sns.countplot(x = 'Drug', hue = 'Age', data = df_ost)\n",
    "plt.setp(sns_count.get_xticklabels(), rotation=90, fontsize = 15);"
   ]
  },
  {
   "cell_type": "markdown",
   "metadata": {},
   "source": [
    "# Miscellaneous"
   ]
  },
  {
   "cell_type": "code",
   "execution_count": 78,
   "metadata": {},
   "outputs": [
    {
     "data": {
      "text/plain": [
       "Text(0.5, 1.0, 'Top: The number of drugs per condition.')"
      ]
     },
     "execution_count": 78,
     "metadata": {},
     "output_type": "execute_result"
    },
    {
     "data": {
      "image/png": "[encoded data removed]",
      "text/plain": [
       "<Figure size 432x288 with 1 Axes>"
      ]
     },
     "metadata": {
      "needs_background": "light"
     },
     "output_type": "display_data"
    }
   ],
   "source": [
    "condition_dn = df_ost.groupby(['Condition'])['Drug'].nunique().sort_values(ascending=False)\n",
    "condition_dn[0:20].plot(kind=\"bar\",color=\"skyblue\")\n",
    "plt.xlabel(\"\")\n",
    "plt.ylabel(\"\")\n",
    "plt.title(\"Top: The number of drugs per condition.\")\n",
    "\n",
    "#figsize = (14,6), fontsize = 10,"
   ]
  },
  {
   "cell_type": "code",
   "execution_count": 79,
   "metadata": {},
   "outputs": [
    {
     "data": {
      "image/png": "[encoded data removed]",
      "text/plain": [
       "<Figure size 432x288 with 1 Axes>"
      ]
     },
     "metadata": {
      "needs_background": "light"
     },
     "output_type": "display_data"
    }
   ],
   "source": [
    "# This barplot shows the Top 20 drugs with the 1/5 rating\n",
    "\n",
    "# Setting the Parameter\n",
    "#sns.set(font_scale = 1.2, style = 'darkgrid')\n",
    "#plt.rcParams['figure.figsize'] = [15, 8]\n",
    "\n",
    "rating = dict(df_ost.loc[df_ost.Satisfaction == 1, \"Drug\"].value_counts())\n",
    "drugname = list(rating.keys())\n",
    "drug_rating = list(rating.values())\n",
    "\n",
    "sns_rating = sns.barplot(x = drugname[0:20], y = drug_rating[0:20], color = 'skyblue')\n",
    "\n",
    "sns_rating.set_title('Top drugs with 1/5 rating')\n",
    "sns_rating.set_ylabel(\"Number of Ratings\")\n",
    "sns_rating.set_xlabel(\"Drug Names\")\n",
    "plt.setp(sns_rating.get_xticklabels(), rotation=90);"
   ]
  },
  {
   "cell_type": "code",
   "execution_count": 80,
   "metadata": {},
   "outputs": [],
   "source": [
    "# Make dictionary of conditions, each value will be a dataframe of all of the drugs used to treat the given condition\n",
    "help_dict = {}\n",
    "\n",
    "# Iterate over conditions\n",
    "for i in df_ost.Condition.unique():\n",
    "    \n",
    "    temp_ls = []\n",
    "    \n",
    "    # Iterate over drugs within a given condition\n",
    "    for j in df_ost[df_ost.Condition == i].Drug.unique():\n",
    "        \n",
    "        # If there are at least 10 reviews for a drug, save its name and average rating in temporary list\n",
    "        if np.sum(df_ost.Drug == j) >= 10:\n",
    "            temp_ls.append((j, np.sum(df_ost[df_ost.Drug == j].Satisfaction) / np.sum(df_ost.Drug == j)))\n",
    "        \n",
    "    # Save temporary list as a dataframe as a value in help dictionary, sorted best to worst drugs\n",
    "    help_dict[i] = pd.DataFrame(data=temp_ls, columns=['drug', 'average_rating']).sort_values(by='average_rating', ascending=False).reset_index(drop=True)"
   ]
  },
  {
   "cell_type": "markdown",
   "metadata": {},
   "source": [
    "# Review Categories"
   ]
  },
  {
   "cell_type": "code",
   "execution_count": 81,
   "metadata": {},
   "outputs": [
    {
     "data": {
      "text/plain": [
       "Index(['Age', 'Condition', 'Date', 'Drug', 'DrugId', 'EaseofUse',\n",
       "       'Effectiveness', 'Reviews', 'Satisfaction', 'Sex', 'Sides',\n",
       "       'UsefulCount'],\n",
       "      dtype='object')"
      ]
     },
     "execution_count": 81,
     "metadata": {},
     "output_type": "execute_result"
    }
   ],
   "source": [
    "df.columns"
   ]
  },
  {
   "cell_type": "code",
   "execution_count": 82,
   "metadata": {},
   "outputs": [
    {
     "data": {
      "image/png": "[encoded data removed]",
      "text/plain": [
       "<Figure size 432x288 with 1 Axes>"
      ]
     },
     "metadata": {
      "needs_background": "light"
     },
     "output_type": "display_data"
    },
    {
     "data": {
      "image/png": "[encoded data removed]",
      "text/plain": [
       "<Figure size 432x288 with 1 Axes>"
      ]
     },
     "metadata": {
      "needs_background": "light"
     },
     "output_type": "display_data"
    },
    {
     "data": {
      "image/png": "[encoded data removed]",
      "text/plain": [
       "<Figure size 432x288 with 1 Axes>"
      ]
     },
     "metadata": {
      "needs_background": "light"
     },
     "output_type": "display_data"
    }
   ],
   "source": [
    "plt.title(\"Review Score Distribution(Overall)\")\n",
    "sns.histplot(df_ost['Satisfaction'])\n",
    "plt.show()\n",
    "plt.title(\"Review Score Distribution(Ease)\")\n",
    "sns.histplot(df_ost['EaseofUse'])\n",
    "plt.show()\n",
    "plt.title(\"Review Score Distribution(Effectiveness)\")\n",
    "sns.histplot(df_ost['Effectiveness'])\n",
    "plt.show()"
   ]
  },
  {
   "cell_type": "code",
   "execution_count": 83,
   "metadata": {},
   "outputs": [
    {
     "data": {
      "text/plain": [
       "<AxesSubplot:title={'center':'Correlation of Review Score Categories'}>"
      ]
     },
     "execution_count": 83,
     "metadata": {},
     "output_type": "execute_result"
    },
    {
     "data": {
      "image/png": "[encoded data removed]",
      "text/plain": [
       "<Figure size 432x288 with 2 Axes>"
      ]
     },
     "metadata": {
      "needs_background": "light"
     },
     "output_type": "display_data"
    }
   ],
   "source": [
    "plt.title('Correlation of Review Score Categories')\n",
    "sns.heatmap(df_ost[['EaseofUse', 'Effectiveness', 'Satisfaction']].corr(), annot = True, fmt='.2g',cmap= 'winter')\n",
    "#should make diagonal maybe"
   ]
  },
  {
   "cell_type": "markdown",
   "metadata": {},
   "source": [
    "Effectiveness more correlated with satisfaction "
   ]
  },
  {
   "cell_type": "code",
   "execution_count": 84,
   "metadata": {},
   "outputs": [],
   "source": [
    "from copy import deepcopy as copy"
   ]
  },
  {
   "cell_type": "code",
   "execution_count": 85,
   "metadata": {},
   "outputs": [
    {
     "data": {
      "text/html": [
       "<div>\n",
       "<style scoped>\n",
       "    .dataframe tbody tr th:only-of-type {\n",
       "        vertical-align: middle;\n",
       "    }\n",
       "\n",
       "    .dataframe tbody tr th {\n",
       "        vertical-align: top;\n",
       "    }\n",
       "\n",
       "    .dataframe thead th {\n",
       "        text-align: right;\n",
       "    }\n",
       "</style>\n",
       "<table border=\"1\" class=\"dataframe\">\n",
       "  <thead>\n",
       "    <tr style=\"text-align: right;\">\n",
       "      <th></th>\n",
       "      <th>Age</th>\n",
       "      <th>Condition</th>\n",
       "      <th>Date</th>\n",
       "      <th>Drug</th>\n",
       "      <th>DrugId</th>\n",
       "      <th>EaseofUse</th>\n",
       "      <th>Effectiveness</th>\n",
       "      <th>Reviews</th>\n",
       "      <th>Satisfaction</th>\n",
       "      <th>Sex</th>\n",
       "      <th>Sides</th>\n",
       "      <th>UsefulCount</th>\n",
       "      <th>Year</th>\n",
       "    </tr>\n",
       "  </thead>\n",
       "  <tbody>\n",
       "    <tr>\n",
       "      <th>245120</th>\n",
       "      <td>0-44</td>\n",
       "      <td>Osteoporosis</td>\n",
       "      <td>2008-05-28</td>\n",
       "      <td>actonel 35 mg tablet</td>\n",
       "      <td>16383</td>\n",
       "      <td>3</td>\n",
       "      <td>1</td>\n",
       "      <td>I've been on Actonel for three months. I began...</td>\n",
       "      <td>1</td>\n",
       "      <td>Female</td>\n",
       "      <td>Stomach  upset may occur.</td>\n",
       "      <td>24</td>\n",
       "      <td>2008</td>\n",
       "    </tr>\n",
       "    <tr>\n",
       "      <th>245446</th>\n",
       "      <td>0-44</td>\n",
       "      <td>Osteoporosis</td>\n",
       "      <td>2008-11-25</td>\n",
       "      <td>actonel tablet osteoporosis agents</td>\n",
       "      <td>16383</td>\n",
       "      <td>1</td>\n",
       "      <td>1</td>\n",
       "      <td>35 year old female:My first dose of Actonel Sa...</td>\n",
       "      <td>1</td>\n",
       "      <td>Female</td>\n",
       "      <td>Upset stomach  may occur.</td>\n",
       "      <td>29</td>\n",
       "      <td>2008</td>\n",
       "    </tr>\n",
       "    <tr>\n",
       "      <th>109131</th>\n",
       "      <td>0-44</td>\n",
       "      <td>Osteoporosis</td>\n",
       "      <td>2015-09-24</td>\n",
       "      <td>prolia syringe</td>\n",
       "      <td>154218</td>\n",
       "      <td>1</td>\n",
       "      <td>1</td>\n",
       "      <td>Do not let your elderly parent take this Proli...</td>\n",
       "      <td>1</td>\n",
       "      <td>Female</td>\n",
       "      <td></td>\n",
       "      <td>62</td>\n",
       "      <td>2015</td>\n",
       "    </tr>\n",
       "    <tr>\n",
       "      <th>146418</th>\n",
       "      <td>0-44</td>\n",
       "      <td>Osteoporosis</td>\n",
       "      <td>2011-12-14</td>\n",
       "      <td>reclast bottle, infusion</td>\n",
       "      <td>148235</td>\n",
       "      <td>5</td>\n",
       "      <td>4</td>\n",
       "      <td>After being diagnosed with osteoporosis at 40,...</td>\n",
       "      <td>4</td>\n",
       "      <td>Female</td>\n",
       "      <td>Nausea , tiredness,  flu -like symptoms (e.g.,...</td>\n",
       "      <td>27</td>\n",
       "      <td>2011</td>\n",
       "    </tr>\n",
       "    <tr>\n",
       "      <th>169451</th>\n",
       "      <td>0-44</td>\n",
       "      <td>Osteoporosis</td>\n",
       "      <td>2011-01-20</td>\n",
       "      <td>zometa vial</td>\n",
       "      <td>21757</td>\n",
       "      <td>2</td>\n",
       "      <td>5</td>\n",
       "      <td>1st dose real bad side effects 2 days then eas...</td>\n",
       "      <td>1</td>\n",
       "      <td>Female</td>\n",
       "      <td>Dizziness ,  headache , tiredness, or  flu -li...</td>\n",
       "      <td>4</td>\n",
       "      <td>2011</td>\n",
       "    </tr>\n",
       "    <tr>\n",
       "      <th>...</th>\n",
       "      <td>...</td>\n",
       "      <td>...</td>\n",
       "      <td>...</td>\n",
       "      <td>...</td>\n",
       "      <td>...</td>\n",
       "      <td>...</td>\n",
       "      <td>...</td>\n",
       "      <td>...</td>\n",
       "      <td>...</td>\n",
       "      <td>...</td>\n",
       "      <td>...</td>\n",
       "      <td>...</td>\n",
       "      <td>...</td>\n",
       "    </tr>\n",
       "    <tr>\n",
       "      <th>109665</th>\n",
       "      <td>75+</td>\n",
       "      <td>Osteoporosis</td>\n",
       "      <td>2013-10-06</td>\n",
       "      <td>prolia syringe</td>\n",
       "      <td>154218</td>\n",
       "      <td>1</td>\n",
       "      <td>1</td>\n",
       "      <td>3 weeks after getting the Prolia injection I s...</td>\n",
       "      <td>1</td>\n",
       "      <td>Female</td>\n",
       "      <td></td>\n",
       "      <td>34</td>\n",
       "      <td>2013</td>\n",
       "    </tr>\n",
       "    <tr>\n",
       "      <th>109719</th>\n",
       "      <td>75+</td>\n",
       "      <td>Osteoporosis</td>\n",
       "      <td>2013-05-20</td>\n",
       "      <td>prolia syringe</td>\n",
       "      <td>154218</td>\n",
       "      <td>5</td>\n",
       "      <td>2</td>\n",
       "      <td>I have had 2 injections of Prolia.  Last month...</td>\n",
       "      <td>1</td>\n",
       "      <td>Female</td>\n",
       "      <td></td>\n",
       "      <td>38</td>\n",
       "      <td>2013</td>\n",
       "    </tr>\n",
       "    <tr>\n",
       "      <th>241743</th>\n",
       "      <td>75+</td>\n",
       "      <td>Osteoporosis</td>\n",
       "      <td>2014-09-22</td>\n",
       "      <td>atelvia</td>\n",
       "      <td>154925</td>\n",
       "      <td>4</td>\n",
       "      <td>4</td>\n",
       "      <td>I took Forteo to build up my bones and Atelvia...</td>\n",
       "      <td>4</td>\n",
       "      <td>Female</td>\n",
       "      <td>Stomach / abdominal pain ,  nausea ,  vomiting...</td>\n",
       "      <td>5</td>\n",
       "      <td>2014</td>\n",
       "    </tr>\n",
       "    <tr>\n",
       "      <th>109604</th>\n",
       "      <td>75+</td>\n",
       "      <td>Osteoporosis</td>\n",
       "      <td>2013-12-07</td>\n",
       "      <td>prolia syringe</td>\n",
       "      <td>154218</td>\n",
       "      <td>1</td>\n",
       "      <td>1</td>\n",
       "      <td>I am not certain of the effectiveness of Proli...</td>\n",
       "      <td>1</td>\n",
       "      <td>Female</td>\n",
       "      <td></td>\n",
       "      <td>32</td>\n",
       "      <td>2013</td>\n",
       "    </tr>\n",
       "    <tr>\n",
       "      <th>148047</th>\n",
       "      <td>75+</td>\n",
       "      <td>Osteoporosis</td>\n",
       "      <td>2009-09-01</td>\n",
       "      <td>reclast bottle, infusion</td>\n",
       "      <td>148235</td>\n",
       "      <td>5</td>\n",
       "      <td>1</td>\n",
       "      <td>My mother was 82 when her Dr. gave her reclast...</td>\n",
       "      <td>1</td>\n",
       "      <td>Female</td>\n",
       "      <td>Nausea , tiredness,  flu -like symptoms (e.g.,...</td>\n",
       "      <td>30</td>\n",
       "      <td>2009</td>\n",
       "    </tr>\n",
       "  </tbody>\n",
       "</table>\n",
       "<p>699 rows × 13 columns</p>\n",
       "</div>"
      ],
      "text/plain": [
       "         Age     Condition       Date                                Drug  \\\n",
       "245120  0-44  Osteoporosis 2008-05-28                actonel 35 mg tablet   \n",
       "245446  0-44  Osteoporosis 2008-11-25  actonel tablet osteoporosis agents   \n",
       "109131  0-44  Osteoporosis 2015-09-24                      prolia syringe   \n",
       "146418  0-44  Osteoporosis 2011-12-14            reclast bottle, infusion   \n",
       "169451  0-44  Osteoporosis 2011-01-20                         zometa vial   \n",
       "...      ...           ...        ...                                 ...   \n",
       "109665   75+  Osteoporosis 2013-10-06                      prolia syringe   \n",
       "109719   75+  Osteoporosis 2013-05-20                      prolia syringe   \n",
       "241743   75+  Osteoporosis 2014-09-22                             atelvia   \n",
       "109604   75+  Osteoporosis 2013-12-07                      prolia syringe   \n",
       "148047   75+  Osteoporosis 2009-09-01            reclast bottle, infusion   \n",
       "\n",
       "        DrugId  EaseofUse  Effectiveness  \\\n",
       "245120   16383          3              1   \n",
       "245446   16383          1              1   \n",
       "109131  154218          1              1   \n",
       "146418  148235          5              4   \n",
       "169451   21757          2              5   \n",
       "...        ...        ...            ...   \n",
       "109665  154218          1              1   \n",
       "109719  154218          5              2   \n",
       "241743  154925          4              4   \n",
       "109604  154218          1              1   \n",
       "148047  148235          5              1   \n",
       "\n",
       "                                                  Reviews  Satisfaction  \\\n",
       "245120  I've been on Actonel for three months. I began...             1   \n",
       "245446  35 year old female:My first dose of Actonel Sa...             1   \n",
       "109131  Do not let your elderly parent take this Proli...             1   \n",
       "146418  After being diagnosed with osteoporosis at 40,...             4   \n",
       "169451  1st dose real bad side effects 2 days then eas...             1   \n",
       "...                                                   ...           ...   \n",
       "109665  3 weeks after getting the Prolia injection I s...             1   \n",
       "109719  I have had 2 injections of Prolia.  Last month...             1   \n",
       "241743  I took Forteo to build up my bones and Atelvia...             4   \n",
       "109604  I am not certain of the effectiveness of Proli...             1   \n",
       "148047  My mother was 82 when her Dr. gave her reclast...             1   \n",
       "\n",
       "           Sex                                              Sides  \\\n",
       "245120  Female                          Stomach  upset may occur.   \n",
       "245446  Female                          Upset stomach  may occur.   \n",
       "109131  Female                                                      \n",
       "146418  Female  Nausea , tiredness,  flu -like symptoms (e.g.,...   \n",
       "169451  Female  Dizziness ,  headache , tiredness, or  flu -li...   \n",
       "...        ...                                                ...   \n",
       "109665  Female                                                      \n",
       "109719  Female                                                      \n",
       "241743  Female  Stomach / abdominal pain ,  nausea ,  vomiting...   \n",
       "109604  Female                                                      \n",
       "148047  Female  Nausea , tiredness,  flu -like symptoms (e.g.,...   \n",
       "\n",
       "        UsefulCount  Year  \n",
       "245120           24  2008  \n",
       "245446           29  2008  \n",
       "109131           62  2015  \n",
       "146418           27  2011  \n",
       "169451            4  2011  \n",
       "...             ...   ...  \n",
       "109665           34  2013  \n",
       "109719           38  2013  \n",
       "241743            5  2014  \n",
       "109604           32  2013  \n",
       "148047           30  2009  \n",
       "\n",
       "[699 rows x 13 columns]"
      ]
     },
     "execution_count": 85,
     "metadata": {},
     "output_type": "execute_result"
    }
   ],
   "source": [
    "review_df = copy(df_ost)\n",
    "review_df = review_df[review_df['Age']!= 'Blank']\n",
    "review_df.sort_values(['Age'], ascending=[True])\n"
   ]
  },
  {
   "cell_type": "markdown",
   "metadata": {},
   "source": [
    "## Trying to determine what is driving reviews"
   ]
  },
  {
   "cell_type": "code",
   "execution_count": 89,
   "metadata": {},
   "outputs": [],
   "source": [
    "importance = []\n",
    "for row in review_df.iloc:\n",
    "    effective_dif = abs(row['Satisfaction'] - row['Effectiveness'])\n",
    "    #How close is the effectiveness rating to the overall rating\n",
    "\n",
    "    ease_dif = abs(row['Satisfaction'] - row['EaseofUse'])\n",
    "\n",
    "    #How close is the ease of use rating to the overall rating\n",
    "    if(effective_dif > ease_dif):\n",
    "        importance.append('EaseofUse')\n",
    "    elif(effective_dif < ease_dif):\n",
    "        importance.append('Effectiveness')\n",
    "    elif((effective_dif > 1) & (ease_dif > 1)):\n",
    "        importance.append('Neither')\n",
    "    else:\n",
    "        importance.append('Equal')\n",
    "review_df['Importance'] = importance"
   ]
  },
  {
   "cell_type": "markdown",
   "metadata": {},
   "source": [
    "Maybe a bit hack-y? \n",
    "\n",
    "Might still be interesting to look at how many products still got a low review with a high score in ease/effectiveness in a better way? \n",
    "\n",
    "Might need to standardize as expectations (and thus distributions) are different for ease of use and effectiveness??\n",
    "\n",
    "Maybe a decision tree representation is better?"
   ]
  },
  {
   "cell_type": "code",
   "execution_count": 90,
   "metadata": {},
   "outputs": [
    {
     "data": {
      "image/png": "[encoded data removed]",
      "text/plain": [
       "<Figure size 720x432 with 1 Axes>"
      ]
     },
     "metadata": {
      "needs_background": "light"
     },
     "output_type": "display_data"
    }
   ],
   "source": [
    "fig, ax = plt.subplots()\n",
    "fig.set_size_inches(10,6)\n",
    "plt.title('Drivers for Review Scores')\n",
    "sns_bar = sns.histplot(x = 'Importance', data = review_df)\n",
    "plt.setp(sns_count.get_xticklabels(), rotation=90, fontsize = 15)\n",
    "plt.show()"
   ]
  },
  {
   "cell_type": "code",
   "execution_count": 91,
   "metadata": {},
   "outputs": [
    {
     "data": {
      "image/png": "[encoded data removed]",
      "text/plain": [
       "<Figure size 720x432 with 1 Axes>"
      ]
     },
     "metadata": {
      "needs_background": "light"
     },
     "output_type": "display_data"
    }
   ],
   "source": [
    "fig, ax = plt.subplots()\n",
    "fig.set_size_inches(10,6)\n",
    "plt.title('Satisfaction of Drugs by Age Group')\n",
    "sns_bar = sns.histplot(x = 'Importance', hue = 'Age', multiple = \"stack\", data = review_df, palette = \"winter\")\n",
    "plt.setp(sns_count.get_xticklabels(), rotation=90, fontsize = 15)\n",
    "plt.show()"
   ]
  },
  {
   "cell_type": "code",
   "execution_count": 92,
   "metadata": {},
   "outputs": [
    {
     "data": {
      "image/png": "[encoded data removed]",
      "text/plain": [
       "<Figure size 425.125x360 with 1 Axes>"
      ]
     },
     "metadata": {
      "needs_background": "light"
     },
     "output_type": "display_data"
    }
   ],
   "source": [
    "sns_bar = sns.catplot(y = 'Importance', hue = 'Age', kind = 'count', data = review_df)\n",
    "plt.setp(sns_count.get_xticklabels(), rotation=90, fontsize = 15)\n",
    "pass"
   ]
  },
  {
   "cell_type": "markdown",
   "metadata": {},
   "source": [
    "## Breakdown of Good and Bad Reviews"
   ]
  },
  {
   "cell_type": "code",
   "execution_count": 109,
   "metadata": {},
   "outputs": [
    {
     "data": {
      "text/html": [
       "<div>\n",
       "<style scoped>\n",
       "    .dataframe tbody tr th:only-of-type {\n",
       "        vertical-align: middle;\n",
       "    }\n",
       "\n",
       "    .dataframe tbody tr th {\n",
       "        vertical-align: top;\n",
       "    }\n",
       "\n",
       "    .dataframe thead th {\n",
       "        text-align: right;\n",
       "    }\n",
       "</style>\n",
       "<table border=\"1\" class=\"dataframe\">\n",
       "  <thead>\n",
       "    <tr style=\"text-align: right;\">\n",
       "      <th></th>\n",
       "      <th>Age</th>\n",
       "      <th>Condition</th>\n",
       "      <th>Date</th>\n",
       "      <th>Drug</th>\n",
       "      <th>DrugId</th>\n",
       "      <th>EaseofUse</th>\n",
       "      <th>Effectiveness</th>\n",
       "      <th>Reviews</th>\n",
       "      <th>Satisfaction</th>\n",
       "      <th>Sex</th>\n",
       "      <th>Sides</th>\n",
       "      <th>UsefulCount</th>\n",
       "      <th>Year</th>\n",
       "      <th>Importance</th>\n",
       "    </tr>\n",
       "  </thead>\n",
       "  <tbody>\n",
       "    <tr>\n",
       "      <th>245401</th>\n",
       "      <td>0-44</td>\n",
       "      <td>Osteoporosis</td>\n",
       "      <td>2009-01-22</td>\n",
       "      <td>actonel tablet osteoporosis agents</td>\n",
       "      <td>16383</td>\n",
       "      <td>5</td>\n",
       "      <td>4</td>\n",
       "      <td>I a 29 year old female who loves to run and I ...</td>\n",
       "      <td>4</td>\n",
       "      <td>Female</td>\n",
       "      <td>Upset stomach  may occur.</td>\n",
       "      <td>10</td>\n",
       "      <td>2009</td>\n",
       "      <td>Effectiveness</td>\n",
       "    </tr>\n",
       "    <tr>\n",
       "      <th>146944</th>\n",
       "      <td>0-44</td>\n",
       "      <td>Osteoporosis</td>\n",
       "      <td>2011-07-08</td>\n",
       "      <td>reclast bottle, infusion</td>\n",
       "      <td>148235</td>\n",
       "      <td>5</td>\n",
       "      <td>3</td>\n",
       "      <td>I had the infusion on June 6. Had the expected...</td>\n",
       "      <td>5</td>\n",
       "      <td>Female</td>\n",
       "      <td>Nausea , tiredness,  flu -like symptoms (e.g.,...</td>\n",
       "      <td>12</td>\n",
       "      <td>2011</td>\n",
       "      <td>EaseofUse</td>\n",
       "    </tr>\n",
       "    <tr>\n",
       "      <th>147572</th>\n",
       "      <td>0-44</td>\n",
       "      <td>Osteoporosis</td>\n",
       "      <td>2010-06-01</td>\n",
       "      <td>reclast bottle, infusion</td>\n",
       "      <td>148235</td>\n",
       "      <td>5</td>\n",
       "      <td>3</td>\n",
       "      <td>Won't know effectiveness until July 2010 with ...</td>\n",
       "      <td>5</td>\n",
       "      <td>Female</td>\n",
       "      <td>Nausea , tiredness,  flu -like symptoms (e.g.,...</td>\n",
       "      <td>9</td>\n",
       "      <td>2010</td>\n",
       "      <td>EaseofUse</td>\n",
       "    </tr>\n",
       "    <tr>\n",
       "      <th>146418</th>\n",
       "      <td>0-44</td>\n",
       "      <td>Osteoporosis</td>\n",
       "      <td>2011-12-14</td>\n",
       "      <td>reclast bottle, infusion</td>\n",
       "      <td>148235</td>\n",
       "      <td>5</td>\n",
       "      <td>4</td>\n",
       "      <td>After being diagnosed with osteoporosis at 40,...</td>\n",
       "      <td>4</td>\n",
       "      <td>Female</td>\n",
       "      <td>Nausea , tiredness,  flu -like symptoms (e.g.,...</td>\n",
       "      <td>27</td>\n",
       "      <td>2011</td>\n",
       "      <td>Effectiveness</td>\n",
       "    </tr>\n",
       "    <tr>\n",
       "      <th>147927</th>\n",
       "      <td>0-44</td>\n",
       "      <td>Osteoporosis</td>\n",
       "      <td>2009-12-23</td>\n",
       "      <td>reclast bottle, infusion</td>\n",
       "      <td>148235</td>\n",
       "      <td>5</td>\n",
       "      <td>4</td>\n",
       "      <td>The inital tx is easy.  The day after I didn't...</td>\n",
       "      <td>5</td>\n",
       "      <td>Female</td>\n",
       "      <td>Nausea , tiredness,  flu -like symptoms (e.g.,...</td>\n",
       "      <td>13</td>\n",
       "      <td>2009</td>\n",
       "      <td>EaseofUse</td>\n",
       "    </tr>\n",
       "    <tr>\n",
       "      <th>...</th>\n",
       "      <td>...</td>\n",
       "      <td>...</td>\n",
       "      <td>...</td>\n",
       "      <td>...</td>\n",
       "      <td>...</td>\n",
       "      <td>...</td>\n",
       "      <td>...</td>\n",
       "      <td>...</td>\n",
       "      <td>...</td>\n",
       "      <td>...</td>\n",
       "      <td>...</td>\n",
       "      <td>...</td>\n",
       "      <td>...</td>\n",
       "      <td>...</td>\n",
       "    </tr>\n",
       "    <tr>\n",
       "      <th>145572</th>\n",
       "      <td>75+</td>\n",
       "      <td>Osteoporosis</td>\n",
       "      <td>2015-05-07</td>\n",
       "      <td>reclast bottle, infusion</td>\n",
       "      <td>148235</td>\n",
       "      <td>5</td>\n",
       "      <td>5</td>\n",
       "      <td>Iam a 79 year old female.  I had my first Recl...</td>\n",
       "      <td>5</td>\n",
       "      <td>Female</td>\n",
       "      <td>Nausea , tiredness,  flu -like symptoms (e.g.,...</td>\n",
       "      <td>43</td>\n",
       "      <td>2015</td>\n",
       "      <td>Equal</td>\n",
       "    </tr>\n",
       "    <tr>\n",
       "      <th>109199</th>\n",
       "      <td>75+</td>\n",
       "      <td>Osteoporosis</td>\n",
       "      <td>2015-07-24</td>\n",
       "      <td>prolia syringe</td>\n",
       "      <td>154218</td>\n",
       "      <td>5</td>\n",
       "      <td>4</td>\n",
       "      <td>I have experienced no side effects or problems...</td>\n",
       "      <td>4</td>\n",
       "      <td>Female</td>\n",
       "      <td></td>\n",
       "      <td>25</td>\n",
       "      <td>2015</td>\n",
       "      <td>Effectiveness</td>\n",
       "    </tr>\n",
       "    <tr>\n",
       "      <th>109560</th>\n",
       "      <td>75+</td>\n",
       "      <td>Osteoporosis</td>\n",
       "      <td>2014-01-24</td>\n",
       "      <td>prolia syringe</td>\n",
       "      <td>154218</td>\n",
       "      <td>5</td>\n",
       "      <td>5</td>\n",
       "      <td>I am about to have my 5th injection of Prolia....</td>\n",
       "      <td>5</td>\n",
       "      <td>Female</td>\n",
       "      <td></td>\n",
       "      <td>53</td>\n",
       "      <td>2014</td>\n",
       "      <td>Equal</td>\n",
       "    </tr>\n",
       "    <tr>\n",
       "      <th>145627</th>\n",
       "      <td>75+</td>\n",
       "      <td>Osteoporosis</td>\n",
       "      <td>2015-01-17</td>\n",
       "      <td>reclast bottle, infusion</td>\n",
       "      <td>148235</td>\n",
       "      <td>5</td>\n",
       "      <td>5</td>\n",
       "      <td>I am 78 years old and received this infusion 9...</td>\n",
       "      <td>5</td>\n",
       "      <td>Female</td>\n",
       "      <td>Nausea , tiredness,  flu -like symptoms (e.g.,...</td>\n",
       "      <td>33</td>\n",
       "      <td>2015</td>\n",
       "      <td>Equal</td>\n",
       "    </tr>\n",
       "    <tr>\n",
       "      <th>244736</th>\n",
       "      <td>75+</td>\n",
       "      <td>Osteoporosis</td>\n",
       "      <td>2011-03-23</td>\n",
       "      <td>actonel tablet osteoporosis agents</td>\n",
       "      <td>16383</td>\n",
       "      <td>4</td>\n",
       "      <td>3</td>\n",
       "      <td>I began taking Foxamax ten years ago. When I w...</td>\n",
       "      <td>4</td>\n",
       "      <td>Female</td>\n",
       "      <td>Upset stomach  may occur.</td>\n",
       "      <td>16</td>\n",
       "      <td>2011</td>\n",
       "      <td>EaseofUse</td>\n",
       "    </tr>\n",
       "  </tbody>\n",
       "</table>\n",
       "<p>233 rows × 14 columns</p>\n",
       "</div>"
      ],
      "text/plain": [
       "         Age     Condition       Date                                Drug  \\\n",
       "245401  0-44  Osteoporosis 2009-01-22  actonel tablet osteoporosis agents   \n",
       "146944  0-44  Osteoporosis 2011-07-08            reclast bottle, infusion   \n",
       "147572  0-44  Osteoporosis 2010-06-01            reclast bottle, infusion   \n",
       "146418  0-44  Osteoporosis 2011-12-14            reclast bottle, infusion   \n",
       "147927  0-44  Osteoporosis 2009-12-23            reclast bottle, infusion   \n",
       "...      ...           ...        ...                                 ...   \n",
       "145572   75+  Osteoporosis 2015-05-07            reclast bottle, infusion   \n",
       "109199   75+  Osteoporosis 2015-07-24                      prolia syringe   \n",
       "109560   75+  Osteoporosis 2014-01-24                      prolia syringe   \n",
       "145627   75+  Osteoporosis 2015-01-17            reclast bottle, infusion   \n",
       "244736   75+  Osteoporosis 2011-03-23  actonel tablet osteoporosis agents   \n",
       "\n",
       "        DrugId  EaseofUse  Effectiveness  \\\n",
       "245401   16383          5              4   \n",
       "146944  148235          5              3   \n",
       "147572  148235          5              3   \n",
       "146418  148235          5              4   \n",
       "147927  148235          5              4   \n",
       "...        ...        ...            ...   \n",
       "145572  148235          5              5   \n",
       "109199  154218          5              4   \n",
       "109560  154218          5              5   \n",
       "145627  148235          5              5   \n",
       "244736   16383          4              3   \n",
       "\n",
       "                                                  Reviews  Satisfaction  \\\n",
       "245401  I a 29 year old female who loves to run and I ...             4   \n",
       "146944  I had the infusion on June 6. Had the expected...             5   \n",
       "147572  Won't know effectiveness until July 2010 with ...             5   \n",
       "146418  After being diagnosed with osteoporosis at 40,...             4   \n",
       "147927  The inital tx is easy.  The day after I didn't...             5   \n",
       "...                                                   ...           ...   \n",
       "145572  Iam a 79 year old female.  I had my first Recl...             5   \n",
       "109199  I have experienced no side effects or problems...             4   \n",
       "109560  I am about to have my 5th injection of Prolia....             5   \n",
       "145627  I am 78 years old and received this infusion 9...             5   \n",
       "244736  I began taking Foxamax ten years ago. When I w...             4   \n",
       "\n",
       "           Sex                                              Sides  \\\n",
       "245401  Female                          Upset stomach  may occur.   \n",
       "146944  Female  Nausea , tiredness,  flu -like symptoms (e.g.,...   \n",
       "147572  Female  Nausea , tiredness,  flu -like symptoms (e.g.,...   \n",
       "146418  Female  Nausea , tiredness,  flu -like symptoms (e.g.,...   \n",
       "147927  Female  Nausea , tiredness,  flu -like symptoms (e.g.,...   \n",
       "...        ...                                                ...   \n",
       "145572  Female  Nausea , tiredness,  flu -like symptoms (e.g.,...   \n",
       "109199  Female                                                      \n",
       "109560  Female                                                      \n",
       "145627  Female  Nausea , tiredness,  flu -like symptoms (e.g.,...   \n",
       "244736  Female                          Upset stomach  may occur.   \n",
       "\n",
       "        UsefulCount  Year     Importance  \n",
       "245401           10  2009  Effectiveness  \n",
       "146944           12  2011      EaseofUse  \n",
       "147572            9  2010      EaseofUse  \n",
       "146418           27  2011  Effectiveness  \n",
       "147927           13  2009      EaseofUse  \n",
       "...             ...   ...            ...  \n",
       "145572           43  2015          Equal  \n",
       "109199           25  2015  Effectiveness  \n",
       "109560           53  2014          Equal  \n",
       "145627           33  2015          Equal  \n",
       "244736           16  2011      EaseofUse  \n",
       "\n",
       "[233 rows x 14 columns]"
      ]
     },
     "execution_count": 109,
     "metadata": {},
     "output_type": "execute_result"
    }
   ],
   "source": [
    "bad_df = review_df[review_df['Satisfaction']<3]\n",
    "bad_df.sort_values(['Age'], ascending=[True])\n",
    "\n",
    "good_df = review_df[review_df['Satisfaction'] >3]\n",
    "good_df.sort_values(['Age'], ascending=[True])\n"
   ]
  },
  {
   "cell_type": "code",
   "execution_count": 110,
   "metadata": {},
   "outputs": [
    {
     "data": {
      "image/png": "[encoded data removed]",
      "text/plain": [
       "<Figure size 432x288 with 1 Axes>"
      ]
     },
     "metadata": {
      "needs_background": "light"
     },
     "output_type": "display_data"
    },
    {
     "data": {
      "image/png": "[encoded data removed]",
      "text/plain": [
       "<Figure size 432x288 with 1 Axes>"
      ]
     },
     "metadata": {
      "needs_background": "light"
     },
     "output_type": "display_data"
    }
   ],
   "source": [
    "plt.title(\"Effectiveness Distribution for Bad Reviews (2/5 or Lower)\")\n",
    "sns.histplot(x = 'EaseofUse', hue = 'Age', multiple = \"stack\", data = bad_df)\n",
    "plt.show()\n",
    "plt.title(\"Effectiveness Distribution for Bad Reviews (2/5 or Lower)\")\n",
    "sns.histplot(x = 'Effectiveness', hue = 'Age', multiple = \"stack\", data = bad_df)\n",
    "plt.show()"
   ]
  },
  {
   "cell_type": "code",
   "execution_count": null,
   "metadata": {},
   "outputs": [],
   "source": []
  },
  {
   "cell_type": "code",
   "execution_count": 111,
   "metadata": {},
   "outputs": [
    {
     "data": {
      "image/png": "[encoded data removed]",
      "text/plain": [
       "<Figure size 432x288 with 1 Axes>"
      ]
     },
     "metadata": {
      "needs_background": "light"
     },
     "output_type": "display_data"
    },
    {
     "data": {
      "image/png": "[encoded data removed]",
      "text/plain": [
       "<Figure size 432x288 with 1 Axes>"
      ]
     },
     "metadata": {
      "needs_background": "light"
     },
     "output_type": "display_data"
    }
   ],
   "source": [
    "plt.title(\"Ease of Use Distribution for Good Reviews (4/5 or Higher)\")\n",
    "sns.histplot(x = 'EaseofUse', hue = 'Age', multiple = \"stack\", data = good_df)\n",
    "plt.show()\n",
    "plt.title(\"Effectiveness Distribution for Good Reviews (4/5 or Higher)\")\n",
    "sns.histplot(x = 'Effectiveness', hue = 'Age', multiple = \"stack\", data = good_df)\n",
    "plt.show()"
   ]
  },
  {
   "cell_type": "code",
   "execution_count": null,
   "metadata": {},
   "outputs": [],
   "source": []
  },
  {
   "cell_type": "markdown",
   "metadata": {},
   "source": [
    "# Looking into drug mode again"
   ]
  },
  {
   "cell_type": "code",
   "execution_count": 112,
   "metadata": {},
   "outputs": [],
   "source": [
    "drugs = list(review_df['Drug'].unique())"
   ]
  },
  {
   "cell_type": "code",
   "execution_count": 113,
   "metadata": {},
   "outputs": [
    {
     "data": {
      "text/plain": [
       "[]"
      ]
     },
     "execution_count": 113,
     "metadata": {},
     "output_type": "execute_result"
    }
   ],
   "source": [
    "injectable_drugs = ['prolia syringe','reclast bottle, infusion','zometa vial','zoledronic acid vial']\n",
    "\n",
    "infused_drugs = ['liquid calcium + vitamin d', 'oyster shell + d', 'atelvia','actonel tablet osteoporosis agents','actonel 35 mg tablet','calcium citrate 200 mg (950 mg) tablet',\n",
    "       'calcium 600 mg (1,500 mg) tablet', 'calcium 600 + vitamin d',\n",
    "       'calcitrate + vit d', 'citracal-vitamin d tablet',\n",
    "       'citracal + d', 'citracal + d maximum', 'c calcium',\n",
    "       'calcium-magnesium-zinc 333 mg-133 mg-5 mg tablet', 'vitamin d3 tablet',\n",
    " 'vitamin d3', 'os-cal 500-vit d3', 'risedronate sodium', 'bio-d-mulsion forte drops', 'risedronate sodium', 'replesta',\n",
    " 'duavee','viactiv', 'actical','calcitrate', 'drisdol']\n",
    "\n",
    "#should return an empty list here\n",
    "[drug for drug in drugs if((drug not in injectable_drugs)&(drug not in infused_drugs))]"
   ]
  },
  {
   "cell_type": "code",
   "execution_count": 114,
   "metadata": {},
   "outputs": [],
   "source": [
    "infused_df = review_df[review_df[\"Drug\"].isin(infused_drugs)]\n",
    "injected_df = review_df[review_df[\"Drug\"].isin(injectable_drugs)]\n"
   ]
  },
  {
   "cell_type": "code",
   "execution_count": 115,
   "metadata": {},
   "outputs": [
    {
     "data": {
      "image/png": "[encoded data removed]",
      "text/plain": [
       "<Figure size 432x288 with 1 Axes>"
      ]
     },
     "metadata": {
      "needs_background": "light"
     },
     "output_type": "display_data"
    },
    {
     "data": {
      "image/png": "[encoded data removed]",
      "text/plain": [
       "<Figure size 432x288 with 1 Axes>"
      ]
     },
     "metadata": {
      "needs_background": "light"
     },
     "output_type": "display_data"
    },
    {
     "data": {
      "image/png": "[encoded data removed]",
      "text/plain": [
       "<Figure size 432x288 with 1 Axes>"
      ]
     },
     "metadata": {
      "needs_background": "light"
     },
     "output_type": "display_data"
    }
   ],
   "source": [
    "plt.title(\"Injectable Review Score Distribution(Overall)\")\n",
    "sns.histplot(injected_df['Satisfaction'])\n",
    "plt.show()\n",
    "plt.title(\"Injectable Review Score Distribution(Ease)\")\n",
    "sns.histplot(injected_df['EaseofUse'])\n",
    "plt.show()\n",
    "plt.title(\"Injectable Review Score Distribution(Effectiveness)\")\n",
    "sns.histplot(injected_df['Effectiveness'])\n",
    "plt.show()\n",
    "        "
   ]
  },
  {
   "cell_type": "code",
   "execution_count": 116,
   "metadata": {},
   "outputs": [
    {
     "data": {
      "image/png": "[encoded data removed]",
      "text/plain": [
       "<Figure size 432x288 with 1 Axes>"
      ]
     },
     "metadata": {
      "needs_background": "light"
     },
     "output_type": "display_data"
    },
    {
     "data": {
      "image/png": "[encoded data removed]",
      "text/plain": [
       "<Figure size 432x288 with 1 Axes>"
      ]
     },
     "metadata": {
      "needs_background": "light"
     },
     "output_type": "display_data"
    },
    {
     "data": {
      "image/png": "[encoded data removed]",
      "text/plain": [
       "<Figure size 432x288 with 1 Axes>"
      ]
     },
     "metadata": {
      "needs_background": "light"
     },
     "output_type": "display_data"
    }
   ],
   "source": [
    "plt.title(\"Non-Injectable Review Score Distribution(Overall)\")\n",
    "sns.histplot(infused_df['Satisfaction'])\n",
    "plt.show()\n",
    "plt.title(\"Non-Injectable Review Score Distribution(Ease)\")\n",
    "sns.histplot(infused_df['EaseofUse'])\n",
    "plt.show()\n",
    "plt.title(\"Non-Injectable Review Score Distribution(Effectiveness)\")\n",
    "sns.histplot(infused_df['Effectiveness'])\n",
    "plt.show()\n",
    "        "
   ]
  },
  {
   "cell_type": "markdown",
   "metadata": {},
   "source": [
    "# Considering Usefulness"
   ]
  },
  {
   "cell_type": "code",
   "execution_count": 117,
   "metadata": {},
   "outputs": [
    {
     "data": {
      "text/plain": [
       "<AxesSubplot:xlabel='UsefulCount', ylabel='Count'>"
      ]
     },
     "execution_count": 117,
     "metadata": {},
     "output_type": "execute_result"
    },
    {
     "data": {
      "image/png": "[encoded data removed]",
      "text/plain": [
       "<Figure size 432x288 with 1 Axes>"
      ]
     },
     "metadata": {
      "needs_background": "light"
     },
     "output_type": "display_data"
    }
   ],
   "source": [
    "sns.histplot(review_df['UsefulCount'])"
   ]
  },
  {
   "cell_type": "code",
   "execution_count": 118,
   "metadata": {},
   "outputs": [
    {
     "data": {
      "image/png": "[encoded data removed]",
      "text/plain": [
       "<Figure size 432x288 with 1 Axes>"
      ]
     },
     "metadata": {
      "needs_background": "light"
     },
     "output_type": "display_data"
    },
    {
     "data": {
      "image/png": "[encoded data removed]",
      "text/plain": [
       "<Figure size 432x288 with 1 Axes>"
      ]
     },
     "metadata": {
      "needs_background": "light"
     },
     "output_type": "display_data"
    },
    {
     "data": {
      "image/png": "[encoded data removed]",
      "text/plain": [
       "<Figure size 432x288 with 1 Axes>"
      ]
     },
     "metadata": {
      "needs_background": "light"
     },
     "output_type": "display_data"
    },
    {
     "data": {
      "image/png": "[encoded data removed]",
      "text/plain": [
       "<Figure size 432x288 with 1 Axes>"
      ]
     },
     "metadata": {
      "needs_background": "light"
     },
     "output_type": "display_data"
    },
    {
     "data": {
      "image/png": "[encoded data removed]",
      "text/plain": [
       "<Figure size 432x288 with 1 Axes>"
      ]
     },
     "metadata": {
      "needs_background": "light"
     },
     "output_type": "display_data"
    },
    {
     "data": {
      "image/png": "[encoded data removed]",
      "text/plain": [
       "<Figure size 432x288 with 1 Axes>"
      ]
     },
     "metadata": {
      "needs_background": "light"
     },
     "output_type": "display_data"
    }
   ],
   "source": [
    "sns.countplot(x = 'Age', data = review_df[review_df['UsefulCount']> 20])\n",
    "plt.show()\n",
    "sns.countplot(x = 'Satisfaction', data = review_df[review_df['UsefulCount']> 20])\n",
    "plt.show()\n",
    "sns.countplot(x = 'Age', data = review_df[review_df['UsefulCount']> 50])\n",
    "plt.show()\n",
    "sns.countplot(x = 'Satisfaction', data = review_df[review_df['UsefulCount']> 50])\n",
    "plt.show()\n",
    "sns.countplot(x = 'Age', data = review_df[review_df['UsefulCount']> 100])\n",
    "plt.show()\n",
    "sns.countplot(x = 'Satisfaction', data = review_df[review_df['UsefulCount']> 100])\n",
    "plt.show()\n"
   ]
  },
  {
   "cell_type": "code",
   "execution_count": 119,
   "metadata": {},
   "outputs": [
    {
     "data": {
      "text/html": [
       "<div>\n",
       "<style scoped>\n",
       "    .dataframe tbody tr th:only-of-type {\n",
       "        vertical-align: middle;\n",
       "    }\n",
       "\n",
       "    .dataframe tbody tr th {\n",
       "        vertical-align: top;\n",
       "    }\n",
       "\n",
       "    .dataframe thead th {\n",
       "        text-align: right;\n",
       "    }\n",
       "</style>\n",
       "<table border=\"1\" class=\"dataframe\">\n",
       "  <thead>\n",
       "    <tr style=\"text-align: right;\">\n",
       "      <th></th>\n",
       "      <th>Age</th>\n",
       "      <th>Satisfaction</th>\n",
       "    </tr>\n",
       "  </thead>\n",
       "  <tbody>\n",
       "    <tr>\n",
       "      <th>0</th>\n",
       "      <td>65-74</td>\n",
       "      <td>5</td>\n",
       "    </tr>\n",
       "    <tr>\n",
       "      <th>1</th>\n",
       "      <td>45-54</td>\n",
       "      <td>1</td>\n",
       "    </tr>\n",
       "    <tr>\n",
       "      <th>2</th>\n",
       "      <td>45-54</td>\n",
       "      <td>1</td>\n",
       "    </tr>\n",
       "    <tr>\n",
       "      <th>3</th>\n",
       "      <td>75+</td>\n",
       "      <td>1</td>\n",
       "    </tr>\n",
       "    <tr>\n",
       "      <th>4</th>\n",
       "      <td>55-64</td>\n",
       "      <td>1</td>\n",
       "    </tr>\n",
       "    <tr>\n",
       "      <th>...</th>\n",
       "      <td>...</td>\n",
       "      <td>...</td>\n",
       "    </tr>\n",
       "    <tr>\n",
       "      <th>19949</th>\n",
       "      <td>55-64</td>\n",
       "      <td>4</td>\n",
       "    </tr>\n",
       "    <tr>\n",
       "      <th>19950</th>\n",
       "      <td>55-64</td>\n",
       "      <td>4</td>\n",
       "    </tr>\n",
       "    <tr>\n",
       "      <th>19951</th>\n",
       "      <td>55-64</td>\n",
       "      <td>1</td>\n",
       "    </tr>\n",
       "    <tr>\n",
       "      <th>19952</th>\n",
       "      <td>55-64</td>\n",
       "      <td>1</td>\n",
       "    </tr>\n",
       "    <tr>\n",
       "      <th>19953</th>\n",
       "      <td>65-74</td>\n",
       "      <td>1</td>\n",
       "    </tr>\n",
       "  </tbody>\n",
       "</table>\n",
       "<p>19954 rows × 2 columns</p>\n",
       "</div>"
      ],
      "text/plain": [
       "         Age  Satisfaction\n",
       "0      65-74             5\n",
       "1      45-54             1\n",
       "2      45-54             1\n",
       "3        75+             1\n",
       "4      55-64             1\n",
       "...      ...           ...\n",
       "19949  55-64             4\n",
       "19950  55-64             4\n",
       "19951  55-64             1\n",
       "19952  55-64             1\n",
       "19953  65-74             1\n",
       "\n",
       "[19954 rows x 2 columns]"
      ]
     },
     "execution_count": 119,
     "metadata": {},
     "output_type": "execute_result"
    }
   ],
   "source": [
    "#def weight_by_usefulness(df, col1, col2):\n",
    "new_df = pd.DataFrame(columns=['Age', 'Satisfaction'])\n",
    "for row in review_df.iloc:\n",
    "    for i in range(row['UsefulCount']):\n",
    "        new_df.loc[len(new_df.index)] = [row['Age'], row['Satisfaction']]\n",
    "new_df\n"
   ]
  },
  {
   "cell_type": "code",
   "execution_count": 120,
   "metadata": {},
   "outputs": [
    {
     "data": {
      "text/plain": [
       "<AxesSubplot:xlabel='Satisfaction', ylabel='Count'>"
      ]
     },
     "execution_count": 120,
     "metadata": {},
     "output_type": "execute_result"
    },
    {
     "data": {
      "image/png": "[encoded data removed]",
      "text/plain": [
       "<Figure size 432x288 with 1 Axes>"
      ]
     },
     "metadata": {
      "needs_background": "light"
     },
     "output_type": "display_data"
    }
   ],
   "source": [
    "sns.histplot(new_df['Satisfaction'])"
   ]
  },
  {
   "cell_type": "code",
   "execution_count": 121,
   "metadata": {},
   "outputs": [
    {
     "data": {
      "text/plain": [
       "28.546494992846924"
      ]
     },
     "execution_count": 121,
     "metadata": {},
     "output_type": "execute_result"
    }
   ],
   "source": [
    "np.mean(review_df['UsefulCount'])"
   ]
  },
  {
   "cell_type": "markdown",
   "metadata": {},
   "source": [
    "# Group Review by 3 Years"
   ]
  },
  {
   "cell_type": "code",
   "execution_count": 122,
   "metadata": {},
   "outputs": [
    {
     "data": {
      "text/html": [
       "<div>\n",
       "<style scoped>\n",
       "    .dataframe tbody tr th:only-of-type {\n",
       "        vertical-align: middle;\n",
       "    }\n",
       "\n",
       "    .dataframe tbody tr th {\n",
       "        vertical-align: top;\n",
       "    }\n",
       "\n",
       "    .dataframe thead th {\n",
       "        text-align: right;\n",
       "    }\n",
       "</style>\n",
       "<table border=\"1\" class=\"dataframe\">\n",
       "  <thead>\n",
       "    <tr style=\"text-align: right;\">\n",
       "      <th></th>\n",
       "      <th>Drug</th>\n",
       "      <th>Year</th>\n",
       "      <th>count</th>\n",
       "      <th>mean</th>\n",
       "    </tr>\n",
       "  </thead>\n",
       "  <tbody>\n",
       "    <tr>\n",
       "      <th>0</th>\n",
       "      <td>actonel 35 mg tablet</td>\n",
       "      <td>2007</td>\n",
       "      <td>2</td>\n",
       "      <td>3.500000</td>\n",
       "    </tr>\n",
       "    <tr>\n",
       "      <th>1</th>\n",
       "      <td>actonel 35 mg tablet</td>\n",
       "      <td>2008</td>\n",
       "      <td>9</td>\n",
       "      <td>2.000000</td>\n",
       "    </tr>\n",
       "    <tr>\n",
       "      <th>2</th>\n",
       "      <td>reclast bottle, infusion</td>\n",
       "      <td>2009</td>\n",
       "      <td>69</td>\n",
       "      <td>2.768116</td>\n",
       "    </tr>\n",
       "    <tr>\n",
       "      <th>3</th>\n",
       "      <td>reclast bottle, infusion</td>\n",
       "      <td>2010</td>\n",
       "      <td>98</td>\n",
       "      <td>2.857143</td>\n",
       "    </tr>\n",
       "    <tr>\n",
       "      <th>4</th>\n",
       "      <td>reclast bottle, infusion</td>\n",
       "      <td>2011</td>\n",
       "      <td>65</td>\n",
       "      <td>2.830769</td>\n",
       "    </tr>\n",
       "    <tr>\n",
       "      <th>5</th>\n",
       "      <td>reclast bottle, infusion</td>\n",
       "      <td>2012</td>\n",
       "      <td>13</td>\n",
       "      <td>2.692308</td>\n",
       "    </tr>\n",
       "    <tr>\n",
       "      <th>6</th>\n",
       "      <td>reclast bottle, infusion</td>\n",
       "      <td>2013</td>\n",
       "      <td>24</td>\n",
       "      <td>2.416667</td>\n",
       "    </tr>\n",
       "    <tr>\n",
       "      <th>7</th>\n",
       "      <td>reclast bottle, infusion</td>\n",
       "      <td>2014</td>\n",
       "      <td>26</td>\n",
       "      <td>2.923077</td>\n",
       "    </tr>\n",
       "    <tr>\n",
       "      <th>8</th>\n",
       "      <td>reclast bottle, infusion</td>\n",
       "      <td>2015</td>\n",
       "      <td>28</td>\n",
       "      <td>3.000000</td>\n",
       "    </tr>\n",
       "    <tr>\n",
       "      <th>9</th>\n",
       "      <td>reclast bottle, infusion</td>\n",
       "      <td>2016</td>\n",
       "      <td>8</td>\n",
       "      <td>3.500000</td>\n",
       "    </tr>\n",
       "    <tr>\n",
       "      <th>10</th>\n",
       "      <td>reclast bottle, infusion</td>\n",
       "      <td>2017</td>\n",
       "      <td>8</td>\n",
       "      <td>1.750000</td>\n",
       "    </tr>\n",
       "    <tr>\n",
       "      <th>11</th>\n",
       "      <td>reclast bottle, infusion</td>\n",
       "      <td>2018</td>\n",
       "      <td>2</td>\n",
       "      <td>2.500000</td>\n",
       "    </tr>\n",
       "    <tr>\n",
       "      <th>12</th>\n",
       "      <td>reclast bottle, infusion</td>\n",
       "      <td>2019</td>\n",
       "      <td>4</td>\n",
       "      <td>1.000000</td>\n",
       "    </tr>\n",
       "    <tr>\n",
       "      <th>13</th>\n",
       "      <td>zometa vial</td>\n",
       "      <td>2009</td>\n",
       "      <td>1</td>\n",
       "      <td>4.000000</td>\n",
       "    </tr>\n",
       "    <tr>\n",
       "      <th>14</th>\n",
       "      <td>zometa vial</td>\n",
       "      <td>2010</td>\n",
       "      <td>1</td>\n",
       "      <td>3.000000</td>\n",
       "    </tr>\n",
       "    <tr>\n",
       "      <th>15</th>\n",
       "      <td>zometa vial</td>\n",
       "      <td>2011</td>\n",
       "      <td>2</td>\n",
       "      <td>2.000000</td>\n",
       "    </tr>\n",
       "    <tr>\n",
       "      <th>16</th>\n",
       "      <td>zometa vial</td>\n",
       "      <td>2012</td>\n",
       "      <td>2</td>\n",
       "      <td>2.000000</td>\n",
       "    </tr>\n",
       "    <tr>\n",
       "      <th>17</th>\n",
       "      <td>zometa vial</td>\n",
       "      <td>2013</td>\n",
       "      <td>2</td>\n",
       "      <td>1.000000</td>\n",
       "    </tr>\n",
       "    <tr>\n",
       "      <th>18</th>\n",
       "      <td>zometa vial</td>\n",
       "      <td>2014</td>\n",
       "      <td>1</td>\n",
       "      <td>1.000000</td>\n",
       "    </tr>\n",
       "  </tbody>\n",
       "</table>\n",
       "</div>"
      ],
      "text/plain": [
       "                        Drug  Year  count      mean\n",
       "0       actonel 35 mg tablet  2007      2  3.500000\n",
       "1       actonel 35 mg tablet  2008      9  2.000000\n",
       "2   reclast bottle, infusion  2009     69  2.768116\n",
       "3   reclast bottle, infusion  2010     98  2.857143\n",
       "4   reclast bottle, infusion  2011     65  2.830769\n",
       "5   reclast bottle, infusion  2012     13  2.692308\n",
       "6   reclast bottle, infusion  2013     24  2.416667\n",
       "7   reclast bottle, infusion  2014     26  2.923077\n",
       "8   reclast bottle, infusion  2015     28  3.000000\n",
       "9   reclast bottle, infusion  2016      8  3.500000\n",
       "10  reclast bottle, infusion  2017      8  1.750000\n",
       "11  reclast bottle, infusion  2018      2  2.500000\n",
       "12  reclast bottle, infusion  2019      4  1.000000\n",
       "13               zometa vial  2009      1  4.000000\n",
       "14               zometa vial  2010      1  3.000000\n",
       "15               zometa vial  2011      2  2.000000\n",
       "16               zometa vial  2012      2  2.000000\n",
       "17               zometa vial  2013      2  1.000000\n",
       "18               zometa vial  2014      1  1.000000"
      ]
     },
     "execution_count": 122,
     "metadata": {},
     "output_type": "execute_result"
    }
   ],
   "source": [
    "df_drugs.groupby(['Drug','Year'])['Satisfaction'].agg(count='size', mean='mean').reset_index()"
   ]
  },
  {
   "cell_type": "code",
   "execution_count": 123,
   "metadata": {},
   "outputs": [
    {
     "data": {
      "text/plain": [
       "<AxesSubplot:xlabel='Year', ylabel='Satisfaction'>"
      ]
     },
     "execution_count": 123,
     "metadata": {},
     "output_type": "execute_result"
    },
    {
     "data": {
      "image/png": "[encoded data removed]",
      "text/plain": [
       "<Figure size 432x288 with 1 Axes>"
      ]
     },
     "metadata": {
      "needs_background": "light"
     },
     "output_type": "display_data"
    }
   ],
   "source": [
    "sns.lineplot(x = 'Year', y = 'Satisfaction', data=df_ost.groupby([\"Year\"])[\"Satisfaction\"].mean().reset_index())"
   ]
  },
  {
   "cell_type": "code",
   "execution_count": 124,
   "metadata": {},
   "outputs": [
    {
     "data": {
      "text/plain": [
       "18993     since I have a hard time swallowing this hs wo...\n",
       "61145     I have severe pain in my hand and muscle joint...\n",
       "72313     Food dyes and talc...large pill for a newly re...\n",
       "72316     I am 64 years old, and am trying to avoid loss...\n",
       "108510    Bone muscle aches, back pain, headaches, chill...\n",
       "                                ...                        \n",
       "360108    Marked laxative effect - am having to disconti...\n",
       "360222    Unable to take Statins, major cramping in legs...\n",
       "360231    The only thing I have to say against these tab...\n",
       "360264    This supplement has caused much gas, bloating,...\n",
       "360298    first dose: one tablet knocked me out cold for...\n",
       "Name: Reviews, Length: 706, dtype: object"
      ]
     },
     "execution_count": 124,
     "metadata": {},
     "output_type": "execute_result"
    }
   ],
   "source": [
    "df_ost['Reviews']"
   ]
  }
 ],
 "metadata": {
  "kernelspec": {
   "display_name": "Python 3.9.12 ('base')",
   "language": "python",
   "name": "python3"
  },
  "language_info": {
   "codemirror_mode": {
    "name": "ipython",
    "version": 3
   },
   "file_extension": ".py",
   "mimetype": "text/x-python",
   "name": "python",
   "nbconvert_exporter": "python",
   "pygments_lexer": "ipython3",
   "version": "3.9.12"
  },
  "orig_nbformat": 4,
  "vscode": {
   "interpreter": {
    "hash": "0e8c79af285c9f552177da3ce0d03c0ce3dabbb2431be70a290c989f7cef814e"
   }
  }
 },
 "nbformat": 4,
 "nbformat_minor": 2
}
