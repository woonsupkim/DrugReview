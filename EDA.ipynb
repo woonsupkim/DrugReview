{
 "cells": [
  {
   "cell_type": "code",
   "execution_count": 1,
   "metadata": {},
   "outputs": [],
   "source": [
    "import pandas as pd\n",
    "import numpy as np\n",
    "import matplotlib.pyplot as plt\n",
    "import seaborn as sns"
   ]
  },
  {
   "cell_type": "code",
   "execution_count": 2,
   "metadata": {},
   "outputs": [
    {
     "name": "stdout",
     "output_type": "stream",
     "text": [
      "<class 'pandas.core.frame.DataFrame'>\n",
      "RangeIndex: 2278 entries, 0 to 2277\n",
      "Data columns (total 12 columns):\n",
      " #   Column         Non-Null Count  Dtype \n",
      "---  ------         --------------  ----- \n",
      " 0   Age            2278 non-null   object\n",
      " 1   Condition      2278 non-null   object\n",
      " 2   Date           2278 non-null   object\n",
      " 3   Drug           2278 non-null   object\n",
      " 4   DrugId         2278 non-null   int64 \n",
      " 5   EaseofUse      2278 non-null   int64 \n",
      " 6   Effectiveness  2278 non-null   int64 \n",
      " 7   Reviews        2278 non-null   object\n",
      " 8   Satisfaction   2278 non-null   int64 \n",
      " 9   Sex            2278 non-null   object\n",
      " 10  Sides          2278 non-null   object\n",
      " 11  UsefulCount    2278 non-null   int64 \n",
      "dtypes: int64(5), object(7)\n",
      "memory usage: 213.7+ KB\n"
     ]
    }
   ],
   "source": [
    "df = pd.read_csv('data.csv')\n",
    "df.info()"
   ]
  },
  {
   "cell_type": "code",
   "execution_count": 3,
   "metadata": {},
   "outputs": [
    {
     "data": {
      "text/plain": [
       "'1/1/2008'"
      ]
     },
     "execution_count": 3,
     "metadata": {},
     "output_type": "execute_result"
    }
   ],
   "source": [
    "min(df['Date'])"
   ]
  },
  {
   "cell_type": "code",
   "execution_count": 4,
   "metadata": {},
   "outputs": [
    {
     "data": {
      "text/plain": [
       "'9/9/2015'"
      ]
     },
     "execution_count": 4,
     "metadata": {},
     "output_type": "execute_result"
    }
   ],
   "source": [
    "max(df['Date'])"
   ]
  },
  {
   "cell_type": "code",
   "execution_count": 5,
   "metadata": {},
   "outputs": [
    {
     "data": {
      "text/html": [
       "<div>\n",
       "<style scoped>\n",
       "    .dataframe tbody tr th:only-of-type {\n",
       "        vertical-align: middle;\n",
       "    }\n",
       "\n",
       "    .dataframe tbody tr th {\n",
       "        vertical-align: top;\n",
       "    }\n",
       "\n",
       "    .dataframe thead th {\n",
       "        text-align: right;\n",
       "    }\n",
       "</style>\n",
       "<table border=\"1\" class=\"dataframe\">\n",
       "  <thead>\n",
       "    <tr style=\"text-align: right;\">\n",
       "      <th></th>\n",
       "      <th>Age</th>\n",
       "      <th>Condition</th>\n",
       "      <th>Date</th>\n",
       "      <th>Drug</th>\n",
       "      <th>DrugId</th>\n",
       "      <th>EaseofUse</th>\n",
       "      <th>Effectiveness</th>\n",
       "      <th>Reviews</th>\n",
       "      <th>Satisfaction</th>\n",
       "      <th>Sex</th>\n",
       "      <th>Sides</th>\n",
       "      <th>UsefulCount</th>\n",
       "    </tr>\n",
       "  </thead>\n",
       "  <tbody>\n",
       "    <tr>\n",
       "      <th>0</th>\n",
       "      <td>25-34</td>\n",
       "      <td>Osteoporosis</td>\n",
       "      <td>3/16/2010</td>\n",
       "      <td>lotensin</td>\n",
       "      <td>6883</td>\n",
       "      <td>4</td>\n",
       "      <td>3</td>\n",
       "      <td>this treatment is awsome.  I love drugs.</td>\n",
       "      <td>2</td>\n",
       "      <td>Male</td>\n",
       "      <td>Dizziness ,  lightheadedness , drowsiness, or ...</td>\n",
       "      <td>0</td>\n",
       "    </tr>\n",
       "    <tr>\n",
       "      <th>1</th>\n",
       "      <td>25-34</td>\n",
       "      <td>Osteoporosis</td>\n",
       "      <td>3/15/2010</td>\n",
       "      <td>lopressor ampul</td>\n",
       "      <td>6878</td>\n",
       "      <td>4</td>\n",
       "      <td>3</td>\n",
       "      <td>this treatment is awsome.  I love drugs.</td>\n",
       "      <td>2</td>\n",
       "      <td>Male</td>\n",
       "      <td></td>\n",
       "      <td>0</td>\n",
       "    </tr>\n",
       "    <tr>\n",
       "      <th>2</th>\n",
       "      <td>45-54</td>\n",
       "      <td>Post-Menopausal Osteoporosis Prevention</td>\n",
       "      <td>7/31/2017</td>\n",
       "      <td>lopreeza</td>\n",
       "      <td>167327</td>\n",
       "      <td>5</td>\n",
       "      <td>2</td>\n",
       "      <td>After taking this drug for approx. 21 days I s...</td>\n",
       "      <td>3</td>\n",
       "      <td>Male</td>\n",
       "      <td>Stomach  upset,  nausea / vomiting ,  bloating...</td>\n",
       "      <td>0</td>\n",
       "    </tr>\n",
       "    <tr>\n",
       "      <th>3</th>\n",
       "      <td>45-54</td>\n",
       "      <td>Post-Menopausal Osteoporosis Prevention</td>\n",
       "      <td>12/29/2016</td>\n",
       "      <td>lopreeza</td>\n",
       "      <td>167327</td>\n",
       "      <td>5</td>\n",
       "      <td>5</td>\n",
       "      <td>I have taken this drug for almost 7 years with...</td>\n",
       "      <td>5</td>\n",
       "      <td>Female</td>\n",
       "      <td>Stomach  upset,  nausea / vomiting ,  bloating...</td>\n",
       "      <td>1</td>\n",
       "    </tr>\n",
       "    <tr>\n",
       "      <th>4</th>\n",
       "      <td>25-34</td>\n",
       "      <td>Osteoporosis</td>\n",
       "      <td>3/16/2010</td>\n",
       "      <td>lithostat</td>\n",
       "      <td>9290</td>\n",
       "      <td>4</td>\n",
       "      <td>3</td>\n",
       "      <td>this treatment is awsome.  I love drugs.</td>\n",
       "      <td>2</td>\n",
       "      <td>Male</td>\n",
       "      <td>Headache ,  nausea ,  vomiting ,  stomach  ups...</td>\n",
       "      <td>0</td>\n",
       "    </tr>\n",
       "    <tr>\n",
       "      <th>...</th>\n",
       "      <td>...</td>\n",
       "      <td>...</td>\n",
       "      <td>...</td>\n",
       "      <td>...</td>\n",
       "      <td>...</td>\n",
       "      <td>...</td>\n",
       "      <td>...</td>\n",
       "      <td>...</td>\n",
       "      <td>...</td>\n",
       "      <td>...</td>\n",
       "      <td>...</td>\n",
       "      <td>...</td>\n",
       "    </tr>\n",
       "    <tr>\n",
       "      <th>2273</th>\n",
       "      <td>25-34</td>\n",
       "      <td>Osteoporosis</td>\n",
       "      <td>3/15/2010</td>\n",
       "      <td>calcifediol capsule, extended release 24 hr (c...</td>\n",
       "      <td>8743</td>\n",
       "      <td>4</td>\n",
       "      <td>3</td>\n",
       "      <td>this treatment is awsome.  I love drugs.</td>\n",
       "      <td>2</td>\n",
       "      <td>Male</td>\n",
       "      <td>Calcifediol usually has very few side effects.</td>\n",
       "      <td>0</td>\n",
       "    </tr>\n",
       "    <tr>\n",
       "      <th>2274</th>\n",
       "      <td>45-54</td>\n",
       "      <td>Osteoporosis</td>\n",
       "      <td>12/8/2008</td>\n",
       "      <td>calcidol</td>\n",
       "      <td>149942</td>\n",
       "      <td>5</td>\n",
       "      <td>4</td>\n",
       "      <td>My father is using Calcidol Drops (10 drops/da...</td>\n",
       "      <td>4</td>\n",
       "      <td>Male</td>\n",
       "      <td>Vitamin D  at normal doses usually has no side...</td>\n",
       "      <td>8</td>\n",
       "    </tr>\n",
       "    <tr>\n",
       "      <th>2275</th>\n",
       "      <td>25-34</td>\n",
       "      <td>Osteoporosis</td>\n",
       "      <td>3/16/2010</td>\n",
       "      <td>cholestyramine (with sugar) 4 gram oral powder</td>\n",
       "      <td>76695</td>\n",
       "      <td>4</td>\n",
       "      <td>3</td>\n",
       "      <td>this treatment is awsome.  I love drugs.</td>\n",
       "      <td>2</td>\n",
       "      <td>Male</td>\n",
       "      <td>Constipation ,  stomach / abdominal pain , gas...</td>\n",
       "      <td>0</td>\n",
       "    </tr>\n",
       "    <tr>\n",
       "      <th>2276</th>\n",
       "      <td>25-34</td>\n",
       "      <td>Osteoporosis</td>\n",
       "      <td>3/15/2010</td>\n",
       "      <td>chlorothiazide</td>\n",
       "      <td>6305</td>\n",
       "      <td>4</td>\n",
       "      <td>3</td>\n",
       "      <td>this treatment is awsome.  I love drugs.</td>\n",
       "      <td>2</td>\n",
       "      <td>Male</td>\n",
       "      <td>Dizziness ,  lightheadedness ,  headache ,  bl...</td>\n",
       "      <td>0</td>\n",
       "    </tr>\n",
       "    <tr>\n",
       "      <th>2277</th>\n",
       "      <td>25-34</td>\n",
       "      <td>Osteoporosis</td>\n",
       "      <td>3/16/2010</td>\n",
       "      <td>chloroquine powder</td>\n",
       "      <td>11365</td>\n",
       "      <td>4</td>\n",
       "      <td>3</td>\n",
       "      <td>this treatment is awsome.  I love drugs.</td>\n",
       "      <td>2</td>\n",
       "      <td>Male</td>\n",
       "      <td></td>\n",
       "      <td>1</td>\n",
       "    </tr>\n",
       "  </tbody>\n",
       "</table>\n",
       "<p>2278 rows × 12 columns</p>\n",
       "</div>"
      ],
      "text/plain": [
       "        Age                                Condition        Date  \\\n",
       "0     25-34                             Osteoporosis   3/16/2010   \n",
       "1     25-34                             Osteoporosis   3/15/2010   \n",
       "2     45-54  Post-Menopausal Osteoporosis Prevention   7/31/2017   \n",
       "3     45-54  Post-Menopausal Osteoporosis Prevention  12/29/2016   \n",
       "4     25-34                             Osteoporosis   3/16/2010   \n",
       "...     ...                                      ...         ...   \n",
       "2273  25-34                             Osteoporosis   3/15/2010   \n",
       "2274  45-54                             Osteoporosis   12/8/2008   \n",
       "2275  25-34                             Osteoporosis   3/16/2010   \n",
       "2276  25-34                             Osteoporosis   3/15/2010   \n",
       "2277  25-34                             Osteoporosis   3/16/2010   \n",
       "\n",
       "                                                   Drug  DrugId  EaseofUse  \\\n",
       "0                                              lotensin    6883          4   \n",
       "1                                       lopressor ampul    6878          4   \n",
       "2                                              lopreeza  167327          5   \n",
       "3                                              lopreeza  167327          5   \n",
       "4                                             lithostat    9290          4   \n",
       "...                                                 ...     ...        ...   \n",
       "2273  calcifediol capsule, extended release 24 hr (c...    8743          4   \n",
       "2274                                           calcidol  149942          5   \n",
       "2275     cholestyramine (with sugar) 4 gram oral powder   76695          4   \n",
       "2276                                     chlorothiazide    6305          4   \n",
       "2277                                 chloroquine powder   11365          4   \n",
       "\n",
       "      Effectiveness                                            Reviews  \\\n",
       "0                 3           this treatment is awsome.  I love drugs.   \n",
       "1                 3           this treatment is awsome.  I love drugs.   \n",
       "2                 2  After taking this drug for approx. 21 days I s...   \n",
       "3                 5  I have taken this drug for almost 7 years with...   \n",
       "4                 3           this treatment is awsome.  I love drugs.   \n",
       "...             ...                                                ...   \n",
       "2273              3           this treatment is awsome.  I love drugs.   \n",
       "2274              4  My father is using Calcidol Drops (10 drops/da...   \n",
       "2275              3           this treatment is awsome.  I love drugs.   \n",
       "2276              3           this treatment is awsome.  I love drugs.   \n",
       "2277              3           this treatment is awsome.  I love drugs.   \n",
       "\n",
       "      Satisfaction     Sex                                              Sides  \\\n",
       "0                2    Male  Dizziness ,  lightheadedness , drowsiness, or ...   \n",
       "1                2    Male                                                      \n",
       "2                3    Male  Stomach  upset,  nausea / vomiting ,  bloating...   \n",
       "3                5  Female  Stomach  upset,  nausea / vomiting ,  bloating...   \n",
       "4                2    Male  Headache ,  nausea ,  vomiting ,  stomach  ups...   \n",
       "...            ...     ...                                                ...   \n",
       "2273             2    Male     Calcifediol usually has very few side effects.   \n",
       "2274             4    Male  Vitamin D  at normal doses usually has no side...   \n",
       "2275             2    Male  Constipation ,  stomach / abdominal pain , gas...   \n",
       "2276             2    Male  Dizziness ,  lightheadedness ,  headache ,  bl...   \n",
       "2277             2    Male                                                      \n",
       "\n",
       "      UsefulCount  \n",
       "0               0  \n",
       "1               0  \n",
       "2               0  \n",
       "3               1  \n",
       "4               0  \n",
       "...           ...  \n",
       "2273            0  \n",
       "2274            8  \n",
       "2275            0  \n",
       "2276            0  \n",
       "2277            1  \n",
       "\n",
       "[2278 rows x 12 columns]"
      ]
     },
     "execution_count": 5,
     "metadata": {},
     "output_type": "execute_result"
    }
   ],
   "source": [
    "df"
   ]
  },
  {
   "cell_type": "code",
   "execution_count": 6,
   "metadata": {},
   "outputs": [
    {
     "data": {
      "text/plain": [
       "9"
      ]
     },
     "execution_count": 6,
     "metadata": {},
     "output_type": "execute_result"
    }
   ],
   "source": [
    "df['Condition'].unique().size"
   ]
  },
  {
   "cell_type": "code",
   "execution_count": 7,
   "metadata": {},
   "outputs": [
    {
     "name": "stdout",
     "output_type": "stream",
     "text": [
      "['25-34' '45-54' '65-74' '75 or over' '55-64' '35-44' ' ' '19-24' '13-18'\n",
      " '7-12']\n",
      "10\n"
     ]
    }
   ],
   "source": [
    "print(df['Age'].unique())\n",
    "print(df['Age'].unique().size)"
   ]
  },
  {
   "cell_type": "code",
   "execution_count": 8,
   "metadata": {},
   "outputs": [
    {
     "data": {
      "text/plain": [
       "0"
      ]
     },
     "execution_count": 8,
     "metadata": {},
     "output_type": "execute_result"
    }
   ],
   "source": [
    "df.isnull().sum().sum()"
   ]
  },
  {
   "cell_type": "code",
   "execution_count": 9,
   "metadata": {},
   "outputs": [],
   "source": [
    "df_ost = df.loc[df['Condition'].str.contains(\"Osteoporosis\", case=False)]"
   ]
  },
  {
   "cell_type": "code",
   "execution_count": 10,
   "metadata": {},
   "outputs": [
    {
     "name": "stdout",
     "output_type": "stream",
     "text": [
      "<class 'pandas.core.frame.DataFrame'>\n",
      "Int64Index: 2278 entries, 0 to 2277\n",
      "Data columns (total 12 columns):\n",
      " #   Column         Non-Null Count  Dtype \n",
      "---  ------         --------------  ----- \n",
      " 0   Age            2278 non-null   object\n",
      " 1   Condition      2278 non-null   object\n",
      " 2   Date           2278 non-null   object\n",
      " 3   Drug           2278 non-null   object\n",
      " 4   DrugId         2278 non-null   int64 \n",
      " 5   EaseofUse      2278 non-null   int64 \n",
      " 6   Effectiveness  2278 non-null   int64 \n",
      " 7   Reviews        2278 non-null   object\n",
      " 8   Satisfaction   2278 non-null   int64 \n",
      " 9   Sex            2278 non-null   object\n",
      " 10  Sides          2278 non-null   object\n",
      " 11  UsefulCount    2278 non-null   int64 \n",
      "dtypes: int64(5), object(7)\n",
      "memory usage: 231.4+ KB\n"
     ]
    }
   ],
   "source": [
    "df_ost.info()"
   ]
  },
  {
   "cell_type": "code",
   "execution_count": 11,
   "metadata": {},
   "outputs": [
    {
     "name": "stdout",
     "output_type": "stream",
     "text": [
      "['Osteoporosis' 'Post-Menopausal Osteoporosis Prevention'\n",
      " 'Osteoporosis in Male Patient'\n",
      " 'Aromatase Inhibitor Drug-Induced Osteoporosis'\n",
      " 'Osteoporosis in Men due to Deficient Function of Testis'\n",
      " 'Glucocorticoid-Induced Osteoporosis Prevention'\n",
      " 'Osteoporosis caused by Glucocorticoid Drugs'\n",
      " 'osteoporosis in postmenopausal woman at high risk for fracture'\n",
      " 'Osteoporosis caused by Anti-Androgen Drugs']\n",
      "9\n"
     ]
    }
   ],
   "source": [
    "print(df_ost['Condition'].unique())\n",
    "print(df_ost['Condition'].unique().size)"
   ]
  },
  {
   "cell_type": "code",
   "execution_count": 15,
   "metadata": {},
   "outputs": [
    {
     "data": {
      "text/plain": [
       "array(['25-34', '45-54', '65-74', '75+', '55-64', '35-44', ' ', '19-24',\n",
       "       '13-18', '7-12'], dtype=object)"
      ]
     },
     "execution_count": 15,
     "metadata": {},
     "output_type": "execute_result"
    }
   ],
   "source": [
    "df_ost['Age'].unique()"
   ]
  },
  {
   "cell_type": "code",
   "execution_count": 14,
   "metadata": {},
   "outputs": [],
   "source": [
    "df_ost[\"Age\"] = df_ost[\"Age\"].replace(\n",
    "    [\"25-34\",\"45-54\",\"65-74\",\"75 or over\",\"55-64\",\"35-44\",\"19-24\",\"13-18\",\"7-12\"], \n",
    "    [\"25-34\",\"45-54\", \"65-74\", \"75+\", \"55-64\", \"35-44\", \"19-24\", \"13-18\", \"7-12\"])\n"
   ]
  },
  {
   "cell_type": "code",
   "execution_count": 37,
   "metadata": {},
   "outputs": [
    {
     "data": {
      "text/plain": [
       "<AxesSubplot:xlabel='Age', ylabel='count'>"
      ]
     },
     "execution_count": 37,
     "metadata": {},
     "output_type": "execute_result"
    },
    {
     "data": {
      "image/png": "[encoded data removed]",
      "text/plain": [
       "<Figure size 432x288 with 1 Axes>"
      ]
     },
     "metadata": {
      "needs_background": "light"
     },
     "output_type": "display_data"
    }
   ],
   "source": [
    "sns.countplot(x = 'Age', data = df_ost, color = 'skyblue', order=[\"7-12\", \"13-18\", \"19-24\", \"25-34\", \"35-44\", \"45-54\", \"55-64\", \"65-74\", \"75+\"])"
   ]
  },
  {
   "cell_type": "code",
   "execution_count": 27,
   "metadata": {},
   "outputs": [
    {
     "name": "stdout",
     "output_type": "stream",
     "text": [
      "1/1/2008\n",
      "9/9/2015\n"
     ]
    }
   ],
   "source": [
    "print(min(df_ost['Date']))\n",
    "print(max(df_ost['Date']))"
   ]
  },
  {
   "cell_type": "code",
   "execution_count": 28,
   "metadata": {},
   "outputs": [
    {
     "name": "stdout",
     "output_type": "stream",
     "text": [
      "number of males:  434\n",
      "number of females:  1643\n"
     ]
    }
   ],
   "source": [
    "print(\"number of males: \", sum(df_ost['Sex'] == 'Male'))\n",
    "print(\"number of females: \", sum(df_ost['Sex'] == 'Female'))"
   ]
  },
  {
   "cell_type": "code",
   "execution_count": 38,
   "metadata": {},
   "outputs": [
    {
     "data": {
      "text/plain": [
       "<AxesSubplot:title={'center':'Distribution of Satisfaction'}, xlabel='Satisfaction', ylabel='Count'>"
      ]
     },
     "execution_count": 38,
     "metadata": {},
     "output_type": "execute_result"
    },
    {
     "data": {
      "image/png": "[encoded data removed]",
      "text/plain": [
       "<Figure size 432x288 with 1 Axes>"
      ]
     },
     "metadata": {
      "needs_background": "light"
     },
     "output_type": "display_data"
    }
   ],
   "source": [
    "plt.title('Distribution of Satisfaction')\n",
    "sns.histplot(x=\"Satisfaction\", color = 'skyblue', data = df_ost)"
   ]
  },
  {
   "cell_type": "code",
   "execution_count": 36,
   "metadata": {},
   "outputs": [
    {
     "data": {
      "text/html": [
       "<div>\n",
       "<style scoped>\n",
       "    .dataframe tbody tr th:only-of-type {\n",
       "        vertical-align: middle;\n",
       "    }\n",
       "\n",
       "    .dataframe tbody tr th {\n",
       "        vertical-align: top;\n",
       "    }\n",
       "\n",
       "    .dataframe thead th {\n",
       "        text-align: right;\n",
       "    }\n",
       "</style>\n",
       "<table border=\"1\" class=\"dataframe\">\n",
       "  <thead>\n",
       "    <tr style=\"text-align: right;\">\n",
       "      <th></th>\n",
       "      <th>Drugs</th>\n",
       "      <th>Satisfaction</th>\n",
       "    </tr>\n",
       "  </thead>\n",
       "  <tbody>\n",
       "    <tr>\n",
       "      <th>0</th>\n",
       "      <td>replesta</td>\n",
       "      <td>5.0</td>\n",
       "    </tr>\n",
       "    <tr>\n",
       "      <th>1</th>\n",
       "      <td>bio-d-mulsion forte drops</td>\n",
       "      <td>5.0</td>\n",
       "    </tr>\n",
       "    <tr>\n",
       "      <th>2</th>\n",
       "      <td>calcium 600-vit d3</td>\n",
       "      <td>5.0</td>\n",
       "    </tr>\n",
       "    <tr>\n",
       "      <th>3</th>\n",
       "      <td>calcium-magnesium-zinc 333 mg-133 mg-5 mg tablet</td>\n",
       "      <td>5.0</td>\n",
       "    </tr>\n",
       "    <tr>\n",
       "      <th>4</th>\n",
       "      <td>citracal-vitamin d tablet</td>\n",
       "      <td>5.0</td>\n",
       "    </tr>\n",
       "    <tr>\n",
       "      <th>...</th>\n",
       "      <td>...</td>\n",
       "      <td>...</td>\n",
       "    </tr>\n",
       "    <tr>\n",
       "      <th>270</th>\n",
       "      <td>risedronate 150 mg tablet</td>\n",
       "      <td>1.0</td>\n",
       "    </tr>\n",
       "    <tr>\n",
       "      <th>271</th>\n",
       "      <td>estradiol transdermal patch patch, weekly</td>\n",
       "      <td>1.0</td>\n",
       "    </tr>\n",
       "    <tr>\n",
       "      <th>272</th>\n",
       "      <td>oyster shell + d</td>\n",
       "      <td>1.0</td>\n",
       "    </tr>\n",
       "    <tr>\n",
       "      <th>273</th>\n",
       "      <td>os-cal 500-vit d3</td>\n",
       "      <td>1.0</td>\n",
       "    </tr>\n",
       "    <tr>\n",
       "      <th>274</th>\n",
       "      <td>risedronate sodium</td>\n",
       "      <td>1.0</td>\n",
       "    </tr>\n",
       "  </tbody>\n",
       "</table>\n",
       "<p>275 rows × 2 columns</p>\n",
       "</div>"
      ],
      "text/plain": [
       "                                                Drugs  Satisfaction\n",
       "0                                            replesta           5.0\n",
       "1                           bio-d-mulsion forte drops           5.0\n",
       "2                                  calcium 600-vit d3           5.0\n",
       "3    calcium-magnesium-zinc 333 mg-133 mg-5 mg tablet           5.0\n",
       "4                           citracal-vitamin d tablet           5.0\n",
       "..                                                ...           ...\n",
       "270                         risedronate 150 mg tablet           1.0\n",
       "271         estradiol transdermal patch patch, weekly           1.0\n",
       "272                                  oyster shell + d           1.0\n",
       "273                                 os-cal 500-vit d3           1.0\n",
       "274                                risedronate sodium           1.0\n",
       "\n",
       "[275 rows x 2 columns]"
      ]
     },
     "execution_count": 36,
     "metadata": {},
     "output_type": "execute_result"
    }
   ],
   "source": [
    "df_ost['Satisfaction'].groupby(df_ost['Drug']).mean().sort_values(ascending=False).reset_index().rename(columns={\"Drug\":\"Drugs\"})"
   ]
  },
  {
   "cell_type": "code",
   "execution_count": 64,
   "metadata": {},
   "outputs": [
    {
     "data": {
      "image/png": "[encoded data removed]",
      "text/plain": [
       "<Figure size 432x288 with 3 Axes>"
      ]
     },
     "metadata": {
      "needs_background": "light"
     },
     "output_type": "display_data"
    }
   ],
   "source": [
    "rating_avgs = (df_ost['Satisfaction'].groupby(df_ost['Drug']).mean())\n",
    "#rating_avgs.hist(color='skyblue')\n",
    "#plt.title('Distribution of average drug satisfaction')\n",
    "#plt.xlabel('Satisfaction')\n",
    "#plt.ylabel('Count')\n",
    "\n",
    "df_ost_male = df_ost[df_ost['Sex'] == 'Male']\n",
    "male_rating_avgs = (df_ost_male['Satisfaction'].groupby(df_ost['Drug']).mean())\n",
    "#male_rating_avgs.hist(color='skyblue')\n",
    "#plt.title('Distribution of average drug satisfaction - Male')\n",
    "#plt.xlabel('Satisfaction')\n",
    "#plt.ylabel('Count')\n",
    "\n",
    "\n",
    "df_ost_female = df_ost[df_ost['Sex'] == 'Female']\n",
    "female_rating_avgs = (df_ost_female['Satisfaction'].groupby(df_ost['Drug']).mean())\n",
    "#female_rating_avgs.hist(color='skyblue')\n",
    "#plt.title('Distribution of average drug satisfaction - Female')\n",
    "#plt.xlabel('Satisfaction')\n",
    "#plt.ylabel('Count')\n",
    "\n",
    "\n",
    "fig, axs = plt.subplots(ncols=3)\n",
    "rating_avgs.hist(color='skyblue', ax=axs[0])\n",
    "male_rating_avgs.hist(color='skyblue', ax=axs[1])\n",
    "female_rating_avgs.hist(color='skyblue', ax=axs[2])\n",
    "axs[1].set_xlabel('Satisfaction')\n",
    "axs[0].set_ylabel('Count')\n",
    "axs[1].set_title('Distribution of average drug satisfaction  \\n General                  Male                Female')\n",
    "plt.subplots_adjust(left=0.1,\n",
    "                    bottom=0.1, \n",
    "                    right=0.9, \n",
    "                    top=0.9, \n",
    "                    wspace=0.4, \n",
    "                    hspace=0.4)"
   ]
  },
  {
   "cell_type": "code",
   "execution_count": 65,
   "metadata": {},
   "outputs": [
    {
     "data": {
      "text/plain": [
       "Text(0.5, 1.0, 'Top20 : The number of drugs per condition.')"
      ]
     },
     "execution_count": 65,
     "metadata": {},
     "output_type": "execute_result"
    },
    {
     "data": {
      "image/png": "[encoded data removed]",
      "text/plain": [
       "<Figure size 1008x432 with 1 Axes>"
      ]
     },
     "metadata": {
      "needs_background": "light"
     },
     "output_type": "display_data"
    }
   ],
   "source": [
    "condition_dn = df_ost.groupby(['Condition'])['Drug'].nunique().sort_values(ascending=False)\n",
    "condition_dn[0:20].plot(kind=\"bar\", figsize = (14,6), fontsize = 10,color=\"skyblue\")\n",
    "plt.xlabel(\"\", fontsize = 20)\n",
    "plt.ylabel(\"\", fontsize = 20)\n",
    "plt.title(\"Top20 : The number of drugs per condition.\", fontsize = 20)"
   ]
  },
  {
   "cell_type": "code",
   "execution_count": 67,
   "metadata": {},
   "outputs": [
    {
     "data": {
      "image/png": "[encoded data removed]",
      "text/plain": [
       "<Figure size 432x288 with 1 Axes>"
      ]
     },
     "metadata": {
      "needs_background": "light"
     },
     "output_type": "display_data"
    }
   ],
   "source": [
    "# This barplot shows the Top 20 drugs with the 1/10 rating\n",
    "\n",
    "# Setting the Parameter\n",
    "#sns.set(font_scale = 1.2, style = 'darkgrid')\n",
    "#plt.rcParams['figure.figsize'] = [15, 8]\n",
    "\n",
    "rating = dict(df_ost.loc[df_ost.Satisfaction == 1, \"Drug\"].value_counts())\n",
    "drugname = list(rating.keys())\n",
    "drug_rating = list(rating.values())\n",
    "\n",
    "sns_rating = sns.barplot(x = drugname[0:20], y = drug_rating[0:20], color = 'skyblue')\n",
    "\n",
    "sns_rating.set_title('Top 20 drugs with 1/10 rating')\n",
    "sns_rating.set_ylabel(\"Number of Ratings\")\n",
    "sns_rating.set_xlabel(\"Drug Names\")\n",
    "plt.setp(sns_rating.get_xticklabels(), rotation=90);"
   ]
  },
  {
   "cell_type": "code",
   "execution_count": 113,
   "metadata": {},
   "outputs": [],
   "source": [
    "# Make dictionary of conditions, each value will be a dataframe of all of the drugs used to treat the given condition\n",
    "help_dict = {}\n",
    "\n",
    "# Iterate over conditions\n",
    "for i in df_ost.Condition.unique():\n",
    "    \n",
    "    temp_ls = []\n",
    "    \n",
    "    # Iterate over drugs within a given condition\n",
    "    for j in df_ost[df_ost.Condition == i].Drug.unique():\n",
    "        \n",
    "        # If there are at least 10 reviews for a drug, save its name and average rating in temporary list\n",
    "        if np.sum(df_ost.Drug == j) >= 10:\n",
    "            temp_ls.append((j, np.sum(df_ost[df_ost.Drug == j].Satisfaction) / np.sum(df_ost.Drug == j)))\n",
    "        \n",
    "    # Save temporary list as a dataframe as a value in help dictionary, sorted best to worst drugs\n",
    "    help_dict[i] = pd.DataFrame(data=temp_ls, columns=['drug', 'average_rating']).sort_values(by='average_rating', ascending=False).reset_index(drop=True)"
   ]
  },
  {
   "cell_type": "code",
   "execution_count": 120,
   "metadata": {},
   "outputs": [
    {
     "data": {
      "text/html": [
       "<div>\n",
       "<style scoped>\n",
       "    .dataframe tbody tr th:only-of-type {\n",
       "        vertical-align: middle;\n",
       "    }\n",
       "\n",
       "    .dataframe tbody tr th {\n",
       "        vertical-align: top;\n",
       "    }\n",
       "\n",
       "    .dataframe thead th {\n",
       "        text-align: right;\n",
       "    }\n",
       "</style>\n",
       "<table border=\"1\" class=\"dataframe\">\n",
       "  <thead>\n",
       "    <tr style=\"text-align: right;\">\n",
       "      <th></th>\n",
       "      <th>drug</th>\n",
       "      <th>average_rating</th>\n",
       "    </tr>\n",
       "  </thead>\n",
       "  <tbody>\n",
       "    <tr>\n",
       "      <th>0</th>\n",
       "      <td>reclast bottle, infusion</td>\n",
       "      <td>2.773196</td>\n",
       "    </tr>\n",
       "    <tr>\n",
       "      <th>1</th>\n",
       "      <td>zometa vial</td>\n",
       "      <td>2.277778</td>\n",
       "    </tr>\n",
       "    <tr>\n",
       "      <th>2</th>\n",
       "      <td>prolia syringe</td>\n",
       "      <td>2.047445</td>\n",
       "    </tr>\n",
       "    <tr>\n",
       "      <th>3</th>\n",
       "      <td>agrylin</td>\n",
       "      <td>2.000000</td>\n",
       "    </tr>\n",
       "    <tr>\n",
       "      <th>4</th>\n",
       "      <td>hydrea</td>\n",
       "      <td>2.000000</td>\n",
       "    </tr>\n",
       "    <tr>\n",
       "      <th>5</th>\n",
       "      <td>actonel tablet osteoporosis agents</td>\n",
       "      <td>1.979310</td>\n",
       "    </tr>\n",
       "    <tr>\n",
       "      <th>6</th>\n",
       "      <td>actonel 35 mg tablet</td>\n",
       "      <td>1.979310</td>\n",
       "    </tr>\n",
       "    <tr>\n",
       "      <th>7</th>\n",
       "      <td>actonel 150 mg tablet</td>\n",
       "      <td>1.979310</td>\n",
       "    </tr>\n",
       "    <tr>\n",
       "      <th>8</th>\n",
       "      <td>actonel</td>\n",
       "      <td>1.979310</td>\n",
       "    </tr>\n",
       "    <tr>\n",
       "      <th>9</th>\n",
       "      <td>atelvia</td>\n",
       "      <td>1.745763</td>\n",
       "    </tr>\n",
       "    <tr>\n",
       "      <th>10</th>\n",
       "      <td>zoledronic acid vial</td>\n",
       "      <td>1.571429</td>\n",
       "    </tr>\n",
       "  </tbody>\n",
       "</table>\n",
       "</div>"
      ],
      "text/plain": [
       "                                  drug  average_rating\n",
       "0             reclast bottle, infusion        2.773196\n",
       "1                          zometa vial        2.277778\n",
       "2                       prolia syringe        2.047445\n",
       "3                              agrylin        2.000000\n",
       "4                               hydrea        2.000000\n",
       "5   actonel tablet osteoporosis agents        1.979310\n",
       "6                 actonel 35 mg tablet        1.979310\n",
       "7                actonel 150 mg tablet        1.979310\n",
       "8                              actonel        1.979310\n",
       "9                              atelvia        1.745763\n",
       "10                zoledronic acid vial        1.571429"
      ]
     },
     "execution_count": 120,
     "metadata": {},
     "output_type": "execute_result"
    }
   ],
   "source": [
    "help_dict['Osteoporosis'].iloc[:100]"
   ]
  },
  {
   "cell_type": "code",
   "execution_count": 117,
   "metadata": {},
   "outputs": [
    {
     "data": {
      "text/html": [
       "<div>\n",
       "<style scoped>\n",
       "    .dataframe tbody tr th:only-of-type {\n",
       "        vertical-align: middle;\n",
       "    }\n",
       "\n",
       "    .dataframe tbody tr th {\n",
       "        vertical-align: top;\n",
       "    }\n",
       "\n",
       "    .dataframe thead th {\n",
       "        text-align: right;\n",
       "    }\n",
       "</style>\n",
       "<table border=\"1\" class=\"dataframe\">\n",
       "  <thead>\n",
       "    <tr style=\"text-align: right;\">\n",
       "      <th></th>\n",
       "      <th>Age</th>\n",
       "      <th>Condition</th>\n",
       "      <th>Date</th>\n",
       "      <th>Drug</th>\n",
       "      <th>DrugId</th>\n",
       "      <th>EaseofUse</th>\n",
       "      <th>Effectiveness</th>\n",
       "      <th>Reviews</th>\n",
       "      <th>Satisfaction</th>\n",
       "      <th>Sex</th>\n",
       "      <th>Sides</th>\n",
       "      <th>UsefulCount</th>\n",
       "    </tr>\n",
       "  </thead>\n",
       "  <tbody>\n",
       "    <tr>\n",
       "      <th>4147</th>\n",
       "      <td>25-34</td>\n",
       "      <td>Osteoporosis</td>\n",
       "      <td>3/16/2010</td>\n",
       "      <td>lotensin</td>\n",
       "      <td>6883</td>\n",
       "      <td>4</td>\n",
       "      <td>3</td>\n",
       "      <td>this treatment is awsome.  I love drugs.</td>\n",
       "      <td>2</td>\n",
       "      <td>Male</td>\n",
       "      <td>Dizziness ,  lightheadedness , drowsiness, or ...</td>\n",
       "      <td>0</td>\n",
       "    </tr>\n",
       "    <tr>\n",
       "      <th>6181</th>\n",
       "      <td>25-34</td>\n",
       "      <td>Osteoporosis</td>\n",
       "      <td>3/15/2010</td>\n",
       "      <td>lopressor ampul</td>\n",
       "      <td>6878</td>\n",
       "      <td>4</td>\n",
       "      <td>3</td>\n",
       "      <td>this treatment is awsome.  I love drugs.</td>\n",
       "      <td>2</td>\n",
       "      <td>Male</td>\n",
       "      <td></td>\n",
       "      <td>0</td>\n",
       "    </tr>\n",
       "    <tr>\n",
       "      <th>6192</th>\n",
       "      <td>45-54</td>\n",
       "      <td>Post-Menopausal Osteoporosis Prevention</td>\n",
       "      <td>7/31/2017</td>\n",
       "      <td>lopreeza</td>\n",
       "      <td>167327</td>\n",
       "      <td>5</td>\n",
       "      <td>2</td>\n",
       "      <td>After taking this drug for approx. 21 days I s...</td>\n",
       "      <td>3</td>\n",
       "      <td>Male</td>\n",
       "      <td>Stomach  upset,  nausea / vomiting ,  bloating...</td>\n",
       "      <td>0</td>\n",
       "    </tr>\n",
       "    <tr>\n",
       "      <th>6207</th>\n",
       "      <td>45-54</td>\n",
       "      <td>Post-Menopausal Osteoporosis Prevention</td>\n",
       "      <td>12/29/2016</td>\n",
       "      <td>lopreeza</td>\n",
       "      <td>167327</td>\n",
       "      <td>5</td>\n",
       "      <td>5</td>\n",
       "      <td>I have taken this drug for almost 7 years with...</td>\n",
       "      <td>5</td>\n",
       "      <td>Female</td>\n",
       "      <td>Stomach  upset,  nausea / vomiting ,  bloating...</td>\n",
       "      <td>1</td>\n",
       "    </tr>\n",
       "    <tr>\n",
       "      <th>7554</th>\n",
       "      <td>25-34</td>\n",
       "      <td>Osteoporosis</td>\n",
       "      <td>3/16/2010</td>\n",
       "      <td>lithostat</td>\n",
       "      <td>9290</td>\n",
       "      <td>4</td>\n",
       "      <td>3</td>\n",
       "      <td>this treatment is awsome.  I love drugs.</td>\n",
       "      <td>2</td>\n",
       "      <td>Male</td>\n",
       "      <td>Headache ,  nausea ,  vomiting ,  stomach  ups...</td>\n",
       "      <td>0</td>\n",
       "    </tr>\n",
       "    <tr>\n",
       "      <th>18993</th>\n",
       "      <td>65-74</td>\n",
       "      <td>Osteoporosis</td>\n",
       "      <td>5/26/2010</td>\n",
       "      <td>liquid calcium + vitamin d</td>\n",
       "      <td>93396</td>\n",
       "      <td>5</td>\n",
       "      <td>5</td>\n",
       "      <td>since I have a hard time swallowing this hs wo...</td>\n",
       "      <td>5</td>\n",
       "      <td>Female</td>\n",
       "      <td>Constipation  or  stomach  upset may occur.</td>\n",
       "      <td>1</td>\n",
       "    </tr>\n",
       "    <tr>\n",
       "      <th>19282</th>\n",
       "      <td>25-34</td>\n",
       "      <td>Osteoporosis</td>\n",
       "      <td>3/15/2010</td>\n",
       "      <td>lincomycin hcl vial</td>\n",
       "      <td>5641</td>\n",
       "      <td>4</td>\n",
       "      <td>3</td>\n",
       "      <td>this treatment is awsome.  I love drugs.</td>\n",
       "      <td>2</td>\n",
       "      <td>Male</td>\n",
       "      <td>Nausea ,  vomiting ,  diarrhea , or  headache ...</td>\n",
       "      <td>0</td>\n",
       "    </tr>\n",
       "    <tr>\n",
       "      <th>22344</th>\n",
       "      <td>25-34</td>\n",
       "      <td>Osteoporosis</td>\n",
       "      <td>3/16/2010</td>\n",
       "      <td>latisse drops, with applicator</td>\n",
       "      <td>151740</td>\n",
       "      <td>4</td>\n",
       "      <td>3</td>\n",
       "      <td>this treatment is awsome.  I love drugs.</td>\n",
       "      <td>2</td>\n",
       "      <td>Male</td>\n",
       "      <td>Eye  redness/discomfort/ itching /dryness or e...</td>\n",
       "      <td>2</td>\n",
       "    </tr>\n",
       "    <tr>\n",
       "      <th>35711</th>\n",
       "      <td>25-34</td>\n",
       "      <td>Osteoporosis</td>\n",
       "      <td>3/16/2010</td>\n",
       "      <td>l-phenylalanine</td>\n",
       "      <td>4453</td>\n",
       "      <td>4</td>\n",
       "      <td>3</td>\n",
       "      <td>this treatment is awsome.  I love drugs.</td>\n",
       "      <td>2</td>\n",
       "      <td>Male</td>\n",
       "      <td></td>\n",
       "      <td>0</td>\n",
       "    </tr>\n",
       "    <tr>\n",
       "      <th>36663</th>\n",
       "      <td>25-34</td>\n",
       "      <td>Osteoporosis</td>\n",
       "      <td>3/15/2010</td>\n",
       "      <td>levemir vial</td>\n",
       "      <td>95095</td>\n",
       "      <td>4</td>\n",
       "      <td>3</td>\n",
       "      <td>this treatment is awsome.  I love drugs.</td>\n",
       "      <td>2</td>\n",
       "      <td>Male</td>\n",
       "      <td>Injection site reactions (such as pain, rednes...</td>\n",
       "      <td>0</td>\n",
       "    </tr>\n",
       "  </tbody>\n",
       "</table>\n",
       "</div>"
      ],
      "text/plain": [
       "         Age                                Condition        Date  \\\n",
       "4147   25-34                             Osteoporosis   3/16/2010   \n",
       "6181   25-34                             Osteoporosis   3/15/2010   \n",
       "6192   45-54  Post-Menopausal Osteoporosis Prevention   7/31/2017   \n",
       "6207   45-54  Post-Menopausal Osteoporosis Prevention  12/29/2016   \n",
       "7554   25-34                             Osteoporosis   3/16/2010   \n",
       "18993  65-74                             Osteoporosis   5/26/2010   \n",
       "19282  25-34                             Osteoporosis   3/15/2010   \n",
       "22344  25-34                             Osteoporosis   3/16/2010   \n",
       "35711  25-34                             Osteoporosis   3/16/2010   \n",
       "36663  25-34                             Osteoporosis   3/15/2010   \n",
       "\n",
       "                                 Drug  DrugId  EaseofUse  Effectiveness  \\\n",
       "4147                         lotensin    6883          4              3   \n",
       "6181                  lopressor ampul    6878          4              3   \n",
       "6192                         lopreeza  167327          5              2   \n",
       "6207                         lopreeza  167327          5              5   \n",
       "7554                        lithostat    9290          4              3   \n",
       "18993      liquid calcium + vitamin d   93396          5              5   \n",
       "19282             lincomycin hcl vial    5641          4              3   \n",
       "22344  latisse drops, with applicator  151740          4              3   \n",
       "35711                 l-phenylalanine    4453          4              3   \n",
       "36663                    levemir vial   95095          4              3   \n",
       "\n",
       "                                                 Reviews  Satisfaction  \\\n",
       "4147            this treatment is awsome.  I love drugs.             2   \n",
       "6181            this treatment is awsome.  I love drugs.             2   \n",
       "6192   After taking this drug for approx. 21 days I s...             3   \n",
       "6207   I have taken this drug for almost 7 years with...             5   \n",
       "7554            this treatment is awsome.  I love drugs.             2   \n",
       "18993  since I have a hard time swallowing this hs wo...             5   \n",
       "19282           this treatment is awsome.  I love drugs.             2   \n",
       "22344           this treatment is awsome.  I love drugs.             2   \n",
       "35711           this treatment is awsome.  I love drugs.             2   \n",
       "36663           this treatment is awsome.  I love drugs.             2   \n",
       "\n",
       "          Sex                                              Sides  UsefulCount  \n",
       "4147     Male  Dizziness ,  lightheadedness , drowsiness, or ...            0  \n",
       "6181     Male                                                               0  \n",
       "6192     Male  Stomach  upset,  nausea / vomiting ,  bloating...            0  \n",
       "6207   Female  Stomach  upset,  nausea / vomiting ,  bloating...            1  \n",
       "7554     Male  Headache ,  nausea ,  vomiting ,  stomach  ups...            0  \n",
       "18993  Female        Constipation  or  stomach  upset may occur.            1  \n",
       "19282    Male  Nausea ,  vomiting ,  diarrhea , or  headache ...            0  \n",
       "22344    Male  Eye  redness/discomfort/ itching /dryness or e...            2  \n",
       "35711    Male                                                               0  \n",
       "36663    Male  Injection site reactions (such as pain, rednes...            0  "
      ]
     },
     "execution_count": 117,
     "metadata": {},
     "output_type": "execute_result"
    }
   ],
   "source": [
    "df_ost.head(10)"
   ]
  },
  {
   "cell_type": "code",
   "execution_count": 126,
   "metadata": {},
   "outputs": [
    {
     "data": {
      "text/html": [
       "<div>\n",
       "<style scoped>\n",
       "    .dataframe tbody tr th:only-of-type {\n",
       "        vertical-align: middle;\n",
       "    }\n",
       "\n",
       "    .dataframe tbody tr th {\n",
       "        vertical-align: top;\n",
       "    }\n",
       "\n",
       "    .dataframe thead th {\n",
       "        text-align: right;\n",
       "    }\n",
       "</style>\n",
       "<table border=\"1\" class=\"dataframe\">\n",
       "  <thead>\n",
       "    <tr style=\"text-align: right;\">\n",
       "      <th></th>\n",
       "      <th>Age</th>\n",
       "      <th>Condition</th>\n",
       "      <th>Date</th>\n",
       "      <th>Drug</th>\n",
       "      <th>DrugId</th>\n",
       "      <th>EaseofUse</th>\n",
       "      <th>Effectiveness</th>\n",
       "      <th>Reviews</th>\n",
       "      <th>Satisfaction</th>\n",
       "      <th>Sex</th>\n",
       "      <th>Sides</th>\n",
       "      <th>UsefulCount</th>\n",
       "    </tr>\n",
       "  </thead>\n",
       "  <tbody>\n",
       "    <tr>\n",
       "      <th>189842</th>\n",
       "      <td>55-64</td>\n",
       "      <td>osteoporosis in postmenopausal woman at high r...</td>\n",
       "      <td>2/27/2020</td>\n",
       "      <td>tymlos pen injector</td>\n",
       "      <td>173586</td>\n",
       "      <td>5</td>\n",
       "      <td>1</td>\n",
       "      <td>It’s easy to do but no where on the side effec...</td>\n",
       "      <td>1</td>\n",
       "      <td>Female</td>\n",
       "      <td>Dizziness  or fast heartbeat may occur within ...</td>\n",
       "      <td>0</td>\n",
       "    </tr>\n",
       "    <tr>\n",
       "      <th>189843</th>\n",
       "      <td>55-64</td>\n",
       "      <td>osteoporosis in postmenopausal woman at high r...</td>\n",
       "      <td>2/5/2020</td>\n",
       "      <td>tymlos pen injector</td>\n",
       "      <td>173586</td>\n",
       "      <td>5</td>\n",
       "      <td>5</td>\n",
       "      <td>I do have about a two hour increase in heart r...</td>\n",
       "      <td>4</td>\n",
       "      <td>Female</td>\n",
       "      <td>Dizziness  or fast heartbeat may occur within ...</td>\n",
       "      <td>0</td>\n",
       "    </tr>\n",
       "    <tr>\n",
       "      <th>189844</th>\n",
       "      <td>65-74</td>\n",
       "      <td>osteoporosis in postmenopausal woman at high r...</td>\n",
       "      <td>1/1/2020</td>\n",
       "      <td>tymlos pen injector</td>\n",
       "      <td>173586</td>\n",
       "      <td>3</td>\n",
       "      <td>3</td>\n",
       "      <td>i frill diary often during the day and it make...</td>\n",
       "      <td>1</td>\n",
       "      <td></td>\n",
       "      <td>Dizziness  or fast heartbeat may occur within ...</td>\n",
       "      <td>0</td>\n",
       "    </tr>\n",
       "    <tr>\n",
       "      <th>189845</th>\n",
       "      <td>65-74</td>\n",
       "      <td>Decreased Bone Mass Following Menopause</td>\n",
       "      <td>9/28/2019</td>\n",
       "      <td>tymlos pen injector</td>\n",
       "      <td>173586</td>\n",
       "      <td>3</td>\n",
       "      <td>3</td>\n",
       "      <td>The drug is very easy to use.  I have only bee...</td>\n",
       "      <td>1</td>\n",
       "      <td></td>\n",
       "      <td>Dizziness  or fast heartbeat may occur within ...</td>\n",
       "      <td>4</td>\n",
       "    </tr>\n",
       "    <tr>\n",
       "      <th>189846</th>\n",
       "      <td>55-64</td>\n",
       "      <td>Decreased Bone Mass Following Menopause</td>\n",
       "      <td>7/24/2019</td>\n",
       "      <td>tymlos pen injector</td>\n",
       "      <td>173586</td>\n",
       "      <td>5</td>\n",
       "      <td>5</td>\n",
       "      <td>I have had NO side effects. I inject myself be...</td>\n",
       "      <td>5</td>\n",
       "      <td>Female</td>\n",
       "      <td>Dizziness  or fast heartbeat may occur within ...</td>\n",
       "      <td>5</td>\n",
       "    </tr>\n",
       "    <tr>\n",
       "      <th>189847</th>\n",
       "      <td>75 or over</td>\n",
       "      <td>Decreased Bone Mass Following Menopause</td>\n",
       "      <td>4/26/2019</td>\n",
       "      <td>tymlos pen injector</td>\n",
       "      <td>173586</td>\n",
       "      <td>1</td>\n",
       "      <td>1</td>\n",
       "      <td>This drug causes an extreme reaction in my 89 ...</td>\n",
       "      <td>1</td>\n",
       "      <td>Female</td>\n",
       "      <td>Dizziness  or fast heartbeat may occur within ...</td>\n",
       "      <td>6</td>\n",
       "    </tr>\n",
       "    <tr>\n",
       "      <th>189848</th>\n",
       "      <td>55-64</td>\n",
       "      <td>Decreased Bone Mass Following Menopause</td>\n",
       "      <td>1/27/2019</td>\n",
       "      <td>tymlos pen injector</td>\n",
       "      <td>173586</td>\n",
       "      <td>3</td>\n",
       "      <td>3</td>\n",
       "      <td>I can only give myself a shot every other day ...</td>\n",
       "      <td>2</td>\n",
       "      <td></td>\n",
       "      <td>Dizziness  or fast heartbeat may occur within ...</td>\n",
       "      <td>23</td>\n",
       "    </tr>\n",
       "  </tbody>\n",
       "</table>\n",
       "</div>"
      ],
      "text/plain": [
       "               Age                                          Condition  \\\n",
       "189842       55-64  osteoporosis in postmenopausal woman at high r...   \n",
       "189843       55-64  osteoporosis in postmenopausal woman at high r...   \n",
       "189844       65-74  osteoporosis in postmenopausal woman at high r...   \n",
       "189845       65-74            Decreased Bone Mass Following Menopause   \n",
       "189846       55-64            Decreased Bone Mass Following Menopause   \n",
       "189847  75 or over            Decreased Bone Mass Following Menopause   \n",
       "189848       55-64            Decreased Bone Mass Following Menopause   \n",
       "\n",
       "             Date                 Drug  DrugId  EaseofUse  Effectiveness  \\\n",
       "189842  2/27/2020  tymlos pen injector  173586          5              1   \n",
       "189843   2/5/2020  tymlos pen injector  173586          5              5   \n",
       "189844   1/1/2020  tymlos pen injector  173586          3              3   \n",
       "189845  9/28/2019  tymlos pen injector  173586          3              3   \n",
       "189846  7/24/2019  tymlos pen injector  173586          5              5   \n",
       "189847  4/26/2019  tymlos pen injector  173586          1              1   \n",
       "189848  1/27/2019  tymlos pen injector  173586          3              3   \n",
       "\n",
       "                                                  Reviews  Satisfaction  \\\n",
       "189842  It’s easy to do but no where on the side effec...             1   \n",
       "189843  I do have about a two hour increase in heart r...             4   \n",
       "189844  i frill diary often during the day and it make...             1   \n",
       "189845  The drug is very easy to use.  I have only bee...             1   \n",
       "189846  I have had NO side effects. I inject myself be...             5   \n",
       "189847  This drug causes an extreme reaction in my 89 ...             1   \n",
       "189848  I can only give myself a shot every other day ...             2   \n",
       "\n",
       "           Sex                                              Sides  UsefulCount  \n",
       "189842  Female  Dizziness  or fast heartbeat may occur within ...            0  \n",
       "189843  Female  Dizziness  or fast heartbeat may occur within ...            0  \n",
       "189844          Dizziness  or fast heartbeat may occur within ...            0  \n",
       "189845          Dizziness  or fast heartbeat may occur within ...            4  \n",
       "189846  Female  Dizziness  or fast heartbeat may occur within ...            5  \n",
       "189847  Female  Dizziness  or fast heartbeat may occur within ...            6  \n",
       "189848          Dizziness  or fast heartbeat may occur within ...           23  "
      ]
     },
     "execution_count": 126,
     "metadata": {},
     "output_type": "execute_result"
    }
   ],
   "source": [
    "df.loc[df['Drug'].str.contains(\"tymlos\", case=False)]"
   ]
  }
 ],
 "metadata": {
  "kernelspec": {
   "display_name": "Python 3.9.12 ('base')",
   "language": "python",
   "name": "python3"
  },
  "language_info": {
   "codemirror_mode": {
    "name": "ipython",
    "version": 3
   },
   "file_extension": ".py",
   "mimetype": "text/x-python",
   "name": "python",
   "nbconvert_exporter": "python",
   "pygments_lexer": "ipython3",
   "version": "3.9.12"
  },
  "orig_nbformat": 4,
  "vscode": {
   "interpreter": {
    "hash": "723860b9bcb0b1e72b55ae11883eb093fb3432a85486e4dad0490b6a92cc27fa"
   }
  }
 },
 "nbformat": 4,
 "nbformat_minor": 2
}
