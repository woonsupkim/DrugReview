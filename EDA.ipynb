{
 "cells": [
  {
   "cell_type": "code",
   "execution_count": 1,
   "metadata": {},
   "outputs": [],
   "source": [
    "import pandas as pd\n",
    "import numpy as np\n",
    "import matplotlib.pyplot as plt\n",
    "import seaborn as sns\n",
    "import datetime"
   ]
  },
  {
   "cell_type": "code",
   "execution_count": 2,
   "metadata": {},
   "outputs": [],
   "source": [
    "df = pd.read_csv('data/webmd.csv')"
   ]
  },
  {
   "cell_type": "code",
   "execution_count": 3,
   "metadata": {},
   "outputs": [
    {
     "name": "stdout",
     "output_type": "stream",
     "text": [
      "<class 'pandas.core.frame.DataFrame'>\n",
      "Int64Index: 2278 entries, 4147 to 361296\n",
      "Data columns (total 12 columns):\n",
      " #   Column         Non-Null Count  Dtype \n",
      "---  ------         --------------  ----- \n",
      " 0   Age            2278 non-null   object\n",
      " 1   Condition      2278 non-null   object\n",
      " 2   Date           2278 non-null   object\n",
      " 3   Drug           2278 non-null   object\n",
      " 4   DrugId         2278 non-null   int64 \n",
      " 5   EaseofUse      2278 non-null   int64 \n",
      " 6   Effectiveness  2278 non-null   int64 \n",
      " 7   Reviews        2278 non-null   object\n",
      " 8   Satisfaction   2278 non-null   int64 \n",
      " 9   Sex            2278 non-null   object\n",
      " 10  Sides          2278 non-null   object\n",
      " 11  UsefulCount    2278 non-null   int64 \n",
      "dtypes: int64(5), object(7)\n",
      "memory usage: 231.4+ KB\n"
     ]
    }
   ],
   "source": [
    "df = df.loc[df['Condition'].str.contains(\"Osteoporosis\", case=False)]\n",
    "df.info()"
   ]
  },
  {
   "cell_type": "code",
   "execution_count": 4,
   "metadata": {},
   "outputs": [],
   "source": [
    "df['Date'] = df['Date'].astype('datetime64[ns]')"
   ]
  },
  {
   "cell_type": "code",
   "execution_count": 5,
   "metadata": {},
   "outputs": [
    {
     "name": "stdout",
     "output_type": "stream",
     "text": [
      "<class 'pandas.core.frame.DataFrame'>\n",
      "Int64Index: 1363 entries, 4147 to 360371\n",
      "Data columns (total 12 columns):\n",
      " #   Column         Non-Null Count  Dtype         \n",
      "---  ------         --------------  -----         \n",
      " 0   Age            1363 non-null   object        \n",
      " 1   Condition      1363 non-null   object        \n",
      " 2   Date           1363 non-null   datetime64[ns]\n",
      " 3   Drug           1363 non-null   object        \n",
      " 4   DrugId         1363 non-null   int64         \n",
      " 5   EaseofUse      1363 non-null   int64         \n",
      " 6   Effectiveness  1363 non-null   int64         \n",
      " 7   Reviews        1363 non-null   object        \n",
      " 8   Satisfaction   1363 non-null   int64         \n",
      " 9   Sex            1363 non-null   object        \n",
      " 10  Sides          1363 non-null   object        \n",
      " 11  UsefulCount    1363 non-null   int64         \n",
      "dtypes: datetime64[ns](1), int64(5), object(6)\n",
      "memory usage: 138.4+ KB\n"
     ]
    }
   ],
   "source": [
    "df = df.drop_duplicates('Reviews')\n",
    "df.info()"
   ]
  },
  {
   "cell_type": "code",
   "execution_count": 6,
   "metadata": {},
   "outputs": [
    {
     "data": {
      "text/plain": [
       "\"\\nDrug = []\\nfor i in df['Drug'].unique():\\n    if np.sum(df.Drug == i) >= 10:\\n        Drug.append(i)\\n\\ntmp = []\\n\\nfor drugs in df['Drug']:\\n    if drugs in Drug:\\n        tmp.append(1)\\n    else:\\n        tmp.append(0)\\n\\ndf['temp'] = tmp\\ndf = df[df['temp'] == 1]\\n\""
      ]
     },
     "execution_count": 6,
     "metadata": {},
     "output_type": "execute_result"
    }
   ],
   "source": [
    "#Only Drugs with more than 10 reviews\n",
    "\"\"\"\n",
    "Drug = []\n",
    "for i in df['Drug'].unique():\n",
    "    if np.sum(df.Drug == i) >= 10:\n",
    "        Drug.append(i)\n",
    "\n",
    "tmp = []\n",
    "\n",
    "for drugs in df['Drug']:\n",
    "    if drugs in Drug:\n",
    "        tmp.append(1)\n",
    "    else:\n",
    "        tmp.append(0)\n",
    "\n",
    "df['temp'] = tmp\n",
    "df = df[df['temp'] == 1]\n",
    "\"\"\""
   ]
  },
  {
   "cell_type": "markdown",
   "metadata": {},
   "source": [
    "# All Osteoporosis Related Illnesses"
   ]
  },
  {
   "cell_type": "code",
   "execution_count": 7,
   "metadata": {},
   "outputs": [
    {
     "name": "stdout",
     "output_type": "stream",
     "text": [
      "number of reviews:  (1363, 12)\n",
      "number of males:  71\n",
      "number of females:  1116\n",
      "list of conditions: \n",
      " ['Osteoporosis' 'Post-Menopausal Osteoporosis Prevention'\n",
      " 'Osteoporosis in Male Patient'\n",
      " 'Aromatase Inhibitor Drug-Induced Osteoporosis'\n",
      " 'Osteoporosis in Men due to Deficient Function of Testis'\n",
      " 'Glucocorticoid-Induced Osteoporosis Prevention'\n",
      " 'Osteoporosis caused by Glucocorticoid Drugs'\n",
      " 'osteoporosis in postmenopausal woman at high risk for fracture'\n",
      " 'Osteoporosis caused by Anti-Androgen Drugs']\n",
      "number of conditions:  (9,)\n",
      "number of drugs:  (71,)\n",
      "2007-09-18 00:00:00\n",
      "2020-02-27 00:00:00\n"
     ]
    }
   ],
   "source": [
    "print('number of reviews: ', df.shape)\n",
    "print(\"number of males: \", sum(df['Sex'] == 'Male'))\n",
    "print(\"number of females: \", sum(df['Sex'] == 'Female'))\n",
    "print('list of conditions: \\n', df['Condition'].unique())\n",
    "print('number of conditions: ', df['Condition'].unique().shape)\n",
    "print('number of drugs: ', df['Drug'].unique().shape)\n",
    "print(min(df['Date']))\n",
    "print(max(df['Date']))"
   ]
  },
  {
   "cell_type": "markdown",
   "metadata": {},
   "source": [
    "# ONLY Osteoporosis and TYMLOS related condition"
   ]
  },
  {
   "cell_type": "code",
   "execution_count": 8,
   "metadata": {},
   "outputs": [],
   "source": [
    "df_ost = df[df['Condition'] == \"Osteoporosis\"]\n",
    "df_ost2 = df[df['Condition'] == \"osteoporosis in postmenopausal woman at high risk for fracture\"]\n",
    "df_ost = pd.concat([df_ost,df_ost2])\n",
    "df_ost['Year'] = df_ost['Date'].dt.year"
   ]
  },
  {
   "cell_type": "code",
   "execution_count": 9,
   "metadata": {},
   "outputs": [
    {
     "name": "stdout",
     "output_type": "stream",
     "text": [
      "number of reviews:  (889, 13)\n",
      "number of males:  38\n",
      "number of females:  711\n",
      "list of conditions: \n",
      " ['Osteoporosis'\n",
      " 'osteoporosis in postmenopausal woman at high risk for fracture']\n",
      "number of conditions:  (2,)\n",
      "number of drugs:  (38,)\n",
      "2007-09-18 00:00:00\n",
      "2020-02-27 00:00:00\n"
     ]
    }
   ],
   "source": [
    "print('number of reviews: ', df_ost.shape)\n",
    "print(\"number of males: \", sum(df_ost['Sex'] == 'Male'))\n",
    "print(\"number of females: \", sum(df_ost['Sex'] == 'Female'))\n",
    "print('list of conditions: \\n', df_ost['Condition'].unique())\n",
    "print('number of conditions: ', df_ost['Condition'].unique().shape)\n",
    "print('number of drugs: ', df_ost['Drug'].unique().shape)\n",
    "print(min(df_ost['Date']))\n",
    "print(max(df_ost['Date']))"
   ]
  },
  {
   "cell_type": "markdown",
   "metadata": {},
   "source": [
    "# Repeat Rows as many times as usefulcount"
   ]
  },
  {
   "cell_type": "code",
   "execution_count": 10,
   "metadata": {},
   "outputs": [
    {
     "data": {
      "text/html": [
       "<div>\n",
       "<style scoped>\n",
       "    .dataframe tbody tr th:only-of-type {\n",
       "        vertical-align: middle;\n",
       "    }\n",
       "\n",
       "    .dataframe tbody tr th {\n",
       "        vertical-align: top;\n",
       "    }\n",
       "\n",
       "    .dataframe thead th {\n",
       "        text-align: right;\n",
       "    }\n",
       "</style>\n",
       "<table border=\"1\" class=\"dataframe\">\n",
       "  <thead>\n",
       "    <tr style=\"text-align: right;\">\n",
       "      <th></th>\n",
       "      <th>Age</th>\n",
       "      <th>Condition</th>\n",
       "      <th>Date</th>\n",
       "      <th>Drug</th>\n",
       "      <th>DrugId</th>\n",
       "      <th>EaseofUse</th>\n",
       "      <th>Effectiveness</th>\n",
       "      <th>Reviews</th>\n",
       "      <th>Satisfaction</th>\n",
       "      <th>Sex</th>\n",
       "      <th>Sides</th>\n",
       "      <th>UsefulCount</th>\n",
       "      <th>Year</th>\n",
       "    </tr>\n",
       "  </thead>\n",
       "  <tbody>\n",
       "    <tr>\n",
       "      <th>4147</th>\n",
       "      <td>25-34</td>\n",
       "      <td>Osteoporosis</td>\n",
       "      <td>2010-03-16</td>\n",
       "      <td>lotensin</td>\n",
       "      <td>6883</td>\n",
       "      <td>4</td>\n",
       "      <td>3</td>\n",
       "      <td>this treatment is awsome.  I love drugs.</td>\n",
       "      <td>2</td>\n",
       "      <td>Male</td>\n",
       "      <td>Dizziness ,  lightheadedness , drowsiness, or ...</td>\n",
       "      <td>0</td>\n",
       "      <td>2010</td>\n",
       "    </tr>\n",
       "    <tr>\n",
       "      <th>18993</th>\n",
       "      <td>65-74</td>\n",
       "      <td>Osteoporosis</td>\n",
       "      <td>2010-05-26</td>\n",
       "      <td>liquid calcium + vitamin d</td>\n",
       "      <td>93396</td>\n",
       "      <td>5</td>\n",
       "      <td>5</td>\n",
       "      <td>since I have a hard time swallowing this hs wo...</td>\n",
       "      <td>5</td>\n",
       "      <td>Female</td>\n",
       "      <td>Constipation  or  stomach  upset may occur.</td>\n",
       "      <td>1</td>\n",
       "      <td>2010</td>\n",
       "    </tr>\n",
       "    <tr>\n",
       "      <th>61145</th>\n",
       "      <td>45-54</td>\n",
       "      <td>Osteoporosis</td>\n",
       "      <td>2012-01-19</td>\n",
       "      <td>oyster shell + d</td>\n",
       "      <td>94390</td>\n",
       "      <td>1</td>\n",
       "      <td>1</td>\n",
       "      <td>I have severe pain in my hand and muscle joint...</td>\n",
       "      <td>1</td>\n",
       "      <td>Female</td>\n",
       "      <td>Constipation  or  stomach  upset may occur.</td>\n",
       "      <td>2</td>\n",
       "      <td>2012</td>\n",
       "    </tr>\n",
       "    <tr>\n",
       "      <th>72313</th>\n",
       "      <td>75 or over</td>\n",
       "      <td>Osteoporosis</td>\n",
       "      <td>2015-02-23</td>\n",
       "      <td>os-cal 500-vit d3</td>\n",
       "      <td>16527</td>\n",
       "      <td>1</td>\n",
       "      <td>3</td>\n",
       "      <td>Food dyes and talc...large pill for a newly re...</td>\n",
       "      <td>1</td>\n",
       "      <td>Female</td>\n",
       "      <td>Constipation  or  stomach  upset may occur.</td>\n",
       "      <td>1</td>\n",
       "      <td>2015</td>\n",
       "    </tr>\n",
       "    <tr>\n",
       "      <th>72315</th>\n",
       "      <td>45-54</td>\n",
       "      <td>Osteoporosis</td>\n",
       "      <td>2012-08-27</td>\n",
       "      <td>os-cal 500-vit d3</td>\n",
       "      <td>16527</td>\n",
       "      <td>5</td>\n",
       "      <td>3</td>\n",
       "      <td>I have taken it for 6 months and it did not in...</td>\n",
       "      <td>1</td>\n",
       "      <td>Male</td>\n",
       "      <td>Constipation  or  stomach  upset may occur.</td>\n",
       "      <td>2</td>\n",
       "      <td>2012</td>\n",
       "    </tr>\n",
       "  </tbody>\n",
       "</table>\n",
       "</div>"
      ],
      "text/plain": [
       "              Age     Condition       Date                        Drug  \\\n",
       "4147        25-34  Osteoporosis 2010-03-16                    lotensin   \n",
       "18993       65-74  Osteoporosis 2010-05-26  liquid calcium + vitamin d   \n",
       "61145       45-54  Osteoporosis 2012-01-19            oyster shell + d   \n",
       "72313  75 or over  Osteoporosis 2015-02-23           os-cal 500-vit d3   \n",
       "72315       45-54  Osteoporosis 2012-08-27           os-cal 500-vit d3   \n",
       "\n",
       "       DrugId  EaseofUse  Effectiveness  \\\n",
       "4147     6883          4              3   \n",
       "18993   93396          5              5   \n",
       "61145   94390          1              1   \n",
       "72313   16527          1              3   \n",
       "72315   16527          5              3   \n",
       "\n",
       "                                                 Reviews  Satisfaction  \\\n",
       "4147            this treatment is awsome.  I love drugs.             2   \n",
       "18993  since I have a hard time swallowing this hs wo...             5   \n",
       "61145  I have severe pain in my hand and muscle joint...             1   \n",
       "72313  Food dyes and talc...large pill for a newly re...             1   \n",
       "72315  I have taken it for 6 months and it did not in...             1   \n",
       "\n",
       "          Sex                                              Sides  UsefulCount  \\\n",
       "4147     Male  Dizziness ,  lightheadedness , drowsiness, or ...            0   \n",
       "18993  Female        Constipation  or  stomach  upset may occur.            1   \n",
       "61145  Female        Constipation  or  stomach  upset may occur.            2   \n",
       "72313  Female        Constipation  or  stomach  upset may occur.            1   \n",
       "72315    Male        Constipation  or  stomach  upset may occur.            2   \n",
       "\n",
       "       Year  \n",
       "4147   2010  \n",
       "18993  2010  \n",
       "61145  2012  \n",
       "72313  2015  \n",
       "72315  2012  "
      ]
     },
     "execution_count": 10,
     "metadata": {},
     "output_type": "execute_result"
    }
   ],
   "source": [
    "df_ost.head()"
   ]
  },
  {
   "cell_type": "code",
   "execution_count": 11,
   "metadata": {},
   "outputs": [
    {
     "name": "stdout",
     "output_type": "stream",
     "text": [
      "Reviews with useful count = 0:  18\n"
     ]
    }
   ],
   "source": [
    "print('Reviews with useful count = 0: ', np.sum(df_ost['UsefulCount'] == 0))"
   ]
  },
  {
   "cell_type": "code",
   "execution_count": 12,
   "metadata": {},
   "outputs": [
    {
     "data": {
      "text/html": [
       "<div>\n",
       "<style scoped>\n",
       "    .dataframe tbody tr th:only-of-type {\n",
       "        vertical-align: middle;\n",
       "    }\n",
       "\n",
       "    .dataframe tbody tr th {\n",
       "        vertical-align: top;\n",
       "    }\n",
       "\n",
       "    .dataframe thead th {\n",
       "        text-align: right;\n",
       "    }\n",
       "</style>\n",
       "<table border=\"1\" class=\"dataframe\">\n",
       "  <thead>\n",
       "    <tr style=\"text-align: right;\">\n",
       "      <th></th>\n",
       "      <th>Age</th>\n",
       "      <th>Condition</th>\n",
       "      <th>Date</th>\n",
       "      <th>Drug</th>\n",
       "      <th>DrugId</th>\n",
       "      <th>EaseofUse</th>\n",
       "      <th>Effectiveness</th>\n",
       "      <th>Reviews</th>\n",
       "      <th>Satisfaction</th>\n",
       "      <th>Sex</th>\n",
       "      <th>Sides</th>\n",
       "      <th>UsefulCount</th>\n",
       "      <th>Year</th>\n",
       "    </tr>\n",
       "  </thead>\n",
       "  <tbody>\n",
       "    <tr>\n",
       "      <th>18993</th>\n",
       "      <td>65-74</td>\n",
       "      <td>Osteoporosis</td>\n",
       "      <td>2010-05-26</td>\n",
       "      <td>liquid calcium + vitamin d</td>\n",
       "      <td>93396</td>\n",
       "      <td>5</td>\n",
       "      <td>5</td>\n",
       "      <td>since I have a hard time swallowing this hs wo...</td>\n",
       "      <td>5</td>\n",
       "      <td>Female</td>\n",
       "      <td>Constipation  or  stomach  upset may occur.</td>\n",
       "      <td>1</td>\n",
       "      <td>2010</td>\n",
       "    </tr>\n",
       "    <tr>\n",
       "      <th>61145</th>\n",
       "      <td>45-54</td>\n",
       "      <td>Osteoporosis</td>\n",
       "      <td>2012-01-19</td>\n",
       "      <td>oyster shell + d</td>\n",
       "      <td>94390</td>\n",
       "      <td>1</td>\n",
       "      <td>1</td>\n",
       "      <td>I have severe pain in my hand and muscle joint...</td>\n",
       "      <td>1</td>\n",
       "      <td>Female</td>\n",
       "      <td>Constipation  or  stomach  upset may occur.</td>\n",
       "      <td>2</td>\n",
       "      <td>2012</td>\n",
       "    </tr>\n",
       "    <tr>\n",
       "      <th>61145</th>\n",
       "      <td>45-54</td>\n",
       "      <td>Osteoporosis</td>\n",
       "      <td>2012-01-19</td>\n",
       "      <td>oyster shell + d</td>\n",
       "      <td>94390</td>\n",
       "      <td>1</td>\n",
       "      <td>1</td>\n",
       "      <td>I have severe pain in my hand and muscle joint...</td>\n",
       "      <td>1</td>\n",
       "      <td>Female</td>\n",
       "      <td>Constipation  or  stomach  upset may occur.</td>\n",
       "      <td>2</td>\n",
       "      <td>2012</td>\n",
       "    </tr>\n",
       "    <tr>\n",
       "      <th>72313</th>\n",
       "      <td>75 or over</td>\n",
       "      <td>Osteoporosis</td>\n",
       "      <td>2015-02-23</td>\n",
       "      <td>os-cal 500-vit d3</td>\n",
       "      <td>16527</td>\n",
       "      <td>1</td>\n",
       "      <td>3</td>\n",
       "      <td>Food dyes and talc...large pill for a newly re...</td>\n",
       "      <td>1</td>\n",
       "      <td>Female</td>\n",
       "      <td>Constipation  or  stomach  upset may occur.</td>\n",
       "      <td>1</td>\n",
       "      <td>2015</td>\n",
       "    </tr>\n",
       "    <tr>\n",
       "      <th>72315</th>\n",
       "      <td>45-54</td>\n",
       "      <td>Osteoporosis</td>\n",
       "      <td>2012-08-27</td>\n",
       "      <td>os-cal 500-vit d3</td>\n",
       "      <td>16527</td>\n",
       "      <td>5</td>\n",
       "      <td>3</td>\n",
       "      <td>I have taken it for 6 months and it did not in...</td>\n",
       "      <td>1</td>\n",
       "      <td>Male</td>\n",
       "      <td>Constipation  or  stomach  upset may occur.</td>\n",
       "      <td>2</td>\n",
       "      <td>2012</td>\n",
       "    </tr>\n",
       "    <tr>\n",
       "      <th>...</th>\n",
       "      <td>...</td>\n",
       "      <td>...</td>\n",
       "      <td>...</td>\n",
       "      <td>...</td>\n",
       "      <td>...</td>\n",
       "      <td>...</td>\n",
       "      <td>...</td>\n",
       "      <td>...</td>\n",
       "      <td>...</td>\n",
       "      <td>...</td>\n",
       "      <td>...</td>\n",
       "      <td>...</td>\n",
       "      <td>...</td>\n",
       "    </tr>\n",
       "    <tr>\n",
       "      <th>360371</th>\n",
       "      <td>45-54</td>\n",
       "      <td>Osteoporosis</td>\n",
       "      <td>2008-12-08</td>\n",
       "      <td>calcidol</td>\n",
       "      <td>149942</td>\n",
       "      <td>5</td>\n",
       "      <td>4</td>\n",
       "      <td>My father is using Calcidol Drops (10 drops/da...</td>\n",
       "      <td>4</td>\n",
       "      <td>Male</td>\n",
       "      <td>Vitamin D  at normal doses usually has no side...</td>\n",
       "      <td>8</td>\n",
       "      <td>2008</td>\n",
       "    </tr>\n",
       "    <tr>\n",
       "      <th>360371</th>\n",
       "      <td>45-54</td>\n",
       "      <td>Osteoporosis</td>\n",
       "      <td>2008-12-08</td>\n",
       "      <td>calcidol</td>\n",
       "      <td>149942</td>\n",
       "      <td>5</td>\n",
       "      <td>4</td>\n",
       "      <td>My father is using Calcidol Drops (10 drops/da...</td>\n",
       "      <td>4</td>\n",
       "      <td>Male</td>\n",
       "      <td>Vitamin D  at normal doses usually has no side...</td>\n",
       "      <td>8</td>\n",
       "      <td>2008</td>\n",
       "    </tr>\n",
       "    <tr>\n",
       "      <th>360371</th>\n",
       "      <td>45-54</td>\n",
       "      <td>Osteoporosis</td>\n",
       "      <td>2008-12-08</td>\n",
       "      <td>calcidol</td>\n",
       "      <td>149942</td>\n",
       "      <td>5</td>\n",
       "      <td>4</td>\n",
       "      <td>My father is using Calcidol Drops (10 drops/da...</td>\n",
       "      <td>4</td>\n",
       "      <td>Male</td>\n",
       "      <td>Vitamin D  at normal doses usually has no side...</td>\n",
       "      <td>8</td>\n",
       "      <td>2008</td>\n",
       "    </tr>\n",
       "    <tr>\n",
       "      <th>360371</th>\n",
       "      <td>45-54</td>\n",
       "      <td>Osteoporosis</td>\n",
       "      <td>2008-12-08</td>\n",
       "      <td>calcidol</td>\n",
       "      <td>149942</td>\n",
       "      <td>5</td>\n",
       "      <td>4</td>\n",
       "      <td>My father is using Calcidol Drops (10 drops/da...</td>\n",
       "      <td>4</td>\n",
       "      <td>Male</td>\n",
       "      <td>Vitamin D  at normal doses usually has no side...</td>\n",
       "      <td>8</td>\n",
       "      <td>2008</td>\n",
       "    </tr>\n",
       "    <tr>\n",
       "      <th>276701</th>\n",
       "      <td>55-64</td>\n",
       "      <td>osteoporosis in postmenopausal woman at high r...</td>\n",
       "      <td>2020-01-22</td>\n",
       "      <td>forteo pen injector</td>\n",
       "      <td>64474</td>\n",
       "      <td>1</td>\n",
       "      <td>1</td>\n",
       "      <td>Very dangerous medicine, Should not be prescri...</td>\n",
       "      <td>1</td>\n",
       "      <td></td>\n",
       "      <td>Dizziness  or fast heartbeat may occur within ...</td>\n",
       "      <td>1</td>\n",
       "      <td>2020</td>\n",
       "    </tr>\n",
       "  </tbody>\n",
       "</table>\n",
       "<p>25149 rows × 13 columns</p>\n",
       "</div>"
      ],
      "text/plain": [
       "               Age                                          Condition  \\\n",
       "18993        65-74                                       Osteoporosis   \n",
       "61145        45-54                                       Osteoporosis   \n",
       "61145        45-54                                       Osteoporosis   \n",
       "72313   75 or over                                       Osteoporosis   \n",
       "72315        45-54                                       Osteoporosis   \n",
       "...            ...                                                ...   \n",
       "360371       45-54                                       Osteoporosis   \n",
       "360371       45-54                                       Osteoporosis   \n",
       "360371       45-54                                       Osteoporosis   \n",
       "360371       45-54                                       Osteoporosis   \n",
       "276701       55-64  osteoporosis in postmenopausal woman at high r...   \n",
       "\n",
       "             Date                        Drug  DrugId  EaseofUse  \\\n",
       "18993  2010-05-26  liquid calcium + vitamin d   93396          5   \n",
       "61145  2012-01-19            oyster shell + d   94390          1   \n",
       "61145  2012-01-19            oyster shell + d   94390          1   \n",
       "72313  2015-02-23           os-cal 500-vit d3   16527          1   \n",
       "72315  2012-08-27           os-cal 500-vit d3   16527          5   \n",
       "...           ...                         ...     ...        ...   \n",
       "360371 2008-12-08                    calcidol  149942          5   \n",
       "360371 2008-12-08                    calcidol  149942          5   \n",
       "360371 2008-12-08                    calcidol  149942          5   \n",
       "360371 2008-12-08                    calcidol  149942          5   \n",
       "276701 2020-01-22         forteo pen injector   64474          1   \n",
       "\n",
       "        Effectiveness                                            Reviews  \\\n",
       "18993               5  since I have a hard time swallowing this hs wo...   \n",
       "61145               1  I have severe pain in my hand and muscle joint...   \n",
       "61145               1  I have severe pain in my hand and muscle joint...   \n",
       "72313               3  Food dyes and talc...large pill for a newly re...   \n",
       "72315               3  I have taken it for 6 months and it did not in...   \n",
       "...               ...                                                ...   \n",
       "360371              4  My father is using Calcidol Drops (10 drops/da...   \n",
       "360371              4  My father is using Calcidol Drops (10 drops/da...   \n",
       "360371              4  My father is using Calcidol Drops (10 drops/da...   \n",
       "360371              4  My father is using Calcidol Drops (10 drops/da...   \n",
       "276701              1  Very dangerous medicine, Should not be prescri...   \n",
       "\n",
       "        Satisfaction     Sex  \\\n",
       "18993              5  Female   \n",
       "61145              1  Female   \n",
       "61145              1  Female   \n",
       "72313              1  Female   \n",
       "72315              1    Male   \n",
       "...              ...     ...   \n",
       "360371             4    Male   \n",
       "360371             4    Male   \n",
       "360371             4    Male   \n",
       "360371             4    Male   \n",
       "276701             1           \n",
       "\n",
       "                                                    Sides  UsefulCount  Year  \n",
       "18993         Constipation  or  stomach  upset may occur.            1  2010  \n",
       "61145         Constipation  or  stomach  upset may occur.            2  2012  \n",
       "61145         Constipation  or  stomach  upset may occur.            2  2012  \n",
       "72313         Constipation  or  stomach  upset may occur.            1  2015  \n",
       "72315         Constipation  or  stomach  upset may occur.            2  2012  \n",
       "...                                                   ...          ...   ...  \n",
       "360371  Vitamin D  at normal doses usually has no side...            8  2008  \n",
       "360371  Vitamin D  at normal doses usually has no side...            8  2008  \n",
       "360371  Vitamin D  at normal doses usually has no side...            8  2008  \n",
       "360371  Vitamin D  at normal doses usually has no side...            8  2008  \n",
       "276701  Dizziness  or fast heartbeat may occur within ...            1  2020  \n",
       "\n",
       "[25149 rows x 13 columns]"
      ]
     },
     "execution_count": 12,
     "metadata": {},
     "output_type": "execute_result"
    }
   ],
   "source": [
    "df_ost = df_ost.loc[df_ost.index.repeat(df_ost.UsefulCount)]\n",
    "df_ost"
   ]
  },
  {
   "cell_type": "markdown",
   "metadata": {},
   "source": [
    "## Too few Male Patients - Drop Male"
   ]
  },
  {
   "cell_type": "code",
   "execution_count": 13,
   "metadata": {},
   "outputs": [],
   "source": [
    "df_ost = df_ost[df_ost[\"Sex\"] == \"Female\"]"
   ]
  },
  {
   "cell_type": "code",
   "execution_count": 14,
   "metadata": {},
   "outputs": [
    {
     "data": {
      "text/plain": [
       "'\\nplt.subplots_adjust(left=0.1,\\n                    bottom=0.1, \\n                    right=1.2, \\n                    top=0.9, \\n                    wspace=0.4, \\n                    hspace=0.4)\\n'"
      ]
     },
     "execution_count": 14,
     "metadata": {},
     "output_type": "execute_result"
    },
    {
     "data": {
      "image/png": "[encoded data removed]",
      "text/plain": [
       "<Figure size 432x288 with 1 Axes>"
      ]
     },
     "metadata": {
      "needs_background": "light"
     },
     "output_type": "display_data"
    }
   ],
   "source": [
    "plt.title('Distribution of Drug Satisfaction - Female')\n",
    "sns.countplot(x=\"Satisfaction\", color = 'skyblue', data = df_ost)\n",
    "\n",
    "\"\"\"\n",
    "plt.subplots_adjust(left=0.1,\n",
    "                    bottom=0.1, \n",
    "                    right=1.2, \n",
    "                    top=0.9, \n",
    "                    wspace=0.4, \n",
    "                    hspace=0.4)\n",
    "\"\"\""
   ]
  },
  {
   "cell_type": "markdown",
   "metadata": {},
   "source": [
    "## Time Series of Drug Satisfaction"
   ]
  },
  {
   "cell_type": "code",
   "execution_count": 15,
   "metadata": {},
   "outputs": [
    {
     "name": "stdout",
     "output_type": "stream",
     "text": [
      "                          Drug  count  mean  weighted_metric\n",
      "0                      actical      2   5.0             10.0\n",
      "16  liquid calcium + vitamin d      1   5.0              5.0\n",
      "14   citracal-vitamin d tablet      9   5.0             45.0\n",
      "4    bio-d-mulsion forte drops      8   5.0             40.0\n",
      "5                    c calcium      6   5.0             30.0\n",
      "\n",
      "\n",
      "\n",
      "                                  Drug  count      mean  weighted_metric\n",
      "20            reclast bottle, infusion  10381  2.739620          28440.0\n",
      "19                      prolia syringe   6986  1.840825          12860.0\n",
      "2   actonel tablet osteoporosis agents   1665  1.680480           2798.0\n",
      "3                              atelvia    571  1.691769            966.0\n",
      "1                 actonel 35 mg tablet    300  2.040000            612.0\n"
     ]
    }
   ],
   "source": [
    "#Top 5 Drugs considering both count and average satisfaction\n",
    "df_tmp = df_ost.groupby('Drug')['Satisfaction'].agg(count='size', mean='mean').reset_index()\n",
    "df_tmp['weighted_metric'] = (df_tmp['mean'] * df_tmp['count'])\n",
    "print(df_tmp.sort_values(by = ['mean'], ascending = False).head(5))\n",
    "print('\\n\\n')\n",
    "print(df_tmp.sort_values(by = ['weighted_metric'], ascending = False).head(5))"
   ]
  },
  {
   "cell_type": "code",
   "execution_count": 16,
   "metadata": {},
   "outputs": [
    {
     "data": {
      "text/plain": [
       "<AxesSubplot:xlabel='Year', ylabel='Satisfaction'>"
      ]
     },
     "execution_count": 16,
     "metadata": {},
     "output_type": "execute_result"
    },
    {
     "data": {
      "image/png": "[encoded data removed]",
      "text/plain": [
       "<Figure size 432x288 with 1 Axes>"
      ]
     },
     "metadata": {
      "needs_background": "light"
     },
     "output_type": "display_data"
    }
   ],
   "source": [
    "df_drug1 = df_ost.loc[df_ost['Drug'].str.contains(\"reclast bottle, infusion\", case=False)]\n",
    "df_drug2 = df_ost.loc[df_ost['Drug'].str.contains(\"prolia syringe\", case=False)]\n",
    "df_drug3 = df_ost.loc[df_ost['Drug'].str.contains(\"actonel tablet osteoporosis agents\", case=False)]\n",
    "#df_drug4 = df_ost.loc[df_ost['Drug'].str.contains(\"atelvia\", case=False)]\n",
    "#df_drug5 = df_ost.loc[df_ost['Drug'].str.contains(\"actonel 35 mg tablet\", case=False)]\n",
    "\n",
    "\n",
    "df_drugs = pd.concat([df_drug1, df_drug2, df_drug3])\n",
    "\n",
    "sns.lineplot(x = 'Year', y = 'Satisfaction', hue = 'Drug', data=df_drugs.groupby([\"Year\", \"Drug\"])[\"Satisfaction\"].mean().reset_index())"
   ]
  },
  {
   "cell_type": "code",
   "execution_count": 17,
   "metadata": {},
   "outputs": [
    {
     "data": {
      "text/html": [
       "<div>\n",
       "<style scoped>\n",
       "    .dataframe tbody tr th:only-of-type {\n",
       "        vertical-align: middle;\n",
       "    }\n",
       "\n",
       "    .dataframe tbody tr th {\n",
       "        vertical-align: top;\n",
       "    }\n",
       "\n",
       "    .dataframe thead th {\n",
       "        text-align: right;\n",
       "    }\n",
       "</style>\n",
       "<table border=\"1\" class=\"dataframe\">\n",
       "  <thead>\n",
       "    <tr style=\"text-align: right;\">\n",
       "      <th></th>\n",
       "      <th>Year</th>\n",
       "      <th>count</th>\n",
       "      <th>mean</th>\n",
       "      <th>weighted_metric</th>\n",
       "    </tr>\n",
       "  </thead>\n",
       "  <tbody>\n",
       "    <tr>\n",
       "      <th>0</th>\n",
       "      <td>2007</td>\n",
       "      <td>77</td>\n",
       "      <td>3.506494</td>\n",
       "      <td>270.0</td>\n",
       "    </tr>\n",
       "    <tr>\n",
       "      <th>1</th>\n",
       "      <td>2008</td>\n",
       "      <td>404</td>\n",
       "      <td>1.413366</td>\n",
       "      <td>571.0</td>\n",
       "    </tr>\n",
       "    <tr>\n",
       "      <th>2</th>\n",
       "      <td>2009</td>\n",
       "      <td>2768</td>\n",
       "      <td>2.323699</td>\n",
       "      <td>6432.0</td>\n",
       "    </tr>\n",
       "    <tr>\n",
       "      <th>3</th>\n",
       "      <td>2010</td>\n",
       "      <td>3561</td>\n",
       "      <td>2.531592</td>\n",
       "      <td>9015.0</td>\n",
       "    </tr>\n",
       "    <tr>\n",
       "      <th>4</th>\n",
       "      <td>2011</td>\n",
       "      <td>1937</td>\n",
       "      <td>2.608673</td>\n",
       "      <td>5053.0</td>\n",
       "    </tr>\n",
       "    <tr>\n",
       "      <th>5</th>\n",
       "      <td>2012</td>\n",
       "      <td>867</td>\n",
       "      <td>1.950404</td>\n",
       "      <td>1691.0</td>\n",
       "    </tr>\n",
       "    <tr>\n",
       "      <th>6</th>\n",
       "      <td>2013</td>\n",
       "      <td>1921</td>\n",
       "      <td>1.995315</td>\n",
       "      <td>3833.0</td>\n",
       "    </tr>\n",
       "    <tr>\n",
       "      <th>7</th>\n",
       "      <td>2014</td>\n",
       "      <td>3297</td>\n",
       "      <td>1.881711</td>\n",
       "      <td>6204.0</td>\n",
       "    </tr>\n",
       "    <tr>\n",
       "      <th>8</th>\n",
       "      <td>2015</td>\n",
       "      <td>3242</td>\n",
       "      <td>2.400987</td>\n",
       "      <td>7784.0</td>\n",
       "    </tr>\n",
       "    <tr>\n",
       "      <th>9</th>\n",
       "      <td>2016</td>\n",
       "      <td>1077</td>\n",
       "      <td>2.888579</td>\n",
       "      <td>3111.0</td>\n",
       "    </tr>\n",
       "    <tr>\n",
       "      <th>10</th>\n",
       "      <td>2017</td>\n",
       "      <td>534</td>\n",
       "      <td>2.359551</td>\n",
       "      <td>1260.0</td>\n",
       "    </tr>\n",
       "    <tr>\n",
       "      <th>11</th>\n",
       "      <td>2018</td>\n",
       "      <td>442</td>\n",
       "      <td>2.031674</td>\n",
       "      <td>898.0</td>\n",
       "    </tr>\n",
       "    <tr>\n",
       "      <th>12</th>\n",
       "      <td>2019</td>\n",
       "      <td>114</td>\n",
       "      <td>1.491228</td>\n",
       "      <td>170.0</td>\n",
       "    </tr>\n",
       "  </tbody>\n",
       "</table>\n",
       "</div>"
      ],
      "text/plain": [
       "    Year  count      mean  weighted_metric\n",
       "0   2007     77  3.506494            270.0\n",
       "1   2008    404  1.413366            571.0\n",
       "2   2009   2768  2.323699           6432.0\n",
       "3   2010   3561  2.531592           9015.0\n",
       "4   2011   1937  2.608673           5053.0\n",
       "5   2012    867  1.950404           1691.0\n",
       "6   2013   1921  1.995315           3833.0\n",
       "7   2014   3297  1.881711           6204.0\n",
       "8   2015   3242  2.400987           7784.0\n",
       "9   2016   1077  2.888579           3111.0\n",
       "10  2017    534  2.359551           1260.0\n",
       "11  2018    442  2.031674            898.0\n",
       "12  2019    114  1.491228            170.0"
      ]
     },
     "execution_count": 17,
     "metadata": {},
     "output_type": "execute_result"
    }
   ],
   "source": [
    "#Top 5 Drugs considering both count and average satisfaction\n",
    "df_tmp = df_ost.groupby('Year')['Satisfaction'].agg(count='size', mean='mean').reset_index()\n",
    "df_tmp['weighted_metric'] = (df_tmp['count'] * df_tmp['mean'])\n",
    "df_tmp\n",
    "\n",
    "#df_ost.groupby([\"Year\"])[\"Satisfaction\"].agg(count='size', mean='mean').reset_index()"
   ]
  },
  {
   "cell_type": "code",
   "execution_count": 18,
   "metadata": {},
   "outputs": [
    {
     "data": {
      "text/plain": [
       "(2008.0, 2019.0)"
      ]
     },
     "execution_count": 18,
     "metadata": {},
     "output_type": "execute_result"
    },
    {
     "data": {
      "image/png": "[encoded data removed]",
      "text/plain": [
       "<Figure size 432x288 with 1 Axes>"
      ]
     },
     "metadata": {
      "needs_background": "light"
     },
     "output_type": "display_data"
    }
   ],
   "source": [
    "fig, ax = plt.subplots()\n",
    "plt.title('Drug Satisfaction Over Time- Female')\n",
    "sns.lineplot(x = 'Year', y = 'mean', data=df_tmp, ax=ax)\n",
    "ax.set_xlim(2008, 2019)"
   ]
  },
  {
   "cell_type": "code",
   "execution_count": 19,
   "metadata": {},
   "outputs": [
    {
     "data": {
      "text/html": [
       "<div>\n",
       "<style scoped>\n",
       "    .dataframe tbody tr th:only-of-type {\n",
       "        vertical-align: middle;\n",
       "    }\n",
       "\n",
       "    .dataframe tbody tr th {\n",
       "        vertical-align: top;\n",
       "    }\n",
       "\n",
       "    .dataframe thead th {\n",
       "        text-align: right;\n",
       "    }\n",
       "</style>\n",
       "<table border=\"1\" class=\"dataframe\">\n",
       "  <thead>\n",
       "    <tr style=\"text-align: right;\">\n",
       "      <th></th>\n",
       "      <th>Drug</th>\n",
       "      <th>Year</th>\n",
       "      <th>count</th>\n",
       "      <th>mean</th>\n",
       "    </tr>\n",
       "  </thead>\n",
       "  <tbody>\n",
       "    <tr>\n",
       "      <th>0</th>\n",
       "      <td>actonel tablet osteoporosis agents</td>\n",
       "      <td>2008</td>\n",
       "      <td>156</td>\n",
       "      <td>1.153846</td>\n",
       "    </tr>\n",
       "    <tr>\n",
       "      <th>1</th>\n",
       "      <td>actonel tablet osteoporosis agents</td>\n",
       "      <td>2009</td>\n",
       "      <td>533</td>\n",
       "      <td>1.497186</td>\n",
       "    </tr>\n",
       "    <tr>\n",
       "      <th>2</th>\n",
       "      <td>actonel tablet osteoporosis agents</td>\n",
       "      <td>2010</td>\n",
       "      <td>491</td>\n",
       "      <td>1.566191</td>\n",
       "    </tr>\n",
       "    <tr>\n",
       "      <th>3</th>\n",
       "      <td>actonel tablet osteoporosis agents</td>\n",
       "      <td>2011</td>\n",
       "      <td>187</td>\n",
       "      <td>1.909091</td>\n",
       "    </tr>\n",
       "    <tr>\n",
       "      <th>4</th>\n",
       "      <td>actonel tablet osteoporosis agents</td>\n",
       "      <td>2012</td>\n",
       "      <td>68</td>\n",
       "      <td>2.294118</td>\n",
       "    </tr>\n",
       "    <tr>\n",
       "      <th>5</th>\n",
       "      <td>actonel tablet osteoporosis agents</td>\n",
       "      <td>2013</td>\n",
       "      <td>151</td>\n",
       "      <td>2.562914</td>\n",
       "    </tr>\n",
       "    <tr>\n",
       "      <th>6</th>\n",
       "      <td>actonel tablet osteoporosis agents</td>\n",
       "      <td>2014</td>\n",
       "      <td>39</td>\n",
       "      <td>1.000000</td>\n",
       "    </tr>\n",
       "    <tr>\n",
       "      <th>7</th>\n",
       "      <td>actonel tablet osteoporosis agents</td>\n",
       "      <td>2017</td>\n",
       "      <td>18</td>\n",
       "      <td>5.000000</td>\n",
       "    </tr>\n",
       "    <tr>\n",
       "      <th>8</th>\n",
       "      <td>actonel tablet osteoporosis agents</td>\n",
       "      <td>2018</td>\n",
       "      <td>22</td>\n",
       "      <td>1.000000</td>\n",
       "    </tr>\n",
       "    <tr>\n",
       "      <th>9</th>\n",
       "      <td>prolia syringe</td>\n",
       "      <td>2012</td>\n",
       "      <td>151</td>\n",
       "      <td>1.172185</td>\n",
       "    </tr>\n",
       "    <tr>\n",
       "      <th>10</th>\n",
       "      <td>prolia syringe</td>\n",
       "      <td>2013</td>\n",
       "      <td>1112</td>\n",
       "      <td>1.782374</td>\n",
       "    </tr>\n",
       "    <tr>\n",
       "      <th>11</th>\n",
       "      <td>prolia syringe</td>\n",
       "      <td>2014</td>\n",
       "      <td>2387</td>\n",
       "      <td>1.560536</td>\n",
       "    </tr>\n",
       "    <tr>\n",
       "      <th>12</th>\n",
       "      <td>prolia syringe</td>\n",
       "      <td>2015</td>\n",
       "      <td>2120</td>\n",
       "      <td>2.031132</td>\n",
       "    </tr>\n",
       "    <tr>\n",
       "      <th>13</th>\n",
       "      <td>prolia syringe</td>\n",
       "      <td>2016</td>\n",
       "      <td>569</td>\n",
       "      <td>2.029877</td>\n",
       "    </tr>\n",
       "    <tr>\n",
       "      <th>14</th>\n",
       "      <td>prolia syringe</td>\n",
       "      <td>2017</td>\n",
       "      <td>204</td>\n",
       "      <td>3.019608</td>\n",
       "    </tr>\n",
       "    <tr>\n",
       "      <th>15</th>\n",
       "      <td>prolia syringe</td>\n",
       "      <td>2018</td>\n",
       "      <td>360</td>\n",
       "      <td>2.111111</td>\n",
       "    </tr>\n",
       "    <tr>\n",
       "      <th>16</th>\n",
       "      <td>prolia syringe</td>\n",
       "      <td>2019</td>\n",
       "      <td>83</td>\n",
       "      <td>1.674699</td>\n",
       "    </tr>\n",
       "    <tr>\n",
       "      <th>17</th>\n",
       "      <td>reclast bottle, infusion</td>\n",
       "      <td>2009</td>\n",
       "      <td>2203</td>\n",
       "      <td>2.511121</td>\n",
       "    </tr>\n",
       "    <tr>\n",
       "      <th>18</th>\n",
       "      <td>reclast bottle, infusion</td>\n",
       "      <td>2010</td>\n",
       "      <td>2996</td>\n",
       "      <td>2.698932</td>\n",
       "    </tr>\n",
       "    <tr>\n",
       "      <th>19</th>\n",
       "      <td>reclast bottle, infusion</td>\n",
       "      <td>2011</td>\n",
       "      <td>1560</td>\n",
       "      <td>2.747436</td>\n",
       "    </tr>\n",
       "    <tr>\n",
       "      <th>20</th>\n",
       "      <td>reclast bottle, infusion</td>\n",
       "      <td>2012</td>\n",
       "      <td>352</td>\n",
       "      <td>2.619318</td>\n",
       "    </tr>\n",
       "    <tr>\n",
       "      <th>21</th>\n",
       "      <td>reclast bottle, infusion</td>\n",
       "      <td>2013</td>\n",
       "      <td>549</td>\n",
       "      <td>2.460838</td>\n",
       "    </tr>\n",
       "    <tr>\n",
       "      <th>22</th>\n",
       "      <td>reclast bottle, infusion</td>\n",
       "      <td>2014</td>\n",
       "      <td>804</td>\n",
       "      <td>2.843284</td>\n",
       "    </tr>\n",
       "    <tr>\n",
       "      <th>23</th>\n",
       "      <td>reclast bottle, infusion</td>\n",
       "      <td>2015</td>\n",
       "      <td>1053</td>\n",
       "      <td>3.199430</td>\n",
       "    </tr>\n",
       "    <tr>\n",
       "      <th>24</th>\n",
       "      <td>reclast bottle, infusion</td>\n",
       "      <td>2016</td>\n",
       "      <td>496</td>\n",
       "      <td>3.919355</td>\n",
       "    </tr>\n",
       "    <tr>\n",
       "      <th>25</th>\n",
       "      <td>reclast bottle, infusion</td>\n",
       "      <td>2017</td>\n",
       "      <td>278</td>\n",
       "      <td>1.870504</td>\n",
       "    </tr>\n",
       "    <tr>\n",
       "      <th>26</th>\n",
       "      <td>reclast bottle, infusion</td>\n",
       "      <td>2018</td>\n",
       "      <td>59</td>\n",
       "      <td>1.915254</td>\n",
       "    </tr>\n",
       "    <tr>\n",
       "      <th>27</th>\n",
       "      <td>reclast bottle, infusion</td>\n",
       "      <td>2019</td>\n",
       "      <td>31</td>\n",
       "      <td>1.000000</td>\n",
       "    </tr>\n",
       "  </tbody>\n",
       "</table>\n",
       "</div>"
      ],
      "text/plain": [
       "                                  Drug  Year  count      mean\n",
       "0   actonel tablet osteoporosis agents  2008    156  1.153846\n",
       "1   actonel tablet osteoporosis agents  2009    533  1.497186\n",
       "2   actonel tablet osteoporosis agents  2010    491  1.566191\n",
       "3   actonel tablet osteoporosis agents  2011    187  1.909091\n",
       "4   actonel tablet osteoporosis agents  2012     68  2.294118\n",
       "5   actonel tablet osteoporosis agents  2013    151  2.562914\n",
       "6   actonel tablet osteoporosis agents  2014     39  1.000000\n",
       "7   actonel tablet osteoporosis agents  2017     18  5.000000\n",
       "8   actonel tablet osteoporosis agents  2018     22  1.000000\n",
       "9                       prolia syringe  2012    151  1.172185\n",
       "10                      prolia syringe  2013   1112  1.782374\n",
       "11                      prolia syringe  2014   2387  1.560536\n",
       "12                      prolia syringe  2015   2120  2.031132\n",
       "13                      prolia syringe  2016    569  2.029877\n",
       "14                      prolia syringe  2017    204  3.019608\n",
       "15                      prolia syringe  2018    360  2.111111\n",
       "16                      prolia syringe  2019     83  1.674699\n",
       "17            reclast bottle, infusion  2009   2203  2.511121\n",
       "18            reclast bottle, infusion  2010   2996  2.698932\n",
       "19            reclast bottle, infusion  2011   1560  2.747436\n",
       "20            reclast bottle, infusion  2012    352  2.619318\n",
       "21            reclast bottle, infusion  2013    549  2.460838\n",
       "22            reclast bottle, infusion  2014    804  2.843284\n",
       "23            reclast bottle, infusion  2015   1053  3.199430\n",
       "24            reclast bottle, infusion  2016    496  3.919355\n",
       "25            reclast bottle, infusion  2017    278  1.870504\n",
       "26            reclast bottle, infusion  2018     59  1.915254\n",
       "27            reclast bottle, infusion  2019     31  1.000000"
      ]
     },
     "execution_count": 19,
     "metadata": {},
     "output_type": "execute_result"
    }
   ],
   "source": [
    "df_drugs.groupby(['Drug','Year'])['Satisfaction'].agg(count='size', mean='mean').reset_index()"
   ]
  },
  {
   "cell_type": "code",
   "execution_count": 20,
   "metadata": {},
   "outputs": [
    {
     "data": {
      "text/plain": [
       "<AxesSubplot:title={'center':'Ratings Across Age Group'}, xlabel='Age', ylabel='count'>"
      ]
     },
     "execution_count": 20,
     "metadata": {},
     "output_type": "execute_result"
    },
    {
     "data": {
      "image/png": "[encoded data removed]",
      "text/plain": [
       "<Figure size 432x288 with 1 Axes>"
      ]
     },
     "metadata": {
      "needs_background": "light"
     },
     "output_type": "display_data"
    }
   ],
   "source": [
    "plt.title('Ratings Across Age Group')\n",
    "sns.countplot(x = 'Age', data = df_ost, color = 'skyblue', order=[\"7-12\", \"13-18\", \"19-24\", \"25-34\", \"35-44\", \"45-54\", \"55-64\", \"65-74\", \"75+\"])\n",
    "#scrap 0-44  "
   ]
  },
  {
   "cell_type": "markdown",
   "metadata": {},
   "source": [
    "# Bin 0-44, 45-54, 55-64, 65-74, 75+"
   ]
  },
  {
   "cell_type": "code",
   "execution_count": 21,
   "metadata": {},
   "outputs": [
    {
     "name": "stderr",
     "output_type": "stream",
     "text": [
      "C:\\Users\\Woon.Kim\\AppData\\Local\\Temp\\ipykernel_36564\\1732776310.py:26: SettingWithCopyWarning: \n",
      "A value is trying to be set on a copy of a slice from a DataFrame.\n",
      "Try using .loc[row_indexer,col_indexer] = value instead\n",
      "\n",
      "See the caveats in the documentation: https://pandas.pydata.org/pandas-docs/stable/user_guide/indexing.html#returning-a-view-versus-a-copy\n",
      "  df_ost['Age'] = bin_age\n"
     ]
    }
   ],
   "source": [
    "bin_age = []\n",
    "\n",
    "for age in df_ost['Age']:\n",
    "    if age == '7-12':\n",
    "        bin_age.append('0-44')\n",
    "    elif age == '13-18':\n",
    "        bin_age.append('0-44')\n",
    "    elif age == '19-24':\n",
    "        bin_age.append('0-44')\n",
    "    elif age == '25-34':\n",
    "        bin_age.append('0-44')\n",
    "    elif age == '35-44':\n",
    "        bin_age.append('0-44')\n",
    "    elif age == '45-54':\n",
    "        bin_age.append('45-54')\n",
    "    elif age == '55-64':\n",
    "        bin_age.append('55-64')\n",
    "    elif age == '65-74':\n",
    "        bin_age.append('65-74')\n",
    "    elif age == '75 or over':\n",
    "        bin_age.append('75+')\n",
    "    else:\n",
    "        #Combine missing values into the most frequent bin\n",
    "        bin_age.append('55-64')\n",
    "\n",
    "df_ost['Age'] = bin_age"
   ]
  },
  {
   "cell_type": "code",
   "execution_count": 22,
   "metadata": {},
   "outputs": [
    {
     "data": {
      "text/plain": [
       "<AxesSubplot:title={'center':'Count Across Age Group'}, xlabel='Age', ylabel='count'>"
      ]
     },
     "execution_count": 22,
     "metadata": {},
     "output_type": "execute_result"
    },
    {
     "data": {
      "image/png": "[encoded data removed]",
      "text/plain": [
       "<Figure size 432x288 with 1 Axes>"
      ]
     },
     "metadata": {
      "needs_background": "light"
     },
     "output_type": "display_data"
    }
   ],
   "source": [
    "plt.title('Count Across Age Group')\n",
    "sns.countplot(x = 'Age', data = df_ost, color = 'skyblue', order=[\"0-44\", \"45-54\", \"55-64\", \"65-74\", \"75+\"])"
   ]
  },
  {
   "cell_type": "code",
   "execution_count": 23,
   "metadata": {},
   "outputs": [
    {
     "data": {
      "text/plain": [
       "<AxesSubplot:title={'center':'Ratings for Women Across Age Group'}, xlabel='Age', ylabel='Satisfaction'>"
      ]
     },
     "execution_count": 23,
     "metadata": {},
     "output_type": "execute_result"
    },
    {
     "data": {
      "image/png": "[encoded data removed]",
      "text/plain": [
       "<Figure size 432x288 with 1 Axes>"
      ]
     },
     "metadata": {
      "needs_background": "light"
     },
     "output_type": "display_data"
    }
   ],
   "source": [
    "plt.title('Ratings for Women Across Age Group')\n",
    "sns.barplot(x='Age', y = 'Satisfaction', data = df_ost.groupby(\"Age\")[\"Satisfaction\"].mean().reset_index(), color = 'skyblue')"
   ]
  },
  {
   "cell_type": "code",
   "execution_count": 24,
   "metadata": {},
   "outputs": [
    {
     "data": {
      "text/plain": [
       "<matplotlib.legend.Legend at 0x225c818dd00>"
      ]
     },
     "execution_count": 24,
     "metadata": {},
     "output_type": "execute_result"
    },
    {
     "data": {
      "image/png": "[encoded data removed]",
      "text/plain": [
       "<Figure size 2160x432 with 1 Axes>"
      ]
     },
     "metadata": {
      "needs_background": "light"
     },
     "output_type": "display_data"
    }
   ],
   "source": [
    "fig, ax = plt.subplots()\n",
    "fig.set_size_inches(30,6)\n",
    "plt.title('# of Reviews per Drug by Age Group - Females', fontsize = 15)\n",
    "sns_count = sns.countplot(x = 'Drug', hue = 'Age', data = df_ost)\n",
    "plt.setp(sns_count.get_xticklabels(), rotation=90, fontsize = 15);\n",
    "plt.legend(loc='upper right')"
   ]
  },
  {
   "cell_type": "code",
   "execution_count": 38,
   "metadata": {},
   "outputs": [
    {
     "name": "stdout",
     "output_type": "stream",
     "text": [
      "                                                Drug    Age  count  mean\n",
      "0                                            actical  55-64      2   5.0\n",
      "16                         bio-d-mulsion forte drops  65-74      8   5.0\n",
      "30                        liquid calcium + vitamin d  65-74      1   5.0\n",
      "25                                      citracal + d  65-74      4   5.0\n",
      "23  calcium-magnesium-zinc 333 mg-133 mg-5 mg tablet  55-64      1   5.0\n",
      "\n",
      "\n",
      "\n",
      "                        Drug    Age  count      mean\n",
      "41  reclast bottle, infusion  55-64   4615  2.786566\n",
      "36            prolia syringe  55-64   3603  1.925618\n",
      "42  reclast bottle, infusion  65-74   2490  2.768273\n",
      "40  reclast bottle, infusion  45-54   2060  3.092718\n",
      "37            prolia syringe  65-74   1965  1.731298\n"
     ]
    }
   ],
   "source": [
    "#Top 5 Drugs considering both count and average satisfaction\n",
    "df_tmp = df_ost.groupby(['Drug', 'Age'])['Satisfaction'].agg(count='size', mean='mean').reset_index()\n",
    "print(df_tmp.sort_values(by=['mean'], ascending = False).head(5))\n",
    "print('\\n\\n')\n",
    "print(df_tmp.sort_values(by=['count'], ascending = False).head(5))"
   ]
  },
  {
   "cell_type": "code",
   "execution_count": 26,
   "metadata": {},
   "outputs": [
    {
     "data": {
      "image/png": "[encoded data removed]",
      "text/plain": [
       "<Figure size 2160x432 with 1 Axes>"
      ]
     },
     "metadata": {
      "needs_background": "light"
     },
     "output_type": "display_data"
    }
   ],
   "source": [
    "fig, ax = plt.subplots()\n",
    "fig.set_size_inches(30,6)\n",
    "plt.title('Weighted Satisfaction of Drugs by Age Group - Females', fontsize = 15)\n",
    "sns_bar = sns.barplot(x = 'Drug', y = 'weighted_metric', hue = 'Age', data = df_tmp)\n",
    "plt.setp(sns_bar.get_xticklabels(), rotation=90, fontsize = 15);"
   ]
  },
  {
   "cell_type": "markdown",
   "metadata": {},
   "source": [
    "# Miscellaneous"
   ]
  },
  {
   "cell_type": "code",
   "execution_count": 27,
   "metadata": {},
   "outputs": [
    {
     "data": {
      "text/plain": [
       "Text(0.5, 1.0, 'Top: The number of drugs per condition.')"
      ]
     },
     "execution_count": 27,
     "metadata": {},
     "output_type": "execute_result"
    },
    {
     "data": {
      "image/png": "[encoded data removed]",
      "text/plain": [
       "<Figure size 432x288 with 1 Axes>"
      ]
     },
     "metadata": {
      "needs_background": "light"
     },
     "output_type": "display_data"
    }
   ],
   "source": [
    "condition_dn = df_ost.groupby(['Condition'])['Drug'].nunique().sort_values(ascending=False)\n",
    "condition_dn[0:20].plot(kind=\"bar\",color=\"skyblue\")\n",
    "plt.xlabel(\"\")\n",
    "plt.ylabel(\"\")\n",
    "plt.title(\"Top: The number of drugs per condition.\")\n",
    "\n",
    "#figsize = (14,6), fontsize = 10,"
   ]
  },
  {
   "cell_type": "code",
   "execution_count": 28,
   "metadata": {},
   "outputs": [
    {
     "data": {
      "image/png": "[encoded data removed]",
      "text/plain": [
       "<Figure size 432x288 with 1 Axes>"
      ]
     },
     "metadata": {
      "needs_background": "light"
     },
     "output_type": "display_data"
    }
   ],
   "source": [
    "# This barplot shows the Top 20 drugs with the 1/5 rating\n",
    "\n",
    "# Setting the Parameter\n",
    "#sns.set(font_scale = 1.2, style = 'darkgrid')\n",
    "#plt.rcParams['figure.figsize'] = [15, 8]\n",
    "\n",
    "rating = dict(df_ost.loc[df_ost.Satisfaction == 1, \"Drug\"].value_counts())\n",
    "drugname = list(rating.keys())\n",
    "drug_rating = list(rating.values())\n",
    "\n",
    "sns_rating = sns.barplot(x = drugname[0:20], y = drug_rating[0:20], color = 'skyblue')\n",
    "\n",
    "sns_rating.set_title('Top drugs with 1/5 rating')\n",
    "sns_rating.set_ylabel(\"Number of Ratings\")\n",
    "sns_rating.set_xlabel(\"Drug Names\")\n",
    "plt.setp(sns_rating.get_xticklabels(), rotation=90);"
   ]
  },
  {
   "cell_type": "code",
   "execution_count": 29,
   "metadata": {},
   "outputs": [],
   "source": [
    "# Make dictionary of conditions, each value will be a dataframe of all of the drugs used to treat the given condition\n",
    "help_dict = {}\n",
    "\n",
    "# Iterate over conditions\n",
    "for i in df_ost.Condition.unique():\n",
    "    \n",
    "    temp_ls = []\n",
    "    \n",
    "    # Iterate over drugs within a given condition\n",
    "    for j in df_ost[df_ost.Condition == i].Drug.unique():\n",
    "        \n",
    "        # If there are at least 10 reviews for a drug, save its name and average rating in temporary list\n",
    "        if np.sum(df_ost.Drug == j) >= 10:\n",
    "            temp_ls.append((j, np.sum(df_ost[df_ost.Drug == j].Satisfaction) / np.sum(df_ost.Drug == j)))\n",
    "        \n",
    "    # Save temporary list as a dataframe as a value in help dictionary, sorted best to worst drugs\n",
    "    help_dict[i] = pd.DataFrame(data=temp_ls, columns=['drug', 'average_rating']).sort_values(by='average_rating', ascending=False).reset_index(drop=True)"
   ]
  },
  {
   "cell_type": "markdown",
   "metadata": {},
   "source": [
    "# Group Review by 3 Years - Work in progress"
   ]
  },
  {
   "cell_type": "code",
   "execution_count": 30,
   "metadata": {},
   "outputs": [
    {
     "data": {
      "text/html": [
       "<div>\n",
       "<style scoped>\n",
       "    .dataframe tbody tr th:only-of-type {\n",
       "        vertical-align: middle;\n",
       "    }\n",
       "\n",
       "    .dataframe tbody tr th {\n",
       "        vertical-align: top;\n",
       "    }\n",
       "\n",
       "    .dataframe thead th {\n",
       "        text-align: right;\n",
       "    }\n",
       "</style>\n",
       "<table border=\"1\" class=\"dataframe\">\n",
       "  <thead>\n",
       "    <tr style=\"text-align: right;\">\n",
       "      <th></th>\n",
       "      <th>Drug</th>\n",
       "      <th>Year</th>\n",
       "      <th>count</th>\n",
       "      <th>mean</th>\n",
       "    </tr>\n",
       "  </thead>\n",
       "  <tbody>\n",
       "    <tr>\n",
       "      <th>0</th>\n",
       "      <td>actonel tablet osteoporosis agents</td>\n",
       "      <td>2008</td>\n",
       "      <td>156</td>\n",
       "      <td>1.153846</td>\n",
       "    </tr>\n",
       "    <tr>\n",
       "      <th>1</th>\n",
       "      <td>actonel tablet osteoporosis agents</td>\n",
       "      <td>2009</td>\n",
       "      <td>533</td>\n",
       "      <td>1.497186</td>\n",
       "    </tr>\n",
       "    <tr>\n",
       "      <th>2</th>\n",
       "      <td>actonel tablet osteoporosis agents</td>\n",
       "      <td>2010</td>\n",
       "      <td>491</td>\n",
       "      <td>1.566191</td>\n",
       "    </tr>\n",
       "    <tr>\n",
       "      <th>3</th>\n",
       "      <td>actonel tablet osteoporosis agents</td>\n",
       "      <td>2011</td>\n",
       "      <td>187</td>\n",
       "      <td>1.909091</td>\n",
       "    </tr>\n",
       "    <tr>\n",
       "      <th>4</th>\n",
       "      <td>actonel tablet osteoporosis agents</td>\n",
       "      <td>2012</td>\n",
       "      <td>68</td>\n",
       "      <td>2.294118</td>\n",
       "    </tr>\n",
       "    <tr>\n",
       "      <th>5</th>\n",
       "      <td>actonel tablet osteoporosis agents</td>\n",
       "      <td>2013</td>\n",
       "      <td>151</td>\n",
       "      <td>2.562914</td>\n",
       "    </tr>\n",
       "    <tr>\n",
       "      <th>6</th>\n",
       "      <td>actonel tablet osteoporosis agents</td>\n",
       "      <td>2014</td>\n",
       "      <td>39</td>\n",
       "      <td>1.000000</td>\n",
       "    </tr>\n",
       "    <tr>\n",
       "      <th>7</th>\n",
       "      <td>actonel tablet osteoporosis agents</td>\n",
       "      <td>2017</td>\n",
       "      <td>18</td>\n",
       "      <td>5.000000</td>\n",
       "    </tr>\n",
       "    <tr>\n",
       "      <th>8</th>\n",
       "      <td>actonel tablet osteoporosis agents</td>\n",
       "      <td>2018</td>\n",
       "      <td>22</td>\n",
       "      <td>1.000000</td>\n",
       "    </tr>\n",
       "    <tr>\n",
       "      <th>9</th>\n",
       "      <td>prolia syringe</td>\n",
       "      <td>2012</td>\n",
       "      <td>151</td>\n",
       "      <td>1.172185</td>\n",
       "    </tr>\n",
       "    <tr>\n",
       "      <th>10</th>\n",
       "      <td>prolia syringe</td>\n",
       "      <td>2013</td>\n",
       "      <td>1112</td>\n",
       "      <td>1.782374</td>\n",
       "    </tr>\n",
       "    <tr>\n",
       "      <th>11</th>\n",
       "      <td>prolia syringe</td>\n",
       "      <td>2014</td>\n",
       "      <td>2387</td>\n",
       "      <td>1.560536</td>\n",
       "    </tr>\n",
       "    <tr>\n",
       "      <th>12</th>\n",
       "      <td>prolia syringe</td>\n",
       "      <td>2015</td>\n",
       "      <td>2120</td>\n",
       "      <td>2.031132</td>\n",
       "    </tr>\n",
       "    <tr>\n",
       "      <th>13</th>\n",
       "      <td>prolia syringe</td>\n",
       "      <td>2016</td>\n",
       "      <td>569</td>\n",
       "      <td>2.029877</td>\n",
       "    </tr>\n",
       "    <tr>\n",
       "      <th>14</th>\n",
       "      <td>prolia syringe</td>\n",
       "      <td>2017</td>\n",
       "      <td>204</td>\n",
       "      <td>3.019608</td>\n",
       "    </tr>\n",
       "    <tr>\n",
       "      <th>15</th>\n",
       "      <td>prolia syringe</td>\n",
       "      <td>2018</td>\n",
       "      <td>360</td>\n",
       "      <td>2.111111</td>\n",
       "    </tr>\n",
       "    <tr>\n",
       "      <th>16</th>\n",
       "      <td>prolia syringe</td>\n",
       "      <td>2019</td>\n",
       "      <td>83</td>\n",
       "      <td>1.674699</td>\n",
       "    </tr>\n",
       "    <tr>\n",
       "      <th>17</th>\n",
       "      <td>reclast bottle, infusion</td>\n",
       "      <td>2009</td>\n",
       "      <td>2203</td>\n",
       "      <td>2.511121</td>\n",
       "    </tr>\n",
       "    <tr>\n",
       "      <th>18</th>\n",
       "      <td>reclast bottle, infusion</td>\n",
       "      <td>2010</td>\n",
       "      <td>2996</td>\n",
       "      <td>2.698932</td>\n",
       "    </tr>\n",
       "    <tr>\n",
       "      <th>19</th>\n",
       "      <td>reclast bottle, infusion</td>\n",
       "      <td>2011</td>\n",
       "      <td>1560</td>\n",
       "      <td>2.747436</td>\n",
       "    </tr>\n",
       "    <tr>\n",
       "      <th>20</th>\n",
       "      <td>reclast bottle, infusion</td>\n",
       "      <td>2012</td>\n",
       "      <td>352</td>\n",
       "      <td>2.619318</td>\n",
       "    </tr>\n",
       "    <tr>\n",
       "      <th>21</th>\n",
       "      <td>reclast bottle, infusion</td>\n",
       "      <td>2013</td>\n",
       "      <td>549</td>\n",
       "      <td>2.460838</td>\n",
       "    </tr>\n",
       "    <tr>\n",
       "      <th>22</th>\n",
       "      <td>reclast bottle, infusion</td>\n",
       "      <td>2014</td>\n",
       "      <td>804</td>\n",
       "      <td>2.843284</td>\n",
       "    </tr>\n",
       "    <tr>\n",
       "      <th>23</th>\n",
       "      <td>reclast bottle, infusion</td>\n",
       "      <td>2015</td>\n",
       "      <td>1053</td>\n",
       "      <td>3.199430</td>\n",
       "    </tr>\n",
       "    <tr>\n",
       "      <th>24</th>\n",
       "      <td>reclast bottle, infusion</td>\n",
       "      <td>2016</td>\n",
       "      <td>496</td>\n",
       "      <td>3.919355</td>\n",
       "    </tr>\n",
       "    <tr>\n",
       "      <th>25</th>\n",
       "      <td>reclast bottle, infusion</td>\n",
       "      <td>2017</td>\n",
       "      <td>278</td>\n",
       "      <td>1.870504</td>\n",
       "    </tr>\n",
       "    <tr>\n",
       "      <th>26</th>\n",
       "      <td>reclast bottle, infusion</td>\n",
       "      <td>2018</td>\n",
       "      <td>59</td>\n",
       "      <td>1.915254</td>\n",
       "    </tr>\n",
       "    <tr>\n",
       "      <th>27</th>\n",
       "      <td>reclast bottle, infusion</td>\n",
       "      <td>2019</td>\n",
       "      <td>31</td>\n",
       "      <td>1.000000</td>\n",
       "    </tr>\n",
       "  </tbody>\n",
       "</table>\n",
       "</div>"
      ],
      "text/plain": [
       "                                  Drug  Year  count      mean\n",
       "0   actonel tablet osteoporosis agents  2008    156  1.153846\n",
       "1   actonel tablet osteoporosis agents  2009    533  1.497186\n",
       "2   actonel tablet osteoporosis agents  2010    491  1.566191\n",
       "3   actonel tablet osteoporosis agents  2011    187  1.909091\n",
       "4   actonel tablet osteoporosis agents  2012     68  2.294118\n",
       "5   actonel tablet osteoporosis agents  2013    151  2.562914\n",
       "6   actonel tablet osteoporosis agents  2014     39  1.000000\n",
       "7   actonel tablet osteoporosis agents  2017     18  5.000000\n",
       "8   actonel tablet osteoporosis agents  2018     22  1.000000\n",
       "9                       prolia syringe  2012    151  1.172185\n",
       "10                      prolia syringe  2013   1112  1.782374\n",
       "11                      prolia syringe  2014   2387  1.560536\n",
       "12                      prolia syringe  2015   2120  2.031132\n",
       "13                      prolia syringe  2016    569  2.029877\n",
       "14                      prolia syringe  2017    204  3.019608\n",
       "15                      prolia syringe  2018    360  2.111111\n",
       "16                      prolia syringe  2019     83  1.674699\n",
       "17            reclast bottle, infusion  2009   2203  2.511121\n",
       "18            reclast bottle, infusion  2010   2996  2.698932\n",
       "19            reclast bottle, infusion  2011   1560  2.747436\n",
       "20            reclast bottle, infusion  2012    352  2.619318\n",
       "21            reclast bottle, infusion  2013    549  2.460838\n",
       "22            reclast bottle, infusion  2014    804  2.843284\n",
       "23            reclast bottle, infusion  2015   1053  3.199430\n",
       "24            reclast bottle, infusion  2016    496  3.919355\n",
       "25            reclast bottle, infusion  2017    278  1.870504\n",
       "26            reclast bottle, infusion  2018     59  1.915254\n",
       "27            reclast bottle, infusion  2019     31  1.000000"
      ]
     },
     "execution_count": 30,
     "metadata": {},
     "output_type": "execute_result"
    }
   ],
   "source": [
    "df_drugs.groupby(['Drug','Year'])['Satisfaction'].agg(count='size', mean='mean').reset_index()"
   ]
  },
  {
   "cell_type": "code",
   "execution_count": null,
   "metadata": {},
   "outputs": [],
   "source": []
  }
 ],
 "metadata": {
  "kernelspec": {
   "display_name": "Python 3.9.12 ('base')",
   "language": "python",
   "name": "python3"
  },
  "language_info": {
   "codemirror_mode": {
    "name": "ipython",
    "version": 3
   },
   "file_extension": ".py",
   "mimetype": "text/x-python",
   "name": "python",
   "nbconvert_exporter": "python",
   "pygments_lexer": "ipython3",
   "version": "3.9.12"
  },
  "orig_nbformat": 4,
  "vscode": {
   "interpreter": {
    "hash": "723860b9bcb0b1e72b55ae11883eb093fb3432a85486e4dad0490b6a92cc27fa"
   }
  }
 },
 "nbformat": 4,
 "nbformat_minor": 2
}
