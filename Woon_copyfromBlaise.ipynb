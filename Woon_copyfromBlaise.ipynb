{
 "cells": [
  {
   "cell_type": "code",
   "execution_count": null,
   "metadata": {},
   "outputs": [],
   "source": [
    "#%pip install transformers"
   ]
  },
  {
   "cell_type": "code",
   "execution_count": null,
   "metadata": {},
   "outputs": [],
   "source": [
    "import pandas as pd\n",
    "import numpy as np\n",
    "import matplotlib.pyplot as plt\n",
    "import seaborn as sns\n",
    "import datetime\n",
    "import transformers\n",
    "from transformers import pipeline"
   ]
  },
  {
   "cell_type": "code",
   "execution_count": null,
   "metadata": {},
   "outputs": [],
   "source": [
    "df = pd.read_csv('data/updated_df.csv')\n",
    "df\n",
    "### From Other Notebook\n",
    "df['Date'] = df['Date'].astype('datetime64[ns]')\n",
    "df = df.drop_duplicates('Reviews')\n",
    "# All Osteoporosis Illnesses in Female Patients\n",
    "df = df[df['Condition'].str.contains(\"osteoporosis\", case = False)]"
   ]
  },
  {
   "cell_type": "code",
   "execution_count": null,
   "metadata": {},
   "outputs": [
    {
     "data": {
      "application/vnd.jupyter.widget-view+json": {
       "model_id": "8480cf3b311f4ab9b4f6718b46e2ea82",
       "version_major": 2,
       "version_minor": 0
      },
      "text/plain": [
       "Downloading:   0%|          | 0.00/1.52G [00:00<?, ?B/s]"
      ]
     },
     "metadata": {},
     "output_type": "display_data"
    },
    {
     "data": {
      "application/vnd.jupyter.widget-view+json": {
       "model_id": "ea8bda3c9fe3425aa8ff4b5da8b7d0f7",
       "version_major": 2,
       "version_minor": 0
      },
      "text/plain": [
       "Downloading:   0%|          | 0.00/26.0 [00:00<?, ?B/s]"
      ]
     },
     "metadata": {},
     "output_type": "display_data"
    },
    {
     "data": {
      "application/vnd.jupyter.widget-view+json": {
       "model_id": "2c9f67c7f4a4440d84de09d041a19905",
       "version_major": 2,
       "version_minor": 0
      },
      "text/plain": [
       "Downloading:   0%|          | 0.00/878k [00:00<?, ?B/s]"
      ]
     },
     "metadata": {},
     "output_type": "display_data"
    },
    {
     "data": {
      "application/vnd.jupyter.widget-view+json": {
       "model_id": "5cbbf8b57efe4d48a2d0656e4770c57f",
       "version_major": 2,
       "version_minor": 0
      },
      "text/plain": [
       "Downloading:   0%|          | 0.00/446k [00:00<?, ?B/s]"
      ]
     },
     "metadata": {},
     "output_type": "display_data"
    },
    {
     "data": {
      "application/vnd.jupyter.widget-view+json": {
       "model_id": "fa87a0c07bf344b598e8446decbfdd4e",
       "version_major": 2,
       "version_minor": 0
      },
      "text/plain": [
       "Downloading:   0%|          | 0.00/1.29M [00:00<?, ?B/s]"
      ]
     },
     "metadata": {},
     "output_type": "display_data"
    }
   ],
   "source": [
    "classifier  = pipeline(\"zero-shot-classification\",  model = \"facebook/bart-large-mnli\")"
   ]
  },
  {
   "cell_type": "code",
   "execution_count": null,
   "metadata": {},
   "outputs": [
    {
     "name": "stderr",
     "output_type": "stream",
     "text": [
      "The `multi_class` argument has been deprecated and renamed to `multi_label`. `multi_class` will be removed in a future version of Transformers.\n"
     ]
    },
    {
     "data": {
      "text/plain": [
       "{'sequence': 'This osteoporosis medicine worked, but it gave me a nasty stomach ache. It was easy to swallow.',\n",
       " 'labels': ['digestive',\n",
       "  'joint pain',\n",
       "  'skin',\n",
       "  'respiratory',\n",
       "  'menstruation',\n",
       "  'heart'],\n",
       " 'scores': [0.27356016635894775,\n",
       "  0.0006058795261196792,\n",
       "  0.0001192762065329589,\n",
       "  7.208560418803245e-05,\n",
       "  5.108026016387157e-05,\n",
       "  4.157235161983408e-05]}"
      ]
     },
     "metadata": {},
     "output_type": "display_data"
    }
   ],
   "source": [
    "sample_review = \"This osteoporosis medicine worked, but it gave me a nasty stomach ache. It was easy to swallow.\"\n",
    "\n",
    "res = classifier(\n",
    "    sample_review,\n",
    "    candidate_labels = ['menstruation', 'digestive', 'joint pain', 'respiratory' , 'heart', 'skin'], \n",
    "    multi_class = True\n",
    ")\n",
    "res"
   ]
  },
  {
   "cell_type": "markdown",
   "metadata": {},
   "source": [
    "# Expermenting with the Model"
   ]
  },
  {
   "cell_type": "code",
   "execution_count": null,
   "metadata": {},
   "outputs": [],
   "source": [
    "#A sample review that contains a) whether the medicine worked b) the type of side effect and c) the delivery method (pill)\n",
    "\n",
    "sample_review = \"This osteoporosis medicine worked, but it gave me a nasty stomach ache. It was easy to swallow.\"\n"
   ]
  },
  {
   "cell_type": "markdown",
   "metadata": {},
   "source": [
    "###  Categories for types of Side-Effects: \n",
    "\n",
    "Definite: Disgestive (most of the side effects listed are disgestive), Respiratory (some of the reviews mention a cough)\n",
    "\n",
    "Still tweaking with \"pain\", perhaps \"joint pain\" would work better as it doesn't include a stomach ache for example, but then you are missing out on headaches. \n",
    "\n",
    "\"heart\", \"skin\" and \"menstruation\" important but don't show up in the data as much "
   ]
  },
  {
   "cell_type": "code",
   "execution_count": null,
   "metadata": {},
   "outputs": [
    {
     "name": "stderr",
     "output_type": "stream",
     "text": [
      "The `multi_class` argument has been deprecated and renamed to `multi_label`. `multi_class` will be removed in a future version of Transformers.\n"
     ]
    },
    {
     "data": {
      "text/plain": [
       "{'sequence': 'This osteoporosis medicine worked, but it gave me a nasty stomach ache. It was easy to swallow.',\n",
       " 'labels': ['medicine side effects', 'medicine effectiveness'],\n",
       " 'scores': [0.9826341867446899, 0.6695783138275146]}"
      ]
     },
     "metadata": {},
     "output_type": "display_data"
    }
   ],
   "source": [
    "res = classifier(\n",
    "    sample_review,\n",
    "    candidate_labels = ['medicine side effects', 'medicine effectiveness'], \n",
    "    multi_class = True\n",
    ")\n",
    "res"
   ]
  },
  {
   "cell_type": "code",
   "execution_count": null,
   "metadata": {},
   "outputs": [],
   "source": [
    "res = classifier(\n",
    "    sample_review,\n",
    "    candidate_labels = ['pill', 'injection', 'patch'], \n",
    "    multi_class = True\n",
    ")\n",
    "res"
   ]
  },
  {
   "cell_type": "markdown",
   "metadata": {},
   "source": [
    "# Adding Classification to the DataFrame"
   ]
  },
  {
   "cell_type": "markdown",
   "metadata": {},
   "source": [
    "Values for the categories. A first run until we get some output and mine for some more words"
   ]
  },
  {
   "cell_type": "code",
   "execution_count": null,
   "metadata": {},
   "outputs": [],
   "source": [
    "#sides = ['menstruation', 'digestive', 'joint pain', 'respiratory' , 'heart', 'skin']\n",
    "#sides_min = ['disgestive', 'joint pain', 'respiratory']\n",
    "sides = ['menstruation', 'gastrointestinal problems', 'joint pain', 'respiratory issues' , 'cardiac problems', 'dermatology issues']\n",
    "sides_min = ['pain', 'sickness', 'death', 'discomfort']\n",
    "method = ['pill', 'injection', 'patch']\n",
    "general = ['medicine side effects', 'medicine effectiveness']"
   ]
  },
  {
   "cell_type": "markdown",
   "metadata": {},
   "source": [
    "Multi-class zero-shot of Different Side Effects"
   ]
  },
  {
   "cell_type": "code",
   "execution_count": null,
   "metadata": {},
   "outputs": [],
   "source": [
    "#setting empty values for the columns\n",
    "index = -1\n",
    "for label in sides:\n",
    "    df[label + '_m'] = -1\n",
    "\n",
    "for j in range(len(df)):\n",
    "    #counter for progress/debugging\n",
    "    index+=1\n",
    "    if(index%50 == 0): \n",
    "        print(index)\n",
    "    #running the classifier on the column    \n",
    "    res = classifier(\n",
    "        df.iloc[j]['Reviews'],\n",
    "        candidate_labels = sides,\n",
    "        multi_label = True\n",
    "    )\n",
    "    #setting the column values according to the output from the classifier (\"_m\" = multiclass)\n",
    "    for i in range(len(res['labels'])):\n",
    "        df[res['labels'][i]+ '_m'].iloc[j] = res['scores'][i]"
   ]
  },
  {
   "cell_type": "code",
   "execution_count": null,
   "metadata": {},
   "outputs": [],
   "source": [
    "#setting empty values for the columns\n",
    "index = -1\n",
    "for label in sides_min:\n",
    "    df[label + '_m'] = -1\n",
    "\n",
    "for j in range(len(df)):\n",
    "    #counter for progress/debugging\n",
    "    index+=1\n",
    "    if(index%50 == 0): \n",
    "        print(index)\n",
    "    #running the classifier on the column    \n",
    "    res = classifier(\n",
    "        df.iloc[j]['Reviews'],\n",
    "        candidate_labels = sides_min,\n",
    "        multi_label = True\n",
    "    )\n",
    "    #setting the column values according to the output from the classifier (\"_m\" = multiclass)\n",
    "    for i in range(len(res['labels'])):\n",
    "        df[res['labels'][i]+ '_m'].iloc[j] = res['scores'][i]"
   ]
  },
  {
   "cell_type": "code",
   "execution_count": null,
   "metadata": {},
   "outputs": [],
   "source": [
    "df.to_csv('data/updated_df.csv')"
   ]
  },
  {
   "cell_type": "markdown",
   "metadata": {},
   "source": [
    "Multi-class zero-shot of General Topic"
   ]
  },
  {
   "cell_type": "code",
   "execution_count": null,
   "metadata": {},
   "outputs": [],
   "source": [
    "index = -1\n",
    "for label in general:\n",
    "    df[label + '_m'] = -1\n",
    "for j in range(len(df)):\n",
    "    index+=1\n",
    "    if(index%50 == 0): \n",
    "        print(index)    \n",
    "    res = classifier(\n",
    "        df.iloc[j]['Reviews'],\n",
    "        candidate_labels = general,\n",
    "        multi_label = True\n",
    "    )\n",
    "\n",
    "    for i in range(len(res['labels'])):\n",
    "        df[res['labels'][i]+ '_m'].iloc[j] = res['scores'][i]"
   ]
  },
  {
   "cell_type": "code",
   "execution_count": null,
   "metadata": {},
   "outputs": [],
   "source": [
    "df.to_csv('data/updated_df.csv')"
   ]
  },
  {
   "cell_type": "markdown",
   "metadata": {},
   "source": [
    "Multi-class zero-shot of Different Delivery Methods"
   ]
  },
  {
   "cell_type": "code",
   "execution_count": null,
   "metadata": {},
   "outputs": [],
   "source": [
    "index = -1\n",
    "for label in method:\n",
    "    df[label + '_m'] = -1\n",
    "for j in range(len(df)):\n",
    "    index+=1\n",
    "    if(index%50 == 0): \n",
    "        print(index)    \n",
    "    res = classifier(\n",
    "        df.iloc[j]['Reviews'],\n",
    "        candidate_labels = method,\n",
    "        multi_label = True\n",
    "    )\n",
    "\n",
    "    for i in range(len(res['labels'])):\n",
    "        df[res['labels'][i]+ '_m'].iloc[j] = res['scores'][i]"
   ]
  },
  {
   "cell_type": "code",
   "execution_count": null,
   "metadata": {},
   "outputs": [],
   "source": [
    "df.to_csv('data/updated_df.csv')"
   ]
  },
  {
   "cell_type": "markdown",
   "metadata": {},
   "source": [
    "Single-class zero-shot of Side Effects"
   ]
  },
  {
   "cell_type": "code",
   "execution_count": null,
   "metadata": {},
   "outputs": [],
   "source": [
    "index = -1\n",
    "for j in range(len(df)):\n",
    "    index+=1\n",
    "    if(index%50 == 0): \n",
    "        print(index)    \n",
    "    res = classifier(\n",
    "        df.iloc[j]['Reviews'],\n",
    "        candidate_labels = sides,\n",
    "        multi_label = True\n",
    "    )\n",
    "\n",
    "    for i in range(len(res['labels'])):\n",
    "        df[res['labels'][i]+ '_s'].iloc[j] = res['scores'][i]"
   ]
  },
  {
   "cell_type": "code",
   "execution_count": null,
   "metadata": {},
   "outputs": [],
   "source": [
    "df.to_csv('data/updated_df.csv')"
   ]
  },
  {
   "cell_type": "markdown",
   "metadata": {},
   "source": [
    "Single-class zero-shot of General Topic"
   ]
  },
  {
   "cell_type": "code",
   "execution_count": null,
   "metadata": {},
   "outputs": [],
   "source": [
    "index = -1\n",
    "for j in range(len(df)):\n",
    "    index+=1\n",
    "    if(index%50 == 0): \n",
    "        print(index)    \n",
    "    res = classifier(\n",
    "        df.iloc[j]['Reviews'],\n",
    "        candidate_labels = general,\n",
    "        multi_label = True\n",
    "    )\n",
    "\n",
    "    for i in range(len(res['labels'])):\n",
    "        df[res['labels'][i]+ '_s'].iloc[j] = res['scores'][i]"
   ]
  },
  {
   "cell_type": "code",
   "execution_count": null,
   "metadata": {},
   "outputs": [],
   "source": [
    "df.to_csv('data/updated_df.csv')"
   ]
  },
  {
   "cell_type": "markdown",
   "metadata": {},
   "source": [
    "Multi-class zero-shot of Different Delivery Methods"
   ]
  },
  {
   "cell_type": "code",
   "execution_count": null,
   "metadata": {},
   "outputs": [],
   "source": [
    "index = -1\n",
    "for j in range(len(df)):\n",
    "    index+=1\n",
    "    if(index%50 == 0): \n",
    "        print(index)   \n",
    "    res = classifier(\n",
    "        df.iloc[j]['Reviews'],\n",
    "        candidate_labels = method,\n",
    "        multi_label = True\n",
    "    )\n",
    "\n",
    "    for i in range(len(res['labels'])):\n",
    "        df[res['labels'][i]+ '_s'].iloc[j] = res['scores'][i]"
   ]
  },
  {
   "cell_type": "code",
   "execution_count": null,
   "metadata": {},
   "outputs": [],
   "source": [
    "df.to_csv('data/updated_df.csv')"
   ]
  },
  {
   "cell_type": "markdown",
   "metadata": {},
   "source": [
    "# Updated Visuals\n"
   ]
  },
  {
   "cell_type": "code",
   "execution_count": null,
   "metadata": {},
   "outputs": [],
   "source": [
    "vis_df = pd.read_csv('data/updated_df.csv')"
   ]
  },
  {
   "cell_type": "code",
   "execution_count": null,
   "metadata": {},
   "outputs": [],
   "source": [
    "import seaborn as sn\n",
    "bin_size = 20"
   ]
  },
  {
   "cell_type": "code",
   "execution_count": null,
   "metadata": {},
   "outputs": [],
   "source": [
    "\n",
    "bins = list(range(0,bin_size))\n",
    "hbins = [item/len(bins) for item in bins]\n",
    "for topic in sides:\n",
    "    plt.title('Distribution of Zero Shot Scores for ' + topic)\n",
    "    sns.histplot(x = topic+\"_m\", data = vis_df, bins = hbins)\n",
    "    plt.show()"
   ]
  },
  {
   "cell_type": "code",
   "execution_count": null,
   "metadata": {},
   "outputs": [],
   "source": [
    "\n",
    "bins = list(range(0,bin_size))\n",
    "hbins = [item/len(bins) for item in bins]\n",
    "for topic in sides_min:\n",
    "    plt.title('Distribution of Zero Shot Scores for ' + topic)\n",
    "    sns.histplot(x = topic+\"_m\", data = vis_df, bins = hbins)\n",
    "    plt.show()"
   ]
  },
  {
   "cell_type": "code",
   "execution_count": null,
   "metadata": {},
   "outputs": [],
   "source": [
    "\n",
    "bins = list(range(0,bin_size))\n",
    "hbins = [item/len(bins) for item in bins]\n",
    "for topic in method:\n",
    "    plt.title('Distribution of Zero Shot Scores for ' + topic)\n",
    "    sns.histplot(x = topic+\"_m\", data = vis_df, bins = hbins)\n",
    "    plt.show()"
   ]
  },
  {
   "cell_type": "code",
   "execution_count": null,
   "metadata": {},
   "outputs": [],
   "source": [
    "sides_m = [side + \"_m\" for side in sides]\n",
    "sides_min_m = [side + \"_m\" for side in sides_min]\n",
    "\n",
    "gen_m = [gen + \"_m\" for gen in general]\n",
    "met_m = [met + \"_m\" for met in method]\n",
    "\n",
    "sn.heatmap(vis_df[sides_m].corr().apply(abs), cmap=\"YlGnBu\", annot=True)\n",
    "plt.show()\n",
    "sn.heatmap(vis_df[gen_m].corr().apply(abs), cmap=\"YlGnBu\", annot=True)\n",
    "plt.show()\n",
    "sn.heatmap(vis_df[sides_min_m].corr().apply(abs), cmap=\"YlGnBu\", annot=True)\n",
    "plt.show()\n",
    "sn.heatmap(vis_df[met_m].corr().apply(abs), cmap=\"YlGnBu\", annot=True)\n"
   ]
  },
  {
   "cell_type": "code",
   "execution_count": null,
   "metadata": {},
   "outputs": [],
   "source": [
    "use_df = vis_df\n",
    "column = \"digestive\"\n",
    "bin_size = 20\n",
    "\n",
    "#distribution of the column in a binned histogram\n",
    "\n",
    "bins = list(range(0,bin_size))\n",
    "hbins = [item/len(bins) for item in bins]\n",
    "\n",
    "plt.title('Distribution of Zero Shot Scores for ' + column)\n",
    "sns.histplot(x = column+\"_m\", data = vis_df, bins = hbins)\n",
    "plt.show()\n",
    "\n",
    "#distribution of the column in a binned histogram for good reviews/bad reviews\n",
    "\n",
    "vis_df[]\n",
    "\n",
    "bins = list(range(0,bin_size))\n",
    "hbins = [item/len(bins) for item in bins]\n",
    "\n",
    "plt.title('Distribution of Zero Shot Scores for ' + column + \"for bad reviews\")\n",
    "sns.histplot(x = column+\"_m\", data = bad_df, bins = hbins)\n",
    "plt.show()\n",
    "\n",
    "bins = list(range(0,bin_size))\n",
    "hbins = [item/len(bins) for item in bins]\n",
    "\n",
    "plt.title('Distribution of Zero Shot Scores for ' + column + \"for good reviews\")\n",
    "sns.histplot(x = column+\"_m\", data = good_df, bins = hbins)\n",
    "plt.show()\n",
    "\n",
    "\n",
    "#top n-grams associated with the reviews in this category/weighted by this category"
   ]
  },
  {
   "cell_type": "code",
   "execution_count": null,
   "metadata": {},
   "outputs": [],
   "source": [
    "for topic in method:\n",
    "    plt.title('Distribution of Zero Shot Scores for ' + topic)\n",
    "    sns.histplot(x = topic+\"_m\", data = vis_df, bins = hbins)\n",
    "    plt.show()"
   ]
  },
  {
   "cell_type": "code",
   "execution_count": null,
   "metadata": {},
   "outputs": [],
   "source": [
    "for el in vis_df.sort_values(by= \"heart_m\",ascending = False)['Reviews']:\n",
    "    #print(el)\n",
    "    res = classifier(\n",
    "        el,\n",
    "        candidate_labels = nsides,\n",
    "        multi_label = True\n",
    "    )\n",
    "    print(res)\n",
    "\n",
    "    "
   ]
  },
  {
   "cell_type": "code",
   "execution_count": null,
   "metadata": {},
   "outputs": [],
   "source": [
    "vis_df['heart_m'].corr(vis_df['injection_m'])"
   ]
  },
  {
   "cell_type": "code",
   "execution_count": null,
   "metadata": {},
   "outputs": [],
   "source": [
    "['menstruation', 'digestive', 'joint pain', 'respiratory' , 'heart', 'skin']\n",
    "nsides = ['menstruation', 'gastrointestinal problems', 'joint pain', 'respiratory issues' , 'cardiac problems', 'dermatology issues']\n",
    "\n",
    "#nsides = copy(sides).remove('heart')\n",
    "txt = \"I had my first reclast injection on may 3rd 2010 and several hours after coming home,I started having severe pain throughout my whole body.The pain was so bad,I couldn't tolerate to even move.The next morning,May 4th.I started feeling a little better and on may 5th,I was doing fine.Yesterday,May 8th.,The pain had returned and as I sit here typing this on Mother's day.Iam in so much pain I can hardly type.I regret ever doing this Reclast injection.I would never recommend it to anyone\"\n",
    "print(classifier(\n",
    "    txt,\n",
    "        candidate_labels = sides,\n",
    "        multi_label = True\n",
    "))\n",
    "txt = \"I had my first reclast injection on may 3rd 2010 and several hours after coming home,I started having severe pain throughout my whole body.The pain was so bad,I couldn't tolerate to even move.The next morning,May 4th.I started feeling a little better and on may 5th,I was doing fine.Yesterday,May 8th.,The pain had returned and as I sit here typing this on Mother's day.Iam in so much pain I can hardly type.I regret ever doing this Reclast injection.I would never recommend it to anyone\"\n",
    "classifier(\n",
    "    txt,\n",
    "        candidate_labels = nsides,\n",
    "        multi_label = True\n",
    ")"
   ]
  },
  {
   "cell_type": "code",
   "execution_count": null,
   "metadata": {},
   "outputs": [],
   "source": [
    "txt = \"skin rash\"\n",
    "classifier(\n",
    "    txt,\n",
    "        candidate_labels = nsides,\n",
    "        multi_label = True\n",
    ")"
   ]
  },
  {
   "cell_type": "markdown",
   "metadata": {},
   "source": [
    "# Old Visuals"
   ]
  },
  {
   "cell_type": "markdown",
   "metadata": {},
   "source": [
    "The code takes a while to run (and I have yet to get a good run with these updated categories), but I have some data from a couple of runs earlier that I can use to display some of the results. "
   ]
  },
  {
   "cell_type": "code",
   "execution_count": null,
   "metadata": {},
   "outputs": [],
   "source": [
    "labeled_df = pd.read_csv('data/preproc_with_labels.csv')"
   ]
  },
  {
   "cell_type": "code",
   "execution_count": null,
   "metadata": {},
   "outputs": [],
   "source": [
    "old_sides = ['respiratory', 'pain', 'disgestive', 'bone', 'menstruation']\n",
    "labeled_df['category_s'] = ' '\n",
    "for i in range(len(labeled_df)):\n",
    "    row = labeled_df.iloc[i]\n",
    "    values = list(row[['respiratory', 'pain', 'disgestive', 'bone', 'menstruation']])\n",
    "    labeled_df['category_s'].iloc[i] = old_sides[values.index(max(values))]"
   ]
  },
  {
   "cell_type": "code",
   "execution_count": null,
   "metadata": {},
   "outputs": [],
   "source": [
    "sns.histplot(labeled_df['category_s'].value_counts())\n",
    "plt.show()"
   ]
  },
  {
   "cell_type": "code",
   "execution_count": null,
   "metadata": {},
   "outputs": [],
   "source": [
    "bins = list(range(0,20))\n",
    "hbins = [item/len(bins) for item in bins]\n",
    "for topic in old_sides:\n",
    "    plt.title('Distribution of Zero Shot Scores for ' + topic)\n",
    "    sns.histplot(x = topic+\"_m\", data = labeled_df, bins = hbins)\n",
    "    plt.show()"
   ]
  }
 ],
 "metadata": {
  "language_info": {
   "name": "python"
  },
  "orig_nbformat": 4
 },
 "nbformat": 4,
 "nbformat_minor": 2
}
